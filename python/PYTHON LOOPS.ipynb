{
 "cells": [
  {
   "cell_type": "markdown",
   "id": "4deb77e7-6c98-4587-8b22-9743214b16aa",
   "metadata": {},
   "source": [
    "# For Loop"
   ]
  },
  {
   "cell_type": "markdown",
   "id": "95c0ba8a-8c0f-4f18-974d-f9a618c06721",
   "metadata": {},
   "source": [
    "## 1. Print Numbers from 1 to 10"
   ]
  },
  {
   "cell_type": "code",
   "execution_count": 1,
   "id": "bb638a18-5d7a-4ad6-8130-0b410dfb71a0",
   "metadata": {},
   "outputs": [
    {
     "name": "stdout",
     "output_type": "stream",
     "text": [
      "1\n",
      "2\n",
      "3\n",
      "4\n",
      "5\n",
      "6\n",
      "7\n",
      "8\n",
      "9\n",
      "10\n"
     ]
    }
   ],
   "source": [
    "for number in range(1, 11):\n",
    "    print(number)"
   ]
  },
  {
   "cell_type": "markdown",
   "id": "5dbae5a2-581b-43b8-a4e0-ae1b76a22aa2",
   "metadata": {},
   "source": [
    "## 2. Sum of a List \n",
    "Task: Given a list of numbers, use a for loop to calculate and print \n",
    "the sum of all elements. \n",
    "Example List: [2, 4, 6, 8, 10] "
   ]
  },
  {
   "cell_type": "code",
   "execution_count": 4,
   "id": "ea41247d-fed8-4375-8a3d-9a6d349c935d",
   "metadata": {},
   "outputs": [
    {
     "name": "stdout",
     "output_type": "stream",
     "text": [
      "The sum of the list is: 30\n"
     ]
    }
   ],
   "source": [
    "list = [2, 4, 6, 8, 10]\n",
    "total_sum = sum(list)\n",
    "print(\"The sum of the list is:\",total_sum)"
   ]
  },
  {
   "cell_type": "code",
   "execution_count": 7,
   "id": "609538c1-8113-4183-847d-047c2aa3da34",
   "metadata": {},
   "outputs": [
    {
     "name": "stdout",
     "output_type": "stream",
     "text": [
      "The sum of the list is: 30\n"
     ]
    }
   ],
   "source": [
    "list = [2, 4, 6, 8, 10]\n",
    "total_sum = 0\n",
    "for sum in list:\n",
    "    total_sum += sum\n",
    "print(\"The sum of the list is:\", total_sum)"
   ]
  },
  {
   "cell_type": "markdown",
   "id": "ec333047-61f1-4f18-a7a9-f8c8ad4d4f43",
   "metadata": {},
   "source": [
    "## 3. List of Even Numbers \n",
    "Task: Create a list of even numbers from 2 to 20 using a for loop."
   ]
  },
  {
   "cell_type": "code",
   "execution_count": 8,
   "id": "5c59b57e-fb15-45ec-8f6f-1640bf2a2186",
   "metadata": {},
   "outputs": [
    {
     "name": "stdout",
     "output_type": "stream",
     "text": [
      "Even numbers from 2 to 20: [2, 4, 6, 8, 10, 12, 14, 16, 18, 20]\n"
     ]
    }
   ],
   "source": [
    "even_numbers = []\n",
    "for number in range(2, 21):  \n",
    "    if number % 2 == 0:  \n",
    "        even_numbers.append(number)  \n",
    "print(\"Even numbers from 2 to 20:\", even_numbers)"
   ]
  },
  {
   "cell_type": "markdown",
   "id": "60bdbbcc-b40d-42e7-ae82-0ab9fb743ad9",
   "metadata": {},
   "source": [
    "## 4. Multiplication Table \n",
    "Task: Use a for loop to print the multiplication table of a given \n",
    "number (e.g., 5)."
   ]
  },
  {
   "cell_type": "code",
   "execution_count": 10,
   "id": "3a6d6be7-4d37-4205-8136-fa5862ecbbda",
   "metadata": {},
   "outputs": [
    {
     "name": "stdout",
     "output_type": "stream",
     "text": [
      "5\n",
      "10\n",
      "15\n",
      "20\n",
      "25\n"
     ]
    }
   ],
   "source": [
    "x = 5\n",
    "for i in range(1, 6):  \n",
    "    y = x * i  \n",
    "    print(y)"
   ]
  },
  {
   "cell_type": "markdown",
   "id": "556e9aff-8e03-432c-a6a7-637178fc6fb1",
   "metadata": {},
   "source": [
    "## 5. Count Vowels in a String \n",
    "Task: Write a for loop to count the number of vowels in the string \n",
    "\"Hello World\"."
   ]
  },
  {
   "cell_type": "code",
   "execution_count": 19,
   "id": "9caa68c3-e2dd-4a5d-9d2b-435f523d0e66",
   "metadata": {},
   "outputs": [
    {
     "name": "stdin",
     "output_type": "stream",
     "text": [
      "Enter string: hello world\n"
     ]
    },
    {
     "name": "stdout",
     "output_type": "stream",
     "text": [
      "Number of vowels are:\n",
      "3\n"
     ]
    }
   ],
   "source": [
    "string=input(\"Enter string:\")\n",
    "vowels=0\n",
    "for i in string:\n",
    "      if(i=='a' or i=='e' or i=='i' or i=='o' or i=='u' or i=='A' or i=='E' or i=='I' or i=='O' or i=='U'):\n",
    "            vowels=vowels+1\n",
    "print(\"Number of vowels are:\")\n",
    "print(vowels)"
   ]
  },
  {
   "cell_type": "code",
   "execution_count": 20,
   "id": "d1e206d8-8914-4567-90d9-482095b5aae2",
   "metadata": {},
   "outputs": [
    {
     "name": "stdout",
     "output_type": "stream",
     "text": [
      "3\n",
      "3\n",
      "3\n"
     ]
    }
   ],
   "source": [
    "string= \"Hello World\"\n",
    "for i in string:\n",
    "      if(i=='a' or i=='e' or i=='i' or i=='o' or i=='u' or i=='A' or i=='E' or i=='I' or i=='O' or i=='U'):\n",
    "        print(vowels)"
   ]
  },
  {
   "cell_type": "markdown",
   "id": "d83006a5-e2d8-460b-8cfd-511a05f0363e",
   "metadata": {},
   "source": [
    "## 6. Reverse a List \n",
    "Task: Use a for loop to reverse a given list. \n",
    "Example List: [1, 2, 3, 4, 5]"
   ]
  },
  {
   "cell_type": "code",
   "execution_count": 1,
   "id": "25a3ed08-55cc-4862-ac96-d32c97a6c2be",
   "metadata": {},
   "outputs": [
    {
     "data": {
      "text/plain": [
       "[5, 4, 3, 2, 1]"
      ]
     },
     "execution_count": 1,
     "metadata": {},
     "output_type": "execute_result"
    }
   ],
   "source": [
    "list = [1,2,3,4,5]\n",
    "list.reverse()\n",
    "list"
   ]
  },
  {
   "cell_type": "code",
   "execution_count": 2,
   "id": "fb58252b-6de2-4bb5-8140-f59f32b04172",
   "metadata": {},
   "outputs": [
    {
     "data": {
      "text/plain": [
       "[5, 4, 3, 2, 1]"
      ]
     },
     "execution_count": 2,
     "metadata": {},
     "output_type": "execute_result"
    }
   ],
   "source": [
    "list = [1, 2, 3, 4, 5,]\n",
    "for i in range(len(list)):\n",
    "    last_item = list.pop()\n",
    "    list.insert(i, last_item)\n",
    "list"
   ]
  },
  {
   "cell_type": "code",
   "execution_count": 4,
   "id": "1f5b53cb-c15a-4ba9-91e9-8a28f6118e1f",
   "metadata": {},
   "outputs": [
    {
     "name": "stdout",
     "output_type": "stream",
     "text": [
      "5\n",
      "4\n",
      "3\n",
      "2\n",
      "1\n"
     ]
    }
   ],
   "source": [
    "list = [1, 2, 3, 4, 5,]\n",
    "for i in reversed(list):\n",
    "    print(i)"
   ]
  },
  {
   "cell_type": "markdown",
   "id": "be1dabdb-2598-4b7a-a85f-45948b355bbe",
   "metadata": {},
   "source": [
    "## 7. Print Odd Numbers \n",
    "Task: Use a for loop to print all odd numbers between 1 and 20. "
   ]
  },
  {
   "cell_type": "code",
   "execution_count": 5,
   "id": "4f27a52d-fb4d-4cc3-ba66-8417d0b9db19",
   "metadata": {},
   "outputs": [
    {
     "name": "stdout",
     "output_type": "stream",
     "text": [
      "1\n",
      "3\n",
      "5\n",
      "7\n",
      "9\n"
     ]
    }
   ],
   "source": [
    "for i in range(1, 11):  \n",
    "    if i % 2 != 0:  \n",
    "        print(i)"
   ]
  },
  {
   "cell_type": "markdown",
   "id": "f023133a-059e-4237-9bc2-a4636530fb33",
   "metadata": {},
   "source": [
    "## 8. Factorial Calculation \n",
    "Task: Write a for loop to calculate the factorial of a given number \n",
    "(e.g., 5)."
   ]
  },
  {
   "cell_type": "code",
   "execution_count": 7,
   "id": "64e8771a-407a-48fc-a37d-72c4d71d462e",
   "metadata": {},
   "outputs": [
    {
     "name": "stdin",
     "output_type": "stream",
     "text": [
      "Enter a number:  5\n"
     ]
    },
    {
     "name": "stdout",
     "output_type": "stream",
     "text": [
      "The factorial of 5 is 120\n"
     ]
    }
   ],
   "source": [
    "num = int(input(\"Enter a number: \"))    \n",
    "factorial = 1       \n",
    "for i in range(1,num + 1):    \n",
    "    factorial = factorial*i    \n",
    "print(\"The factorial of\",num,\"is\",factorial)    "
   ]
  },
  {
   "cell_type": "code",
   "execution_count": 11,
   "id": "6d35245f-c965-4196-80f0-64e2d25d86dc",
   "metadata": {},
   "outputs": [
    {
     "name": "stdout",
     "output_type": "stream",
     "text": [
      "120\n"
     ]
    }
   ],
   "source": [
    "factorial = 1       \n",
    "for i in range(1,6):    \n",
    "    factorial = factorial*i    \n",
    "print(factorial)    "
   ]
  },
  {
   "cell_type": "markdown",
   "id": "d1b2621f-0029-4b0e-a562-07e4ec9cfeb7",
   "metadata": {},
   "source": [
    "## 9. Find Prime Numbers in a Range \n",
    "Task: Use nested for loops to find and print all prime numbers \n",
    "between 1 and 50."
   ]
  },
  {
   "cell_type": "code",
   "execution_count": 1,
   "id": "c699112f-4222-4e55-bfc8-1c918b88fda1",
   "metadata": {},
   "outputs": [
    {
     "name": "stdout",
     "output_type": "stream",
     "text": [
      "2\n",
      "3\n",
      "5\n",
      "7\n",
      "11\n",
      "13\n",
      "17\n",
      "19\n",
      "23\n",
      "29\n",
      "31\n",
      "37\n",
      "41\n",
      "43\n",
      "47\n"
     ]
    }
   ],
   "source": [
    "for num in range(2, 51):\n",
    "    for i in range(2, num):\n",
    "        if num % i == 0:  \n",
    "            break  \n",
    "    else:\n",
    "        print(num)\n"
   ]
  },
  {
   "cell_type": "markdown",
   "id": "2453f89a-ace0-4771-aea6-34f587ad15a9",
   "metadata": {},
   "source": [
    "## 10. List Comprehension with For Loops \n",
    "Task: Without using list comprehension, create a list of squares of \n",
    "numbers from 1 to 10 using a for loop. "
   ]
  },
  {
   "cell_type": "code",
   "execution_count": 2,
   "id": "beff38ea-7657-494c-b2bd-1a2a4e87d3ae",
   "metadata": {},
   "outputs": [
    {
     "name": "stdout",
     "output_type": "stream",
     "text": [
      "[1, 4, 9, 16, 25, 36, 49, 64, 81, 100]\n"
     ]
    }
   ],
   "source": [
    "squares = []\n",
    "for num in range(1, 11):\n",
    "    squares.append(num ** 2)\n",
    "print(squares)"
   ]
  },
  {
   "cell_type": "markdown",
   "id": "04b7cdba-30ff-49a5-a6f7-2baacfa8526b",
   "metadata": {},
   "source": [
    "## 11. Dictionary Iteration \n",
    "Task: Given a dictionary of students and their grades, use a for loop \n",
    "to print each student’s name and grade. \n",
    "Example Dictionary: {\"Alice\": 85, \"Bob\": 92, \"Charlie\": \n",
    "78} \n"
   ]
  },
  {
   "cell_type": "code",
   "execution_count": 3,
   "id": "5458d264-49b9-4984-8f4a-23be30aaf1a7",
   "metadata": {},
   "outputs": [
    {
     "name": "stdout",
     "output_type": "stream",
     "text": [
      "Alice: 85\n",
      "Bob: 92\n",
      "Charlie: 78\n"
     ]
    }
   ],
   "source": [
    "students = {\n",
    "    \"Alice\": 85, \n",
    "    \"Bob\": 92, \n",
    "    \"Charlie\": 78}\n",
    "for name, grade in students.items():\n",
    "    print(f\"{name}: {grade}\")"
   ]
  },
  {
   "cell_type": "markdown",
   "id": "c775288b-2cfc-4d06-8e0b-aa241499fe98",
   "metadata": {},
   "source": [
    "## 12. Remove Duplicates from a List \n",
    "Task: Use a for loop to remove duplicate elements from a list. \n",
    "Example List: [1, 2, 2, 3, 4, 4, 5]"
   ]
  },
  {
   "cell_type": "code",
   "execution_count": 4,
   "id": "deb52139-e9ef-40cb-acd8-fe1883f0cdd0",
   "metadata": {},
   "outputs": [
    {
     "name": "stdout",
     "output_type": "stream",
     "text": [
      "[1, 2, 3, 4, 5]\n"
     ]
    }
   ],
   "source": [
    "list = [1, 2, 2, 3, 4, 4, 5]\n",
    "new_list = []\n",
    "for elements in list:\n",
    "    if elements not in new_list:\n",
    "        new_list.append(elements)\n",
    "print(new_list)"
   ]
  },
  {
   "cell_type": "markdown",
   "id": "34754d60-3be6-495a-8211-966c3dc56dd0",
   "metadata": {},
   "source": [
    "## 13. List Intersection \n",
    "Task: Given two lists, use for loops to find and print the intersection \n",
    "of the lists. \n",
    "Example Lists: [1, 2, 3, 4] and [3, 4, 5, 6]"
   ]
  },
  {
   "cell_type": "code",
   "execution_count": 5,
   "id": "a16295a3-0334-44a8-bbf9-c1ca728a6832",
   "metadata": {},
   "outputs": [
    {
     "name": "stdout",
     "output_type": "stream",
     "text": [
      "[3, 4]\n"
     ]
    }
   ],
   "source": [
    "l1 = [1, 2, 3, 4]\n",
    "l2 = [3, 4, 5, 6]\n",
    "intersection = []\n",
    "\n",
    "for elements in l1:\n",
    "    if elements in l2:\n",
    "        intersection.append(elements)\n",
    "print(intersection)"
   ]
  },
  {
   "cell_type": "markdown",
   "id": "4ead8a57-83fd-46dc-8ebb-910670a9dde4",
   "metadata": {},
   "source": [
    "## 14. Anagram Checker \n",
    "Task: Use for loops to check if two strings are anagrams of each \n",
    "other."
   ]
  },
  {
   "cell_type": "code",
   "execution_count": 10,
   "id": "8c7678be-c175-4be2-843f-24eb0ba5dfb8",
   "metadata": {},
   "outputs": [
    {
     "data": {
      "text/plain": [
       "True"
      ]
     },
     "execution_count": 10,
     "metadata": {},
     "output_type": "execute_result"
    }
   ],
   "source": [
    "def anagram_checker(str1,str2):\n",
    "    return sorted(str1)==sorted(str2)\n",
    "str1=\"listen\"\n",
    "str2=\"silent\"\n",
    "anagram_checker(str1,str2)"
   ]
  },
  {
   "cell_type": "markdown",
   "id": "8eda6521-f547-49c3-9d40-1f0369ae7494",
   "metadata": {},
   "source": [
    "## 15. Permutations of a String \n",
    "Task: Use for loops to generate all permutations of a given string. "
   ]
  },
  {
   "cell_type": "code",
   "execution_count": null,
   "id": "a2542f44-71bb-4be1-8c44-e379f9e2f790",
   "metadata": {},
   "outputs": [],
   "source": []
  },
  {
   "cell_type": "markdown",
   "id": "8ec9a200-a46e-4ace-a155-8bfb1299d436",
   "metadata": {},
   "source": [
    "# WHILE LOOP"
   ]
  },
  {
   "cell_type": "markdown",
   "id": "5ab3f270-189c-49f8-bf82-178522dd1b83",
   "metadata": {},
   "source": [
    "## 1. Print Numbers from 1 to 10 \n",
    "a. Task: Use a while loop to print numbers from 1 to 10."
   ]
  },
  {
   "cell_type": "code",
   "execution_count": 6,
   "id": "71f056dc-a606-4bac-9fbb-0d09983f72c5",
   "metadata": {},
   "outputs": [
    {
     "name": "stdout",
     "output_type": "stream",
     "text": [
      "1\n",
      "2\n",
      "3\n",
      "4\n",
      "5\n",
      "6\n",
      "7\n",
      "8\n",
      "9\n",
      "10\n"
     ]
    }
   ],
   "source": [
    "n = 1\n",
    "while n <= 10:\n",
    "    print(n)\n",
    "    n += 1  "
   ]
  },
  {
   "cell_type": "markdown",
   "id": "e75c479b-7ac9-4587-80a8-75678d21d179",
   "metadata": {},
   "source": [
    "## 2. Sum of Numbers \n",
    "a. Task: Use a while loop to calculate and print the sum of \n",
    "numbers from 1 to 100.\n",
    "\n",
    "b. Expected Sum: 5050 "
   ]
  },
  {
   "cell_type": "code",
   "execution_count": 7,
   "id": "b9d43470-23e6-4e6d-b33d-aa4715814219",
   "metadata": {},
   "outputs": [
    {
     "name": "stdout",
     "output_type": "stream",
     "text": [
      "The sum of numbers from 1 to 100 is: 5050\n"
     ]
    }
   ],
   "source": [
    "sum_of_numbers = 0\n",
    "n = 1\n",
    "while n <= 100:\n",
    "    sum_of_numbers += n  \n",
    "    n += 1  \n",
    "print(\"The sum of numbers from 1 to 100 is:\", sum_of_numbers)"
   ]
  },
  {
   "cell_type": "markdown",
   "id": "9f1233e5-d986-4a7e-a8d8-6182bfa8759f",
   "metadata": {},
   "source": [
    "## 3. Guess the Number \n",
    "a. Task: Implement a simple guessing game where the user has \n",
    "to guess a predefined number (e.g., 7). Use a while loop to \n",
    "allow multiple attempts until the correct number is guessed."
   ]
  },
  {
   "cell_type": "code",
   "execution_count": 14,
   "id": "162b1a74-685e-4908-80f7-c57b9130d772",
   "metadata": {},
   "outputs": [
    {
     "name": "stdout",
     "output_type": "stream",
     "text": [
      "Guess the Number!\n",
      "Guess a number between 1 and 10.\n"
     ]
    },
    {
     "name": "stdin",
     "output_type": "stream",
     "text": [
      "Enter the guess number:  5\n"
     ]
    },
    {
     "name": "stdout",
     "output_type": "stream",
     "text": [
      "Guess again.\n"
     ]
    },
    {
     "name": "stdin",
     "output_type": "stream",
     "text": [
      "Enter the guess number:  9\n"
     ]
    },
    {
     "name": "stdout",
     "output_type": "stream",
     "text": [
      "Guess again.\n"
     ]
    },
    {
     "name": "stdin",
     "output_type": "stream",
     "text": [
      "Enter the guess number:  7\n"
     ]
    },
    {
     "name": "stdout",
     "output_type": "stream",
     "text": [
      "YES,you guessed the correct number.\n",
      "Game Finish!\n"
     ]
    }
   ],
   "source": [
    "n = 7\n",
    "guess = None\n",
    "print(\"Guess the Number!\")\n",
    "print(\"Guess a number between 1 and 10.\")\n",
    "\n",
    "while guess != n:\n",
    "    guess = int(input(\"Enter the guess number: \"))\n",
    "    if guess < n:\n",
    "        print(\"Guess again.\")\n",
    "    elif guess > n:\n",
    "        print(\"Guess again.\")\n",
    "    else:\n",
    "        print(\"YES,you guessed the correct number.\")\n",
    "print(\"Game Finish!\")\n"
   ]
  },
  {
   "cell_type": "markdown",
   "id": "90406b2d-8400-4f0f-852c-df8fda1e482b",
   "metadata": {},
   "source": [
    "## 4. Count Down Timer \n",
    "a. Task: Use a while loop to create a countdown timer that \n",
    "starts from 10 and ends at 0. "
   ]
  },
  {
   "cell_type": "code",
   "execution_count": 15,
   "id": "68ed0609-511a-4624-8035-365fc299cc2f",
   "metadata": {},
   "outputs": [
    {
     "name": "stdout",
     "output_type": "stream",
     "text": [
      "Countdown Timer:\n",
      "10\n",
      "9\n",
      "8\n",
      "7\n",
      "6\n",
      "5\n",
      "4\n",
      "3\n",
      "2\n",
      "1\n",
      "0\n",
      "Stop Countdown!\n"
     ]
    }
   ],
   "source": [
    "countdown = 10\n",
    "print(\"Countdown Timer:\")\n",
    "while countdown >= 0:\n",
    "    print(countdown)  \n",
    "    countdown -= 1   \n",
    "print(\"Stop Countdown!\")"
   ]
  },
  {
   "cell_type": "markdown",
   "id": "5dceeb7e-4fab-45d3-aa71-23fd6fe7c0f9",
   "metadata": {},
   "source": [
    "## 5. Check Even or Odd \n",
    "a. Task: Continuously ask the user to enter a number and use a \n",
    "while loop to determine if it's even or odd. Exit the loop when \n",
    "the user enters 0. "
   ]
  },
  {
   "cell_type": "code",
   "execution_count": 17,
   "id": "71fde195-60a3-4c06-82b5-146e1387e2fd",
   "metadata": {},
   "outputs": [
    {
     "name": "stdin",
     "output_type": "stream",
     "text": [
      "Enter a number:  45\n"
     ]
    },
    {
     "name": "stdout",
     "output_type": "stream",
     "text": [
      "45 is odd.\n"
     ]
    },
    {
     "name": "stdin",
     "output_type": "stream",
     "text": [
      "Enter a number:  88\n"
     ]
    },
    {
     "name": "stdout",
     "output_type": "stream",
     "text": [
      "88 is even.\n"
     ]
    },
    {
     "name": "stdin",
     "output_type": "stream",
     "text": [
      "Enter a number:  0\n"
     ]
    },
    {
     "name": "stdout",
     "output_type": "stream",
     "text": [
      "Exit the loop.\n"
     ]
    }
   ],
   "source": [
    "number = None\n",
    "while True:\n",
    "    number = int(input(\"Enter a number: \"))\n",
    "    if number == 0:\n",
    "        print(\"Exit the loop.\")\n",
    "        break \n",
    "    elif number % 2 == 0:\n",
    "        print(f\"{number} is even.\")\n",
    "    else:\n",
    "        print(f\"{number} is odd.\")\n"
   ]
  },
  {
   "cell_type": "markdown",
   "id": "61142dd3-0da7-4a60-ba0b-b4e5de8d93c5",
   "metadata": {},
   "source": [
    "## 6. Print Characters in a String \n",
    "a. Task: Use a while loop to iterate through each character in the \n",
    "string \"Hello\" and print them one by one."
   ]
  },
  {
   "cell_type": "code",
   "execution_count": 1,
   "id": "a8935c0c-672b-48a8-8a66-eed413e57037",
   "metadata": {},
   "outputs": [
    {
     "name": "stdout",
     "output_type": "stream",
     "text": [
      "H\n",
      "e\n",
      "l\n",
      "l\n",
      "o\n"
     ]
    }
   ],
   "source": [
    "string = \"Hello\"\n",
    "index = 0\n",
    "while string[index:]:\n",
    "    print(string[index])\n",
    "    index += 1"
   ]
  },
  {
   "cell_type": "code",
   "execution_count": 2,
   "id": "bd0cf072-601f-4589-9aa2-fc873c8df36c",
   "metadata": {},
   "outputs": [
    {
     "name": "stdout",
     "output_type": "stream",
     "text": [
      "H\n",
      "e\n",
      "l\n",
      "l\n",
      "o\n"
     ]
    }
   ],
   "source": [
    "string = \"Hello\"\n",
    "index = 0\n",
    "while index < len(string):\n",
    "    print(string[index])\n",
    "    index += 1"
   ]
  },
  {
   "cell_type": "markdown",
   "id": "e0d0efd9-9b4f-4c57-a8d0-4f2a69d8d509",
   "metadata": {},
   "source": [
    "## 7. Reverse a String \n",
    "a. Task: Use a while loop to reverse the string \"Python\". \n",
    "b. Expected Output: \"nohtyP\""
   ]
  },
  {
   "cell_type": "code",
   "execution_count": 3,
   "id": "e468168d-a2e8-4d53-a92a-0287d7833004",
   "metadata": {},
   "outputs": [
    {
     "name": "stdout",
     "output_type": "stream",
     "text": [
      "nohtyP\n"
     ]
    }
   ],
   "source": [
    "string = \"Python\"\n",
    "reversed_string = string[::-1]\n",
    "print(reversed_string)"
   ]
  },
  {
   "cell_type": "code",
   "execution_count": 22,
   "id": "3d956c71-0a68-4728-84ed-fd7fdefc3d33",
   "metadata": {},
   "outputs": [
    {
     "data": {
      "text/plain": [
       "'nohtyP'"
      ]
     },
     "execution_count": 22,
     "metadata": {},
     "output_type": "execute_result"
    }
   ],
   "source": [
    "def reversed_string(text):\n",
    "    result = \"\"\n",
    "    index = len(text) - 1\n",
    "    while index >= 0:\n",
    "       result += text[index]\n",
    "       index -= 1\n",
    "    return result\n",
    "reversed_string(\"Python\")"
   ]
  },
  {
   "cell_type": "markdown",
   "id": "f38fbdec-e90e-4121-b75e-825cca0007d9",
   "metadata": {},
   "source": [
    "## 8. Factorial Calculation \n",
    "a. Task: Use a while loop to calculate the factorial of a given \n",
    "number (e.g., 5)."
   ]
  },
  {
   "cell_type": "code",
   "execution_count": 24,
   "id": "10a64c1d-1dbe-4891-b76c-3cb2636ca4f9",
   "metadata": {},
   "outputs": [
    {
     "name": "stdout",
     "output_type": "stream",
     "text": [
      "Factorial: 120\n"
     ]
    }
   ],
   "source": [
    "n = 5\n",
    "factorial = 1\n",
    "while n > 0:\n",
    "    factorial *= n \n",
    "    n -= 1         \n",
    "print(f\"Factorial: {factorial}\")"
   ]
  },
  {
   "cell_type": "code",
   "execution_count": 14,
   "id": "239d2294-6376-4fe7-9290-03d0a4908c29",
   "metadata": {},
   "outputs": [
    {
     "data": {
      "text/plain": [
       "3628800"
      ]
     },
     "execution_count": 14,
     "metadata": {},
     "output_type": "execute_result"
    }
   ],
   "source": [
    "import math\n",
    "math.factorial(10)"
   ]
  },
  {
   "cell_type": "markdown",
   "id": "a6d21767-05cb-4db2-8058-c84a815c8808",
   "metadata": {},
   "source": [
    "##### 9. Find Prime Numbers \n",
    "Task: Use a while loop to find and print all prime numbers between \n",
    "1 and 100. \n",
    "Hint: A prime number is only divisible by 1 and itself."
   ]
  },
  {
   "cell_type": "code",
   "execution_count": 25,
   "id": "14e1f1e1-7729-4719-9ef3-9e3b30d43aae",
   "metadata": {},
   "outputs": [
    {
     "name": "stdout",
     "output_type": "stream",
     "text": [
      "2\n",
      "3\n",
      "5\n",
      "7\n",
      "11\n",
      "13\n",
      "17\n",
      "19\n",
      "23\n",
      "29\n",
      "31\n",
      "37\n",
      "41\n",
      "43\n",
      "47\n",
      "53\n",
      "59\n",
      "61\n",
      "67\n",
      "71\n",
      "73\n",
      "79\n",
      "83\n",
      "89\n",
      "97\n"
     ]
    }
   ],
   "source": [
    "num = 2  \n",
    "while num <= 100:\n",
    "    is_prime = True\n",
    "    divisor = 2\n",
    "    while divisor < num:\n",
    "        if num % divisor == 0:  \n",
    "            is_prime = False\n",
    "            break  \n",
    "        divisor += 1  \n",
    "    if is_prime:\n",
    "        print(num)\n",
    "    num += 1"
   ]
  },
  {
   "cell_type": "markdown",
   "id": "3c7bcd59-cf3f-4381-a22a-1ca55559ed7d",
   "metadata": {},
   "source": [
    "## 10. User Login Simulation \n",
    "Task: Simulate a user login system where the user has three \n",
    "attempts to enter the correct password. Use a while loop to allow \n",
    "retries."
   ]
  },
  {
   "cell_type": "code",
   "execution_count": 30,
   "id": "f129f6b7-0ad3-49a9-b7b1-2ce3b50c496e",
   "metadata": {},
   "outputs": [
    {
     "name": "stdin",
     "output_type": "stream",
     "text": [
      "Enter your password:  GDOGDWE\n"
     ]
    },
    {
     "name": "stdout",
     "output_type": "stream",
     "text": [
      "Wrong password. 2 attempts remaining.\n"
     ]
    },
    {
     "name": "stdin",
     "output_type": "stream",
     "text": [
      "Enter your password:  BCWB\n"
     ]
    },
    {
     "name": "stdout",
     "output_type": "stream",
     "text": [
      "Wrong password. 1 attempts remaining.\n"
     ]
    },
    {
     "name": "stdin",
     "output_type": "stream",
     "text": [
      "Enter your password:  BEIWI\n"
     ]
    },
    {
     "name": "stdout",
     "output_type": "stream",
     "text": [
      "Wrong password. 0 attempts remaining.\n",
      "Try Again.\n"
     ]
    }
   ],
   "source": [
    "password = \"password123\"\n",
    "attempts = 3\n",
    "while attempts > 0:\n",
    "    user_input = input(\"Enter your password: \")\n",
    "    if user_input == password:\n",
    "        print(\"Login!\")\n",
    "        break \n",
    "    attempts -= 1\n",
    "    print(f\"Wrong password. {attempts} attempts remaining.\")\n",
    "if attempts == 0:\n",
    "    print(\"Try Again.\")"
   ]
  },
  {
   "cell_type": "markdown",
   "id": "764d292f-82ce-4900-bddc-30acdde3d159",
   "metadata": {},
   "source": [
    "## 11. Menu-Driven Program \n",
    "Task: Create a menu-driven program that repeatedly presents the \n",
    "user with options (e.g., add, delete, view, exit) and performs actions \n",
    "based on the user's choice using a while loop."
   ]
  },
  {
   "cell_type": "code",
   "execution_count": 32,
   "id": "e7a83adc-3cc8-4af5-b926-a7b969fe74a7",
   "metadata": {},
   "outputs": [
    {
     "name": "stdout",
     "output_type": "stream",
     "text": [
      "\n",
      "Menu:\n",
      "1. Add item\n",
      "2. Delete item\n",
      "3. View items\n",
      "4. Exit\n"
     ]
    },
    {
     "name": "stdin",
     "output_type": "stream",
     "text": [
      "Enter your choice (1-4):  ert\n"
     ]
    },
    {
     "name": "stdout",
     "output_type": "stream",
     "text": [
      "Please try again.\n",
      "\n",
      "Menu:\n",
      "1. Add item\n",
      "2. Delete item\n",
      "3. View items\n",
      "4. Exit\n"
     ]
    },
    {
     "name": "stdin",
     "output_type": "stream",
     "text": [
      "Enter your choice (1-4):  345\n"
     ]
    },
    {
     "name": "stdout",
     "output_type": "stream",
     "text": [
      "Please try again.\n",
      "\n",
      "Menu:\n",
      "1. Add item\n",
      "2. Delete item\n",
      "3. View items\n",
      "4. Exit\n"
     ]
    },
    {
     "name": "stdin",
     "output_type": "stream",
     "text": [
      "Enter your choice (1-4):  3\n"
     ]
    },
    {
     "name": "stdout",
     "output_type": "stream",
     "text": [
      "Items in the list: No items in the list.\n",
      "\n",
      "Menu:\n",
      "1. Add item\n",
      "2. Delete item\n",
      "3. View items\n",
      "4. Exit\n"
     ]
    },
    {
     "name": "stdin",
     "output_type": "stream",
     "text": [
      "Enter your choice (1-4):  4\n"
     ]
    },
    {
     "name": "stdout",
     "output_type": "stream",
     "text": [
      "Finish!\n"
     ]
    }
   ],
   "source": [
    "items = []\n",
    "while True:\n",
    "    print(\"\\nMenu:\")\n",
    "    print(\"1. Add item\")\n",
    "    print(\"2. Delete item\")\n",
    "    print(\"3. View items\")\n",
    "    print(\"4. Exit\")\n",
    "    \n",
    "    choice = input(\"Enter your choice (1-4): \")\n",
    "    if choice == '1':\n",
    "        items.append(input(\"Enter the item to add: \"))\n",
    "        print(\"Item added.\")\n",
    "\n",
    "    elif choice == '2':\n",
    "        item = input(\"Enter the item to delete: \")\n",
    "        if item in items:\n",
    "            items.remove(item)\n",
    "            print(\"Item deleted.\")\n",
    "        else:\n",
    "            print(\"Item not found.\")\n",
    "\n",
    "    elif choice == '3':\n",
    "        print(\"Items in the list:\", \", \".join(items) if items else \"No items in the list.\")\n",
    "\n",
    "    elif choice == '4':\n",
    "        print(\"Finish!\")\n",
    "        break  \n",
    "\n",
    "    else:\n",
    "        print(\"Please try again.\")"
   ]
  },
  {
   "cell_type": "markdown",
   "id": "1d54e39d-3684-4e05-b6f2-649ab568e72b",
   "metadata": {},
   "source": [
    "## 12. List Input Until Sentinel \n",
    "Task: Continuously prompt the user to enter numbers and add them \n",
    "to a list until the user enters -1. Then, print the list of entered \n",
    "numbers."
   ]
  },
  {
   "cell_type": "code",
   "execution_count": 35,
   "id": "86caa931-9609-4864-94ad-fa5aa94a3b34",
   "metadata": {},
   "outputs": [
    {
     "name": "stdin",
     "output_type": "stream",
     "text": [
      "Enter a number:  3\n",
      "Enter a number:  4\n",
      "Enter a number:  5\n",
      "Enter a number:  6\n",
      "Enter a number:  -1\n"
     ]
    },
    {
     "name": "stdout",
     "output_type": "stream",
     "text": [
      "List of entered n: [3, 4, 5, 6]\n"
     ]
    }
   ],
   "source": [
    "n = []\n",
    "while True:\n",
    "    num = int(input(\"Enter a number: \"))\n",
    "    if num == -1:\n",
    "        break \n",
    "    n.append(num)\n",
    "print(\"List of entered n:\", n)"
   ]
  },
  {
   "cell_type": "markdown",
   "id": "78bc3829-2bc7-44ea-a7ce-1e5f2062cff3",
   "metadata": {},
   "source": [
    "## 13. Find the Greatest Common Divisor (GCD) \n",
    "Task: Use a while loop to find the GCD of two numbers using the \n",
    "Euclidean algorithm."
   ]
  },
  {
   "cell_type": "code",
   "execution_count": 36,
   "id": "bb205bed-007f-4c4f-8b2d-91e994d12cc3",
   "metadata": {},
   "outputs": [
    {
     "name": "stdin",
     "output_type": "stream",
     "text": [
      "Enter the first number:  56\n",
      "Enter the second number:  78\n"
     ]
    },
    {
     "name": "stdout",
     "output_type": "stream",
     "text": [
      "The GCD is: 2\n"
     ]
    }
   ],
   "source": [
    "num1 = int(input(\"Enter the first number: \"))\n",
    "num2 = int(input(\"Enter the second number: \"))\n",
    "while num2 != 0:\n",
    "    num1, num2 = num2, num1 % num2  \n",
    "print(f\"The GCD is: {num1}\")"
   ]
  },
  {
   "cell_type": "markdown",
   "id": "bfcfef85-6bc2-491e-9b40-b02018567d67",
   "metadata": {},
   "source": [
    "## 14. Sum of Digits \n",
    "Task: Use a while loop to calculate the sum of digits of a given \n",
    "integer (e.g., 12345). "
   ]
  },
  {
   "cell_type": "code",
   "execution_count": 37,
   "id": "40b84161-8d76-420b-8f63-640c01865fe6",
   "metadata": {},
   "outputs": [
    {
     "name": "stdin",
     "output_type": "stream",
     "text": [
      "Enter a number: 12345\n"
     ]
    },
    {
     "name": "stdout",
     "output_type": "stream",
     "text": [
      "The total sum of digits is: 15\n"
     ]
    }
   ],
   "source": [
    "n=int(input(\"Enter a number:\"))\n",
    "total=0\n",
    "while(n>0):\n",
    "    digit=n%10\n",
    "    total=total+digit\n",
    "    n=n//10\n",
    "print(\"The total sum of digits is:\",total)\n"
   ]
  },
  {
   "cell_type": "code",
   "execution_count": 2,
   "id": "c019f0e0-7aa7-4c2f-a236-c1de3f89bbb8",
   "metadata": {},
   "outputs": [
    {
     "data": {
      "text/plain": [
       "15.0"
      ]
     },
     "execution_count": 2,
     "metadata": {},
     "output_type": "execute_result"
    }
   ],
   "source": [
    "import math\n",
    "a=[1,2,3,4,5]\n",
    "math.fsum(a)"
   ]
  },
  {
   "cell_type": "markdown",
   "id": "7ff5eeb0-a405-4cea-ba97-5dc40c30727d",
   "metadata": {},
   "source": [
    "## 15. Number to Words Conversion \n",
    "Task: Use a while loop to convert a number into its word \n",
    "representation (e.g., 123 → \"one two three\")."
   ]
  },
  {
   "cell_type": "code",
   "execution_count": 41,
   "id": "2f87c639-b751-450d-b832-c796040ff363",
   "metadata": {},
   "outputs": [
    {
     "name": "stdin",
     "output_type": "stream",
     "text": [
      " 56\n"
     ]
    },
    {
     "name": "stdout",
     "output_type": "stream",
     "text": [
      "Number Entered was :  56\n",
      "Converted to word it becomes: None\n"
     ]
    }
   ],
   "source": [
    "x = ['zero','one','two','three','four','five','six','seven','eight','nine']\n",
    "\n",
    "def number_word(n):\n",
    "    pass\n",
    "n = int(input())\n",
    "print(\"Number Entered was : \", n)\n",
    "print(\"Converted to word it becomes: \",end=\"\")\n",
    "print(number_word(n))"
   ]
  },
  {
   "cell_type": "code",
   "execution_count": null,
   "id": "3cd6af00-bd27-458e-a25d-291c58c341e4",
   "metadata": {},
   "outputs": [],
   "source": []
  }
 ],
 "metadata": {
  "kernelspec": {
   "display_name": "Python 3 (ipykernel)",
   "language": "python",
   "name": "python3"
  },
  "language_info": {
   "codemirror_mode": {
    "name": "ipython",
    "version": 3
   },
   "file_extension": ".py",
   "mimetype": "text/x-python",
   "name": "python",
   "nbconvert_exporter": "python",
   "pygments_lexer": "ipython3",
   "version": "3.11.7"
  }
 },
 "nbformat": 4,
 "nbformat_minor": 5
}
