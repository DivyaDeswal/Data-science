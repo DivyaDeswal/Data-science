{
 "cells": [
  {
   "cell_type": "markdown",
   "id": "f0109a28-7503-48a3-bb1e-0a3af5f4bf06",
   "metadata": {},
   "source": [
    "# OPERATORS"
   ]
  },
  {
   "cell_type": "markdown",
   "id": "239a42d5-09b8-478f-a6dc-ac5b1a5561c1",
   "metadata": {},
   "source": [
    "## 1. Arithmetic Operators:\n",
    "• Write a Python program to calculate the sum, difference,\n",
    "product, and division of two numbers input by the user."
   ]
  },
  {
   "cell_type": "code",
   "execution_count": 1,
   "id": "74d4083d-cf82-4e38-8851-d198941a06d9",
   "metadata": {},
   "outputs": [
    {
     "name": "stdin",
     "output_type": "stream",
     "text": [
      " Enter the First Value:  1\n",
      " Enter the Second Value:  3\n"
     ]
    },
    {
     "name": "stdout",
     "output_type": "stream",
     "text": [
      "4\n",
      "-2\n",
      "3\n",
      "0.3333333333333333\n",
      "1\n",
      "1\n"
     ]
    }
   ],
   "source": [
    "x1 = int(input(\" Enter the First Value: \"))\n",
    "x2 = int(input(\" Enter the Second Value: \"))\n",
    "\n",
    "add = x1 + x2   # Add \n",
    "sub = x1 - x2   # Subtracting \n",
    "multi = x1 * x2   # Multiply\n",
    "div = x1 / x2  # Divide\n",
    "mod = x1 % x2  # Modulus\n",
    "expo = x1 ** x2  # Exponent\n",
    "print(add)\n",
    "print(sub)\n",
    "print(multi)\n",
    "print(div)\n",
    "print(mod)\n",
    "print(expo)"
   ]
  },
  {
   "cell_type": "code",
   "execution_count": 2,
   "id": "b0472db1-4d6a-4ecb-9aa2-4a9b50c1838e",
   "metadata": {},
   "outputs": [
    {
     "name": "stdout",
     "output_type": "stream",
     "text": [
      "55\n",
      "35\n",
      "450\n",
      "4.5\n",
      "5\n",
      "34050628916015625\n"
     ]
    }
   ],
   "source": [
    "x1 = 45\n",
    "x2 = 10\n",
    "add = x1 + x2   # Add \n",
    "sub = x1 - x2   # Subtracting \n",
    "multi = x1 * x2   # Multiply\n",
    "div = x1 / x2  # Divide\n",
    "mod = x1 % x2  # Modulus\n",
    "expo = x1 ** x2  # Exponent\n",
    "print(add)\n",
    "print(sub)\n",
    "print(multi)\n",
    "print(div)\n",
    "print(mod)\n",
    "print(expo)"
   ]
  },
  {
   "cell_type": "markdown",
   "id": "75800477-4eab-4b41-9915-91026070d7c6",
   "metadata": {},
   "source": [
    "\n",
    "• Create a program that calculates the area of a circle using the\r\n",
    "formula Area = π * r^2 where r is input by the user."
   ]
  },
  {
   "cell_type": "code",
   "execution_count": null,
   "id": "57657fb1-8a04-4b4b-bf7b-447a10acc2ed",
   "metadata": {},
   "outputs": [],
   "source": [
    "PI = 3.14\n",
    "radius = float(input(\" Please Enter the radius of a circle: \"))\n",
    "area = PI * radius * radius\n",
    "print(\" Area Of a Circle = \",area)"
   ]
  },
  {
   "cell_type": "code",
   "execution_count": 8,
   "id": "3fa34772-4995-46d6-9c15-6f5a0df44f28",
   "metadata": {},
   "outputs": [
    {
     "name": "stdout",
     "output_type": "stream",
     "text": [
      "113.03999999999999\n"
     ]
    }
   ],
   "source": [
    "PI = 3.14\n",
    "radius = 6\n",
    "area = PI * radius * radius\n",
    "print(area)"
   ]
  },
  {
   "cell_type": "markdown",
   "id": "4a185bca-6851-4159-a781-a369ca2479db",
   "metadata": {},
   "source": [
    "## 2. Comparison Operators:\n",
    "• Write a Python script that compares two numbers and prints\n",
    "which one is greater, or if they are equal."
   ]
  },
  {
   "cell_type": "code",
   "execution_count": null,
   "id": "a86d1f9c-753a-4fcf-9271-3b05b36ad0a4",
   "metadata": {},
   "outputs": [],
   "source": [
    "x = 10\n",
    "y = 25\n",
    "if x >= y:\n",
    "print(\" x value is Greater than or Equal to y \")\n",
    "else:\n",
    "print(\" x value is Less than or Equal to y \")"
   ]
  },
  {
   "cell_type": "code",
   "execution_count": 1,
   "id": "9cf70f36-56f4-49ea-a48a-f037633528f6",
   "metadata": {},
   "outputs": [
    {
     "name": "stdout",
     "output_type": "stream",
     "text": [
      "True\n",
      "False\n",
      "False\n",
      "True\n",
      "True\n",
      "False\n"
     ]
    }
   ],
   "source": [
    "a = 12\n",
    "b = 10\n",
    "print(a > b) \n",
    "print(a < b)   \n",
    "print(a == b) \n",
    "print(a != b) \n",
    "print(a >= b) \n",
    "print(a <= b) "
   ]
  },
  {
   "cell_type": "markdown",
   "id": "eed421d0-71ff-4bb7-a356-f0ead8cc5f7c",
   "metadata": {},
   "source": [
    "## 3. Logical Operators:\n",
    "• Given three boolean variables a, b, and c, write a Python\n",
    "program to print the result of (a and b) or (not c)."
   ]
  },
  {
   "cell_type": "code",
   "execution_count": 12,
   "id": "2ae4c3af-8d5a-4143-a379-f016a0dfbd07",
   "metadata": {},
   "outputs": [
    {
     "name": "stdout",
     "output_type": "stream",
     "text": [
      "False\n",
      "True\n"
     ]
    }
   ],
   "source": [
    "a = True\n",
    "b = False\n",
    "c = False\n",
    "print(a and b)\n",
    "print(not c) "
   ]
  },
  {
   "cell_type": "markdown",
   "id": "cad93e93-8313-4fb0-a053-04b4bea69cbb",
   "metadata": {},
   "source": [
    "## 4. Assignment Operators:\n",
    "• Initialize a variable x with the value of 10. Using assignment\n",
    "operators, update the value of x by adding 5, multiplying by\n",
    "3, and then subtracting 2. Print the final value of x."
   ]
  },
  {
   "cell_type": "code",
   "execution_count": 14,
   "id": "ed55068a-7186-4203-a1e1-0f762be5bd7c",
   "metadata": {},
   "outputs": [
    {
     "name": "stdout",
     "output_type": "stream",
     "text": [
      "15\n",
      "13\n",
      "39\n"
     ]
    }
   ],
   "source": [
    "x = 10\n",
    "x += 5\n",
    "print(x)\n",
    "x -= 2\n",
    "print(x)\n",
    "x *= 3\n",
    "print(x) "
   ]
  },
  {
   "cell_type": "markdown",
   "id": "dbdde68f-a972-4dc8-bd65-8fe11290fae5",
   "metadata": {},
   "source": [
    "# Strings\n",
    "## 5. String Manipulation:\n",
    "• Write a program that takes a user's full name as input and\n",
    "prints it in the format: Last Name, First Name."
   ]
  },
  {
   "cell_type": "code",
   "execution_count": 51,
   "id": "3c235f47-ba9e-4fd7-987e-37b6187e3030",
   "metadata": {},
   "outputs": [
    {
     "name": "stdin",
     "output_type": "stream",
     "text": [
      "input your first name:  tnu\n",
      "input your last name:  opt\n"
     ]
    },
    {
     "name": "stdout",
     "output_type": "stream",
     "text": [
      "tnuopt\n"
     ]
    }
   ],
   "source": [
    "fname = input(\"input your first name: \")\n",
    "lname = input(\"input your last name: \")\n",
    "print(fname + lname)"
   ]
  },
  {
   "cell_type": "markdown",
   "id": "894d87e3-fceb-44b1-9e1f-df8a7b4c9a5c",
   "metadata": {},
   "source": [
    "## 6. String Methods:\n",
    "• Create a Python function that takes a sentence as input and\n",
    "returns the number of vowels in the sentence."
   ]
  },
  {
   "cell_type": "code",
   "execution_count": 31,
   "id": "b77523ea-608d-4d53-9d1a-0b05e1b2129c",
   "metadata": {},
   "outputs": [
    {
     "name": "stdin",
     "output_type": "stream",
     "text": [
      " h\n"
     ]
    },
    {
     "name": "stdout",
     "output_type": "stream",
     "text": [
      "0\n"
     ]
    }
   ],
   "source": [
    "a=input()\n",
    "b=['a','e','i','o','u','A','E','I','U','O']\n",
    "c=0\n",
    "for i in a:\n",
    " if i in b:\n",
    "  c+=1\n",
    "print(c)"
   ]
  },
  {
   "cell_type": "code",
   "execution_count": 25,
   "id": "b63f4c71-264b-43b4-97c2-0173466036b5",
   "metadata": {},
   "outputs": [
    {
     "name": "stdin",
     "output_type": "stream",
     "text": [
      "Enter the string :  t\n"
     ]
    },
    {
     "name": "stdout",
     "output_type": "stream",
     "text": [
      "0\n"
     ]
    }
   ],
   "source": [
    "st=input(\"Enter the string : \")\n",
    "c=0\n",
    "vowel=\"AEIOUaeiou\"\n",
    "for i in st:\n",
    " if i in vowel:\n",
    "  c+=1\n",
    "print(c)"
   ]
  },
  {
   "cell_type": "markdown",
   "id": "37d96182-17b6-4c66-b8e3-9d8b48fad1ac",
   "metadata": {},
   "source": [
    "## 7. String Slicing:\n",
    "• Write a program that takes a string input from the user and\n",
    "prints the first 5 characters and the last 5 characters of the\n",
    "string."
   ]
  },
  {
   "cell_type": "code",
   "execution_count": 49,
   "id": "8807e75a-7cdd-4676-9fcf-6d98215e1609",
   "metadata": {},
   "outputs": [
    {
     "name": "stdout",
     "output_type": "stream",
     "text": [
      "['vegetables', 'apple', 'fruits', 'cherry', 'ert']\n",
      "['apple', 'fruits', 'cherry', 'ert', 'abcd']\n"
     ]
    }
   ],
   "source": [
    "x = [\"vegetables\", \"apple\", \"fruits\", \"cherry\",\"ert\", \"abcd\"]\n",
    "print(x[:5])\n",
    "print(x[1:6])"
   ]
  },
  {
   "cell_type": "markdown",
   "id": "d387ea07-2144-44ea-b496-b7dd46ac43ef",
   "metadata": {},
   "source": [
    "# Lists\n",
    "## 8. List Operations:\n",
    "• Write a program that appends a new item to an existing list,\n",
    "removes an item, and inserts an element at a specific index in\n",
    "the list.\n"
   ]
  },
  {
   "cell_type": "code",
   "execution_count": 32,
   "id": "4f90f683-f1cf-4f0c-b37b-4e71e5639c6f",
   "metadata": {},
   "outputs": [
    {
     "name": "stdout",
     "output_type": "stream",
     "text": [
      "[1, 2, 3, 4, 5, 6, 7, 9]\n"
     ]
    }
   ],
   "source": [
    "a = [1,2,3,4,5,6,7]\n",
    "a.append(9)\n",
    "print(a)"
   ]
  },
  {
   "cell_type": "code",
   "execution_count": 33,
   "id": "b3c3379e-eeb9-4975-836f-252bb284416f",
   "metadata": {},
   "outputs": [
    {
     "name": "stdout",
     "output_type": "stream",
     "text": [
      "[1, 2, 3, 4, 6, 7]\n"
     ]
    }
   ],
   "source": [
    "a = [1,2,3,4,5,6,7]\n",
    "a.remove(5)\n",
    "print(a)"
   ]
  },
  {
   "cell_type": "code",
   "execution_count": 37,
   "id": "cd518beb-701f-4f64-b863-f583f409751a",
   "metadata": {},
   "outputs": [
    {
     "name": "stdout",
     "output_type": "stream",
     "text": [
      "[6, 7]\n"
     ]
    }
   ],
   "source": [
    "a = [1,2,3,4,5,6,7]\n",
    "print(a[5:])"
   ]
  },
  {
   "cell_type": "markdown",
   "id": "6fd7bf0d-a92d-4bf4-ade7-f24a0dba02cd",
   "metadata": {},
   "source": [
    "## 9. List Comprehension:\n",
    "• Given a list of numbers, create a new list containing the\n",
    "squares of only the even numbers from the original list using\n",
    "list comprehension."
   ]
  },
  {
   "cell_type": "code",
   "execution_count": 39,
   "id": "b0212d1a-39fa-409f-bad2-2e1b9f0ad4a4",
   "metadata": {},
   "outputs": [
    {
     "name": "stdout",
     "output_type": "stream",
     "text": [
      "['c']\n"
     ]
    }
   ],
   "source": [
    "list1 = [1,2,3,4,5,6,7,8,9,10]\n",
    "list2 = []\n",
    "for x in list1:\n",
    "  if \"c\" in x:\n",
    "    list2.append(x)\n",
    "print(list2)"
   ]
  },
  {
   "cell_type": "markdown",
   "id": "421d584f-21a3-426f-9009-285269f1751b",
   "metadata": {},
   "source": [
    "## 10. List Sorting:\n",
    "• Write a Python script that sorts a list of strings in alphabetical\n",
    "order and another list of integers in ascending order."
   ]
  },
  {
   "cell_type": "code",
   "execution_count": 42,
   "id": "e079b8b2-d931-4ac3-bf81-d3401f35ffc6",
   "metadata": {},
   "outputs": [
    {
     "name": "stdout",
     "output_type": "stream",
     "text": [
      "['Submarine', 'Train', 'airplane', 'car']\n",
      "[11, 19, 23, 26, 45, 67]\n"
     ]
    }
   ],
   "source": [
    "l1 = ['car', 'Train', 'airplane', 'Submarine']\n",
    "l1.sort()\n",
    "print(l1)\n",
    "\n",
    "l2 = [23,45,11,26,67,19]\n",
    "l2.sort()\n",
    "print(l2)"
   ]
  },
  {
   "cell_type": "markdown",
   "id": "4c71c910-a14b-4263-8af6-a4dd42773b3a",
   "metadata": {},
   "source": [
    "## 11. List Methods:\n",
    "• Create a program that asks the user for 5 names, stores them\n",
    "in a list, and then prints the list in reverse order."
   ]
  },
  {
   "cell_type": "code",
   "execution_count": 44,
   "id": "aa4e4d76-e571-4571-a5a3-e13de92355d0",
   "metadata": {},
   "outputs": [
    {
     "name": "stdout",
     "output_type": "stream",
     "text": [
      "['bus', 'Submarine', 'airplane', 'Train', 'car']\n"
     ]
    }
   ],
   "source": [
    "l1 = ['car', 'Train', 'airplane', 'Submarine', 'bus']\n",
    "l1.reverse()\n",
    "print(l1)"
   ]
  },
  {
   "cell_type": "markdown",
   "id": "d9a1680c-4659-4a74-82e8-58661a15215f",
   "metadata": {},
   "source": [
    "# Tuples\n",
    "## 12. Basic Tuple Operations:\n",
    "• Given a tuple (1, 2, 3, 4, 5), write a program to convert it\n",
    "into a list, add an element to the list, and then convert it back\n",
    "into a tuple."
   ]
  },
  {
   "cell_type": "code",
   "execution_count": 52,
   "id": "20e27c10-4675-4fcf-b5a4-464d19d21b67",
   "metadata": {},
   "outputs": [
    {
     "name": "stdout",
     "output_type": "stream",
     "text": [
      "(1, 7, 3, 4, 5)\n"
     ]
    }
   ],
   "source": [
    "x = (1,2,3,4,5)\n",
    "y = list(x)\n",
    "y[1] = 7\n",
    "x = tuple(y)\n",
    "print(x)"
   ]
  },
  {
   "cell_type": "markdown",
   "id": "3c480a77-2b0d-4808-9772-4523a9a6ff3b",
   "metadata": {},
   "source": [
    "## 13. Tuple Unpacking:\n",
    "• Create a Python program that assigns the values of a tuple to\n",
    "individual variables and prints them."
   ]
  },
  {
   "cell_type": "code",
   "execution_count": 58,
   "id": "029f025c-128d-404a-a82d-44bf242ea3cc",
   "metadata": {},
   "outputs": [
    {
     "name": "stdout",
     "output_type": "stream",
     "text": [
      "apple\n",
      "pear\n",
      "watermelon\n"
     ]
    }
   ],
   "source": [
    "fruits = (\"apple\", \"pear\", \"watermelon\")\n",
    "(yes, no, true) = fruits\n",
    "print(yes)\n",
    "print(no)\n",
    "print(true)"
   ]
  },
  {
   "cell_type": "code",
   "execution_count": 60,
   "id": "3fd72eb5-eae1-4048-b9b1-0eebbc34c9ad",
   "metadata": {},
   "outputs": [
    {
     "name": "stdout",
     "output_type": "stream",
     "text": [
      "apple\n",
      "['pear', 'watermelon']\n"
     ]
    }
   ],
   "source": [
    "fruits = (\"apple\", \"pear\", \"watermelon\")\n",
    "(yes, *no) = fruits\n",
    "print(yes)\n",
    "print(no)"
   ]
  }
 ],
 "metadata": {
  "kernelspec": {
   "display_name": "Python 3 (ipykernel)",
   "language": "python",
   "name": "python3"
  },
  "language_info": {
   "codemirror_mode": {
    "name": "ipython",
    "version": 3
   },
   "file_extension": ".py",
   "mimetype": "text/x-python",
   "name": "python",
   "nbconvert_exporter": "python",
   "pygments_lexer": "ipython3",
   "version": "3.11.7"
  }
 },
 "nbformat": 4,
 "nbformat_minor": 5
}
