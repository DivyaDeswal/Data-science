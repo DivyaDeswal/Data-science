{
 "cells": [
  {
   "cell_type": "markdown",
   "id": "0b1727f5-587c-4a13-b239-cfda4f5e8f76",
   "metadata": {},
   "source": [
    "# Classes"
   ]
  },
  {
   "cell_type": "markdown",
   "id": "f1d06f11-01bc-4bae-8b82-1f57bd8b6ed1",
   "metadata": {},
   "source": [
    "1. Instance and Class Attributes Create a class Person with instance \n",
    "attributes name and age. Also, add a class attribute species that \n",
    "should be 'Homo sapiens' for all instances. Write a method info()\n",
    "that prints the name, age, and species.\n"
   ]
  },
  {
   "cell_type": "code",
   "execution_count": 8,
   "id": "4ac65397-eef8-4547-9b3b-d4ba85a6afdd",
   "metadata": {},
   "outputs": [
    {
     "name": "stdout",
     "output_type": "stream",
     "text": [
      "Name: Vani, Age: 30,Species: Homo sapiens\n",
      "Name: Annu, Age: 25,Species: Homo sapiens\n"
     ]
    }
   ],
   "source": [
    "class Person:\n",
    "    species = 'Homo sapiens'\n",
    "    \n",
    "    def __init__(self, name, age):\n",
    "        self.name = name  \n",
    "        self.age = age    \n",
    "        \n",
    "    def info(self):\n",
    "        print(f\"Name: {self.name}, Age: {self.age},Species: {Person.species}\")\n",
    "person1 = Person(\"Vani\", 30)\n",
    "person2 = Person(\"Annu\", 25)\n",
    "\n",
    "person1.info()\n",
    "person2.info()"
   ]
  },
  {
   "cell_type": "markdown",
   "id": "5b60bb29-c5c6-41d0-a468-3e5fd87d47cb",
   "metadata": {},
   "source": [
    "2. Create a class named Student with the following attributes and \n",
    "methods:\n",
    "\n",
    "Attributes: name, age, grade (e.g., A, B, C, etc.)\n",
    "Methods:\n",
    "a. get_grade(): Returns the grade of the student"
   ]
  },
  {
   "cell_type": "code",
   "execution_count": 9,
   "id": "050b875a-ddf6-4f01-8abe-c400aae1cb71",
   "metadata": {},
   "outputs": [
    {
     "name": "stdout",
     "output_type": "stream",
     "text": [
      "Divya's grade: A\n",
      "Divu's grade: B\n"
     ]
    }
   ],
   "source": [
    "class Student:\n",
    "\n",
    "    def __init__(self, name, age, grade):\n",
    "        self.name = name  \n",
    "        self.age = age    \n",
    "        self.grade = grade  \n",
    "\n",
    "    def get_grade(self):\n",
    "        return self.grade\n",
    "\n",
    "student1 = Student(\"Divya\", 20, \"A\")\n",
    "student2 = Student(\"Divu\", 22, \"B\")\n",
    "print(f\"{student1.name}'s grade: {student1.get_grade()}\")\n",
    "print(f\"{student2.name}'s grade: {student2.get_grade()}\")\n"
   ]
  },
  {
   "cell_type": "markdown",
   "id": "7b95a858-6bcf-44ac-ba17-f3f831056c5a",
   "metadata": {},
   "source": [
    "3. Create a class Calculator that has methods add, subtract, \n",
    "multiply, and divide. Allow the methods to take either two or three \n",
    "arguments (using default values for the third argument).\n"
   ]
  },
  {
   "cell_type": "code",
   "execution_count": 11,
   "id": "3f61cbb1-3a8b-4a9a-8954-bb6ad62daac8",
   "metadata": {},
   "outputs": [
    {
     "name": "stdout",
     "output_type": "stream",
     "text": [
      "5\n",
      "6\n",
      "3\n",
      "5\n",
      "12\n",
      "24\n",
      "4.0\n",
      "3.0\n"
     ]
    }
   ],
   "source": [
    "class Calculator:\n",
    "    def add(self, a, b, c=0):\n",
    "        return a + b + c\n",
    "\n",
    "    def subtract(self, a, b, c=0):\n",
    "        return a - b - c\n",
    "\n",
    "    def multiply(self, a, b, c=1):\n",
    "        return a * b * c\n",
    "\n",
    "    def divide(self, a, b, c=1):\n",
    "        if b == 0 or c == 0:\n",
    "            return \"Cannot divide by zero\"\n",
    "        return a / b / c\n",
    "        \n",
    "calc = Calculator()\n",
    "\n",
    "print(calc.add(2, 3))\n",
    "print(calc.add(1, 2, 3))  \n",
    "print(calc.subtract(5, 2))   \n",
    "print(calc.subtract(10, 4, 1)) \n",
    "print(calc.multiply(4, 3)) \n",
    "print(calc.multiply(2, 3, 4)) \n",
    "print(calc.divide(8, 2))      \n",
    "print(calc.divide(12, 2, 2)) "
   ]
  },
  {
   "cell_type": "markdown",
   "id": "586f0652-d473-4c68-bfda-7ad89c69d36f",
   "metadata": {},
   "source": [
    "4. Inheritance\n",
    "\n",
    "Create a class Animal with an attribute species and a \n",
    "method make_sound() that prints \"Unknown sound\". Create two child \n",
    "classes Dog and Cat, each of which overrides the make_sound()\n",
    "method to print \"Woof\" and \"Meow\", respectively."
   ]
  },
  {
   "cell_type": "code",
   "execution_count": 15,
   "id": "49034be3-be4f-44bb-8fb7-c1926b8c58c3",
   "metadata": {},
   "outputs": [
    {
     "name": "stdout",
     "output_type": "stream",
     "text": [
      "Woof\n",
      "Meow\n"
     ]
    }
   ],
   "source": [
    "class Animal:\n",
    "    def make_sound(self):\n",
    "        print(\"Unknown sound\")\n",
    "\n",
    "class Dog(Animal):\n",
    "    def make_sound(self):\n",
    "        print(\"Woof\")\n",
    "\n",
    "class Cat(Animal):\n",
    "    def make_sound(self):\n",
    "        print(\"Meow\")\n",
    "\n",
    "dog = Dog()\n",
    "cat = Cat()\n",
    "dog.make_sound()\n",
    "cat.make_sound()"
   ]
  },
  {
   "cell_type": "markdown",
   "id": "05caabe5-2356-45d4-b47e-eebbcf2b4d2e",
   "metadata": {},
   "source": [
    "5. Encapsulation Create a class Employee with:\n",
    "\n",
    "• Public attribute name\n",
    "• Protected attribute _salary\n",
    "• Private attribute __bonus\n",
    "\n",
    "Implement methods to get and set the private attribute __bonus. Also, \n",
    "create a method total_compensation() that returns the sum of \n",
    "_salary and __bonus.\n"
   ]
  },
  {
   "cell_type": "code",
   "execution_count": 19,
   "id": "c5d0d2ef-04de-45bc-8ee1-5a980e2e1ed2",
   "metadata": {},
   "outputs": [
    {
     "name": "stdout",
     "output_type": "stream",
     "text": [
      "Employee Name: Divya\n",
      "Bonus: 3000\n",
      "Updated Bonus: 4000\n",
      "Total Compensation: 59000\n"
     ]
    }
   ],
   "source": [
    "class Employee:\n",
    "    def __init__(self, name, salary, bonus):\n",
    "        self.name = name          \n",
    "        self._salary = salary     \n",
    "        self.__bonus = bonus     \n",
    "\n",
    "    def get_bonus(self):\n",
    "        return self.__bonus\n",
    "\n",
    "    def set_bonus(self, bonus):\n",
    "        if bonus < 0:\n",
    "            print(\"Bonus cannot be negative.\")\n",
    "        else:\n",
    "            self.__bonus = bonus\n",
    "\n",
    "    def total_compensation(self):\n",
    "        return self._salary + self.__bonus\n",
    "\n",
    "employee = Employee(\"Divya\", 55000, 3000)\n",
    "\n",
    "print(f\"Employee Name: {employee.name}\")\n",
    "print(f\"Bonus: {employee.get_bonus()}\")\n",
    "\n",
    "employee.set_bonus(4000)\n",
    "print(f\"Updated Bonus: {employee.get_bonus()}\")\n",
    "print(f\"Total Compensation: {employee.total_compensation()}\")\n"
   ]
  },
  {
   "cell_type": "code",
   "execution_count": 18,
   "id": "39b93c0d-cbe9-43f3-b0fc-844c0817f10d",
   "metadata": {},
   "outputs": [
    {
     "name": "stdout",
     "output_type": "stream",
     "text": [
      "Employee Name: Divya\n",
      "Bonus: 3000\n",
      "Total Compensation: 58000\n"
     ]
    }
   ],
   "source": [
    "class Employee:\n",
    "    def __init__(self, name, salary, bonus):\n",
    "        self.name = name          \n",
    "        self._salary = salary     \n",
    "        self.__bonus = bonus     \n",
    "\n",
    "    def get_bonus(self):\n",
    "        return self.__bonus\n",
    "\n",
    "    def total_compensation(self):\n",
    "        return self._salary + self.__bonus\n",
    "\n",
    "employee = Employee(\"Divya\", 55000, 3000)\n",
    "\n",
    "print(f\"Employee Name: {employee.name}\")\n",
    "print(f\"Bonus: {employee.get_bonus()}\")\n",
    "print(f\"Total Compensation: {employee.total_compensation()}\")"
   ]
  },
  {
   "cell_type": "markdown",
   "id": "ee677ef3-cb61-4b9c-bf31-2e73cce450ae",
   "metadata": {},
   "source": [
    "6. Class and Static Methods \n",
    "\n",
    "Define a class Rectangle with attributes \n",
    "length and width.\n",
    "\n",
    "Add the following methods:\n",
    "A class method from_square(cls, side_length) that creates a \n",
    "rectangle where both sides are the same length.\n",
    "A static method is_square(rect) that checks whether a given \n",
    "rectangle is a square"
   ]
  },
  {
   "cell_type": "code",
   "execution_count": 7,
   "id": "e57307c9-9df6-43e8-80ce-a3791a34c1ed",
   "metadata": {},
   "outputs": [
    {
     "data": {
      "text/plain": [
       "False"
      ]
     },
     "execution_count": 7,
     "metadata": {},
     "output_type": "execute_result"
    }
   ],
   "source": [
    "class Rectangle:\n",
    "    def __init__(self, length, width):\n",
    "        self.length = length \n",
    "        self.width = width   \n",
    "        \n",
    "    def from_square(cls, side_length):\n",
    "        return self.length* self.width\n",
    "\n",
    "    def is_square(self):\n",
    "        return self.length == self.width\n",
    "\n",
    "rect1 = Rectangle(4, 5)\n",
    "rect1.from_square()\n",
    "rect1.is_square()"
   ]
  },
  {
   "cell_type": "code",
   "execution_count": 11,
   "id": "85273bee-87bd-48ff-8762-261e4c807bcb",
   "metadata": {},
   "outputs": [
    {
     "data": {
      "text/plain": [
       "False"
      ]
     },
     "execution_count": 11,
     "metadata": {},
     "output_type": "execute_result"
    }
   ],
   "source": [
    "class Rectangle:\n",
    "    def __init__(self, length, width):\n",
    "        self.length = length \n",
    "        self.width = width   \n",
    "        \n",
    "    def from_square(cls, side_length):\n",
    "        return cls(side_length, side_length)\n",
    "\n",
    "    def is_square(rect):\n",
    "        return rect.length == rect.width\n",
    "    def area(self):\n",
    "        return self.length*self.width\n",
    "    def perimeter(self):\n",
    "        return 2 * (self.length + self.width)\n",
    "\n",
    "rec1 = Rectangle(8,9)\n",
    "rec1.is_square()\n"
   ]
  },
  {
   "cell_type": "markdown",
   "id": "8c2c641a-db76-402a-ae1e-140c837ffff2",
   "metadata": {},
   "source": [
    "7. Class Method and Static Method\n",
    "\n",
    "• Create a class Circle that has:\n",
    "• Attribute: radius\n",
    "• Class attribute: pi = 3.1415\n",
    "\n",
    "Methods:\n",
    "a. area(): Returns the area of the circle (pi * radius^2).\n",
    "b. circumference(): Returns the circumference of the circle (2 * \n",
    "pi * radius).\n",
    "c. A class method change_pi(new_pi) that changes the value of \n",
    "pi.\n",
    "d. A static method is_valid_radius(value) that checks if a given \n",
    "radius value is positive."
   ]
  },
  {
   "cell_type": "code",
   "execution_count": 15,
   "id": "d267a7c5-5685-42fd-9a5f-997305b2d71c",
   "metadata": {},
   "outputs": [
    {
     "name": "stdout",
     "output_type": "stream",
     "text": [
      "3.14\n",
      "True\n",
      "False\n"
     ]
    }
   ],
   "source": [
    "class Circle:\n",
    "    pi = 3.1415\n",
    "\n",
    "    def __init__(self, radius):\n",
    "        self.radius = radius\n",
    "\n",
    "    def area(self):\n",
    "        return Circle.pi * self.radius ** 2\n",
    "\n",
    "    def circumference(self):\n",
    "        return 2 * Circle.pi * self.radius\n",
    "\n",
    "def change_pi(cls, new_pi):\n",
    "    cls.pi = new_pi\n",
    "\n",
    "def is_valid_radius(value):\n",
    "    return value > 0\n",
    "    \n",
    "Circle.change_pi = classmethod(change_pi)\n",
    "Circle.is_valid_radius = staticmethod(is_valid_radius)\n",
    "\n",
    "Circle.change_pi(3.14)\n",
    "print(Circle.pi)  \n",
    "\n",
    "print(Circle.is_valid_radius(44))  \n",
    "print(Circle.is_valid_radius(-23))  \n"
   ]
  },
  {
   "cell_type": "markdown",
   "id": "3b12d7c5-6873-47ba-bdb9-b8e98357713b",
   "metadata": {},
   "source": [
    "8. Composition\n",
    "\n",
    "Create two classes Book and Library:    \n",
    "Book should have attributes title and author.\n",
    "Library should contain a list of Book objects and have methods:\n",
    "\n",
    "a. add_book(book): Adds a Book to the library.\n",
    "b. get_books_by_author(author_name): Returns all books by a \n",
    "given author"
   ]
  },
  {
   "cell_type": "code",
   "execution_count": 18,
   "id": "5768d600-b400-4e21-8744-8a6cc306f4b9",
   "metadata": {},
   "outputs": [
    {
     "name": "stdout",
     "output_type": "stream",
     "text": [
      "Books by Osho: ['Death']\n",
      "Books by Newton: ['1984']\n"
     ]
    }
   ],
   "source": [
    "class Book:\n",
    "    def __init__(self, title, author):\n",
    "        self.title = title\n",
    "        self.author = author\n",
    "\n",
    "class Library:\n",
    "    def __init__(self):\n",
    "        self.books = []\n",
    "\n",
    "    def add_book(self, title, author):\n",
    "        self.books.append(Book(title, author))\n",
    "\n",
    "    def get_books_by_author(self, author_name):\n",
    "        return [book.title for book in self.books if book.author == author_name]\n",
    "\n",
    "library = Library()\n",
    "library.add_book(\"1984\", \"Newton\")\n",
    "library.add_book(\"Death\", \"Osho\")\n",
    "print(\"Books by Osho:\", library.get_books_by_author(\"Osho\"))\n",
    "print(\"Books by Newton:\", library.get_books_by_author(\"Newton\"))"
   ]
  },
  {
   "cell_type": "markdown",
   "id": "ace2f21e-c833-4099-9d22-9f564a386b64",
   "metadata": {},
   "source": [
    "9. Polymorphism \n",
    "\n",
    "Create an abstract base class Shape with an abstract \n",
    "method area(). Implement two subclasses Circle and Square that \n",
    "calculate their respective areas. Make sure to use the abc module for \n",
    "the abstract base class.\n"
   ]
  },
  {
   "cell_type": "code",
   "execution_count": 23,
   "id": "8e93824b-d920-4800-a059-ad983436de03",
   "metadata": {},
   "outputs": [
    {
     "name": "stdout",
     "output_type": "stream",
     "text": [
      "Circle area: 379.94\n",
      "Square area: 64\n",
      "Shape area (default): 0\n"
     ]
    }
   ],
   "source": [
    "class Shape:\n",
    "    def area(self):\n",
    "        return 0 \n",
    "\n",
    "class Circle(Shape):\n",
    "    def __init__(self, radius):\n",
    "        self.radius = radius\n",
    "\n",
    "    def area(self):\n",
    "        return 3.14 * (self.radius ** 2)\n",
    "\n",
    "class Square(Shape):\n",
    "    def __init__(self, side):\n",
    "        self.side = side\n",
    "\n",
    "    def area(self):\n",
    "        return self.side ** 2\n",
    "\n",
    "circle = Circle(11) \n",
    "square = Square(8)  \n",
    "print(\"Circle area:\", circle.area())  \n",
    "print(\"Square area:\", square.area())  \n",
    "\n",
    "shape = Shape()\n",
    "print(\"Shape area (default):\", shape.area())  "
   ]
  },
  {
   "cell_type": "markdown",
   "id": "4c2172bc-6408-48ab-86d2-c31a1b332ecb",
   "metadata": {},
   "source": [
    "10. Multiple Inheritance Create three classes:\n",
    "\n",
    "• Class1 with a method method1() that prints \"Method from \n",
    "Class1\"\n",
    "\n",
    "• Class2 with a method method2() that prints \"Method from \n",
    "Class2\"\n",
    "\n",
    "• Class3 that inherits from both Class1 and Class2 and has its own \n",
    "method method3()"
   ]
  },
  {
   "cell_type": "code",
   "execution_count": 24,
   "id": "6e6cffeb-1af8-43b1-b572-949bece53551",
   "metadata": {},
   "outputs": [
    {
     "name": "stdout",
     "output_type": "stream",
     "text": [
      "Method from Class1\n",
      "Method from Class2\n",
      "Method from Class3\n"
     ]
    }
   ],
   "source": [
    "class Class1:\n",
    "    def method1(self):\n",
    "        print(\"Method from Class1\")\n",
    "\n",
    "class Class2:\n",
    "    def method2(self):\n",
    "        print(\"Method from Class2\")\n",
    "\n",
    "class Class3(Class1, Class2):\n",
    "    def method3(self):\n",
    "        print(\"Method from Class3\")\n",
    "\n",
    "obj = Class3()\n",
    "obj.method1() \n",
    "obj.method2() \n",
    "obj.method3()  "
   ]
  },
  {
   "cell_type": "code",
   "execution_count": null,
   "id": "b397eb50-ee89-4a77-8c32-0046bd310f5c",
   "metadata": {},
   "outputs": [],
   "source": []
  }
 ],
 "metadata": {
  "kernelspec": {
   "display_name": "Python 3 (ipykernel)",
   "language": "python",
   "name": "python3"
  },
  "language_info": {
   "codemirror_mode": {
    "name": "ipython",
    "version": 3
   },
   "file_extension": ".py",
   "mimetype": "text/x-python",
   "name": "python",
   "nbconvert_exporter": "python",
   "pygments_lexer": "ipython3",
   "version": "3.11.7"
  }
 },
 "nbformat": 4,
 "nbformat_minor": 5
}
