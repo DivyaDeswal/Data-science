{
 "cells": [
  {
   "cell_type": "markdown",
   "id": "c4f673aa-28f1-41a7-aecf-c34a0024360a",
   "metadata": {},
   "source": [
    "# syntax"
   ]
  },
  {
   "cell_type": "code",
   "execution_count": 2,
   "id": "26673384-464b-418b-a2ed-12e13a2df22d",
   "metadata": {},
   "outputs": [
    {
     "name": "stdout",
     "output_type": "stream",
     "text": [
      "Divya, Deswal!\n"
     ]
    }
   ],
   "source": [
    "# syntax can be executed by writing directly in the Command Line:\n",
    "print(\"Divya, Deswal!\")"
   ]
  },
  {
   "cell_type": "markdown",
   "id": "9125694d-5c8a-484c-b4bd-3e698c823314",
   "metadata": {},
   "source": [
    "# indentation"
   ]
  },
  {
   "cell_type": "code",
   "execution_count": 7,
   "id": "feedcc87-7a5d-4e83-ab51-7a82d09ec71a",
   "metadata": {},
   "outputs": [
    {
     "name": "stdout",
     "output_type": "stream",
     "text": [
      "ten is greater\n"
     ]
    }
   ],
   "source": [
    "#Indentation refers to the spaces at the beginning of a code line.\n",
    "if 10 > 2:\n",
    " print(\"ten is greater\")"
   ]
  },
  {
   "cell_type": "code",
   "execution_count": 14,
   "id": "5ad8c1e4-6b56-461a-bd25-3416c66018fd",
   "metadata": {},
   "outputs": [
    {
     "name": "stdout",
     "output_type": "stream",
     "text": [
      "6\n"
     ]
    }
   ],
   "source": [
    "if 4 > 1:\n",
    " print(6)"
   ]
  },
  {
   "cell_type": "markdown",
   "id": "c00d2e73-d01a-4a4f-a5cb-c68c0f6cfaac",
   "metadata": {},
   "source": [
    "# variables"
   ]
  },
  {
   "cell_type": "code",
   "execution_count": 15,
   "id": "2e835b99-bc66-4c6b-a8f6-f799f6cd7860",
   "metadata": {},
   "outputs": [
    {
     "data": {
      "text/plain": [
       "6"
      ]
     },
     "execution_count": 15,
     "metadata": {},
     "output_type": "execute_result"
    }
   ],
   "source": [
    "#variables are created when you assign a value to it:\n",
    "# It has no command for declaring a variable.\n",
    "x=6\n",
    "x"
   ]
  },
  {
   "cell_type": "code",
   "execution_count": 16,
   "id": "bc155107-bbe3-453f-b181-b85b5398c9a1",
   "metadata": {},
   "outputs": [
    {
     "name": "stdout",
     "output_type": "stream",
     "text": [
      "7 8\n"
     ]
    }
   ],
   "source": [
    "x=7\n",
    "y=8\n",
    "print(x,y)"
   ]
  },
  {
   "cell_type": "code",
   "execution_count": 18,
   "id": "be541ac1-916a-4cda-b5f9-1c013cf54277",
   "metadata": {},
   "outputs": [
    {
     "name": "stdout",
     "output_type": "stream",
     "text": [
      "12\n",
      "Divya\n"
     ]
    }
   ],
   "source": [
    "x = 12\n",
    "y = \"Divya\"\n",
    "print(x)\n",
    "print(y)"
   ]
  },
  {
   "cell_type": "code",
   "execution_count": 3,
   "id": "ad07826d-c294-4738-b43b-2ac65e43f663",
   "metadata": {},
   "outputs": [
    {
     "data": {
      "text/plain": [
       "'Divya'"
      ]
     },
     "execution_count": 3,
     "metadata": {},
     "output_type": "execute_result"
    }
   ],
   "source": [
    "x = 12\n",
    "y = \"\"\"Divya\"\"\"\n",
    "x\n",
    "y"
   ]
  },
  {
   "cell_type": "code",
   "execution_count": 21,
   "id": "ec582c78-1120-40a0-83af-ec01a9665a2b",
   "metadata": {},
   "outputs": [
    {
     "data": {
      "text/plain": [
       "(12, 'Divya')"
      ]
     },
     "execution_count": 21,
     "metadata": {},
     "output_type": "execute_result"
    }
   ],
   "source": [
    "x = 12\n",
    "y = \"Divya\"\n",
    "x,y"
   ]
  },
  {
   "cell_type": "code",
   "execution_count": 24,
   "id": "5bce4b73-0a4e-4078-97cd-61535d243fff",
   "metadata": {},
   "outputs": [
    {
     "data": {
      "text/plain": [
       "'DivyaDivyaDivyaDivyaDivyaDivyaDivyaDivyaDivyaDivyaDivyaDivya'"
      ]
     },
     "execution_count": 24,
     "metadata": {},
     "output_type": "execute_result"
    }
   ],
   "source": [
    "x = 12\n",
    "y = \"Divya\"\n",
    "x*y"
   ]
  },
  {
   "cell_type": "code",
   "execution_count": 30,
   "id": "3dc1b336-b608-40ef-afd2-46056d0a09b0",
   "metadata": {},
   "outputs": [
    {
     "name": "stdout",
     "output_type": "stream",
     "text": [
      "Orange\n",
      "Banana\n",
      "Cherry\n"
     ]
    }
   ],
   "source": [
    "x, y, z = \"Orange\", \"Banana\", \"Cherry\"\n",
    "print(x)\n",
    "print(y)\n",
    "print(z)"
   ]
  },
  {
   "cell_type": "code",
   "execution_count": 31,
   "id": "f41d9611-587d-456e-b0a2-2f0c2c3a4286",
   "metadata": {},
   "outputs": [
    {
     "name": "stdout",
     "output_type": "stream",
     "text": [
      "Orange Banana Cherry\n"
     ]
    }
   ],
   "source": [
    "x, y, z = \"Orange\", \"Banana\", \"Cherry\"\n",
    "print(x,y,z)"
   ]
  },
  {
   "cell_type": "markdown",
   "id": "f3e5f2f1-ecba-4b0d-bdda-57f6ffee869c",
   "metadata": {},
   "source": [
    "# string"
   ]
  },
  {
   "cell_type": "code",
   "execution_count": 32,
   "id": "f11b9fd1-30eb-439f-b8ec-98c55e171ce3",
   "metadata": {},
   "outputs": [
    {
     "name": "stdout",
     "output_type": "stream",
     "text": [
      "Divya\n",
      "I am a 'student'\n",
      "of \"Msc Statistics\"\n"
     ]
    }
   ],
   "source": [
    "#Strings are surrounded by either single quotation marks, or double quotation marks.\n",
    "print(\"Divya\")\n",
    "print(\"I am a 'student'\")\n",
    "print('of \"Msc Statistics\"')"
   ]
  },
  {
   "cell_type": "markdown",
   "id": "3c9dbabe-577f-4dcf-a921-268817ffdc4e",
   "metadata": {},
   "source": [
    "## string array"
   ]
  },
  {
   "cell_type": "code",
   "execution_count": 35,
   "id": "b2d064ca-e035-459a-bdf5-9caab6f34f4b",
   "metadata": {},
   "outputs": [
    {
     "name": "stdout",
     "output_type": "stream",
     "text": [
      "Msc Statistics\n"
     ]
    }
   ],
   "source": [
    "a=\"Msc Statistics\"\n",
    "print(a[:])"
   ]
  },
  {
   "cell_type": "markdown",
   "id": "a72c8349-cec6-4f6c-8277-4dd5d99e06a7",
   "metadata": {},
   "source": [
    "## string slicing"
   ]
  },
  {
   "cell_type": "code",
   "execution_count": 36,
   "id": "93a72aa8-6914-4473-b6a7-d697cd815740",
   "metadata": {},
   "outputs": [
    {
     "name": "stdout",
     "output_type": "stream",
     "text": [
      "sc Statistics\n"
     ]
    }
   ],
   "source": [
    "a=\"Msc Statistics\"\n",
    "print(a[1:])"
   ]
  },
  {
   "cell_type": "code",
   "execution_count": 37,
   "id": "677aacb5-86d9-4ed1-b76a-40bfa879b958",
   "metadata": {},
   "outputs": [
    {
     "name": "stdout",
     "output_type": "stream",
     "text": [
      "Msc Statistics\n"
     ]
    }
   ],
   "source": [
    "a=\"Msc Statistics\"\n",
    "print(a[0:])"
   ]
  },
  {
   "cell_type": "code",
   "execution_count": 38,
   "id": "95a6683e-5923-4a59-9cc0-5b4b7d9e8bc5",
   "metadata": {},
   "outputs": [
    {
     "name": "stdout",
     "output_type": "stream",
     "text": [
      "Msc St\n"
     ]
    }
   ],
   "source": [
    "a=\"Msc Statistics\"\n",
    "print(a[:6])"
   ]
  },
  {
   "cell_type": "code",
   "execution_count": 39,
   "id": "7796384a-81f3-4631-9f3f-d1ca7ded6948",
   "metadata": {},
   "outputs": [
    {
     "name": "stdout",
     "output_type": "stream",
     "text": [
      "sc S\n"
     ]
    }
   ],
   "source": [
    "a=\"Msc Statistics\"\n",
    "print(a[-13:-9])"
   ]
  },
  {
   "cell_type": "code",
   "execution_count": 15,
   "id": "5188c189-8798-447f-9cbd-717d51b68c6f",
   "metadata": {},
   "outputs": [
    {
     "name": "stdout",
     "output_type": "stream",
     "text": [
      "McSaitc\n"
     ]
    }
   ],
   "source": [
    "a=\"Msc Statistics\"\n",
    "print(a[::2])"
   ]
  },
  {
   "cell_type": "code",
   "execution_count": 6,
   "id": "b041e090-66f9-4f11-b019-b8a687060941",
   "metadata": {},
   "outputs": [
    {
     "name": "stdout",
     "output_type": "stream",
     "text": [
      "14\n"
     ]
    }
   ],
   "source": [
    "print(len(a))"
   ]
  },
  {
   "cell_type": "code",
   "execution_count": 10,
   "id": "aa2eaa69-5a53-4d07-8a2e-ed529cc80be9",
   "metadata": {},
   "outputs": [
    {
     "name": "stdout",
     "output_type": "stream",
     "text": [
      "(2, 5, 8)\n"
     ]
    }
   ],
   "source": [
    "a=1,2,3,4,5,6,7,8,9\n",
    "print(a[1::3])"
   ]
  },
  {
   "cell_type": "code",
   "execution_count": 16,
   "id": "526b26cd-091c-4e2e-859e-0dc95a030029",
   "metadata": {},
   "outputs": [
    {
     "name": "stdout",
     "output_type": "stream",
     "text": [
      "(2, 3, 4, 5, 6, 7, 8, 9)\n"
     ]
    }
   ],
   "source": [
    "a=1,2,3,4,5,6,7,8,9,10\n",
    "print(a[1:9:1])"
   ]
  },
  {
   "cell_type": "markdown",
   "id": "4329dbf4-bd5e-4e29-ba6d-fd8be90f6fd2",
   "metadata": {},
   "source": [
    "## uppercase & lowercase"
   ]
  },
  {
   "cell_type": "code",
   "execution_count": 43,
   "id": "3e82b2d9-0240-49ae-bb2a-447c9d61d46c",
   "metadata": {},
   "outputs": [
    {
     "name": "stdout",
     "output_type": "stream",
     "text": [
      "MSC STATISTICS\n"
     ]
    }
   ],
   "source": [
    "#The upper() method returns the string in upper case:\n",
    "a=\"Msc Statistics\"\n",
    "print(a.upper())"
   ]
  },
  {
   "cell_type": "code",
   "execution_count": 44,
   "id": "474dca62-8913-4314-b9dd-678b9d57502c",
   "metadata": {},
   "outputs": [
    {
     "name": "stdout",
     "output_type": "stream",
     "text": [
      "msc statistics\n"
     ]
    }
   ],
   "source": [
    "#The lower() method returns the string in lower case:\n",
    "a=\"Msc Statistics\"\n",
    "print(a.lower())"
   ]
  },
  {
   "cell_type": "markdown",
   "id": "5e260b9a-1bdc-40bd-837b-5c157e5ce75a",
   "metadata": {},
   "source": [
    "## remove whitespace"
   ]
  },
  {
   "cell_type": "code",
   "execution_count": 45,
   "id": "72a08779-90f3-41b4-8438-09a64ad2a7dd",
   "metadata": {},
   "outputs": [
    {
     "name": "stdout",
     "output_type": "stream",
     "text": [
      "Msc Statistics\n"
     ]
    }
   ],
   "source": [
    "#Whitespace is the space before and/or after the actual text, and very often you want to remove this space.\n",
    "#The strip() method removes any whitespace from the beginning or the end:\n",
    "a=\"  Msc Statistics  \"\n",
    "print(a.strip())"
   ]
  },
  {
   "cell_type": "markdown",
   "id": "06ae0d23-d48e-44a7-a49c-ebd9a8146e05",
   "metadata": {},
   "source": [
    "## replace string and split string"
   ]
  },
  {
   "cell_type": "code",
   "execution_count": 47,
   "id": "45d8c44d-8dd6-4ffc-8fd5-d758622f68b9",
   "metadata": {},
   "outputs": [
    {
     "name": "stdout",
     "output_type": "stream",
     "text": [
      "Bsc Statistics\n"
     ]
    }
   ],
   "source": [
    "#The replace() method replaces a string with another string:\n",
    "a=\"Msc Statistics\"\n",
    "print(a.replace(\"Msc\",\"Bsc\"))"
   ]
  },
  {
   "cell_type": "code",
   "execution_count": 23,
   "id": "eb289b56-a1fa-4bc5-af47-be75a72700e2",
   "metadata": {},
   "outputs": [
    {
     "name": "stdout",
     "output_type": "stream",
     "text": [
      "['divyade', 'swal', 'ad']\n"
     ]
    }
   ],
   "source": [
    "#The split() method returns a list where the text between the specified separator becomes the list items.\n",
    "d=\"divyade:swal:ad\"\n",
    "print(d.split(\":\"))"
   ]
  },
  {
   "cell_type": "markdown",
   "id": "b86a82cc-83d9-455e-bdb9-0ba8f4fd4974",
   "metadata": {},
   "source": [
    "## string concatenation"
   ]
  },
  {
   "cell_type": "code",
   "execution_count": 57,
   "id": "6daf06f5-9c5f-43d2-b460-7cbf160ba369",
   "metadata": {},
   "outputs": [
    {
     "data": {
      "text/plain": [
       "'Divya I am a student of Msc Statistics'"
      ]
     },
     "execution_count": 57,
     "metadata": {},
     "output_type": "execute_result"
    }
   ],
   "source": [
    "#To concatenate, or combine, two strings you can use the + operator.\n",
    "a=\"Divya\"\n",
    "b=\" I am a student\"\n",
    "c=\" of Msc Statistics\"\n",
    "d=a+b+c\n",
    "d\n"
   ]
  },
  {
   "cell_type": "code",
   "execution_count": 59,
   "id": "048e5fcd-4076-4424-a706-8ad20682d44f",
   "metadata": {},
   "outputs": [
    {
     "data": {
      "text/plain": [
       "'Divya, I am a student, of Msc Statistics'"
      ]
     },
     "execution_count": 59,
     "metadata": {},
     "output_type": "execute_result"
    }
   ],
   "source": [
    "a=\"Divya\"\n",
    "b=\" I am a student\"\n",
    "c=\" of Msc Statistics\"\n",
    "d=a+\",\"+b+\",\"+c\n",
    "d"
   ]
  },
  {
   "cell_type": "markdown",
   "id": "ed18da3b-7fca-449e-84cd-6b9de222a6ea",
   "metadata": {},
   "source": [
    "# string format"
   ]
  },
  {
   "cell_type": "code",
   "execution_count": 26,
   "id": "0345d5a2-6f2b-4884-bb77-a5178f2d4be1",
   "metadata": {},
   "outputs": [
    {
     "name": "stdout",
     "output_type": "stream",
     "text": [
      "my name is divya\n"
     ]
    }
   ],
   "source": [
    "a=\"divya\"\n",
    "txt=f\"my name is {a}\"\n",
    "print(txt)"
   ]
  },
  {
   "cell_type": "markdown",
   "id": "bc5943f2-4554-4303-94f9-8a09687304ef",
   "metadata": {},
   "source": [
    "## f string"
   ]
  },
  {
   "cell_type": "code",
   "execution_count": 29,
   "id": "5045920d-8e07-4f2d-b1c0-8eb1a056cb99",
   "metadata": {},
   "outputs": [
    {
     "name": "stdout",
     "output_type": "stream",
     "text": [
      "my name is divya and i am 21 old\n"
     ]
    }
   ],
   "source": [
    "# to specify a string as an f-string, simply put an f in front of the string literal, and add curly brackets {} as placeholders\n",
    "#for variables and other operations.\n",
    "a=\"divya\"\n",
    "b=21\n",
    "txt=f'my name is {a} and i am {b} old'\n",
    "print(txt)"
   ]
  },
  {
   "cell_type": "code",
   "execution_count": 30,
   "id": "ac405cb7-5ab3-4b1a-88f5-498a76fca5ff",
   "metadata": {},
   "outputs": [
    {
     "name": "stdout",
     "output_type": "stream",
     "text": [
      "12\n"
     ]
    }
   ],
   "source": [
    "txt=f\"{3*4}\"\n",
    "print(txt)"
   ]
  },
  {
   "cell_type": "code",
   "execution_count": 33,
   "id": "d716e64f-db5b-491f-b5db-5fadfc360a70",
   "metadata": {},
   "outputs": [
    {
     "name": "stdout",
     "output_type": "stream",
     "text": [
      "my name is divya and i am 21.0 old\n"
     ]
    }
   ],
   "source": [
    "a=\"Divya\"\n",
    "b=21\n",
    "txt=f'my name is {a.lower()} and i am {float(b)} old'\n",
    "print(txt)"
   ]
  },
  {
   "cell_type": "markdown",
   "id": "c8496a76-12ba-4706-9217-b1d0cd6bf559",
   "metadata": {},
   "source": [
    "## placeholders and modifiers"
   ]
  },
  {
   "cell_type": "code",
   "execution_count": 37,
   "id": "626a9d99-c9ef-4657-a588-d1aa94d4a011",
   "metadata": {},
   "outputs": [
    {
     "name": "stdout",
     "output_type": "stream",
     "text": [
      "my name is divya and i am 21.2000 old\n"
     ]
    }
   ],
   "source": [
    "a=\"divya\"\n",
    "b=21.2\n",
    "txt=f'my name is {a} and i am {b:.4f} old'\n",
    "print(txt)"
   ]
  },
  {
   "cell_type": "code",
   "execution_count": 20,
   "id": "5a0dd155-4017-4ef0-be36-9d558fa26842",
   "metadata": {},
   "outputs": [
    {
     "name": "stdout",
     "output_type": "stream",
     "text": [
      "value is 1288\n"
     ]
    }
   ],
   "source": [
    "txt=f'value is {23*56}'\n",
    "print(txt)"
   ]
  },
  {
   "cell_type": "markdown",
   "id": "e57e9c9a-d647-43bc-a1fb-325ff9116a75",
   "metadata": {},
   "source": [
    "# string methods"
   ]
  },
  {
   "cell_type": "code",
   "execution_count": 22,
   "id": "6aaed8dd-a2e1-49ed-8c2c-11892b95e056",
   "metadata": {},
   "outputs": [
    {
     "name": "stdout",
     "output_type": "stream",
     "text": [
      "I am from rohtak.\n"
     ]
    }
   ],
   "source": [
    "#Upper case the first letter in this sentence:\n",
    "txt = \"i am from rohtak.\"\n",
    "x = txt.capitalize()\n",
    "print (x)"
   ]
  },
  {
   "cell_type": "code",
   "execution_count": 23,
   "id": "77d55509-ec1f-4872-98be-1a45d950f075",
   "metadata": {},
   "outputs": [
    {
     "name": "stdout",
     "output_type": "stream",
     "text": [
      "5 is my lucky number .\n"
     ]
    }
   ],
   "source": [
    "txt = \"5 is my lucky number .\"\n",
    "x = txt.capitalize()\n",
    "print (x)"
   ]
  },
  {
   "cell_type": "code",
   "execution_count": 25,
   "id": "c6918a82-b542-4702-b2de-c2095d989042",
   "metadata": {},
   "outputs": [
    {
     "name": "stdout",
     "output_type": "stream",
     "text": [
      "                             divya deswal                             \n"
     ]
    }
   ],
   "source": [
    "txt = \"divya deswal\"\n",
    "x = txt.center(70)\n",
    "print(x)"
   ]
  },
  {
   "cell_type": "code",
   "execution_count": 3,
   "id": "f30c5e8e-577a-4536-b3d8-bff85251de22",
   "metadata": {},
   "outputs": [
    {
     "name": "stdout",
     "output_type": "stream",
     "text": [
      "b'I am a Student.'\n"
     ]
    }
   ],
   "source": [
    "txt = \"I am a Student.\"\n",
    "print(txt.encode())\n"
   ]
  },
  {
   "cell_type": "code",
   "execution_count": 31,
   "id": "d5695e1f-ce4d-4b8f-8b34-c30bacd27bee",
   "metadata": {},
   "outputs": [
    {
     "name": "stdout",
     "output_type": "stream",
     "text": [
      "7\n"
     ]
    }
   ],
   "source": [
    "txt = \"I am a Student.\"\n",
    "x = txt.find(\"Student\")\n",
    "print(x)"
   ]
  },
  {
   "cell_type": "code",
   "execution_count": 3,
   "id": "7b0601f4-d7ab-4b21-8f92-a1390124661a",
   "metadata": {},
   "outputs": [
    {
     "name": "stdout",
     "output_type": "stream",
     "text": [
      "True\n"
     ]
    }
   ],
   "source": [
    "txt = \"I am a Student.\"\n",
    "x = txt.endswith(\".\")\n",
    "print(x)"
   ]
  },
  {
   "cell_type": "code",
   "execution_count": 4,
   "id": "25bb495c-f885-4786-b630-5e927dcf5aef",
   "metadata": {},
   "outputs": [
    {
     "name": "stdout",
     "output_type": "stream",
     "text": [
      "7\n"
     ]
    }
   ],
   "source": [
    "txt = \"I am a Student.\"\n",
    "x = txt.index(\"Student\")\n",
    "print(x)"
   ]
  },
  {
   "cell_type": "code",
   "execution_count": 5,
   "id": "b8f80a58-606b-4e91-8526-59e5b34bfd85",
   "metadata": {},
   "outputs": [
    {
     "name": "stdout",
     "output_type": "stream",
     "text": [
      "False\n"
     ]
    }
   ],
   "source": [
    "txt = \"student 6\"\n",
    "x = txt.isalpha()\n",
    "print(x)"
   ]
  },
  {
   "cell_type": "code",
   "execution_count": 7,
   "id": "2707c659-ccd6-4808-903c-6231f1a5e576",
   "metadata": {},
   "outputs": [
    {
     "name": "stdout",
     "output_type": "stream",
     "text": [
      "False\n"
     ]
    }
   ],
   "source": [
    "txt = \"welcome to my world.\"\n",
    "x = txt.startswith(\"Hello\")\n",
    "print(x)"
   ]
  },
  {
   "cell_type": "code",
   "execution_count": 6,
   "id": "755f162f-eaf8-4e63-81ef-f03514ff489e",
   "metadata": {},
   "outputs": [
    {
     "name": "stdout",
     "output_type": "stream",
     "text": [
      "True\n"
     ]
    }
   ],
   "source": [
    "txt = \"Student 123\"\n",
    "x = txt.isascii()\n",
    "print(x)"
   ]
  },
  {
   "cell_type": "code",
   "execution_count": 8,
   "id": "d7ffd724-a28d-4f0b-8725-edb1929e7cf0",
   "metadata": {},
   "outputs": [
    {
     "name": "stdout",
     "output_type": "stream",
     "text": [
      "('I could eat bananas all day, ', 'bananas', ' are my favorite fruit')\n"
     ]
    }
   ],
   "source": [
    "txt = \"I could eat bananas all day, bananas are my favorite fruit\"\n",
    "x = txt.rpartition(\"bananas\")\n",
    "print(x)"
   ]
  },
  {
   "cell_type": "code",
   "execution_count": 42,
   "id": "477a6d7b-3989-4302-83da-036675c7f834",
   "metadata": {},
   "outputs": [
    {
     "name": "stdout",
     "output_type": "stream",
     "text": [
      "True\n"
     ]
    }
   ],
   "source": [
    "a='1234'\n",
    "print(a.isalnum())"
   ]
  },
  {
   "cell_type": "code",
   "execution_count": 49,
   "id": "71e1a776-cece-4196-b4c7-3cf76b700f43",
   "metadata": {},
   "outputs": [
    {
     "name": "stdout",
     "output_type": "stream",
     "text": [
      "webmok \"rohtak\" data science\n"
     ]
    }
   ],
   "source": [
    "a=\"webmok \\\"rohtak\\\" data science\"\n",
    "print(a)"
   ]
  },
  {
   "cell_type": "markdown",
   "id": "a1139206-c950-43ba-976b-afd87c0aa9af",
   "metadata": {},
   "source": [
    "# type function"
   ]
  },
  {
   "cell_type": "code",
   "execution_count": 1,
   "id": "b3906eb0-5332-4291-8e04-aa05b8bf1d76",
   "metadata": {},
   "outputs": [
    {
     "name": "stdout",
     "output_type": "stream",
     "text": [
      "<class 'int'>\n",
      "<class 'float'>\n",
      "<class 'complex'>\n"
     ]
    }
   ],
   "source": [
    "x=6     #int\n",
    "y=67.89 #float\n",
    "z=5+2j  #complex\n",
    "print(type(x))\n",
    "print(type(y))\n",
    "print(type(z))"
   ]
  },
  {
   "cell_type": "markdown",
   "id": "9c13f58c-6d66-4096-8ff8-672bfcfe550e",
   "metadata": {},
   "source": [
    "## int"
   ]
  },
  {
   "cell_type": "code",
   "execution_count": 2,
   "id": "f9b8764b-cc9c-4e85-ba65-45e727f3218d",
   "metadata": {},
   "outputs": [
    {
     "name": "stdout",
     "output_type": "stream",
     "text": [
      "<class 'int'>\n",
      "<class 'int'>\n",
      "<class 'int'>\n"
     ]
    }
   ],
   "source": [
    "#Int, or integer, is a whole number, positive or negative, without decimals, of unlimited length.\n",
    "x = 9\n",
    "y = 5667899\n",
    "z = -678\n",
    "print(type(x))\n",
    "print(type(y))\n",
    "print(type(z))"
   ]
  },
  {
   "cell_type": "markdown",
   "id": "ea5ff3a4-3b8a-4c89-ad4c-39e72bc591eb",
   "metadata": {},
   "source": [
    "## float"
   ]
  },
  {
   "cell_type": "code",
   "execution_count": 3,
   "id": "29bbb289-8f06-4bde-b6ab-92a0901e870d",
   "metadata": {},
   "outputs": [
    {
     "name": "stdout",
     "output_type": "stream",
     "text": [
      "<class 'float'>\n",
      "<class 'float'>\n",
      "<class 'float'>\n"
     ]
    }
   ],
   "source": [
    "#Float, or \"floating point number\" is a number, positive or negative, containing one or more decimals.\n",
    "x = 9.10\n",
    "y = 78.0\n",
    "z = -45.345\n",
    "print(type(x))\n",
    "print(type(y))\n",
    "print(type(z))"
   ]
  },
  {
   "cell_type": "code",
   "execution_count": 4,
   "id": "49b9eb6d-46c4-4386-9b87-3c827d5ef6ac",
   "metadata": {},
   "outputs": [
    {
     "name": "stdout",
     "output_type": "stream",
     "text": [
      "<class 'float'>\n",
      "<class 'float'>\n",
      "<class 'float'>\n"
     ]
    }
   ],
   "source": [
    "#Float can also be scientific numbers with an \"e\" to indicate the power of 10.\n",
    "x = 35e3\n",
    "y = 12E4\n",
    "z = -87.7e100\n",
    "print(type(x))\n",
    "print(type(y))\n",
    "print(type(z))"
   ]
  },
  {
   "cell_type": "code",
   "execution_count": 5,
   "id": "f7a73d58-e081-4ded-a521-88ce0874e015",
   "metadata": {},
   "outputs": [
    {
     "data": {
      "text/plain": [
       "35000.0"
      ]
     },
     "execution_count": 5,
     "metadata": {},
     "output_type": "execute_result"
    }
   ],
   "source": [
    "x = 35e3\n",
    "x"
   ]
  },
  {
   "cell_type": "markdown",
   "id": "4b42dcf8-5bdc-40e5-9b13-87e2d6061a30",
   "metadata": {},
   "source": [
    "## complex"
   ]
  },
  {
   "cell_type": "code",
   "execution_count": 6,
   "id": "4d9b984b-4294-4877-a15d-d5c4ea1b8f45",
   "metadata": {},
   "outputs": [
    {
     "name": "stdout",
     "output_type": "stream",
     "text": [
      "<class 'complex'>\n",
      "<class 'complex'>\n",
      "<class 'complex'>\n"
     ]
    }
   ],
   "source": [
    "#Complex numbers are written with a \"j\" as the imaginary part:\n",
    "x = 7+0j\n",
    "y = 9j\n",
    "z = 5-2j\n",
    "print(type(x))\n",
    "print(type(y))\n",
    "print(type(z))"
   ]
  },
  {
   "cell_type": "markdown",
   "id": "41494665-2ae5-491d-ace2-af9fd7646a87",
   "metadata": {},
   "source": [
    "# type conversion"
   ]
  },
  {
   "cell_type": "code",
   "execution_count": 12,
   "id": "b79d5744-83ae-4e5c-bce0-ccbcafa207b2",
   "metadata": {},
   "outputs": [
    {
     "name": "stdout",
     "output_type": "stream",
     "text": [
      "56.0\n",
      "<class 'float'>\n"
     ]
    }
   ],
   "source": [
    "#You can convert from one type to another with the int(), float(), and complex() methods:\n",
    "x = 56    # int\n",
    "#convert from int to float:\n",
    "a = float(x)\n",
    "print(a)\n",
    "print(type(a))"
   ]
  },
  {
   "cell_type": "code",
   "execution_count": 13,
   "id": "4efd15d2-6990-4177-84b8-80865111a6f1",
   "metadata": {},
   "outputs": [
    {
     "name": "stdout",
     "output_type": "stream",
     "text": [
      "24\n",
      "<class 'int'>\n"
     ]
    }
   ],
   "source": [
    "y = 24.08  # float\n",
    "#convert from float to int:\n",
    "b = int(y)\n",
    "print(b)\n",
    "print(type(b))"
   ]
  },
  {
   "cell_type": "code",
   "execution_count": 18,
   "id": "e12e1a2c-4593-4f41-8016-fbd064108b21",
   "metadata": {},
   "outputs": [
    {
     "name": "stdout",
     "output_type": "stream",
     "text": [
      "(6+0j)\n",
      "<class 'complex'>\n"
     ]
    }
   ],
   "source": [
    "z = 6   # int\n",
    "#convert from int to complex:\n",
    "c = complex(z)\n",
    "print(c)\n",
    "print(type(c))"
   ]
  },
  {
   "cell_type": "markdown",
   "id": "5bcbe58a-f562-4f3d-8e04-0c13d2ab0836",
   "metadata": {},
   "source": [
    "# operators"
   ]
  },
  {
   "cell_type": "code",
   "execution_count": 2,
   "id": "3e7301ca-c6cb-457d-9595-514abdfeda16",
   "metadata": {},
   "outputs": [],
   "source": [
    "#Operators are used to perform operations on variables and values."
   ]
  },
  {
   "cell_type": "markdown",
   "id": "2837d25b-17bf-42f2-9aa3-3ad9ce748174",
   "metadata": {},
   "source": [
    "## arithmetic operators"
   ]
  },
  {
   "cell_type": "code",
   "execution_count": 3,
   "id": "771e2dc0-8d51-4983-8d2f-58cb9923b2d3",
   "metadata": {},
   "outputs": [
    {
     "name": "stdout",
     "output_type": "stream",
     "text": [
      "84\n"
     ]
    }
   ],
   "source": [
    "#Arithmetic operators are used with numeric values to perform common mathematical operations:\n",
    "x = 53\n",
    "y = 31\n",
    "print(x + y)"
   ]
  },
  {
   "cell_type": "code",
   "execution_count": 5,
   "id": "186e8cd2-4a9f-4257-a52e-181cfe289c43",
   "metadata": {},
   "outputs": [
    {
     "name": "stdout",
     "output_type": "stream",
     "text": [
      "the number is 84\n"
     ]
    }
   ],
   "source": [
    "x = 53\n",
    "y = 31\n",
    "print(f\"the number is {x + y}\")\n"
   ]
  },
  {
   "cell_type": "code",
   "execution_count": 6,
   "id": "91c8ef51-97ba-41fc-8377-82a7771468b1",
   "metadata": {},
   "outputs": [
    {
     "name": "stdout",
     "output_type": "stream",
     "text": [
      "22\n"
     ]
    }
   ],
   "source": [
    "x = 53\n",
    "y = 31\n",
    "print(x - y)"
   ]
  },
  {
   "cell_type": "code",
   "execution_count": 7,
   "id": "4cd22d23-48b9-4f8f-aa98-c3506c39ff6a",
   "metadata": {},
   "outputs": [
    {
     "name": "stdout",
     "output_type": "stream",
     "text": [
      "1643\n"
     ]
    }
   ],
   "source": [
    "x = 53\n",
    "y = 31\n",
    "print(x * y)"
   ]
  },
  {
   "cell_type": "code",
   "execution_count": 8,
   "id": "ca91a1e6-da26-4180-ace0-93241ca3c630",
   "metadata": {},
   "outputs": [
    {
     "name": "stdout",
     "output_type": "stream",
     "text": [
      "1.7096774193548387\n"
     ]
    }
   ],
   "source": [
    "x = 53\n",
    "y = 31\n",
    "print(x / y)"
   ]
  },
  {
   "cell_type": "code",
   "execution_count": 9,
   "id": "0634d070-bd06-4c0d-be3f-6a0329d54582",
   "metadata": {},
   "outputs": [
    {
     "name": "stdout",
     "output_type": "stream",
     "text": [
      "22\n"
     ]
    }
   ],
   "source": [
    "x = 53\n",
    "y = 31\n",
    "print(x % y)"
   ]
  },
  {
   "cell_type": "code",
   "execution_count": 10,
   "id": "56eb850e-2aa0-472f-a7c2-e81b62be8987",
   "metadata": {},
   "outputs": [
    {
     "name": "stdout",
     "output_type": "stream",
     "text": [
      "1\n"
     ]
    }
   ],
   "source": [
    "x = 53\n",
    "y = 31\n",
    "print(x // y)"
   ]
  },
  {
   "cell_type": "code",
   "execution_count": 12,
   "id": "92c9c68a-d9dd-4973-a546-0ee95ebae1c1",
   "metadata": {},
   "outputs": [
    {
     "name": "stdout",
     "output_type": "stream",
     "text": [
      "9\n"
     ]
    }
   ],
   "source": [
    "x = 3\n",
    "y = 2\n",
    "print(x ** y)"
   ]
  },
  {
   "cell_type": "markdown",
   "id": "39da6ee0-b695-4cbb-b514-4c867d51a910",
   "metadata": {},
   "source": [
    "## assignment operator"
   ]
  },
  {
   "cell_type": "code",
   "execution_count": 3,
   "id": "3d5a83f3-12d9-4e89-82ec-1ffe214c0459",
   "metadata": {},
   "outputs": [
    {
     "name": "stdout",
     "output_type": "stream",
     "text": [
      "5\n"
     ]
    }
   ],
   "source": [
    "x = 5\n",
    "print(x)"
   ]
  },
  {
   "cell_type": "code",
   "execution_count": 5,
   "id": "5d50349b-831c-4871-a4ee-f349957a82d8",
   "metadata": {},
   "outputs": [
    {
     "name": "stdout",
     "output_type": "stream",
     "text": [
      "18\n"
     ]
    }
   ],
   "source": [
    "x = 15\n",
    "x += 3\n",
    "print(x)"
   ]
  },
  {
   "cell_type": "code",
   "execution_count": 6,
   "id": "1b66e75c-d613-4447-9e08-015b9502ad43",
   "metadata": {},
   "outputs": [
    {
     "name": "stdout",
     "output_type": "stream",
     "text": [
      "12\n"
     ]
    }
   ],
   "source": [
    "x = 15\n",
    "x -= 3\n",
    "print(x)"
   ]
  },
  {
   "cell_type": "code",
   "execution_count": 7,
   "id": "75d5db56-839b-4803-aa79-ae907a649e9b",
   "metadata": {},
   "outputs": [
    {
     "name": "stdout",
     "output_type": "stream",
     "text": [
      "45\n"
     ]
    }
   ],
   "source": [
    "x = 15\n",
    "x *= 3\n",
    "print(x)"
   ]
  },
  {
   "cell_type": "code",
   "execution_count": 8,
   "id": "921a5699-8f7d-4dc8-800e-a641d9d30f4f",
   "metadata": {},
   "outputs": [
    {
     "name": "stdout",
     "output_type": "stream",
     "text": [
      "5.0\n"
     ]
    }
   ],
   "source": [
    "x = 15\n",
    "x /= 3\n",
    "print(x)"
   ]
  },
  {
   "cell_type": "code",
   "execution_count": 9,
   "id": "3dcd2601-a48e-4532-a487-d00941bf3372",
   "metadata": {},
   "outputs": [
    {
     "name": "stdout",
     "output_type": "stream",
     "text": [
      "5\n"
     ]
    }
   ],
   "source": [
    "x = 15\n",
    "x //= 3\n",
    "print(x)"
   ]
  },
  {
   "cell_type": "code",
   "execution_count": 10,
   "id": "8e4df8f8-b9ba-47c1-bdf2-bb3fa951d352",
   "metadata": {},
   "outputs": [
    {
     "name": "stdout",
     "output_type": "stream",
     "text": [
      "0\n"
     ]
    }
   ],
   "source": [
    "x = 15\n",
    "x %= 3\n",
    "print(x)"
   ]
  },
  {
   "cell_type": "code",
   "execution_count": 11,
   "id": "4d6ceb1d-a766-40d4-9887-a46dfe567cf9",
   "metadata": {},
   "outputs": [
    {
     "name": "stdout",
     "output_type": "stream",
     "text": [
      "3375\n"
     ]
    }
   ],
   "source": [
    "x = 15\n",
    "x **= 3\n",
    "print(x)"
   ]
  },
  {
   "cell_type": "markdown",
   "id": "9ad85803-0020-420d-ae20-5578e2f380cd",
   "metadata": {},
   "source": [
    "## comparison operator"
   ]
  },
  {
   "cell_type": "code",
   "execution_count": 12,
   "id": "d43eab29-4485-4d88-a4fc-534566735d1a",
   "metadata": {},
   "outputs": [
    {
     "name": "stdout",
     "output_type": "stream",
     "text": [
      "False\n"
     ]
    }
   ],
   "source": [
    "x = 20\n",
    "y = 15\n",
    "print(x == y)"
   ]
  },
  {
   "cell_type": "code",
   "execution_count": 13,
   "id": "54702ed9-3a54-47ad-97b6-743e2d2dd1b6",
   "metadata": {},
   "outputs": [
    {
     "name": "stdout",
     "output_type": "stream",
     "text": [
      "True\n"
     ]
    }
   ],
   "source": [
    "x = 20\n",
    "y = 15\n",
    "print(x > y)"
   ]
  },
  {
   "cell_type": "code",
   "execution_count": 14,
   "id": "6c0bb6ac-5111-4038-a90c-f337b6146d32",
   "metadata": {},
   "outputs": [
    {
     "name": "stdout",
     "output_type": "stream",
     "text": [
      "False\n"
     ]
    }
   ],
   "source": [
    "x = 20\n",
    "y = 15\n",
    "print(x < y)"
   ]
  },
  {
   "cell_type": "code",
   "execution_count": 15,
   "id": "34665717-0099-4537-8b6a-fe2e83d5801f",
   "metadata": {},
   "outputs": [
    {
     "name": "stdout",
     "output_type": "stream",
     "text": [
      "True\n"
     ]
    }
   ],
   "source": [
    "x = 20\n",
    "y = 15\n",
    "print(x != y)"
   ]
  },
  {
   "cell_type": "code",
   "execution_count": 16,
   "id": "ee855dfb-dbbe-4fbe-9eba-c8da6a92708e",
   "metadata": {},
   "outputs": [
    {
     "name": "stdout",
     "output_type": "stream",
     "text": [
      "True\n"
     ]
    }
   ],
   "source": [
    "x = 20\n",
    "y = 15\n",
    "print(x >= y)"
   ]
  },
  {
   "cell_type": "code",
   "execution_count": 17,
   "id": "824f5188-ab49-42c3-b850-e3902a0e576c",
   "metadata": {},
   "outputs": [
    {
     "name": "stdout",
     "output_type": "stream",
     "text": [
      "False\n"
     ]
    }
   ],
   "source": [
    "x = 20\n",
    "y = 15\n",
    "print(x <= y)"
   ]
  },
  {
   "cell_type": "markdown",
   "id": "52c82463-49ea-4547-8fb8-fdeb0709603f",
   "metadata": {},
   "source": [
    "## logical operator"
   ]
  },
  {
   "cell_type": "code",
   "execution_count": 19,
   "id": "273e5177-be9f-4125-91c3-43ebaf1bad2b",
   "metadata": {},
   "outputs": [
    {
     "name": "stdout",
     "output_type": "stream",
     "text": [
      "True\n"
     ]
    }
   ],
   "source": [
    "x = 25\n",
    "print(x > 6 and x < 30)"
   ]
  },
  {
   "cell_type": "code",
   "execution_count": 20,
   "id": "43f97330-0cb5-426e-9418-5cda19e33ae9",
   "metadata": {},
   "outputs": [
    {
     "name": "stdout",
     "output_type": "stream",
     "text": [
      "False\n"
     ]
    }
   ],
   "source": [
    "x = 25\n",
    "print(x > 6 and x < 10)"
   ]
  },
  {
   "cell_type": "code",
   "execution_count": 21,
   "id": "9019633a-044a-456d-bac7-32d75fc6d5e1",
   "metadata": {},
   "outputs": [
    {
     "name": "stdout",
     "output_type": "stream",
     "text": [
      "True\n"
     ]
    }
   ],
   "source": [
    "x = 25\n",
    "print(x > 6 or x < 30)"
   ]
  },
  {
   "cell_type": "code",
   "execution_count": 22,
   "id": "ff04da17-5d5b-4827-b728-c110012d3869",
   "metadata": {},
   "outputs": [
    {
     "name": "stdout",
     "output_type": "stream",
     "text": [
      "True\n"
     ]
    }
   ],
   "source": [
    "x = 25\n",
    "print(x > 6 or x < 10)"
   ]
  },
  {
   "cell_type": "code",
   "execution_count": 23,
   "id": "997659f7-2edb-4b1c-b366-d109a0a71311",
   "metadata": {},
   "outputs": [
    {
     "name": "stdout",
     "output_type": "stream",
     "text": [
      "False\n"
     ]
    }
   ],
   "source": [
    "x = 25\n",
    "print(not(x > 6 and x < 30))"
   ]
  },
  {
   "cell_type": "markdown",
   "id": "923559f0-4140-44a9-bce7-b13fb316c07d",
   "metadata": {},
   "source": [
    "## identity operator"
   ]
  },
  {
   "cell_type": "code",
   "execution_count": 31,
   "id": "561d1b69-99c2-4a73-801c-9ab3b89f08d5",
   "metadata": {},
   "outputs": [
    {
     "name": "stdout",
     "output_type": "stream",
     "text": [
      "True\n",
      "False\n",
      "False\n"
     ]
    }
   ],
   "source": [
    "x = [13, 45]\n",
    "y = [\"divya\", \"deswal\"]\n",
    "z = y\n",
    "print(y is z)\n",
    "print(x is y)\n",
    "print(x == y)"
   ]
  },
  {
   "cell_type": "code",
   "execution_count": 32,
   "id": "3400fad0-dde1-4345-8a4b-d3368381bc39",
   "metadata": {},
   "outputs": [
    {
     "name": "stdout",
     "output_type": "stream",
     "text": [
      "False\n",
      "True\n",
      "True\n"
     ]
    }
   ],
   "source": [
    "x = [13, 45]\n",
    "y = [\"divya\", \"deswal\"]\n",
    "z = y\n",
    "print(y is not z)\n",
    "print(x is not y)\n",
    "print(x != y)"
   ]
  },
  {
   "cell_type": "markdown",
   "id": "4223ea62-b239-4132-8b80-dc380ad67500",
   "metadata": {},
   "source": [
    "## membership operator"
   ]
  },
  {
   "cell_type": "code",
   "execution_count": 33,
   "id": "cbd488f9-0cbc-4af9-bee0-be6da0142df9",
   "metadata": {},
   "outputs": [
    {
     "name": "stdout",
     "output_type": "stream",
     "text": [
      "True\n"
     ]
    }
   ],
   "source": [
    "x = [\"divya\", \"deswal\"]\n",
    "print(\"divya\" in x)"
   ]
  },
  {
   "cell_type": "code",
   "execution_count": 35,
   "id": "515f3c69-3bb9-4a87-8460-4e00cde0921c",
   "metadata": {},
   "outputs": [
    {
     "name": "stdout",
     "output_type": "stream",
     "text": [
      "False\n"
     ]
    }
   ],
   "source": [
    "x = [\"divya\", \"deswal\"]\n",
    "print(\"divu\" in x)"
   ]
  },
  {
   "cell_type": "code",
   "execution_count": 37,
   "id": "a394e108-53b5-47f5-8c7c-9ee655b84741",
   "metadata": {},
   "outputs": [
    {
     "name": "stdout",
     "output_type": "stream",
     "text": [
      "False\n"
     ]
    }
   ],
   "source": [
    "x = [\"divya\", \"deswal\"]\n",
    "print(\"divya\" not in x)"
   ]
  },
  {
   "cell_type": "code",
   "execution_count": 38,
   "id": "411e477f-53df-42b7-8668-f63ecb5a191c",
   "metadata": {},
   "outputs": [
    {
     "name": "stdout",
     "output_type": "stream",
     "text": [
      "True\n"
     ]
    }
   ],
   "source": [
    "x = [\"divya\", \"deswal\"]\n",
    "print(\"dia\" not in x)"
   ]
  },
  {
   "cell_type": "markdown",
   "id": "5a6c769a-8766-49a6-bf2c-39e85f7f6eb1",
   "metadata": {},
   "source": [
    "# list"
   ]
  },
  {
   "cell_type": "code",
   "execution_count": 1,
   "id": "3f4f708e-227e-4aa4-ad4f-c116e0c64775",
   "metadata": {},
   "outputs": [
    {
     "name": "stdout",
     "output_type": "stream",
     "text": [
      "['fruit', 'veg', 'toy']\n"
     ]
    }
   ],
   "source": [
    "#List items are ordered, changeable, and allow duplicate values.\n",
    "x = [\"fruit\", \"veg\", \"toy\"]\n",
    "print(x)"
   ]
  },
  {
   "cell_type": "code",
   "execution_count": 2,
   "id": "b0e43bfc-2ba8-4cc7-9cba-b280cc084dee",
   "metadata": {},
   "outputs": [
    {
     "name": "stdout",
     "output_type": "stream",
     "text": [
      "['fruit', 'veg', 'toy', 'fruit', 'veg', 'toy']\n"
     ]
    }
   ],
   "source": [
    "#Allow duplicates\n",
    "x = [\"fruit\", \"veg\", \"toy\",\"fruit\", \"veg\", \"toy\"]\n",
    "print(x)"
   ]
  },
  {
   "cell_type": "code",
   "execution_count": 3,
   "id": "6f3897e0-f6fd-4873-b6d6-4fa285eda6fb",
   "metadata": {},
   "outputs": [
    {
     "name": "stdout",
     "output_type": "stream",
     "text": [
      "3\n"
     ]
    }
   ],
   "source": [
    "x = [\"fruit\", \"veg\", \"toy\"]\n",
    "print(len(x))"
   ]
  },
  {
   "cell_type": "code",
   "execution_count": 5,
   "id": "4d6c63c6-b8b0-404c-8fcc-e0be6675c978",
   "metadata": {},
   "outputs": [
    {
     "name": "stdout",
     "output_type": "stream",
     "text": [
      "<class 'list'>\n"
     ]
    }
   ],
   "source": [
    "x = [\"fruit\", \"veg\", \"toy\"]\n",
    "print(type(x))"
   ]
  },
  {
   "cell_type": "markdown",
   "id": "c5e0cc31-354a-4bd0-b68c-57cb30a9a4de",
   "metadata": {},
   "source": [
    "## access list"
   ]
  },
  {
   "cell_type": "code",
   "execution_count": 6,
   "id": "238195e8-3d07-4ed7-ad91-f38ce3b2d167",
   "metadata": {},
   "outputs": [
    {
     "name": "stdout",
     "output_type": "stream",
     "text": [
      "fruit\n"
     ]
    }
   ],
   "source": [
    "x = [\"fruit\", \"veg\", \"toy\"]\n",
    "print(x[0])"
   ]
  },
  {
   "cell_type": "code",
   "execution_count": 7,
   "id": "4e19b7ea-a321-49c9-9e13-946a299fd20f",
   "metadata": {},
   "outputs": [
    {
     "name": "stdout",
     "output_type": "stream",
     "text": [
      "toy\n"
     ]
    }
   ],
   "source": [
    "x = [\"fruit\", \"veg\", \"toy\"]\n",
    "print(x[2])"
   ]
  },
  {
   "cell_type": "code",
   "execution_count": 8,
   "id": "23f616ed-4644-4f4b-92aa-fce36f037073",
   "metadata": {},
   "outputs": [
    {
     "name": "stdout",
     "output_type": "stream",
     "text": [
      "['cherry', 'orange', 'kiwi']\n"
     ]
    }
   ],
   "source": [
    "x = [\"apple\", \"banana\", \"cherry\", \"orange\", \"kiwi\", \"melon\", \"mango\"]\n",
    "print(x[2:5])"
   ]
  },
  {
   "cell_type": "code",
   "execution_count": 11,
   "id": "84870649-caaf-44dc-a059-ee899ca962fe",
   "metadata": {},
   "outputs": [
    {
     "name": "stdout",
     "output_type": "stream",
     "text": [
      "['cherry', 'orange', 'kiwi', 'melon']\n"
     ]
    }
   ],
   "source": [
    "x = [\"apple\", \"banana\", \"cherry\", \"orange\", \"kiwi\", \"melon\", \"mango\"]\n",
    "print(x[-5:-1])"
   ]
  },
  {
   "cell_type": "code",
   "execution_count": 12,
   "id": "b62b2f5a-0bda-4d50-adaf-24271dc3c3f7",
   "metadata": {},
   "outputs": [
    {
     "name": "stdout",
     "output_type": "stream",
     "text": [
      "['cherry', 'orange', 'kiwi', 'melon', 'mango']\n"
     ]
    }
   ],
   "source": [
    "x = [\"apple\", \"banana\", \"cherry\", \"orange\", \"kiwi\", \"melon\", \"mango\"]\n",
    "print(x[2:])"
   ]
  },
  {
   "cell_type": "code",
   "execution_count": 13,
   "id": "ea3130fc-0845-4db7-a83e-c78ee26f60f0",
   "metadata": {},
   "outputs": [
    {
     "name": "stdout",
     "output_type": "stream",
     "text": [
      "['apple', 'banana', 'cherry', 'orange', 'kiwi']\n"
     ]
    }
   ],
   "source": [
    "x = [\"apple\", \"banana\", \"cherry\", \"orange\", \"kiwi\", \"melon\", \"mango\"]\n",
    "print(x[:5])"
   ]
  },
  {
   "cell_type": "code",
   "execution_count": 15,
   "id": "cf8950a0-3387-4973-9eb6-fee1d0f9c5d7",
   "metadata": {},
   "outputs": [
    {
     "name": "stdout",
     "output_type": "stream",
     "text": [
      "['apple', 'banana', 'cherry', 'orange', 'kiwi', 'melon', 'mango']\n"
     ]
    }
   ],
   "source": [
    "x = [\"apple\", \"banana\", \"cherry\", \"orange\", \"kiwi\", \"melon\", \"mango\"]\n",
    "print(x[:])"
   ]
  },
  {
   "cell_type": "markdown",
   "id": "74744d08-993a-4555-a00c-c27e65f770e7",
   "metadata": {},
   "source": [
    "## change list"
   ]
  },
  {
   "cell_type": "code",
   "execution_count": 16,
   "id": "9ba40f1d-3f0d-4319-9fcc-7658e2b3aad4",
   "metadata": {},
   "outputs": [
    {
     "name": "stdout",
     "output_type": "stream",
     "text": [
      "['msc', 'b.ed', 'm.a']\n"
     ]
    }
   ],
   "source": [
    "#To change the value of a specific item, refer to the index number:\n",
    "a = [\"msc\", \"bsc\", \"m.a\"]\n",
    "a[1] = \"b.ed\"\n",
    "print(a)"
   ]
  },
  {
   "cell_type": "code",
   "execution_count": 17,
   "id": "59789f7a-87b3-4e38-b657-5586396c8ff9",
   "metadata": {},
   "outputs": [
    {
     "name": "stdout",
     "output_type": "stream",
     "text": [
      "['b.ed', 'bsc', 'm.a']\n"
     ]
    }
   ],
   "source": [
    "a = [\"msc\", \"bsc\", \"m.a\"]\n",
    "a[0] = \"b.ed\"\n",
    "print(a)"
   ]
  },
  {
   "cell_type": "code",
   "execution_count": 19,
   "id": "7dc1c716-f9ff-4abb-946a-d2dfa27cbd81",
   "metadata": {},
   "outputs": [
    {
     "name": "stdout",
     "output_type": "stream",
     "text": [
      "['msc', ['b.ed', 'm.ed'], 'm.a']\n"
     ]
    }
   ],
   "source": [
    "a = [\"msc\", \"bsc\", \"m.a\"]\n",
    "a[1] = [\"b.ed\",\"m.ed\"]\n",
    "print(a)"
   ]
  },
  {
   "cell_type": "code",
   "execution_count": 20,
   "id": "6c0c00ca-538e-4a57-a2b5-bdc314b9061d",
   "metadata": {},
   "outputs": [
    {
     "name": "stdout",
     "output_type": "stream",
     "text": [
      "['msc', 'b.ed', 'm.ed']\n"
     ]
    }
   ],
   "source": [
    "a = [\"msc\", \"bsc\", \"m.a\"]\n",
    "a[1:3] = [\"b.ed\",\"m.ed\"]\n",
    "print(a)"
   ]
  },
  {
   "cell_type": "code",
   "execution_count": 21,
   "id": "6ae7a934-2d42-4eae-a710-8f12fc7f3dd0",
   "metadata": {},
   "outputs": [
    {
     "name": "stdout",
     "output_type": "stream",
     "text": [
      "['b.ed', 'm.ed', 'm.a']\n"
     ]
    }
   ],
   "source": [
    "a = [\"msc\", \"bsc\", \"m.a\"]\n",
    "a[0:2] = [\"b.ed\",\"m.ed\"]\n",
    "print(a)"
   ]
  },
  {
   "cell_type": "code",
   "execution_count": 22,
   "id": "8aa0843d-5a37-495e-92b9-c1e6acb2e923",
   "metadata": {},
   "outputs": [
    {
     "name": "stdout",
     "output_type": "stream",
     "text": [
      "['msc', 'b.ed', 'm.ed', 'm.a']\n"
     ]
    }
   ],
   "source": [
    "a = [\"msc\", \"bsc\", \"m.a\"]\n",
    "a[1:2] = [\"b.ed\",\"m.ed\"]\n",
    "print(a)"
   ]
  },
  {
   "cell_type": "markdown",
   "id": "bf92d82d-3f1c-45e6-95db-96185173ffd9",
   "metadata": {},
   "source": [
    "## add list"
   ]
  },
  {
   "cell_type": "markdown",
   "id": "34df6a87-cc2e-44ed-a1e4-982b5cef9a9f",
   "metadata": {},
   "source": [
    "### insert items"
   ]
  },
  {
   "cell_type": "code",
   "execution_count": 23,
   "id": "b9227c2b-14ac-4f1c-be7a-ae6b232368f0",
   "metadata": {},
   "outputs": [
    {
     "name": "stdout",
     "output_type": "stream",
     "text": [
      "[12, 24, 'water', 36]\n"
     ]
    }
   ],
   "source": [
    "a = [12, 24, 36]\n",
    "a.insert(2, \"water\")\n",
    "print(a) "
   ]
  },
  {
   "cell_type": "markdown",
   "id": "7cb070ae-3b54-4b25-8878-c8342f64977b",
   "metadata": {},
   "source": [
    "### append items"
   ]
  },
  {
   "cell_type": "code",
   "execution_count": 25,
   "id": "7914db46-59c8-4ca4-a45f-d40bcb0380dc",
   "metadata": {},
   "outputs": [
    {
     "name": "stdout",
     "output_type": "stream",
     "text": [
      "[12, 24, 36, 'water']\n"
     ]
    }
   ],
   "source": [
    "a = [12, 24, 36]\n",
    "a.append(\"water\")\n",
    "print(a) "
   ]
  },
  {
   "cell_type": "markdown",
   "id": "4dba48e5-d00a-42bd-be6b-898075260857",
   "metadata": {},
   "source": [
    "### extend items"
   ]
  },
  {
   "cell_type": "code",
   "execution_count": 26,
   "id": "4ac66616-a1ff-48ca-8660-f1e5f0dd876c",
   "metadata": {},
   "outputs": [
    {
     "name": "stdout",
     "output_type": "stream",
     "text": [
      "[12, 24, 36, 48, 60, 72]\n"
     ]
    }
   ],
   "source": [
    "a = [12, 24, 36]\n",
    "b = [48,60,72]\n",
    "a.extend(b)\n",
    "print(a) "
   ]
  },
  {
   "cell_type": "code",
   "execution_count": 27,
   "id": "71ccc480-ddfe-48ef-a809-66932b327bc8",
   "metadata": {},
   "outputs": [
    {
     "name": "stdout",
     "output_type": "stream",
     "text": [
      "[48, 60, 72, 12, 24, 36]\n"
     ]
    }
   ],
   "source": [
    "a = [12, 24, 36]\n",
    "b = [48,60,72]\n",
    "b.extend(a)\n",
    "print(b) "
   ]
  },
  {
   "cell_type": "markdown",
   "id": "6eceeaef-ee06-4613-a931-7fe1c303c970",
   "metadata": {},
   "source": [
    "## remove list"
   ]
  },
  {
   "cell_type": "markdown",
   "id": "237bfaee-ddfa-4d44-8a9e-c300f030ab84",
   "metadata": {},
   "source": [
    "### remove items"
   ]
  },
  {
   "cell_type": "code",
   "execution_count": 29,
   "id": "cb982b22-a2b4-48ab-8425-587c15aeed03",
   "metadata": {},
   "outputs": [
    {
     "name": "stdout",
     "output_type": "stream",
     "text": [
      "[12, 36]\n"
     ]
    }
   ],
   "source": [
    "a = [12, 24, 36]\n",
    "a.remove(24)\n",
    "print(a) "
   ]
  },
  {
   "cell_type": "markdown",
   "id": "448721e3-0238-492c-9662-af4d86ff3dd7",
   "metadata": {},
   "source": [
    "### pop "
   ]
  },
  {
   "cell_type": "code",
   "execution_count": 30,
   "id": "a4623b41-2493-4a2b-8995-0c0f08c17400",
   "metadata": {},
   "outputs": [
    {
     "name": "stdout",
     "output_type": "stream",
     "text": [
      "[12, 24]\n"
     ]
    }
   ],
   "source": [
    "#The pop() method removes the specified index.\n",
    "a = [12, 24, 36]\n",
    "a.pop(2)\n",
    "print(a) "
   ]
  },
  {
   "cell_type": "code",
   "execution_count": 32,
   "id": "8744bc74-f99a-4cf1-966d-292a3e3a8573",
   "metadata": {},
   "outputs": [
    {
     "name": "stdout",
     "output_type": "stream",
     "text": [
      "[24, 36]\n"
     ]
    }
   ],
   "source": [
    "a = [12, 24, 36]\n",
    "a.pop(0)\n",
    "print(a)"
   ]
  },
  {
   "cell_type": "code",
   "execution_count": 33,
   "id": "4e48e76a-f0e2-418c-8b82-36598855487b",
   "metadata": {},
   "outputs": [
    {
     "name": "stdout",
     "output_type": "stream",
     "text": [
      "[12, 24]\n"
     ]
    }
   ],
   "source": [
    "a = [12, 24, 36]\n",
    "a.pop()\n",
    "print(a)"
   ]
  },
  {
   "cell_type": "markdown",
   "id": "5d2bc289-d166-473c-9f37-7dae628881b0",
   "metadata": {},
   "source": [
    "### delete"
   ]
  },
  {
   "cell_type": "code",
   "execution_count": 39,
   "id": "e95af7d5-8842-485f-a494-6ae0c42fb139",
   "metadata": {},
   "outputs": [
    {
     "name": "stdout",
     "output_type": "stream",
     "text": [
      "[12, 36]\n"
     ]
    }
   ],
   "source": [
    "#The del keyword also removes the specified index:\n",
    "a = [12, 24, 36]\n",
    "del a[1]\n",
    "print(a)"
   ]
  },
  {
   "cell_type": "code",
   "execution_count": 43,
   "id": "ec258b82-287c-44b5-83fe-5033279d550d",
   "metadata": {},
   "outputs": [],
   "source": [
    "a = [12, 24, 36]\n",
    "del a"
   ]
  },
  {
   "cell_type": "code",
   "execution_count": 44,
   "id": "1c138c57-b271-4eff-a82a-3fb05598e7f3",
   "metadata": {},
   "outputs": [
    {
     "name": "stdout",
     "output_type": "stream",
     "text": [
      "[24, 36]\n"
     ]
    }
   ],
   "source": [
    "a = [12, 24, 36]\n",
    "del a[0]\n",
    "print(a)"
   ]
  },
  {
   "cell_type": "markdown",
   "id": "cecf381d-6b8a-4715-ab03-15a94cdd98d0",
   "metadata": {},
   "source": [
    "### clear"
   ]
  },
  {
   "cell_type": "code",
   "execution_count": 45,
   "id": "6e66c62b-db32-4f3b-b9de-0eaa33222482",
   "metadata": {},
   "outputs": [
    {
     "name": "stdout",
     "output_type": "stream",
     "text": [
      "[]\n"
     ]
    }
   ],
   "source": [
    "# The list still remains, but it has no content.\n",
    "a = [12, 24, 36]\n",
    "a.clear()\n",
    "print(a)"
   ]
  },
  {
   "cell_type": "markdown",
   "id": "c7204791-93e4-4b18-abb4-b1ef2263191c",
   "metadata": {},
   "source": [
    "## sort list"
   ]
  },
  {
   "cell_type": "code",
   "execution_count": 47,
   "id": "f0fd692e-ad66-4779-ad6e-53c145d3ab90",
   "metadata": {},
   "outputs": [
    {
     "name": "stdout",
     "output_type": "stream",
     "text": [
      "['A', 'B', 'C', 'a', 'b', 'c']\n"
     ]
    }
   ],
   "source": [
    "x = [\"A\",\"B\",\"C\",\"a\",\"b\",\"c\"]  # ascending order\n",
    "x.sort()\n",
    "print(x)"
   ]
  },
  {
   "cell_type": "code",
   "execution_count": 49,
   "id": "1cc1d37a-4ef2-4cb5-8aa7-ec1d7e6ffe1f",
   "metadata": {},
   "outputs": [
    {
     "name": "stdout",
     "output_type": "stream",
     "text": [
      "['c', 'b', 'a', 'C', 'B', 'A']\n"
     ]
    }
   ],
   "source": [
    "x = [\"A\",\"B\",\"C\",\"a\",\"b\",\"c\"]  # descending order\n",
    "x.sort(reverse = True)\n",
    "print(x)"
   ]
  },
  {
   "cell_type": "code",
   "execution_count": 50,
   "id": "feba1fd1-165e-42ef-b2fc-10d98440f7e4",
   "metadata": {},
   "outputs": [
    {
     "name": "stdout",
     "output_type": "stream",
     "text": [
      "[3, 4, 6, 9, 10, 12]\n"
     ]
    }
   ],
   "source": [
    "x = [3,10,9,6,4,12]  # ascending order\n",
    "x.sort()\n",
    "print(x)"
   ]
  },
  {
   "cell_type": "code",
   "execution_count": 51,
   "id": "15d8fa62-1b94-4ae4-bafb-7c2917a89faf",
   "metadata": {},
   "outputs": [
    {
     "name": "stdout",
     "output_type": "stream",
     "text": [
      "[12, 10, 9, 6, 4, 3]\n"
     ]
    }
   ],
   "source": [
    "x = [3,10,9,6,4,12]  # descending order\n",
    "x.sort(reverse = True)\n",
    "print(x)"
   ]
  },
  {
   "cell_type": "code",
   "execution_count": 52,
   "id": "56169fc0-6213-401e-8d26-ce3df5bbefc0",
   "metadata": {},
   "outputs": [
    {
     "name": "stdout",
     "output_type": "stream",
     "text": [
      "[12, 4, 6, 9, 10, 3]\n"
     ]
    }
   ],
   "source": [
    "x = [3,10,9,6,4,12]  \n",
    "x.reverse()\n",
    "print(x)"
   ]
  },
  {
   "cell_type": "code",
   "execution_count": 53,
   "id": "f69128ec-a26e-4cc9-8cdf-ea0a3a0a036e",
   "metadata": {},
   "outputs": [
    {
     "name": "stdout",
     "output_type": "stream",
     "text": [
      "['A', 'a', 'B', 'b', 'C', 'c']\n"
     ]
    }
   ],
   "source": [
    "x = [\"A\",\"B\",\"C\",\"a\",\"b\",\"c\"]  \n",
    "x.sort(key = str.lower)\n",
    "print(x)"
   ]
  },
  {
   "cell_type": "markdown",
   "id": "41125ba8-c237-4b4e-82bd-429d31176cd5",
   "metadata": {},
   "source": [
    "## copy list"
   ]
  },
  {
   "cell_type": "code",
   "execution_count": 54,
   "id": "563cbef7-5904-4ae3-8878-11b5099dab4d",
   "metadata": {},
   "outputs": [
    {
     "name": "stdout",
     "output_type": "stream",
     "text": [
      "['app', 'banned', 'chill']\n"
     ]
    }
   ],
   "source": [
    "a = [\"app\", \"banned\", \"chill\"]\n",
    "b = a.copy()\n",
    "print(b)"
   ]
  },
  {
   "cell_type": "code",
   "execution_count": 58,
   "id": "c9ae7a4d-8d53-47f0-a96b-c19fa2ec1292",
   "metadata": {},
   "outputs": [
    {
     "name": "stdout",
     "output_type": "stream",
     "text": [
      "[2, 3, 4]\n"
     ]
    }
   ],
   "source": [
    "a = [\"app\", \"banned\", \"chill\"]\n",
    "c = [2,3,4]\n",
    "b = a.copy()\n",
    "print(c)"
   ]
  },
  {
   "cell_type": "markdown",
   "id": "b80d0ba8-7fa8-48ca-bd6e-2b53e57459c7",
   "metadata": {},
   "source": [
    "## join list"
   ]
  },
  {
   "cell_type": "code",
   "execution_count": 59,
   "id": "c3b5fd6a-3cf1-4085-b1f9-6e78f08918e6",
   "metadata": {},
   "outputs": [
    {
     "name": "stdout",
     "output_type": "stream",
     "text": [
      "['a', 'b', 'c', 1, 2, 3]\n"
     ]
    }
   ],
   "source": [
    "x = [\"a\", \"b\", \"c\"]\n",
    "y = [1, 2, 3]\n",
    "z = x + y\n",
    "print(z)"
   ]
  },
  {
   "cell_type": "code",
   "execution_count": 60,
   "id": "4e0c482d-abd6-4992-8dc6-1c11fdc59e0d",
   "metadata": {},
   "outputs": [
    {
     "name": "stdout",
     "output_type": "stream",
     "text": [
      "['app', 'banned', 'chill', 2, 3, 4]\n"
     ]
    }
   ],
   "source": [
    "a = [\"app\", \"banned\", \"chill\"]\n",
    "c = [2,3,4]\n",
    "b = a + c\n",
    "print(b)"
   ]
  },
  {
   "cell_type": "code",
   "execution_count": 1,
   "id": "2086515f-e1bb-4917-9dd7-e57e516c4840",
   "metadata": {},
   "outputs": [],
   "source": [
    "# input method"
   ]
  },
  {
   "cell_type": "raw",
   "id": "7058b34b-7ef1-470d-a865-8c99fa93b471",
   "metadata": {},
   "source": [
    "a=input()\n",
    "a"
   ]
  },
  {
   "cell_type": "code",
   "execution_count": 5,
   "id": "9d1a7158-f353-47c9-9b55-d3f704e5ee0b",
   "metadata": {},
   "outputs": [
    {
     "data": {
      "text/plain": [
       "b'\\xff\\xfew\\x00e\\x00b\\x00m\\x00o\\x00k\\x00 \\x00r\\x00o\\x00h\\x00t\\x00a\\x00k\\x00'"
      ]
     },
     "execution_count": 5,
     "metadata": {},
     "output_type": "execute_result"
    }
   ],
   "source": [
    "a=\"webmok rohtak\"\n",
    "y=a.encode(\"utf-16\")\n",
    "y"
   ]
  },
  {
   "cell_type": "markdown",
   "id": "41461894-4c06-47fc-9f50-eb74adcad927",
   "metadata": {},
   "source": [
    "# tuple"
   ]
  },
  {
   "cell_type": "code",
   "execution_count": 2,
   "id": "ab2d0664-fdfd-4040-bfdc-3322792f2a12",
   "metadata": {},
   "outputs": [],
   "source": [
    "#Tuples are used to store multiple items in a single variable.\n",
    "#Tuple is one of 4 built-in data types in Python used to store collections of data, the other 3 are List, Set, and Dictionary, \n",
    "#all with different qualities and usage.\n",
    "#A tuple is a collection which is ordered and unchangeable.\n",
    "#Tuples are written with round brackets."
   ]
  },
  {
   "cell_type": "code",
   "execution_count": 3,
   "id": "57e355b1-4a47-43f6-85c5-36789896ddc4",
   "metadata": {},
   "outputs": [
    {
     "name": "stdout",
     "output_type": "stream",
     "text": [
      "('app', 'banned', 'chill')\n"
     ]
    }
   ],
   "source": [
    "T = (\"app\", \"banned\", \"chill\")\n",
    "print(T)"
   ]
  },
  {
   "cell_type": "markdown",
   "id": "3d98eeb4-687f-48dc-80a4-7cbd1484a490",
   "metadata": {},
   "source": [
    "## tuple items"
   ]
  },
  {
   "cell_type": "code",
   "execution_count": 4,
   "id": "4f30855a-c5fa-4365-b0ea-0a15bfb1fd49",
   "metadata": {},
   "outputs": [
    {
     "name": "stdout",
     "output_type": "stream",
     "text": [
      "('app', 'banned', 'chill', 'app', 'banned', 'chill')\n"
     ]
    }
   ],
   "source": [
    "#Tuple items are ordered, unchangeable, and allow duplicate values.\n",
    "T = (\"app\", \"banned\", \"chill\",\"app\", \"banned\", \"chill\")\n",
    "print(T)"
   ]
  },
  {
   "cell_type": "code",
   "execution_count": 5,
   "id": "c96ec266-0408-4e04-aa1a-ebf972f9ec06",
   "metadata": {},
   "outputs": [
    {
     "name": "stdout",
     "output_type": "stream",
     "text": [
      "6\n"
     ]
    }
   ],
   "source": [
    "T = (\"app\", \"banned\", \"chill\",\"app\", \"banned\", \"chill\")\n",
    "print(len(T))"
   ]
  },
  {
   "cell_type": "code",
   "execution_count": 6,
   "id": "e48011a8-0345-4083-9a23-363148930e40",
   "metadata": {},
   "outputs": [
    {
     "name": "stdout",
     "output_type": "stream",
     "text": [
      "<class 'tuple'>\n",
      "<class 'str'>\n"
     ]
    }
   ],
   "source": [
    "T = (\"app\",)\n",
    "print(type(T))\n",
    "#NOT a tuple\n",
    "T = (\"app\")\n",
    "print(type(T))"
   ]
  },
  {
   "cell_type": "markdown",
   "id": "2b600abb-f9e7-4176-a036-69cd7c204327",
   "metadata": {},
   "source": [
    "## Tuple Items - Data Types"
   ]
  },
  {
   "cell_type": "code",
   "execution_count": 8,
   "id": "1ce1389f-bb59-4fe6-a80a-0d22220714c7",
   "metadata": {},
   "outputs": [
    {
     "name": "stdout",
     "output_type": "stream",
     "text": [
      "<class 'tuple'>\n",
      "<class 'tuple'>\n",
      "<class 'tuple'>\n"
     ]
    }
   ],
   "source": [
    "t1 = (\"app\", \"banned\", \"chill\")\n",
    "t2 = (12, 3, 17, 29, 33)\n",
    "t3 = (True, False, False)\n",
    "print(type(t1))\n",
    "print(type(t2))\n",
    "print(type(t3))"
   ]
  },
  {
   "cell_type": "code",
   "execution_count": 9,
   "id": "52a03406-388d-485a-a847-4cce729535f8",
   "metadata": {},
   "outputs": [
    {
     "name": "stdout",
     "output_type": "stream",
     "text": [
      "('app', 'banned', 'chill')\n",
      "(12, 3, 17, 29, 33)\n",
      "(True, False, False)\n"
     ]
    }
   ],
   "source": [
    "t1 = (\"app\", \"banned\", \"chill\")\n",
    "t2 = (12, 3, 17, 29, 33)\n",
    "t3 = (True, False, False)\n",
    "print(t1)\n",
    "print(t2)\n",
    "print(t3)"
   ]
  },
  {
   "cell_type": "code",
   "execution_count": 11,
   "id": "ae3d5b03-85b7-4706-871b-13453a845ebb",
   "metadata": {},
   "outputs": [
    {
     "name": "stdout",
     "output_type": "stream",
     "text": [
      "('abc', 33, True, 40, 'female')\n"
     ]
    }
   ],
   "source": [
    "x1 = (\"abc\", 33, True, 40, \"female\")\n",
    "print(x1)"
   ]
  },
  {
   "cell_type": "code",
   "execution_count": 12,
   "id": "be07a314-02e4-449e-8052-e4ef65290b02",
   "metadata": {},
   "outputs": [
    {
     "name": "stdout",
     "output_type": "stream",
     "text": [
      "('abc', 33, True, 40, 'female')\n"
     ]
    }
   ],
   "source": [
    "x = tuple((\"abc\", 33, True, 40, \"female\")) # note the double round-brackets\n",
    "print(x)"
   ]
  },
  {
   "cell_type": "code",
   "execution_count": null,
   "id": "9b81e8e2-f78a-41a0-b0a5-1c1917d76d54",
   "metadata": {},
   "outputs": [],
   "source": [
    "#List is a collection which is ordered and changeable. Allows duplicate members.\n",
    "#Tuple is a collection which is ordered and unchangeable. Allows duplicate members.\n",
    "#Set is a collection which is unordered, unchangeable*, and unindexed. No duplicate members.\n",
    "#Dictionary is a collection which is ordered** and changeable. No duplicate members."
   ]
  },
  {
   "cell_type": "markdown",
   "id": "f8d51c12-5f47-4089-a1b8-310970174293",
   "metadata": {},
   "source": [
    "## indexing or range items"
   ]
  },
  {
   "cell_type": "code",
   "execution_count": 13,
   "id": "40cb2e27-323e-4462-8eac-7e3c34ca53f9",
   "metadata": {},
   "outputs": [
    {
     "name": "stdout",
     "output_type": "stream",
     "text": [
      "True\n"
     ]
    }
   ],
   "source": [
    "x = (\"abc\", 33, True, 40, \"female\")\n",
    "print(x[2])"
   ]
  },
  {
   "cell_type": "code",
   "execution_count": 14,
   "id": "8765bab0-3473-4e91-af7c-545945b4cb60",
   "metadata": {},
   "outputs": [
    {
     "name": "stdout",
     "output_type": "stream",
     "text": [
      "female\n"
     ]
    }
   ],
   "source": [
    "x = (\"abc\", 33, True, 40, \"female\")\n",
    "print(x[4])"
   ]
  },
  {
   "cell_type": "code",
   "execution_count": 15,
   "id": "77263a28-a3aa-4fd6-87d5-f27bae3cec86",
   "metadata": {},
   "outputs": [
    {
     "name": "stdout",
     "output_type": "stream",
     "text": [
      "True\n"
     ]
    }
   ],
   "source": [
    "x = (\"abc\", 33, True, 40, \"female\")\n",
    "print(x[-3])"
   ]
  },
  {
   "cell_type": "code",
   "execution_count": 16,
   "id": "cac03ffb-9de7-4334-8182-ef5a2c607bc4",
   "metadata": {},
   "outputs": [
    {
     "name": "stdout",
     "output_type": "stream",
     "text": [
      "(True, 40, 'female')\n"
     ]
    }
   ],
   "source": [
    "x = (\"abc\", 33, True, 40, \"female\")\n",
    "print(x[2:5])"
   ]
  },
  {
   "cell_type": "code",
   "execution_count": 17,
   "id": "a5e10a9f-b62c-4dec-b44b-113ff04ad466",
   "metadata": {},
   "outputs": [
    {
     "name": "stdout",
     "output_type": "stream",
     "text": [
      "('abc', 33, True, 40, 'female')\n"
     ]
    }
   ],
   "source": [
    "x = (\"abc\", 33, True, 40, \"female\")\n",
    "print(x[:6])"
   ]
  },
  {
   "cell_type": "code",
   "execution_count": 19,
   "id": "9ff34ee6-3dc4-4ce0-81ce-f7b456314227",
   "metadata": {},
   "outputs": [
    {
     "name": "stdout",
     "output_type": "stream",
     "text": [
      "(33, True)\n"
     ]
    }
   ],
   "source": [
    "x = (\"abc\", 33, True, 40, \"female\")\n",
    "print(x[-4:-2])"
   ]
  },
  {
   "cell_type": "code",
   "execution_count": 32,
   "id": "9edf594d-d280-4ba8-af1b-420173739491",
   "metadata": {},
   "outputs": [
    {
     "name": "stdout",
     "output_type": "stream",
     "text": [
      "Yes, 'abc' is in the string value\n"
     ]
    }
   ],
   "source": [
    "x = (\"abc\", 33, True, 40, \"female\")\n",
    "if \"abc\" in x :\n",
    " print(\"Yes, 'abc' is in the string value\")"
   ]
  },
  {
   "cell_type": "code",
   "execution_count": 36,
   "id": "80f4678d-a517-4978-95d1-963212f7171d",
   "metadata": {},
   "outputs": [
    {
     "name": "stdout",
     "output_type": "stream",
     "text": [
      "Yes, 33 is in the int value\n"
     ]
    }
   ],
   "source": [
    "x = (\"abc\", 33, True, 40, \"female\")\n",
    "if 33 in x :\n",
    " print(\"Yes, 33 is in the int value\")"
   ]
  },
  {
   "cell_type": "markdown",
   "id": "a34235fd-9add-4561-9b53-5a084182942e",
   "metadata": {},
   "source": [
    "### change tuple values"
   ]
  },
  {
   "cell_type": "code",
   "execution_count": 37,
   "id": "16f9e83c-b117-4d70-9910-ac5aada1f39c",
   "metadata": {},
   "outputs": [
    {
     "name": "stdout",
     "output_type": "stream",
     "text": [
      "('web', 'place', 'rohtak')\n"
     ]
    }
   ],
   "source": [
    "#Once a tuple is created, you cannot change its values. Tuples are unchangeable, or immutable as it also is called.\n",
    "x = (\"web\", \"mok\", \"rohtak\")\n",
    "y = list(x)\n",
    "y[1] = \"place\"\n",
    "x = tuple(y)\n",
    "print(x)"
   ]
  },
  {
   "cell_type": "markdown",
   "id": "95418b69-5564-4e26-8015-6dc9dd9c49bd",
   "metadata": {},
   "source": [
    "### add items"
   ]
  },
  {
   "cell_type": "code",
   "execution_count": 14,
   "id": "d8db8ca7-afa0-4a22-a6d0-0b50a9c13d81",
   "metadata": {},
   "outputs": [
    {
     "name": "stdout",
     "output_type": "stream",
     "text": [
      "(45, 'banner', 67, 'female')\n"
     ]
    }
   ],
   "source": [
    "#Since tuples are immutable, they do not have a built-in append() method, but there are other ways to add items to a tuple.\n",
    "#1. Convert into a list: Just like the workaround for changing a tuple, you can convert it into a list, add your item(s), \n",
    "#and convert it back into a tuple.\n",
    "x = (45, \"banner\", 67)\n",
    "y = list(x)\n",
    "y.append(\"female\")\n",
    "x = tuple(y)\n",
    "print(x)"
   ]
  },
  {
   "cell_type": "code",
   "execution_count": 15,
   "id": "dd53d25e-1653-4616-8c4f-d43a64f47435",
   "metadata": {},
   "outputs": [
    {
     "name": "stdout",
     "output_type": "stream",
     "text": [
      "('abc', 'banner', 'ert', 'female')\n"
     ]
    }
   ],
   "source": [
    "x = (\"abc\", \"banner\", \"ert\")\n",
    "y = list(x)\n",
    "y.append(\"female\")\n",
    "x = tuple(y)\n",
    "print(x)"
   ]
  },
  {
   "cell_type": "code",
   "execution_count": 7,
   "id": "cb46fe6f-5936-458b-a450-9025c4abf35a",
   "metadata": {},
   "outputs": [
    {
     "name": "stdout",
     "output_type": "stream",
     "text": [
      "(45, 'banner', 67, 'orange')\n"
     ]
    }
   ],
   "source": [
    "x = (45, \"banner\", 67)\n",
    "y = (\"orange\",)\n",
    "x += y\n",
    "print(x)"
   ]
  },
  {
   "cell_type": "markdown",
   "id": "c1b5dcd1-84f5-43df-b804-d2f94e35ba8d",
   "metadata": {},
   "source": [
    "### remove items"
   ]
  },
  {
   "cell_type": "code",
   "execution_count": 16,
   "id": "3b3681d5-54b0-4f7a-aa7c-257021a36c6a",
   "metadata": {},
   "outputs": [
    {
     "name": "stdout",
     "output_type": "stream",
     "text": [
      "('abc', 'banner')\n"
     ]
    }
   ],
   "source": [
    "x = (\"abc\", \"banner\", \"ert\")\n",
    "y = list(x)\n",
    "y.remove(\"ert\")\n",
    "x = tuple(y)\n",
    "print(x)"
   ]
  },
  {
   "cell_type": "code",
   "execution_count": 13,
   "id": "f302e78f-93b2-44ac-b2c3-3d42f13b249c",
   "metadata": {},
   "outputs": [
    {
     "name": "stdout",
     "output_type": "stream",
     "text": [
      "('banner', 'chill')\n"
     ]
    }
   ],
   "source": [
    "x = (\"apple\", \"banner\", \"chill\")\n",
    "y = list(x)\n",
    "y.remove(\"apple\")\n",
    "x = tuple(y)\n",
    "print(x)"
   ]
  },
  {
   "cell_type": "code",
   "execution_count": 23,
   "id": "f161aec5-775f-4d85-8a8a-87c3260c0853",
   "metadata": {},
   "outputs": [],
   "source": [
    "x = (\"abc\", \"banner\", \"ert\")\n",
    "del x"
   ]
  },
  {
   "cell_type": "markdown",
   "id": "e900dd7d-3c65-429b-a766-ed722c9442a6",
   "metadata": {},
   "source": [
    "### unpacking tuple"
   ]
  },
  {
   "cell_type": "code",
   "execution_count": 24,
   "id": "965d0580-3dfd-4bc2-9130-47b62df66e8e",
   "metadata": {},
   "outputs": [
    {
     "name": "stdout",
     "output_type": "stream",
     "text": [
      "(2, 3, 4)\n"
     ]
    }
   ],
   "source": [
    "#When we create a tuple, we normally assign values to it. This is called \"packing\" a tuple:\n",
    "x = (2, 3, 4)     #packing\n",
    "print(x)"
   ]
  },
  {
   "cell_type": "code",
   "execution_count": 27,
   "id": "02aed6a4-3058-4c75-b57e-fb2e11edf7ce",
   "metadata": {},
   "outputs": [
    {
     "name": "stdout",
     "output_type": "stream",
     "text": [
      "2\n",
      "3\n",
      "4\n"
     ]
    }
   ],
   "source": [
    "x = (2, 3, 4)   #unpacking\n",
    "(green, yellow, red) = x\n",
    "print(green)\n",
    "print(yellow)\n",
    "print(red)"
   ]
  },
  {
   "cell_type": "code",
   "execution_count": 30,
   "id": "6d44c4be-b561-45d6-ad24-e45ba28e8d08",
   "metadata": {},
   "outputs": [
    {
     "name": "stdout",
     "output_type": "stream",
     "text": [
      "2\n",
      "4\n",
      "[]\n"
     ]
    }
   ],
   "source": [
    "x = (2,4)   #unpacking\n",
    "(green, yellow, *red) = x\n",
    "print(green)\n",
    "print(yellow)\n",
    "print(red)"
   ]
  },
  {
   "cell_type": "code",
   "execution_count": 32,
   "id": "d4b704e6-898d-421d-8d80-9eb0f6994cb2",
   "metadata": {},
   "outputs": [
    {
     "name": "stdout",
     "output_type": "stream",
     "text": [
      "2\n",
      "[3, 4]\n"
     ]
    }
   ],
   "source": [
    "x = (2, 3, 4)   #unpacking\n",
    "(green, *red) = x\n",
    "print(green)\n",
    "print(red)"
   ]
  },
  {
   "cell_type": "code",
   "execution_count": 33,
   "id": "e33254bc-a204-4344-9665-6862dfa3cd52",
   "metadata": {},
   "outputs": [
    {
     "name": "stdout",
     "output_type": "stream",
     "text": [
      "2\n",
      "4\n",
      "[3, 4]\n"
     ]
    }
   ],
   "source": [
    "x = (2, 3, 4)   #unpacking\n",
    "(green, *red) = x\n",
    "print(green)\n",
    "print(yellow)\n",
    "print(red)"
   ]
  },
  {
   "cell_type": "code",
   "execution_count": 34,
   "id": "92fb2f4a-ca81-483b-ba98-f253f891c595",
   "metadata": {},
   "outputs": [
    {
     "name": "stdout",
     "output_type": "stream",
     "text": [
      "2\n",
      "[3, 4, 5, 6, 7]\n",
      "8\n"
     ]
    }
   ],
   "source": [
    "x = (2, 3, 4, 5, 6, 7, 8)   #unpacking\n",
    "(green, *yellow, red) = x\n",
    "print(green)\n",
    "print(yellow)\n",
    "print(red)"
   ]
  },
  {
   "cell_type": "markdown",
   "id": "086394c8-2350-4cbe-bda9-0e28ca5dbbbd",
   "metadata": {},
   "source": [
    "### join tuples"
   ]
  },
  {
   "cell_type": "code",
   "execution_count": 35,
   "id": "f42064e8-ffdf-4ff3-91f1-e072de987ed6",
   "metadata": {},
   "outputs": [
    {
     "name": "stdout",
     "output_type": "stream",
     "text": [
      "('abc', 'def', 'ghi', 11, 22, 33)\n"
     ]
    }
   ],
   "source": [
    "t1 = (\"abc\", \"def\" , \"ghi\")   # add tuples\n",
    "t2 = (11, 22, 33)\n",
    "t3 = t1 + t2\n",
    "print(t3)"
   ]
  },
  {
   "cell_type": "code",
   "execution_count": 37,
   "id": "60ebad39-bfcc-49c7-8658-d3c078c82526",
   "metadata": {},
   "outputs": [
    {
     "name": "stdout",
     "output_type": "stream",
     "text": [
      "('abc', 'def', 'ghi', 'abc', 'def', 'ghi')\n"
     ]
    }
   ],
   "source": [
    "t1 = (\"abc\", \"def\" , \"ghi\")   # multiply tuples\n",
    "t2 = t1*2\n",
    "print(t2)"
   ]
  },
  {
   "cell_type": "code",
   "execution_count": 39,
   "id": "98eeb907-ce58-4259-a84c-42c3494682e5",
   "metadata": {},
   "outputs": [
    {
     "name": "stdout",
     "output_type": "stream",
     "text": [
      "(11, 22, 33, 11, 22, 33, 11, 22, 33)\n"
     ]
    }
   ],
   "source": [
    "t2 = (11, 22, 33)\n",
    "t3 = t2*3\n",
    "print(t3)"
   ]
  },
  {
   "cell_type": "markdown",
   "id": "244acae8-e720-4a6f-a2f0-76ceae86ef31",
   "metadata": {},
   "source": [
    "# Set"
   ]
  },
  {
   "cell_type": "code",
   "execution_count": 1,
   "id": "48989fe4-2c09-4aba-b7fe-61ca06d14202",
   "metadata": {},
   "outputs": [
    {
     "name": "stdout",
     "output_type": "stream",
     "text": [
      "{'def', 'ghi', 'abc'}\n"
     ]
    }
   ],
   "source": [
    "# Set items are unordered, unchangeable, and do not allow duplicate values.\n",
    "t1 = {\"abc\", \"def\" , \"ghi\"}\n",
    "print(t1)\n"
   ]
  },
  {
   "cell_type": "code",
   "execution_count": 2,
   "id": "d5107ff7-e839-43ac-b769-1d1847d532f0",
   "metadata": {},
   "outputs": [
    {
     "name": "stdout",
     "output_type": "stream",
     "text": [
      "{'def', 'ghi', 'abc'}\n"
     ]
    }
   ],
   "source": [
    "# Duplicates Not Allowed\n",
    "# Sets cannot have two items with the same value.\n",
    "t1 = {\"abc\", \"def\" , \"ghi\", \"abc\", \"def\"}\n",
    "print(t1)"
   ]
  },
  {
   "cell_type": "code",
   "execution_count": 3,
   "id": "d4113ae5-c4da-4f03-929f-db19497ad476",
   "metadata": {},
   "outputs": [
    {
     "name": "stdout",
     "output_type": "stream",
     "text": [
      "3\n"
     ]
    }
   ],
   "source": [
    "t1 = {\"abc\", \"def\" , \"ghi\"}\n",
    "print(len(t1))\n"
   ]
  },
  {
   "cell_type": "code",
   "execution_count": 4,
   "id": "c5033c75-f156-42b1-98d1-48416f33b64d",
   "metadata": {},
   "outputs": [
    {
     "name": "stdout",
     "output_type": "stream",
     "text": [
      "<class 'set'>\n"
     ]
    }
   ],
   "source": [
    "t1 = {\"abc\", \"def\" , \"ghi\"}\n",
    "print(type(t1))"
   ]
  },
  {
   "cell_type": "markdown",
   "id": "f9ecba5b-df17-4088-8559-ac7a85932ee6",
   "metadata": {},
   "source": [
    "## access items"
   ]
  },
  {
   "cell_type": "code",
   "execution_count": 5,
   "id": "f7f03e91-209f-4031-b702-1c390d150293",
   "metadata": {},
   "outputs": [
    {
     "name": "stdout",
     "output_type": "stream",
     "text": [
      "66\n",
      "ert\n",
      "abc\n"
     ]
    }
   ],
   "source": [
    "s = {\"abc\", \"ert\", 66}\n",
    "for x in s:\n",
    "  print(x)"
   ]
  },
  {
   "cell_type": "code",
   "execution_count": 6,
   "id": "557b1f5e-d9c5-43f2-9555-1b9a276ab2da",
   "metadata": {},
   "outputs": [
    {
     "name": "stdout",
     "output_type": "stream",
     "text": [
      "True\n"
     ]
    }
   ],
   "source": [
    "s = {\"abc\", \"ert\", 66}\n",
    "print(\"abc\" in s)"
   ]
  },
  {
   "cell_type": "code",
   "execution_count": 7,
   "id": "42f6b0fa-b0ab-484f-ad46-b3301f08127a",
   "metadata": {},
   "outputs": [
    {
     "name": "stdout",
     "output_type": "stream",
     "text": [
      "False\n"
     ]
    }
   ],
   "source": [
    "s = {\"abc\", \"ert\", 66}\n",
    "print(\"abc\" not in s)"
   ]
  },
  {
   "cell_type": "markdown",
   "id": "50702c1b-b9a0-4e58-b992-3b91b40f546a",
   "metadata": {},
   "source": [
    "## add items"
   ]
  },
  {
   "cell_type": "code",
   "execution_count": 8,
   "id": "6a7d739b-953e-45e8-98ac-dd1a7337a6da",
   "metadata": {},
   "outputs": [
    {
     "name": "stdout",
     "output_type": "stream",
     "text": [
      "{66, 'ert', 87, 'abc'}\n"
     ]
    }
   ],
   "source": [
    "s = {\"abc\", \"ert\", 66}\n",
    "s.add(87)\n",
    "print(s)"
   ]
  },
  {
   "cell_type": "code",
   "execution_count": 10,
   "id": "02a96f7b-7447-46c7-94de-70d0e33d97d3",
   "metadata": {},
   "outputs": [
    {
     "name": "stdout",
     "output_type": "stream",
     "text": [
      "{66, 'rtk', 'abc', 'urf', 'ert'}\n"
     ]
    }
   ],
   "source": [
    "s = {\"abc\", \"ert\", 66}\n",
    "t = {\"rtk\", \"urf\"}\n",
    "s.update(t)\n",
    "print(s)"
   ]
  },
  {
   "cell_type": "markdown",
   "id": "a507e005-c5a3-4686-bf3f-1412498e3ba8",
   "metadata": {},
   "source": [
    "### add any iterable"
   ]
  },
  {
   "cell_type": "code",
   "execution_count": 11,
   "id": "30344320-35d4-4f67-9ab0-57901a632be7",
   "metadata": {},
   "outputs": [
    {
     "name": "stdout",
     "output_type": "stream",
     "text": [
      "{'abc', 67, 'bfg', 87, 'ert'}\n"
     ]
    }
   ],
   "source": [
    "# The object in the update() method does not have to be a set, it can be any iterable object (tuples, lists, dictionaries etc.).\n",
    "s = {\"abc\", \"bfg\", 67}\n",
    "t = [\"ert\", 87]\n",
    "s.update(t)\n",
    "print(s)"
   ]
  },
  {
   "cell_type": "code",
   "execution_count": 14,
   "id": "77bd7413-2dc0-4fc4-836a-8c2e4e5c5744",
   "metadata": {},
   "outputs": [
    {
     "name": "stdout",
     "output_type": "stream",
     "text": [
      "{67, 'bfg', 87, 'abc', 'ert'}\n"
     ]
    }
   ],
   "source": [
    "s = [\"abc\", \"bfg\", 67]\n",
    "t = {\"ert\", 87}\n",
    "t.update(s)\n",
    "print(t)"
   ]
  },
  {
   "cell_type": "markdown",
   "id": "c5cf9c03-33b6-4efc-83ed-b4c4f40299cb",
   "metadata": {},
   "source": [
    "## remove items"
   ]
  },
  {
   "cell_type": "code",
   "execution_count": 16,
   "id": "d53d0971-6d6e-473c-ba43-371520875479",
   "metadata": {},
   "outputs": [
    {
     "name": "stdout",
     "output_type": "stream",
     "text": [
      "{'ert', 'abc'}\n"
     ]
    }
   ],
   "source": [
    "# To remove an item in a set, use the remove(), or the discard() method.\n",
    "s = {\"abc\", \"ert\", 66}\n",
    "s.remove(66)\n",
    "print(s)"
   ]
  },
  {
   "cell_type": "code",
   "execution_count": 17,
   "id": "769ffc4f-b060-4b7a-b2a4-5ef13867a72e",
   "metadata": {},
   "outputs": [
    {
     "ename": "KeyError",
     "evalue": "87",
     "output_type": "error",
     "traceback": [
      "\u001b[1;31m---------------------------------------------------------------------------\u001b[0m",
      "\u001b[1;31mKeyError\u001b[0m                                  Traceback (most recent call last)",
      "Cell \u001b[1;32mIn[17], line 2\u001b[0m\n\u001b[0;32m      1\u001b[0m s \u001b[38;5;241m=\u001b[39m {\u001b[38;5;124m\"\u001b[39m\u001b[38;5;124mabc\u001b[39m\u001b[38;5;124m\"\u001b[39m, \u001b[38;5;124m\"\u001b[39m\u001b[38;5;124mert\u001b[39m\u001b[38;5;124m\"\u001b[39m, \u001b[38;5;241m66\u001b[39m}\n\u001b[1;32m----> 2\u001b[0m \u001b[43ms\u001b[49m\u001b[38;5;241;43m.\u001b[39;49m\u001b[43mremove\u001b[49m\u001b[43m(\u001b[49m\u001b[38;5;241;43m87\u001b[39;49m\u001b[43m)\u001b[49m\n\u001b[0;32m      3\u001b[0m \u001b[38;5;28mprint\u001b[39m(s)\n",
      "\u001b[1;31mKeyError\u001b[0m: 87"
     ]
    }
   ],
   "source": [
    "s = {\"abc\", \"ert\", 66}\n",
    "s.remove(87)\n",
    "print(s)"
   ]
  },
  {
   "cell_type": "code",
   "execution_count": 18,
   "id": "4385340d-c558-45e0-b364-3965aef26def",
   "metadata": {},
   "outputs": [
    {
     "name": "stdout",
     "output_type": "stream",
     "text": [
      "{'ert', 'abc'}\n"
     ]
    }
   ],
   "source": [
    "s = {\"abc\", \"ert\", 66}\n",
    "s.discard(66)\n",
    "print(s)"
   ]
  },
  {
   "cell_type": "code",
   "execution_count": 19,
   "id": "dbd50976-80bc-497f-bd32-041ca703ddfd",
   "metadata": {},
   "outputs": [
    {
     "name": "stdout",
     "output_type": "stream",
     "text": [
      "{66, 'ert', 'abc'}\n"
     ]
    }
   ],
   "source": [
    "s = {\"abc\", \"ert\", 66}\n",
    "s.discard(87)\n",
    "print(s)"
   ]
  },
  {
   "cell_type": "code",
   "execution_count": 22,
   "id": "eb7a5fb0-b18c-4a45-801c-fb387b81dca6",
   "metadata": {},
   "outputs": [
    {
     "name": "stdout",
     "output_type": "stream",
     "text": [
      "{'btr', 'abc'}\n"
     ]
    }
   ],
   "source": [
    "s = {\"abc\", \"btr\", \"cher\"}\n",
    "s.pop()\n",
    "print(s)"
   ]
  },
  {
   "cell_type": "code",
   "execution_count": 23,
   "id": "f2d0224c-254a-4776-9f2a-18640e5819ef",
   "metadata": {},
   "outputs": [
    {
     "name": "stdout",
     "output_type": "stream",
     "text": [
      "set()\n"
     ]
    }
   ],
   "source": [
    "s = {\"abc\", \"btr\", \"cher\"}\n",
    "s.clear()\n",
    "print(s)"
   ]
  },
  {
   "cell_type": "code",
   "execution_count": 26,
   "id": "c94abf37-480e-4628-925e-2ef274d0680e",
   "metadata": {},
   "outputs": [],
   "source": [
    "s = {\"abc\", \"btr\", \"cher\"}\n",
    "del s"
   ]
  },
  {
   "cell_type": "markdown",
   "id": "3602f002-92e9-4276-9dc3-3b5341e12fc8",
   "metadata": {},
   "source": [
    "## join sets"
   ]
  },
  {
   "cell_type": "markdown",
   "id": "3348bd1e-5085-4ff8-bc5e-bf4d79899e94",
   "metadata": {},
   "source": [
    "#### union"
   ]
  },
  {
   "cell_type": "code",
   "execution_count": 41,
   "id": "8b486fcf-bd58-4ea8-a55b-dd870ee00704",
   "metadata": {},
   "outputs": [
    {
     "name": "stdout",
     "output_type": "stream",
     "text": [
      "{1, 2, 'd', 'b', 'c', 3, 'a'}\n"
     ]
    }
   ],
   "source": [
    "s1 = {\"a\", \"b\", \"c\", \"d\"}\n",
    "s2 = {1, 2, 3}\n",
    "s3 = s1.union(s2)\n",
    "print(s3)"
   ]
  },
  {
   "cell_type": "code",
   "execution_count": 28,
   "id": "0e722807-c739-4b31-9a3e-6b8403311bc2",
   "metadata": {},
   "outputs": [
    {
     "name": "stdout",
     "output_type": "stream",
     "text": [
      "{1, 2, 'd', 'b', 'c', 3, 'a'}\n"
     ]
    }
   ],
   "source": [
    "s1 = {\"a\", \"b\", \"c\", \"d\"}\n",
    "s2 = {1, 2, 3}\n",
    "s3 = s1|s2\n",
    "print(s3)"
   ]
  },
  {
   "cell_type": "code",
   "execution_count": 29,
   "id": "f19056d7-0261-425f-b8f3-e851060b1c3c",
   "metadata": {},
   "outputs": [
    {
     "name": "stdout",
     "output_type": "stream",
     "text": [
      "{1, 2, 'c', 'b', 3, 'ban', 'cher', 'a', 'Jo', 'avb', 'El'}\n"
     ]
    }
   ],
   "source": [
    "s1 = {\"a\", \"b\", \"c\"}\n",
    "s2 = {1, 2, 3}\n",
    "s3 = {\"Jo\", \"El\"}\n",
    "s4 = {\"avb\", \"ban\", \"cher\"}\n",
    "s5 = s1.union(s2, s3, s4)\n",
    "print(s5)"
   ]
  },
  {
   "cell_type": "code",
   "execution_count": 31,
   "id": "1c9d1b4e-120f-4528-a7e6-7640ab403213",
   "metadata": {},
   "outputs": [
    {
     "name": "stdout",
     "output_type": "stream",
     "text": [
      "{1, 2, 'c', 'b', 3, 'ban', 'cher', 'a', 'Jo', 'avb', 'El'}\n"
     ]
    }
   ],
   "source": [
    "s1 = {\"a\", \"b\", \"c\"}\n",
    "s2 = {1, 2, 3}\n",
    "s3 = {\"Jo\", \"El\"}\n",
    "s4 = {\"avb\", \"ban\", \"cher\"}\n",
    "s5 = s1|s2|s3|s4\n",
    "print(s5)"
   ]
  },
  {
   "cell_type": "code",
   "execution_count": 35,
   "id": "5f41010a-6918-4c9b-b8ac-5161f087a00e",
   "metadata": {},
   "outputs": [
    {
     "name": "stdout",
     "output_type": "stream",
     "text": [
      "{1, 2, 'c', 'b', 3, 'a'}\n"
     ]
    }
   ],
   "source": [
    "# The union() method allows you to join a set with other data types, like lists or tuples.\n",
    "x = {\"a\", \"b\", \"c\"}\n",
    "y = (1, 2, 3)\n",
    "z = x.union(y)\n",
    "print(z)"
   ]
  },
  {
   "cell_type": "code",
   "execution_count": 34,
   "id": "09babc3f-1bbe-4c63-828c-9795d2864073",
   "metadata": {},
   "outputs": [
    {
     "name": "stdout",
     "output_type": "stream",
     "text": [
      "{1, 2, 'c', 'b', 3, 'a'}\n"
     ]
    }
   ],
   "source": [
    "s1 = {\"a\", \"b\" , \"c\"}\n",
    "s2 = {1, 2, 3}\n",
    "s1|=s2    #update\n",
    "print(s1)"
   ]
  },
  {
   "cell_type": "markdown",
   "id": "e2c2c54f-4252-4cca-96ec-8e274d7ea849",
   "metadata": {},
   "source": [
    "#### intersection"
   ]
  },
  {
   "cell_type": "code",
   "execution_count": 36,
   "id": "0efbe3c5-9714-4aae-bf07-23718abb8a74",
   "metadata": {},
   "outputs": [
    {
     "name": "stdout",
     "output_type": "stream",
     "text": [
      "{'app'}\n"
     ]
    }
   ],
   "source": [
    "s1 = {\"app\", \"bann\", \"cher\"}\n",
    "s2 = {\"goggle\", \"software\", \"app\"}\n",
    "s3 = s1.intersection(s2)\n",
    "print(s3)"
   ]
  },
  {
   "cell_type": "code",
   "execution_count": 37,
   "id": "a44e8299-a097-4fc3-8041-53e270b9adc5",
   "metadata": {},
   "outputs": [
    {
     "name": "stdout",
     "output_type": "stream",
     "text": [
      "{'app'}\n"
     ]
    }
   ],
   "source": [
    "s1 = {\"app\", \"bann\", \"cher\"}\n",
    "s2 = {\"goggle\", \"software\", \"app\"}\n",
    "s3 = s1&s2\n",
    "print(s3)"
   ]
  },
  {
   "cell_type": "code",
   "execution_count": 38,
   "id": "94af7361-0633-4ed0-8bff-86bb13edac76",
   "metadata": {},
   "outputs": [
    {
     "name": "stdout",
     "output_type": "stream",
     "text": [
      "{False, 1, 'app'}\n"
     ]
    }
   ],
   "source": [
    "s1 = {\"app\", 1,  \"ban\", 0, \"cher\"}\n",
    "s2 = {False, \"goggle\", 1, \"app\", 2, True}\n",
    "s3 = s1.intersection(s2)\n",
    "print(s3)"
   ]
  },
  {
   "cell_type": "code",
   "execution_count": 46,
   "id": "8e85867c-4351-49d4-955b-56145ba6b423",
   "metadata": {},
   "outputs": [
    {
     "name": "stdout",
     "output_type": "stream",
     "text": [
      "{False, 1, 'app'}\n"
     ]
    }
   ],
   "source": [
    "s1 = {\"app\", 1,  \"ban\", 0, \"cher\"}\n",
    "s2 = {False, \"goggle\", 1, \"app\", 2, True}\n",
    "s1.intersection_update(s2)\n",
    "print(s1)"
   ]
  },
  {
   "cell_type": "markdown",
   "id": "87a93246-f7d6-4606-a1e4-025ff1d3b8e4",
   "metadata": {},
   "source": [
    "#### difference"
   ]
  },
  {
   "cell_type": "code",
   "execution_count": 42,
   "id": "7c9fb04c-0ec5-4124-be6a-bdd0cd8fbaeb",
   "metadata": {},
   "outputs": [
    {
     "name": "stdout",
     "output_type": "stream",
     "text": [
      "{'cher', 'bann'}\n"
     ]
    }
   ],
   "source": [
    "s1 = {\"app\", \"bann\", \"cher\"}\n",
    "s2 = {\"goggle\", \"software\", \"app\"}\n",
    "s3 = s1-s2\n",
    "print(s3)"
   ]
  },
  {
   "cell_type": "code",
   "execution_count": 43,
   "id": "61200448-e117-4dfa-824e-92b94ce38fda",
   "metadata": {},
   "outputs": [
    {
     "name": "stdout",
     "output_type": "stream",
     "text": [
      "{'cher', 'ban'}\n"
     ]
    }
   ],
   "source": [
    "s1 = {\"app\", 1,  \"ban\", 0, \"cher\"}\n",
    "s2 = {False, \"goggle\", 1, \"app\", 2, True}\n",
    "s3 = s1.difference(s2)\n",
    "print(s3)"
   ]
  },
  {
   "cell_type": "code",
   "execution_count": 45,
   "id": "3d9d509b-2a3c-48fd-a1d7-b415d5d5047a",
   "metadata": {},
   "outputs": [
    {
     "name": "stdout",
     "output_type": "stream",
     "text": [
      "{'cher', 'ban'}\n"
     ]
    }
   ],
   "source": [
    "s1 = {\"app\", 1,  \"ban\", 0, \"cher\"}\n",
    "s2 = {False, \"goggle\", 1, \"app\", 2, True}\n",
    "s1.difference_update(s2)\n",
    "print(s1)"
   ]
  },
  {
   "cell_type": "markdown",
   "id": "c28721db-5b26-4c5c-a7d5-0f018a7f236c",
   "metadata": {},
   "source": [
    "#### symmetric difference"
   ]
  },
  {
   "cell_type": "code",
   "execution_count": 47,
   "id": "d629baec-9a71-4e32-9db2-4582901b6044",
   "metadata": {},
   "outputs": [
    {
     "name": "stdout",
     "output_type": "stream",
     "text": [
      "{'cher', 2, 'ban', 'goggle'}\n"
     ]
    }
   ],
   "source": [
    "s1 = {\"app\", 1,  \"ban\", 0, \"cher\"}\n",
    "s2 = {False, \"goggle\", 1, \"app\", 2, True}\n",
    "s3 = s1.symmetric_difference(s2)\n",
    "print(s3)"
   ]
  },
  {
   "cell_type": "code",
   "execution_count": 49,
   "id": "63a78f38-a58b-49e7-aa61-9b3be4f1c754",
   "metadata": {},
   "outputs": [
    {
     "name": "stdout",
     "output_type": "stream",
     "text": [
      "{'cher', 2, 'ban', 'goggle'}\n"
     ]
    }
   ],
   "source": [
    "s1 = {\"app\", 1,  \"ban\", 0, \"cher\"}\n",
    "s2 = {False, \"goggle\", 1, \"app\", 2, True}\n",
    "s3 = s1 ^ s2\n",
    "print(s3)"
   ]
  },
  {
   "cell_type": "code",
   "execution_count": 48,
   "id": "074cd93d-1cdb-46ce-bcf5-8db64449e5d9",
   "metadata": {},
   "outputs": [
    {
     "name": "stdout",
     "output_type": "stream",
     "text": [
      "{'cher', 'ban', 2, 'goggle'}\n"
     ]
    }
   ],
   "source": [
    "s1 = {\"app\", 1,  \"ban\", 0, \"cher\"}\n",
    "s2 = {False, \"goggle\", 1, \"app\", 2, True}\n",
    "s1.symmetric_difference_update(s2)\n",
    "print(s1)"
   ]
  },
  {
   "cell_type": "markdown",
   "id": "b9939bbc-b155-4c71-aec2-9979bff2a5ee",
   "metadata": {},
   "source": [
    "# dictionaries"
   ]
  },
  {
   "cell_type": "code",
   "execution_count": 1,
   "id": "53935f42-a404-4e9d-b82e-fdb1c9fd21d2",
   "metadata": {},
   "outputs": [
    {
     "name": "stdout",
     "output_type": "stream",
     "text": [
      "{'India': 'Delhi', 'Pakistan': 'Kabul', 'England': 'London'}\n"
     ]
    }
   ],
   "source": [
    "# Dictionaries are used to store data values in key:value pairs.\n",
    "# A dictionary is a collection which is ordered*, changeable and do not allow duplicates.\n",
    "# Dictionaries are written with curly brackets, and have keys and values:\n",
    "country_capitals =\t{\n",
    "  \"India\": \"Delhi\",\n",
    "  \"Pakistan\": \"Kabul\",\n",
    "  \"England\": \"London\"\n",
    "}\n",
    "print(country_capitals)"
   ]
  },
  {
   "cell_type": "code",
   "execution_count": 2,
   "id": "8046d3bc-4ef7-4d90-8a16-2ca935456bb1",
   "metadata": {},
   "outputs": [
    {
     "name": "stdout",
     "output_type": "stream",
     "text": [
      "{'India': 'haryana', 'Pakistan': 'Kabul', 'England': 'London'}\n"
     ]
    }
   ],
   "source": [
    "country_capitals =\t{\n",
    "  \"India\": \"Delhi\",                # Duplicates are not allowed\n",
    "  \"Pakistan\": \"Kabul\",\n",
    "  \"England\": \"London\",\n",
    "  \"India\": \"haryana\"\n",
    "}\n",
    "print(country_capitals)"
   ]
  },
  {
   "cell_type": "code",
   "execution_count": 3,
   "id": "3229b2d2-b807-45f6-b66b-b2a8869faa31",
   "metadata": {},
   "outputs": [
    {
     "name": "stdout",
     "output_type": "stream",
     "text": [
      "3\n"
     ]
    }
   ],
   "source": [
    "country_capitals =\t{\n",
    "  \"India\": \"Delhi\",\n",
    "  \"Pakistan\": \"Kabul\",\n",
    "  \"England\": \"London\"\n",
    "}\n",
    "print(len(country_capitals))"
   ]
  },
  {
   "cell_type": "code",
   "execution_count": 4,
   "id": "53f79fba-8106-4b18-a6a6-515324efe2a3",
   "metadata": {},
   "outputs": [
    {
     "name": "stdout",
     "output_type": "stream",
     "text": [
      "<class 'dict'>\n"
     ]
    }
   ],
   "source": [
    "country_capitals =\t{\n",
    "  \"India\": \"Delhi\",\n",
    "  \"Pakistan\": \"Kabul\",\n",
    "  \"England\": \"London\"\n",
    "}\n",
    "print(type(country_capitals))"
   ]
  },
  {
   "cell_type": "code",
   "execution_count": 5,
   "id": "b65d3867-0e4b-4249-a5a2-88fc100a80b0",
   "metadata": {},
   "outputs": [
    {
     "name": "stdout",
     "output_type": "stream",
     "text": [
      "{'name': 'divya', 'age': 23, 'country': 'India'}\n"
     ]
    }
   ],
   "source": [
    "d = dict(name = \"divya\", age = 23, country = \"India\")\n",
    "print(d)\n"
   ]
  },
  {
   "cell_type": "markdown",
   "id": "afa7ef98-4226-45ad-b726-26b7d87e700a",
   "metadata": {},
   "source": [
    "## access items"
   ]
  },
  {
   "cell_type": "code",
   "execution_count": 7,
   "id": "5cf1de1a-7288-46f1-9651-63e149d798c0",
   "metadata": {},
   "outputs": [
    {
     "name": "stdout",
     "output_type": "stream",
     "text": [
      "Kabul\n"
     ]
    }
   ],
   "source": [
    "country_capitals =\t{\n",
    "  \"India\": \"Delhi\",\n",
    "  \"Pakistan\": \"Kabul\",\n",
    "  \"England\": \"London\"\n",
    "}\n",
    "x = country_capitals['Pakistan']\n",
    "print(x)"
   ]
  },
  {
   "cell_type": "code",
   "execution_count": 9,
   "id": "13a19d93-682d-4752-9c4b-bef5cfedfc10",
   "metadata": {},
   "outputs": [
    {
     "name": "stdout",
     "output_type": "stream",
     "text": [
      "Delhi\n"
     ]
    }
   ],
   "source": [
    "country_capitals =\t{\n",
    "  \"India\": \"Delhi\",\n",
    "  \"Pakistan\": \"Kabul\",\n",
    "  \"England\": \"London\"\n",
    "}\n",
    "x = country_capitals.get('India')\n",
    "print(x)"
   ]
  },
  {
   "cell_type": "markdown",
   "id": "eef00880-e3a1-4805-88ab-61728b9bb51d",
   "metadata": {},
   "source": [
    "### get keys"
   ]
  },
  {
   "cell_type": "code",
   "execution_count": 11,
   "id": "24e60720-e0c7-47da-b5ae-7792cf9a24fb",
   "metadata": {},
   "outputs": [
    {
     "name": "stdout",
     "output_type": "stream",
     "text": [
      "dict_keys(['India', 'Pakistan', 'England'])\n"
     ]
    }
   ],
   "source": [
    "x = country_capitals.keys()\n",
    "print(x)"
   ]
  },
  {
   "cell_type": "code",
   "execution_count": 13,
   "id": "767f31dd-5a06-4d9f-855e-4809a431523c",
   "metadata": {},
   "outputs": [
    {
     "name": "stdout",
     "output_type": "stream",
     "text": [
      "dict_keys(['brand', 'model', 'year'])\n",
      "dict_keys(['brand', 'model', 'year', 'color'])\n"
     ]
    }
   ],
   "source": [
    "car = {\n",
    "\"brand\": \"Ford\",\n",
    "\"model\": \"Mustang\",\n",
    "\"year\": 1964\n",
    "}\n",
    "x = car.keys()\n",
    "print(x)                   #before the change\n",
    "car[\"color\"] = \"white\"\n",
    "print(x)                   #after the change"
   ]
  },
  {
   "cell_type": "markdown",
   "id": "ea74ad4b-a3d2-48de-955f-aaca1c325830",
   "metadata": {},
   "source": [
    "### get values"
   ]
  },
  {
   "cell_type": "code",
   "execution_count": 12,
   "id": "79ee7cbd-687e-428f-bb63-8bbf4289d9b6",
   "metadata": {},
   "outputs": [
    {
     "name": "stdout",
     "output_type": "stream",
     "text": [
      "dict_values(['Delhi', 'Kabul', 'London'])\n"
     ]
    }
   ],
   "source": [
    "x = country_capitals.values()\n",
    "print(x)"
   ]
  },
  {
   "cell_type": "code",
   "execution_count": 14,
   "id": "1d4dd6ef-0783-4dc7-b723-b4bc3ef78db8",
   "metadata": {},
   "outputs": [
    {
     "name": "stdout",
     "output_type": "stream",
     "text": [
      "dict_values(['Ford', 'Mustang', 1964])\n",
      "dict_values(['Ford', 'Mustang', 1964, 'white'])\n"
     ]
    }
   ],
   "source": [
    "car = {\n",
    "\"brand\": \"Ford\",\n",
    "\"model\": \"Mustang\",\n",
    "\"year\": 1964\n",
    "}\n",
    "x = car.values()\n",
    "print(x)                  #before the change\n",
    "car[\"color\"] = \"white\"\n",
    "print(x)                  #after the change"
   ]
  },
  {
   "cell_type": "markdown",
   "id": "1aa7ad59-2e7d-4ef1-b43d-84eb0d52c9e9",
   "metadata": {},
   "source": [
    "### get items"
   ]
  },
  {
   "cell_type": "code",
   "execution_count": 15,
   "id": "b5cbe9d6-e9a7-49a2-904d-af98b371b995",
   "metadata": {},
   "outputs": [
    {
     "name": "stdout",
     "output_type": "stream",
     "text": [
      "dict_items([('India', 'Delhi'), ('Pakistan', 'Kabul'), ('England', 'London')])\n"
     ]
    }
   ],
   "source": [
    "x = country_capitals.items()\n",
    "print(x)"
   ]
  },
  {
   "cell_type": "code",
   "execution_count": 16,
   "id": "d02f762a-c661-491d-971d-62f573ac4531",
   "metadata": {},
   "outputs": [
    {
     "name": "stdout",
     "output_type": "stream",
     "text": [
      "dict_items([('brand', 'Ford'), ('model', 'Mustang'), ('year', 1964)])\n",
      "dict_items([('brand', 'Ford'), ('model', 'Mustang'), ('year', 1964), ('color', 'white')])\n"
     ]
    }
   ],
   "source": [
    "car = {\n",
    "\"brand\": \"Ford\",\n",
    "\"model\": \"Mustang\",\n",
    "\"year\": 1964\n",
    "}\n",
    "x = car.items()\n",
    "print(x)                  #before the change\n",
    "car[\"color\"] = \"white\"\n",
    "print(x)                  #after the change"
   ]
  },
  {
   "cell_type": "markdown",
   "id": "5e859fd5-cd9d-44df-b91b-963da7651d07",
   "metadata": {},
   "source": [
    "## change items"
   ]
  },
  {
   "cell_type": "markdown",
   "id": "0ddebbb1-de0e-4d30-a65d-5f6d13a6740b",
   "metadata": {},
   "source": [
    "### change values"
   ]
  },
  {
   "cell_type": "code",
   "execution_count": 19,
   "id": "073d2c97-720a-4731-8ca7-b6064bb6807c",
   "metadata": {},
   "outputs": [
    {
     "name": "stdout",
     "output_type": "stream",
     "text": [
      "{'India': 'Delhi', 'Pakistan': 'Germany', 'England': 'London'}\n"
     ]
    }
   ],
   "source": [
    "country_capitals =\t{\n",
    "  \"India\": \"Delhi\",\n",
    "  \"Pakistan\": \"Kabul\",\n",
    "  \"England\": \"London\"\n",
    "}\n",
    "country_capitals['Pakistan'] = \"Germany\"\n",
    "print(country_capitals)"
   ]
  },
  {
   "cell_type": "markdown",
   "id": "31458d40-b53b-4041-b15e-d57cdc40e8cc",
   "metadata": {},
   "source": [
    "### update"
   ]
  },
  {
   "cell_type": "code",
   "execution_count": 20,
   "id": "fdd314ba-e516-4512-ba7d-19ae046a6e95",
   "metadata": {},
   "outputs": [
    {
     "name": "stdout",
     "output_type": "stream",
     "text": [
      "{'India': 'Delhi', 'Pakistan': 'Iran', 'England': 'London'}\n"
     ]
    }
   ],
   "source": [
    "country_capitals =\t{\n",
    "  \"India\": \"Delhi\",\n",
    "  \"Pakistan\": \"Kabul\",\n",
    "  \"England\": \"London\"\n",
    "}\n",
    "country_capitals.update({'Pakistan':\"Iran\"})\n",
    "print(country_capitals)"
   ]
  },
  {
   "cell_type": "markdown",
   "id": "bd166cb0-e39f-430b-9ba9-32b544610446",
   "metadata": {},
   "source": [
    "## add items"
   ]
  },
  {
   "cell_type": "code",
   "execution_count": 22,
   "id": "362d9837-03aa-4a09-aa82-67de950d97c8",
   "metadata": {},
   "outputs": [
    {
     "name": "stdout",
     "output_type": "stream",
     "text": [
      "{'brand': 'Ford', 'model': 'Mustang', 'year': 1964, 'color': 'white'}\n"
     ]
    }
   ],
   "source": [
    "car = {\n",
    "\"brand\": \"Ford\",\n",
    "\"model\": \"Mustang\",\n",
    "\"year\": 1964\n",
    "}                  \n",
    "car[\"color\"] = \"white\"\n",
    "print(car)                   "
   ]
  },
  {
   "cell_type": "markdown",
   "id": "2719c235-df46-4bec-ba1f-067a7eb91de0",
   "metadata": {},
   "source": [
    "## remove items"
   ]
  },
  {
   "cell_type": "code",
   "execution_count": 26,
   "id": "260fd0e5-c0dc-4807-960f-a9628b5f63d4",
   "metadata": {},
   "outputs": [
    {
     "name": "stdout",
     "output_type": "stream",
     "text": [
      "{'brand': 'Ford', 'model': 'Mustang'}\n"
     ]
    }
   ],
   "source": [
    "car = {\n",
    "\"brand\": \"Ford\",\n",
    "\"model\": \"Mustang\",\n",
    "\"year\": 1964\n",
    "}                  \n",
    "car.pop(\"year\")\n",
    "print(car)                   "
   ]
  },
  {
   "cell_type": "code",
   "execution_count": 27,
   "id": "bb90bbf2-8884-4a2d-afa8-7ae6257afe20",
   "metadata": {},
   "outputs": [
    {
     "name": "stdout",
     "output_type": "stream",
     "text": [
      "{'brand': 'Ford', 'model': 'Mustang'}\n"
     ]
    }
   ],
   "source": [
    "car = {\n",
    "\"brand\": \"Ford\",\n",
    "\"model\": \"Mustang\",\n",
    "\"year\": 1964\n",
    "}                  \n",
    "car.popitem()\n",
    "print(car)                   "
   ]
  },
  {
   "cell_type": "code",
   "execution_count": 28,
   "id": "5aa8a736-8793-4cd8-ae98-a7706e1c0093",
   "metadata": {},
   "outputs": [
    {
     "name": "stdout",
     "output_type": "stream",
     "text": [
      "{'brand': 'Ford', 'year': 1964}\n"
     ]
    }
   ],
   "source": [
    "car = {\n",
    "\"brand\": \"Ford\",\n",
    "\"model\": \"Mustang\",\n",
    "\"year\": 1964\n",
    "}                  \n",
    "del car[\"model\"] \n",
    "print(car) "
   ]
  },
  {
   "cell_type": "code",
   "execution_count": 31,
   "id": "91c00774-0e06-49f0-947e-0ce247e6fe9f",
   "metadata": {},
   "outputs": [],
   "source": [
    "car = {\n",
    "\"brand\": \"Ford\",\n",
    "\"model\": \"Mustang\",\n",
    "\"year\": 1964\n",
    "}                  \n",
    "del car "
   ]
  },
  {
   "cell_type": "code",
   "execution_count": 32,
   "id": "b9566d62-a5cd-4c3d-a3a9-f11195b1906a",
   "metadata": {},
   "outputs": [
    {
     "name": "stdout",
     "output_type": "stream",
     "text": [
      "{}\n"
     ]
    }
   ],
   "source": [
    "car = {\n",
    "\"brand\": \"Ford\",\n",
    "\"model\": \"Mustang\",\n",
    "\"year\": 1964\n",
    "}                  \n",
    "car.clear()\n",
    "print(car) "
   ]
  },
  {
   "cell_type": "markdown",
   "id": "02b2b804-3707-4e8c-88bb-1c91586e8cad",
   "metadata": {},
   "source": [
    "## loop dictionaries"
   ]
  },
  {
   "cell_type": "code",
   "execution_count": 46,
   "id": "9189753e-fcb5-434b-b0d8-778a814b1ceb",
   "metadata": {},
   "outputs": [
    {
     "name": "stdout",
     "output_type": "stream",
     "text": [
      "brand\n",
      "model\n",
      "year\n"
     ]
    }
   ],
   "source": [
    "car = {\n",
    " \"brand\": \"Ford\",\n",
    " \"model\": \"Mustang\",\n",
    " \"year\": 1964\n",
    "}  \n",
    "for x in car:\n",
    "  print(x)"
   ]
  },
  {
   "cell_type": "code",
   "execution_count": 47,
   "id": "87440ced-cf9c-4306-addd-d71d28f8fe2c",
   "metadata": {},
   "outputs": [
    {
     "name": "stdout",
     "output_type": "stream",
     "text": [
      "Ford\n",
      "Mustang\n",
      "1964\n"
     ]
    }
   ],
   "source": [
    "for x in car:\n",
    "  print(car[x])"
   ]
  },
  {
   "cell_type": "code",
   "execution_count": 48,
   "id": "74c7f6db-2d24-4969-b4dd-17f3d96628a4",
   "metadata": {},
   "outputs": [
    {
     "name": "stdout",
     "output_type": "stream",
     "text": [
      "Ford\n",
      "Mustang\n",
      "1964\n"
     ]
    }
   ],
   "source": [
    "for x in car.values():\n",
    "  print(x)"
   ]
  },
  {
   "cell_type": "code",
   "execution_count": 49,
   "id": "60313f38-dce2-4421-b0cd-4255b14052c3",
   "metadata": {},
   "outputs": [
    {
     "name": "stdout",
     "output_type": "stream",
     "text": [
      "brand\n",
      "model\n",
      "year\n"
     ]
    }
   ],
   "source": [
    "for x in car.keys():\n",
    "  print(x)"
   ]
  },
  {
   "cell_type": "code",
   "execution_count": 50,
   "id": "a7d583b9-cd46-42bc-ad09-722af3228970",
   "metadata": {},
   "outputs": [
    {
     "name": "stdout",
     "output_type": "stream",
     "text": [
      "('brand', 'Ford')\n",
      "('model', 'Mustang')\n",
      "('year', 1964)\n"
     ]
    }
   ],
   "source": [
    "for x in car.items():\n",
    "  print(x)"
   ]
  },
  {
   "cell_type": "code",
   "execution_count": 51,
   "id": "41d23747-d403-4401-892b-e603e4fb0500",
   "metadata": {},
   "outputs": [
    {
     "name": "stdout",
     "output_type": "stream",
     "text": [
      "brand Ford\n",
      "model Mustang\n",
      "year 1964\n"
     ]
    }
   ],
   "source": [
    "for x, y in car.items():\n",
    "  print(x, y)"
   ]
  },
  {
   "cell_type": "markdown",
   "id": "2f3b1d1c-51d6-4498-8740-7ad247b9a921",
   "metadata": {},
   "source": [
    "### copy dictionaries"
   ]
  },
  {
   "cell_type": "code",
   "execution_count": 54,
   "id": "bd138101-8e7b-479d-83db-c9aa0faaa271",
   "metadata": {},
   "outputs": [
    {
     "name": "stdout",
     "output_type": "stream",
     "text": [
      "{'brand': 'Ford', 'model': 'Mustang', 'year': 1964}\n"
     ]
    }
   ],
   "source": [
    "car = {\n",
    "  \"brand\": \"Ford\",\n",
    "  \"model\": \"Mustang\",\n",
    "  \"year\": 1964\n",
    "}\n",
    "newcar = car.copy()\n",
    "print(newcar)"
   ]
  },
  {
   "cell_type": "code",
   "execution_count": 55,
   "id": "e00c2c97-f4d0-41a1-b19a-365370c36fc0",
   "metadata": {},
   "outputs": [
    {
     "name": "stdout",
     "output_type": "stream",
     "text": [
      "{'brand': 'Ford', 'model': 'Mustang', 'year': 1964}\n"
     ]
    }
   ],
   "source": [
    "car = {\n",
    "  \"brand\": \"Ford\",\n",
    "  \"model\": \"Mustang\",\n",
    "  \"year\": 1964\n",
    "}\n",
    "newcar = dict(car)\n",
    "print(newcar)"
   ]
  },
  {
   "cell_type": "markdown",
   "id": "61bfa03b-b19c-4d30-9239-3332a5cf5bc0",
   "metadata": {},
   "source": [
    "## nested dictionaries"
   ]
  },
  {
   "cell_type": "code",
   "execution_count": 56,
   "id": "15bed8d3-9fe0-4575-98b8-f450c4b2b8a2",
   "metadata": {},
   "outputs": [
    {
     "name": "stdout",
     "output_type": "stream",
     "text": [
      "{'car1': {'name': 'wagnor', 'year': 1965}, 'car2': {'name': 'mustang', 'year': 1974}, 'car3': {'name': 'ford', 'year': 2001}}\n"
     ]
    }
   ],
   "source": [
    "# A dictionary can contain dictionaries, this is called nested dictionaries.\n",
    "mycar = {\n",
    "  \"car1\" : {\n",
    "    \"name\" : \"wagnor\",\n",
    "    \"year\" : 1965\n",
    "  },\n",
    "  \"car2\" : {\n",
    "    \"name\" : \"mustang\",\n",
    "    \"year\" : 1974\n",
    "  },\n",
    "  \"car3\" : {\n",
    "    \"name\" : \"ford\",\n",
    "    \"year\" : 2001\n",
    "  }\n",
    "}\n",
    "print(mycar)"
   ]
  },
  {
   "cell_type": "code",
   "execution_count": 59,
   "id": "f7fbdab4-07e5-4af7-bb75-6103cdc7ac34",
   "metadata": {},
   "outputs": [
    {
     "name": "stdout",
     "output_type": "stream",
     "text": [
      "{'car1': {'name': 'wagnor', 'year': 1965}, 'car2': {'name': 'mustang', 'year': 1974}, 'car3': {'name': 'ford', 'year': 2001}}\n"
     ]
    }
   ],
   "source": [
    "car1 = {\n",
    "   \"name\" : \"wagnor\",\n",
    "    \"year\" : 1965 \n",
    "}\n",
    "car2 = {\n",
    "    \"name\" : \"mustang\",\n",
    "    \"year\" : 1974 \n",
    "}\n",
    "car3 = {\n",
    "  \"name\" : \"ford\",\n",
    "    \"year\" : 2001   \n",
    "}\n",
    "mycar = {\n",
    "   \"car1\" :  car1,\n",
    "   \"car2\" :  car2,\n",
    "   \"car3\" :  car3\n",
    "}\n",
    "print(mycar)"
   ]
  },
  {
   "cell_type": "code",
   "execution_count": 61,
   "id": "b3485457-e80b-45a7-bf9d-741f7c5dd0b2",
   "metadata": {},
   "outputs": [
    {
     "name": "stdout",
     "output_type": "stream",
     "text": [
      "mustang\n"
     ]
    }
   ],
   "source": [
    "mycar = {\n",
    "  \"car1\" : {\n",
    "    \"name\" : \"wagnor\",\n",
    "    \"year\" : 1965\n",
    "  },\n",
    "  \"car2\" : {\n",
    "    \"name\" : \"mustang\",\n",
    "    \"year\" : 1974\n",
    "  },\n",
    "  \"car3\" : {\n",
    "    \"name\" : \"ford\",\n",
    "    \"year\" : 2001\n",
    "  }\n",
    "}\n",
    "print(mycar[\"car2\"][\"name\"])\n",
    ")"
   ]
  },
  {
   "cell_type": "code",
   "execution_count": 67,
   "id": "4553d9fc-93fb-4637-a60c-96c95649f50b",
   "metadata": {},
   "outputs": [
    {
     "name": "stdout",
     "output_type": "stream",
     "text": [
      "car1\n",
      "name: wagnor\n",
      "year: 1965\n",
      "car2\n",
      "name: mustang\n",
      "year: 1974\n",
      "car3\n",
      "name: ford\n",
      "year: 2001\n"
     ]
    }
   ],
   "source": [
    "mycar = {\n",
    "  \"car1\" : {\n",
    "    \"name\" : \"wagnor\",\n",
    "    \"year\" : 1965\n",
    "  },\n",
    "  \"car2\" : {\n",
    "    \"name\" : \"mustang\",\n",
    "    \"year\" : 1974\n",
    "  },\n",
    "  \"car3\" : {\n",
    "    \"name\" : \"ford\",\n",
    "    \"year\" : 2001\n",
    "  }\n",
    "}\n",
    "for x, obj in mycar.items():\n",
    "    print(x)\n",
    "    for y in obj:\n",
    "     print(y + ':', obj[y])"
   ]
  },
  {
   "cell_type": "markdown",
   "id": "ca5b05f1-c01e-4a05-8e04-6f11e604d738",
   "metadata": {},
   "source": [
    "# If-Else"
   ]
  },
  {
   "cell_type": "code",
   "execution_count": 68,
   "id": "29afa38b-c76c-4ffd-8375-ab65db62bf3c",
   "metadata": {},
   "outputs": [
    {
     "name": "stdout",
     "output_type": "stream",
     "text": [
      "b is greater than a\n"
     ]
    }
   ],
   "source": [
    "a = 3\n",
    "b = 20\n",
    "\n",
    "if b > a:\n",
    "  print(\"b is greater than a\")"
   ]
  },
  {
   "cell_type": "markdown",
   "id": "f5071561-6d6d-412e-b9e2-6f6a819ae8b2",
   "metadata": {},
   "source": [
    "### Elif"
   ]
  },
  {
   "cell_type": "code",
   "execution_count": 69,
   "id": "e5da3b43-8032-4966-9005-2c9b6bb3bc2d",
   "metadata": {},
   "outputs": [
    {
     "name": "stdout",
     "output_type": "stream",
     "text": [
      "a and b are equal\n"
     ]
    }
   ],
   "source": [
    "a = 5\n",
    "b = 5\n",
    "if b > a:\n",
    "  print(\"b is greater than a\")\n",
    "elif a == b:\n",
    "  print(\"a and b are equal\")"
   ]
  },
  {
   "cell_type": "markdown",
   "id": "2e332945-8988-45cf-94a2-3e22396dde7c",
   "metadata": {},
   "source": [
    "## Else"
   ]
  },
  {
   "cell_type": "code",
   "execution_count": 70,
   "id": "f138f261-8b42-4a32-af54-452eed32efad",
   "metadata": {},
   "outputs": [
    {
     "name": "stdout",
     "output_type": "stream",
     "text": [
      "a is greater than b\n"
     ]
    }
   ],
   "source": [
    "a = 11\n",
    "b = 3\n",
    "if b > a:\n",
    "  print(\"b is greater than a\")\n",
    "elif a == b:\n",
    "  print(\"a and b are equal\")\n",
    "else:\n",
    "  print(\"a is greater than b\")"
   ]
  },
  {
   "cell_type": "code",
   "execution_count": 73,
   "id": "baed54a6-fe57-4ad2-8c38-0ab02a9967c1",
   "metadata": {},
   "outputs": [
    {
     "name": "stdout",
     "output_type": "stream",
     "text": [
      "b is not greater than a\n"
     ]
    }
   ],
   "source": [
    "# You can also have an else without the elif:\n",
    "a = 11\n",
    "b = 3\n",
    "if b > a:\n",
    "  print(\"b is greater than a\")\n",
    "else:\n",
    "  print(\"b is not greater than a\")"
   ]
  },
  {
   "cell_type": "markdown",
   "id": "d1f65142-86cc-49a0-912c-de0a78718ad9",
   "metadata": {},
   "source": [
    "## Short Hand If"
   ]
  },
  {
   "cell_type": "code",
   "execution_count": 71,
   "id": "4deeea47-eeba-4f81-8c0c-ce5022853a53",
   "metadata": {},
   "outputs": [
    {
     "name": "stdout",
     "output_type": "stream",
     "text": [
      "a is greater than b\n"
     ]
    }
   ],
   "source": [
    "# If you have only one statement to execute, you can put it on the same line as the if statement.\n",
    "a = 20\n",
    "b = 3\n",
    "if a > b: print(\"a is greater than b\")"
   ]
  },
  {
   "cell_type": "markdown",
   "id": "606daf35-b987-40ee-917d-4acdb5fb61dd",
   "metadata": {},
   "source": [
    "## Short Hand If- Else"
   ]
  },
  {
   "cell_type": "code",
   "execution_count": 75,
   "id": "85c71ad9-0a7e-4fb0-bce4-f2e7ce85e5fe",
   "metadata": {},
   "outputs": [
    {
     "name": "stdout",
     "output_type": "stream",
     "text": [
      "B\n"
     ]
    }
   ],
   "source": [
    "a = 2\n",
    "b = 33\n",
    "print(\"A\") if a > b else print(\"B\")"
   ]
  },
  {
   "cell_type": "code",
   "execution_count": 76,
   "id": "c80ecbac-36f5-4e43-8a05-942ce5d47ee4",
   "metadata": {},
   "outputs": [
    {
     "name": "stdout",
     "output_type": "stream",
     "text": [
      "A\n"
     ]
    }
   ],
   "source": [
    "a = 2\n",
    "b = 33\n",
    "print(\"A\") if a < b else print(\"B\")"
   ]
  },
  {
   "cell_type": "code",
   "execution_count": 78,
   "id": "3d979d95-8ce7-47cd-83e2-c50c1eaa52eb",
   "metadata": {},
   "outputs": [
    {
     "name": "stdout",
     "output_type": "stream",
     "text": [
      "A\n"
     ]
    }
   ],
   "source": [
    "a = 33\n",
    "b = 33\n",
    "print(\"A\") if a >= b else print(\"B\")\n",
    "# This technique is known as Ternary Operators, or Conditional Expressions."
   ]
  },
  {
   "cell_type": "code",
   "execution_count": 79,
   "id": "b9aece67-2697-4328-9fc7-01d805262809",
   "metadata": {},
   "outputs": [
    {
     "name": "stdout",
     "output_type": "stream",
     "text": [
      "=\n"
     ]
    }
   ],
   "source": [
    "# You can also have multiple else statements on the same line:\n",
    "a = 330\n",
    "b = 330\n",
    "print(\"A\") if a > b else print(\"=\") if a == b else print(\"B\")"
   ]
  },
  {
   "cell_type": "code",
   "execution_count": 80,
   "id": "1439c310-a7f6-4302-b280-d27d477b86f4",
   "metadata": {},
   "outputs": [
    {
     "name": "stdout",
     "output_type": "stream",
     "text": [
      "B\n"
     ]
    }
   ],
   "source": [
    "a = 300\n",
    "b = 330\n",
    "print(\"A\") if a > b else print(\"=\") if a == b else print(\"B\")"
   ]
  },
  {
   "cell_type": "code",
   "execution_count": 82,
   "id": "6b05f70c-a178-4fd1-baa3-4559e87fe0d7",
   "metadata": {},
   "outputs": [
    {
     "name": "stdout",
     "output_type": "stream",
     "text": [
      "A\n"
     ]
    }
   ],
   "source": [
    "a = 530\n",
    "b = 330\n",
    "print(\"A\") if a > b else print(\"=\") if a == b else print(\"B\")"
   ]
  },
  {
   "cell_type": "markdown",
   "id": "65481911-e71e-451b-a58c-6f786616ae44",
   "metadata": {},
   "source": [
    "## AND"
   ]
  },
  {
   "cell_type": "code",
   "execution_count": 83,
   "id": "3bd283e5-72aa-4498-b3dd-1d7d890fc284",
   "metadata": {},
   "outputs": [
    {
     "name": "stdout",
     "output_type": "stream",
     "text": [
      "Both conditions are True\n"
     ]
    }
   ],
   "source": [
    "a = 200\n",
    "b = 33\n",
    "c = 500\n",
    "if a > b and c > a:\n",
    "  print(\"Both conditions are True\")"
   ]
  },
  {
   "cell_type": "code",
   "execution_count": 93,
   "id": "832dcf90-e9c1-4c4e-9fbf-08953a81863e",
   "metadata": {},
   "outputs": [
    {
     "name": "stdout",
     "output_type": "stream",
     "text": [
      "False\n"
     ]
    }
   ],
   "source": [
    "a = 200\n",
    "b = 33\n",
    "c = 500\n",
    "if a < b and c > a:\n",
    "  print(\"Both conditions are True\")\n",
    "else:\n",
    "  print(\"False\")"
   ]
  },
  {
   "cell_type": "markdown",
   "id": "0bb4a697-fdca-4460-8b3d-cd26412d337e",
   "metadata": {},
   "source": [
    "## OR"
   ]
  },
  {
   "cell_type": "code",
   "execution_count": 94,
   "id": "ffe2185a-af60-453b-a267-a57b2b46b9a1",
   "metadata": {},
   "outputs": [
    {
     "name": "stdout",
     "output_type": "stream",
     "text": [
      "At least one of the conditions is True\n"
     ]
    }
   ],
   "source": [
    "a = 200\n",
    "b = 33\n",
    "c = 500\n",
    "if a > b or a > c:\n",
    "  print(\"At least one of the conditions is True\")"
   ]
  },
  {
   "cell_type": "code",
   "execution_count": 98,
   "id": "fd75882f-6d52-4ab6-87ab-680a948d4ce0",
   "metadata": {},
   "outputs": [
    {
     "name": "stdout",
     "output_type": "stream",
     "text": [
      "True\n"
     ]
    }
   ],
   "source": [
    "a = 20\n",
    "b = 3\n",
    "c = 1\n",
    "if a > b and  b > c:\n",
    "  print(\"True\")"
   ]
  },
  {
   "cell_type": "markdown",
   "id": "001457fe-3ddb-4937-9dbf-d7782bc12c82",
   "metadata": {},
   "source": [
    "## NOT"
   ]
  },
  {
   "cell_type": "code",
   "execution_count": 99,
   "id": "b60e9890-4d92-45bd-8795-97412c7dbc30",
   "metadata": {},
   "outputs": [
    {
     "name": "stdout",
     "output_type": "stream",
     "text": [
      "True\n"
     ]
    }
   ],
   "source": [
    "a = 33\n",
    "b = 200\n",
    "if not a > b:\n",
    "  print(\"True\")"
   ]
  },
  {
   "cell_type": "markdown",
   "id": "6e87888c-3c4f-44cd-95ec-a3bb0881f61e",
   "metadata": {},
   "source": [
    "## Nested If-Else"
   ]
  },
  {
   "cell_type": "code",
   "execution_count": 100,
   "id": "8e528a6b-74b3-474c-9b4f-f2ab493bd34a",
   "metadata": {},
   "outputs": [
    {
     "name": "stdout",
     "output_type": "stream",
     "text": [
      "Above ten,\n",
      "and also above 20!\n"
     ]
    }
   ],
   "source": [
    "x = 55\n",
    "if x > 10:\n",
    "  print(\"Above ten,\")\n",
    "  if x > 20:\n",
    "    print(\"and also above 20!\")\n",
    "  else:\n",
    "    print(\"but not above 20.\")"
   ]
  },
  {
   "cell_type": "code",
   "execution_count": 101,
   "id": "c203e53a-1325-4337-a5b4-e6bab1b916e8",
   "metadata": {},
   "outputs": [
    {
     "name": "stdout",
     "output_type": "stream",
     "text": [
      "Above ten,\n",
      "but not above 20.\n"
     ]
    }
   ],
   "source": [
    "x = 15\n",
    "if x > 10:\n",
    "  print(\"Above ten,\")\n",
    "  if x > 20:\n",
    "    print(\"and also above 20!\")\n",
    "  else:\n",
    "    print(\"but not above 20.\")"
   ]
  },
  {
   "cell_type": "markdown",
   "id": "ed6286ee-085c-44b4-aa97-aba1038d394b",
   "metadata": {},
   "source": [
    "# For loop"
   ]
  },
  {
   "cell_type": "code",
   "execution_count": 4,
   "id": "96d1dd4a-dead-450d-b7ca-fe32a76609b2",
   "metadata": {},
   "outputs": [
    {
     "name": "stdout",
     "output_type": "stream",
     "text": [
      "abc\n",
      "bann\n",
      "err\n"
     ]
    }
   ],
   "source": [
    "#A for loop is used for iterating over a sequence (that is either a list, a tuple, a dictionary, a set, or a string).\n",
    "a = [\"abc\", \"bann\", \"err\"]      #list\n",
    "for x in a:\n",
    "  print(x) "
   ]
  },
  {
   "cell_type": "code",
   "execution_count": 5,
   "id": "36546963-df61-429b-8041-d3adb3659fe0",
   "metadata": {},
   "outputs": [
    {
     "name": "stdout",
     "output_type": "stream",
     "text": [
      "err\n",
      "bann\n",
      "abc\n"
     ]
    }
   ],
   "source": [
    "a = {\"abc\", \"bann\", \"err\"}      #set\n",
    "for x in a:\n",
    "  print(x) "
   ]
  },
  {
   "cell_type": "code",
   "execution_count": 6,
   "id": "df29e2e6-c789-4dee-947a-bc4f845cacf6",
   "metadata": {},
   "outputs": [
    {
     "name": "stdout",
     "output_type": "stream",
     "text": [
      "abc\n",
      "bann\n",
      "err\n"
     ]
    }
   ],
   "source": [
    "a = (\"abc\", \"bann\", \"err\")      #tuple\n",
    "for x in a:\n",
    "  print(x) "
   ]
  },
  {
   "cell_type": "code",
   "execution_count": 17,
   "id": "837c9489-a608-4bfe-a9fd-fb285ab7d556",
   "metadata": {},
   "outputs": [
    {
     "name": "stdout",
     "output_type": "stream",
     "text": [
      "1\n",
      "2\n",
      "3\n"
     ]
    }
   ],
   "source": [
    "dict = {\n",
    "    \"abc\":1,\n",
    "    \"bann\":2, \n",
    "    \"err\":3\n",
    "}                  #dict\n",
    "for x in dict:\n",
    " print(dict[x])"
   ]
  },
  {
   "cell_type": "markdown",
   "id": "fadf00bb-9003-47aa-b818-46447ae819fd",
   "metadata": {},
   "source": [
    "## Looping Through a String\n",
    "Even strings are iterable objects, they contain a sequence of characters:"
   ]
  },
  {
   "cell_type": "code",
   "execution_count": 9,
   "id": "eb88c1e5-0fba-4d52-9381-3ccebdab1e20",
   "metadata": {},
   "outputs": [
    {
     "name": "stdout",
     "output_type": "stream",
     "text": [
      "a\n",
      "b\n",
      "c\n",
      "d\n"
     ]
    }
   ],
   "source": [
    "for x in \"abcd\":\n",
    "  print(x)"
   ]
  },
  {
   "cell_type": "markdown",
   "id": "afbd189a-61d3-494a-942e-fa7577bd1c10",
   "metadata": {},
   "source": [
    "## break statement"
   ]
  },
  {
   "cell_type": "code",
   "execution_count": 10,
   "id": "fd14117c-55d9-4154-8d4d-8cbc85488e02",
   "metadata": {},
   "outputs": [
    {
     "name": "stdout",
     "output_type": "stream",
     "text": [
      "divya\n",
      "deswal\n"
     ]
    }
   ],
   "source": [
    "# With the break statement we can stop the loop before it has looped through all the items:\n",
    "a = [\"divya\", \"deswal\", \"divu\"]       #list\n",
    "for x in a:\n",
    "  print(x)\n",
    "  if x == \"deswal\":\n",
    "    break"
   ]
  },
  {
   "cell_type": "code",
   "execution_count": 11,
   "id": "da35a309-c156-488e-a810-1b4b50293db4",
   "metadata": {},
   "outputs": [
    {
     "name": "stdout",
     "output_type": "stream",
     "text": [
      "divya\n",
      "deswal\n"
     ]
    }
   ],
   "source": [
    "a = (\"divya\", \"deswal\", \"divu\")      #tuple\n",
    "for x in a:\n",
    "  print(x)\n",
    "  if x == \"deswal\":\n",
    "    break"
   ]
  },
  {
   "cell_type": "code",
   "execution_count": 12,
   "id": "70ad2b6c-b4a4-4b13-9cb6-f98709723c0e",
   "metadata": {},
   "outputs": [
    {
     "name": "stdout",
     "output_type": "stream",
     "text": [
      "deswal\n"
     ]
    }
   ],
   "source": [
    "a = {\"divya\", \"deswal\", \"divu\"}       #set\n",
    "for x in a:\n",
    "  print(x)\n",
    "  if x == \"deswal\":\n",
    "    break"
   ]
  },
  {
   "cell_type": "code",
   "execution_count": 15,
   "id": "33e61481-c875-4e47-87ea-8969fc9caf84",
   "metadata": {},
   "outputs": [
    {
     "name": "stdout",
     "output_type": "stream",
     "text": [
      "45\n",
      "56\n"
     ]
    }
   ],
   "source": [
    "a = {\n",
    "    \"divya\":45,\n",
    "    \"deswal\":56,\n",
    "    \"divu\":78\n",
    "}                        #dict\n",
    "for x in a:\n",
    "  print(a[x])\n",
    "  if x == \"deswal\":\n",
    "    break"
   ]
  },
  {
   "cell_type": "markdown",
   "id": "14ca2c4a-e8df-4888-8a11-54039bd75f8c",
   "metadata": {},
   "source": [
    "but this time the break comes before the print:"
   ]
  },
  {
   "cell_type": "code",
   "execution_count": 22,
   "id": "558ba4c6-6757-4554-82ec-d88111ccd155",
   "metadata": {},
   "outputs": [
    {
     "name": "stdout",
     "output_type": "stream",
     "text": [
      "divya\n"
     ]
    }
   ],
   "source": [
    "a = (\"divya\", \"deswal\", \"divu\")      #tuple\n",
    "for x in a:\n",
    "  if x == \"deswal\":\n",
    "    break\n",
    "  print(x)"
   ]
  },
  {
   "cell_type": "code",
   "execution_count": 8,
   "id": "c84a79da-cc5d-47f7-9c9e-09b4ac08a401",
   "metadata": {},
   "outputs": [
    {
     "name": "stdout",
     "output_type": "stream",
     "text": [
      "divya\n"
     ]
    }
   ],
   "source": [
    "a = [\"divya\", \"deswal\", \"divu\"]      #list\n",
    "for x in a:\n",
    "  if x == \"deswal\":\n",
    "    break\n",
    "  print(x)"
   ]
  },
  {
   "cell_type": "code",
   "execution_count": 6,
   "id": "e726b380-0566-47fc-ac69-23e74a02c5fe",
   "metadata": {},
   "outputs": [
    {
     "name": "stdout",
     "output_type": "stream",
     "text": [
      "45\n"
     ]
    }
   ],
   "source": [
    "a = {\n",
    "    \"divya\":45,\n",
    "    \"deswal\":56,\n",
    "    \"divu\":78\n",
    "}                        #dict\n",
    "for x in a:\n",
    "  if x == \"deswal\":\n",
    "    break\n",
    "  print(a[x])"
   ]
  },
  {
   "cell_type": "markdown",
   "id": "d9704d0e-b612-4bea-8b9c-d65df8f67a5f",
   "metadata": {},
   "source": [
    "## The continue Statement\n",
    "With the continue statement we can stop the current iteration of the loop, and continue with the next:"
   ]
  },
  {
   "cell_type": "code",
   "execution_count": 29,
   "id": "75168c34-cf29-48c2-b14a-c37bfe241bfd",
   "metadata": {},
   "outputs": [
    {
     "name": "stdout",
     "output_type": "stream",
     "text": [
      "divya\n",
      "divu\n"
     ]
    }
   ],
   "source": [
    "a = [\"divya\", \"deswal\", \"divu\"]       #list\n",
    "for x in a:\n",
    "  if x == \"deswal\":\n",
    "    continue\n",
    "  print(x)"
   ]
  },
  {
   "cell_type": "code",
   "execution_count": 30,
   "id": "cb1d1274-a7d0-450e-9369-af05cf5713eb",
   "metadata": {},
   "outputs": [
    {
     "name": "stdout",
     "output_type": "stream",
     "text": [
      "divya\n",
      "divu\n"
     ]
    }
   ],
   "source": [
    "a = (\"divya\", \"deswal\", \"divu\")       #tuple\n",
    "for x in a:\n",
    "  if x == \"deswal\":\n",
    "    continue\n",
    "  print(x)"
   ]
  },
  {
   "cell_type": "code",
   "execution_count": 31,
   "id": "51173f70-9603-4cdc-94ea-d35c4116708b",
   "metadata": {},
   "outputs": [
    {
     "name": "stdout",
     "output_type": "stream",
     "text": [
      "divu\n",
      "divya\n"
     ]
    }
   ],
   "source": [
    "a = {\"divya\", \"deswal\", \"divu\"}       #set\n",
    "for x in a:\n",
    "  if x == \"deswal\":\n",
    "    continue\n",
    "  print(x)"
   ]
  },
  {
   "cell_type": "code",
   "execution_count": 13,
   "id": "00ffc42e-11c4-4298-8409-84109e3cd0d6",
   "metadata": {},
   "outputs": [
    {
     "name": "stdout",
     "output_type": "stream",
     "text": [
      "('divya', 45)\n",
      "('divu', 78)\n"
     ]
    }
   ],
   "source": [
    "a = {\n",
    "    \"divya\":45,\n",
    "    \"deswal\":56,\n",
    "    \"divu\":78\n",
    "}                        #dict\n",
    "for x in a.items():\n",
    "    if x == (\"deswal\",56):\n",
    "        continue     \n",
    "    print(x)\n"
   ]
  },
  {
   "cell_type": "markdown",
   "id": "be903310-2836-4577-864c-b594fe3e50e7",
   "metadata": {},
   "source": [
    "when print values before continue statement"
   ]
  },
  {
   "cell_type": "code",
   "execution_count": 49,
   "id": "5d194a4f-3505-4de2-82ec-9dbd38749cd2",
   "metadata": {},
   "outputs": [
    {
     "name": "stdout",
     "output_type": "stream",
     "text": [
      "45\n",
      "56\n",
      "78\n"
     ]
    }
   ],
   "source": [
    "a = {\n",
    "    \"divya\":45,\n",
    "    \"deswal\":56,\n",
    "    \"divu\":78\n",
    "}                        #dict\n",
    "for x in a:\n",
    "  print(a[x])\n",
    "  if x == \"deswal\":\n",
    "    continue"
   ]
  },
  {
   "cell_type": "markdown",
   "id": "40914e8c-8e34-43b4-a5ec-324e2f239ef6",
   "metadata": {},
   "source": [
    "## The range() Function\n",
    "To loop through a set of code a specified number of times, we can use the range() function,\n",
    "The range() function returns a sequence of numbers, starting from 0 by default, and increments by 1 (by default), and ends at a specified number."
   ]
  },
  {
   "cell_type": "code",
   "execution_count": 50,
   "id": "e6583e14-8b75-4905-9737-9b45e0a0b30e",
   "metadata": {},
   "outputs": [
    {
     "name": "stdout",
     "output_type": "stream",
     "text": [
      "0\n",
      "1\n",
      "2\n",
      "3\n",
      "4\n",
      "5\n",
      "6\n"
     ]
    }
   ],
   "source": [
    "for x in range(7):\n",
    "  print(x)"
   ]
  },
  {
   "cell_type": "code",
   "execution_count": 51,
   "id": "d4c0148f-7540-45aa-a561-3c485acb55c2",
   "metadata": {},
   "outputs": [
    {
     "name": "stdout",
     "output_type": "stream",
     "text": [
      "6\n",
      "7\n",
      "8\n",
      "9\n"
     ]
    }
   ],
   "source": [
    "for x in range(6,10):\n",
    "  print(x)"
   ]
  },
  {
   "cell_type": "markdown",
   "id": "3d3aaae9-dd41-4be3-a779-a2eaa4b5d9fa",
   "metadata": {},
   "source": [
    "the range() function defaults to increment the sequence by 1, however it is possible to specify the increment value by adding a third parameter:\n"
   ]
  },
  {
   "cell_type": "code",
   "execution_count": 53,
   "id": "fbcd713a-5cde-4c3f-9238-244a911178e5",
   "metadata": {},
   "outputs": [
    {
     "name": "stdout",
     "output_type": "stream",
     "text": [
      "4\n",
      "8\n",
      "12\n",
      "16\n",
      "20\n",
      "24\n",
      "28\n"
     ]
    }
   ],
   "source": [
    "for x in range(4, 30, 4):\n",
    "  print(x)"
   ]
  },
  {
   "cell_type": "markdown",
   "id": "df0822eb-8dbd-4323-993b-b49a74876b8e",
   "metadata": {},
   "source": [
    "## Else in For Loop\n",
    "The else keyword in a for loop specifies a block of code to be executed when the loop is finished:"
   ]
  },
  {
   "cell_type": "code",
   "execution_count": 56,
   "id": "9fb16043-c9b9-4d5c-9e0e-99192808d14b",
   "metadata": {},
   "outputs": [
    {
     "name": "stdout",
     "output_type": "stream",
     "text": [
      "0\n",
      "1\n",
      "2\n",
      "3\n",
      "finish\n"
     ]
    }
   ],
   "source": [
    "for x in range(4):\n",
    "  print(x)\n",
    "else:\n",
    "  print(\"finish\")"
   ]
  },
  {
   "cell_type": "code",
   "execution_count": 62,
   "id": "5172c89c-1872-41b8-b6ca-53d2304f194e",
   "metadata": {},
   "outputs": [
    {
     "name": "stdout",
     "output_type": "stream",
     "text": [
      "0\n",
      "1\n"
     ]
    }
   ],
   "source": [
    "for x in range(3):\n",
    "  if x == 2: break\n",
    "  print(x)\n",
    "else:\n",
    "  print(\"finish\")\n",
    "\n",
    "#If the loop breaks, the else block is not executed."
   ]
  },
  {
   "cell_type": "markdown",
   "id": "07ac4539-0374-4319-86ce-b1b0d00df4ad",
   "metadata": {},
   "source": [
    "## Nested Loops\n",
    "A nested loop is a loop inside a loop.\n",
    "\n",
    "The \"inner loop\" will be executed one time for each iteration of the \"outer loop\":"
   ]
  },
  {
   "cell_type": "code",
   "execution_count": 63,
   "id": "ece4a739-d313-4013-9d4a-f0a83a341b6a",
   "metadata": {},
   "outputs": [
    {
     "name": "stdout",
     "output_type": "stream",
     "text": [
      "red rohtak\n",
      "red sonipat\n",
      "red panipat\n",
      "blue rohtak\n",
      "blue sonipat\n",
      "blue panipat\n",
      "orange rohtak\n",
      "orange sonipat\n",
      "orange panipat\n"
     ]
    }
   ],
   "source": [
    "a = [\"red\", \"blue\", \"orange\"]  #list\n",
    "b = [\"rohtak\", \"sonipat\", \"panipat\"]\n",
    "\n",
    "for x in a:\n",
    "  for y in b:\n",
    "    print(x, y)"
   ]
  },
  {
   "cell_type": "code",
   "execution_count": 64,
   "id": "b2196006-9a36-490e-b053-c6bb47e31575",
   "metadata": {},
   "outputs": [
    {
     "name": "stdout",
     "output_type": "stream",
     "text": [
      "red rohtak\n",
      "red sonipat\n",
      "red panipat\n",
      "blue rohtak\n",
      "blue sonipat\n",
      "blue panipat\n",
      "orange rohtak\n",
      "orange sonipat\n",
      "orange panipat\n"
     ]
    }
   ],
   "source": [
    "a = (\"red\", \"blue\", \"orange\")  #tuple\n",
    "b = (\"rohtak\", \"sonipat\", \"panipat\")\n",
    "\n",
    "for x in a:\n",
    "  for y in b:\n",
    "    print(x, y)"
   ]
  },
  {
   "cell_type": "code",
   "execution_count": 65,
   "id": "f0811535-d5db-46da-8fdb-432f12a69ed2",
   "metadata": {},
   "outputs": [
    {
     "name": "stdout",
     "output_type": "stream",
     "text": [
      "red rohtak\n",
      "red panipat\n",
      "red sonipat\n",
      "orange rohtak\n",
      "orange panipat\n",
      "orange sonipat\n",
      "blue rohtak\n",
      "blue panipat\n",
      "blue sonipat\n"
     ]
    }
   ],
   "source": [
    "a = {\"red\", \"blue\", \"orange\"}  #set\n",
    "b = {\"rohtak\", \"sonipat\", \"panipat\"}\n",
    "\n",
    "for x in a:\n",
    "  for y in b:\n",
    "    print(x, y)"
   ]
  },
  {
   "cell_type": "code",
   "execution_count": 67,
   "id": "a7a4c98b-f5da-44c2-b637-901f378c7fcd",
   "metadata": {},
   "outputs": [
    {
     "name": "stdout",
     "output_type": "stream",
     "text": [
      "1 4\n",
      "1 5\n",
      "1 6\n",
      "2 4\n",
      "2 5\n",
      "2 6\n",
      "3 4\n",
      "3 5\n",
      "3 6\n"
     ]
    }
   ],
   "source": [
    "a = {\n",
    "    \"red\":1,\n",
    "    \"blue\":2,\n",
    "    \"orange\":3\n",
    "}                        #dict\n",
    "b = {\n",
    "    \"rohtak\":4,\n",
    "    \"sonipat\":5,\n",
    "    \"panipat\":6\n",
    "}\n",
    "\n",
    "for x in a:\n",
    "  for y in b:\n",
    "    print(a[x], b[y])"
   ]
  },
  {
   "cell_type": "markdown",
   "id": "ba5db2f7-9432-4e12-ab32-5cadb3e18ead",
   "metadata": {},
   "source": [
    "## The pass Statement\n",
    "for loops cannot be empty, but if you for some reason have a for loop with no content, put in the pass statement to avoid getting an error."
   ]
  },
  {
   "cell_type": "code",
   "execution_count": 69,
   "id": "9e0d1a79-3f62-4621-9665-38324c015b69",
   "metadata": {},
   "outputs": [],
   "source": [
    "for x in [4, 9, 2]:\n",
    "  pass"
   ]
  },
  {
   "cell_type": "markdown",
   "id": "036e4bae-9adb-4f3c-96ad-8f0791bc67be",
   "metadata": {},
   "source": [
    "# The while Loop\n",
    "With the while loop we can execute a set of statements as long as a condition is true."
   ]
  },
  {
   "cell_type": "code",
   "execution_count": 71,
   "id": "fd2977b8-94f9-4ddc-8202-4d0fb313ac3a",
   "metadata": {},
   "outputs": [
    {
     "name": "stdout",
     "output_type": "stream",
     "text": [
      "1\n",
      "3\n",
      "5\n",
      "7\n",
      "9\n"
     ]
    }
   ],
   "source": [
    "i = 1\n",
    "while i < 10:\n",
    "  print(i)\n",
    "  i += 2"
   ]
  },
  {
   "cell_type": "markdown",
   "id": "1bf2df30-9192-48d2-ad2a-50e86487c9ff",
   "metadata": {},
   "source": [
    "## The break Statement\n",
    "With the break statement we can stop the loop even if the while condition is true:"
   ]
  },
  {
   "cell_type": "code",
   "execution_count": 73,
   "id": "efbf7f5a-1d20-4b5d-a8b8-f1f5a2a20684",
   "metadata": {},
   "outputs": [
    {
     "name": "stdout",
     "output_type": "stream",
     "text": [
      "1\n",
      "2\n",
      "3\n",
      "4\n"
     ]
    }
   ],
   "source": [
    "i = 1\n",
    "while i < 9:\n",
    "  print(i)\n",
    "  if i == 4:\n",
    "    break\n",
    "  i += 1"
   ]
  },
  {
   "cell_type": "code",
   "execution_count": 77,
   "id": "33785517-5e34-494a-bc9b-d47b8b16d419",
   "metadata": {},
   "outputs": [
    {
     "name": "stdout",
     "output_type": "stream",
     "text": [
      "4\n"
     ]
    }
   ],
   "source": [
    "i = 1\n",
    "while i < 9:\n",
    "  if i == 4:\n",
    "    break\n",
    "  i += 1\n",
    "print(i)"
   ]
  },
  {
   "cell_type": "markdown",
   "id": "94cae7b4-d0c1-4eb4-8d97-eabf43bbb3d0",
   "metadata": {},
   "source": [
    "## The continue Statement"
   ]
  },
  {
   "cell_type": "code",
   "execution_count": 78,
   "id": "50f84714-dfc0-4399-b9f4-4abd84225c7c",
   "metadata": {},
   "outputs": [
    {
     "name": "stdout",
     "output_type": "stream",
     "text": [
      "1\n",
      "2\n",
      "3\n",
      "5\n",
      "6\n",
      "7\n",
      "8\n",
      "9\n"
     ]
    }
   ],
   "source": [
    "i = 0\n",
    "while i < 9:\n",
    "  i += 1\n",
    "  if i == 4:\n",
    "    continue\n",
    "  print(i)"
   ]
  },
  {
   "cell_type": "code",
   "execution_count": 80,
   "id": "f9d465f7-3e8f-4328-b2f8-8267252d8df6",
   "metadata": {},
   "outputs": [
    {
     "name": "stdout",
     "output_type": "stream",
     "text": [
      "3\n",
      "5\n",
      "7\n",
      "9\n"
     ]
    }
   ],
   "source": [
    "i = 1\n",
    "while i < 9:\n",
    "  i += 2\n",
    "  if i == 4:\n",
    "    continue\n",
    "  print(i)"
   ]
  },
  {
   "cell_type": "markdown",
   "id": "e1eb7a28-69d2-42fa-ad57-f5df466cd5ba",
   "metadata": {},
   "source": [
    "## The else Statement\n",
    "With the else statement we can run a block of code once when the condition no longer is true:"
   ]
  },
  {
   "cell_type": "code",
   "execution_count": 2,
   "id": "5026aef3-c08b-4186-94b1-7a65fb16e6f5",
   "metadata": {},
   "outputs": [
    {
     "name": "stdout",
     "output_type": "stream",
     "text": [
      "1\n",
      "3\n",
      "5\n",
      "7\n",
      " True \n"
     ]
    }
   ],
   "source": [
    "i = 1\n",
    "while i < 9:\n",
    "  print(i)\n",
    "  i += 2\n",
    "else:\n",
    "  print(\" True \")"
   ]
  },
  {
   "cell_type": "markdown",
   "id": "1d5be4de-4952-4473-a73a-530a0b19c1bf",
   "metadata": {},
   "source": [
    "# Functions\n",
    "A function is a block of code which only runs when it is called.\n",
    "\n",
    "You can pass data, known as parameters, into a function."
   ]
  },
  {
   "cell_type": "code",
   "execution_count": 18,
   "id": "63728add-03a4-460c-8fda-ebd858980ba1",
   "metadata": {},
   "outputs": [
    {
     "name": "stdout",
     "output_type": "stream",
     "text": [
      "addition is 11\n",
      "multipication is 30\n"
     ]
    }
   ],
   "source": [
    "def add(a,b):\n",
    "    c=a+b\n",
    "    a=a*b\n",
    "    print(f\"addition is {c}\")\n",
    "    print(f\"multipication is {a}\")\n",
    "add(5,6)"
   ]
  },
  {
   "cell_type": "code",
   "execution_count": 19,
   "id": "493f871a-34fe-421e-8a06-2c56699574a3",
   "metadata": {},
   "outputs": [
    {
     "name": "stdout",
     "output_type": "stream",
     "text": [
      "addition is 24\n",
      "multipication is 144\n"
     ]
    }
   ],
   "source": [
    "add(12,12)"
   ]
  },
  {
   "cell_type": "code",
   "execution_count": 23,
   "id": "947f1bf4-5ec0-4394-ba85-24f1ca0ea017",
   "metadata": {},
   "outputs": [],
   "source": [
    "def asd(a,b):\n",
    "    for x in a:\n",
    "        \n",
    "        for y in b:\n",
    "            \n",
    "            print(x, y)\n",
    "     "
   ]
  },
  {
   "cell_type": "code",
   "execution_count": 24,
   "id": "5c1222f5-bee4-4349-b5ac-03df5f20a5c1",
   "metadata": {},
   "outputs": [
    {
     "name": "stdout",
     "output_type": "stream",
     "text": [
      "blue panipat\n",
      "blue sonipat\n",
      "blue rohtak\n",
      "red panipat\n",
      "red sonipat\n",
      "red rohtak\n",
      "orange panipat\n",
      "orange sonipat\n",
      "orange rohtak\n",
      "None\n"
     ]
    }
   ],
   "source": [
    "a = {\"red\", \"blue\", \"orange\"}  #set\n",
    "b = {\"rohtak\", \"sonipat\", \"panipat\"}\n",
    "print(asd(a,b))"
   ]
  },
  {
   "cell_type": "code",
   "execution_count": null,
   "id": "a6c5117f-793d-431c-8964-80a1b5bc12c6",
   "metadata": {},
   "outputs": [],
   "source": [
    "x = 55\n",
    "if x > 10:\n",
    "  print(\"Above ten,\")\n",
    "  if x > 20:\n",
    "    print(\"and also above 20!\")\n",
    "  else:\n",
    "    print(\"but not above 20.\")"
   ]
  },
  {
   "cell_type": "code",
   "execution_count": 12,
   "id": "b511a8e8-5349-46f8-bb66-4a9785a2b26a",
   "metadata": {},
   "outputs": [],
   "source": [
    "def number(x):\n",
    "     if x > 10:\n",
    "       print(\"Above ten,\")\n",
    "     if x > 20:\n",
    "       print(\"and also above 20!\")\n",
    "     else:\n",
    "        print(\"but not above 20.\")"
   ]
  },
  {
   "cell_type": "code",
   "execution_count": 14,
   "id": "cb40bdde-2bb6-4577-9946-dbb8c93d64de",
   "metadata": {},
   "outputs": [
    {
     "name": "stdout",
     "output_type": "stream",
     "text": [
      "Above ten,\n",
      "and also above 20!\n",
      "None\n"
     ]
    }
   ],
   "source": [
    "x=56\n",
    "print(number(x))"
   ]
  },
  {
   "cell_type": "markdown",
   "id": "24fb3b15-636f-4dbd-8c0f-e639a151a8d5",
   "metadata": {},
   "source": [
    "## Creating a Function\n",
    "In Python a function is defined using the def keyword:"
   ]
  },
  {
   "cell_type": "code",
   "execution_count": 16,
   "id": "dde8e86f-1dfc-4eb8-a5ee-6b4993bf2a55",
   "metadata": {},
   "outputs": [],
   "source": [
    "def fun():\n",
    "  print(\"function\")"
   ]
  },
  {
   "cell_type": "markdown",
   "id": "cf741220-0aaa-4cd1-9006-a11ade7289eb",
   "metadata": {},
   "source": [
    "## Calling a Function\n",
    "To call a function, use the function name followed by parenthesis:"
   ]
  },
  {
   "cell_type": "code",
   "execution_count": 18,
   "id": "a26c3a73-6b17-42cb-9285-c090c4433112",
   "metadata": {},
   "outputs": [
    {
     "name": "stdout",
     "output_type": "stream",
     "text": [
      "function\n"
     ]
    }
   ],
   "source": [
    "def fun():\n",
    "  print(\"function\")\n",
    "fun()"
   ]
  },
  {
   "cell_type": "markdown",
   "id": "f883bb04-33a6-45b4-bbe6-5badadc8b1c7",
   "metadata": {},
   "source": [
    "## Arguments\n",
    "Information can be passed into functions as arguments.\n",
    "\n",
    "Arguments are specified after the function name, inside the parentheses. You can add as many arguments as you want, just separate them with a comma."
   ]
  },
  {
   "cell_type": "code",
   "execution_count": 19,
   "id": "e78948a5-6c86-4ded-9695-c67de65951c1",
   "metadata": {},
   "outputs": [
    {
     "name": "stdout",
     "output_type": "stream",
     "text": [
      "Divya D.d\n",
      "Anjali D.d\n",
      "Madhu D.d\n"
     ]
    }
   ],
   "source": [
    "def fun(fname): #parameters/variables\n",
    "  print(fname + \" D.d\")\n",
    "\n",
    "fun(\"Divya\") #argument(arg)\n",
    "fun(\"Anjali\")\n",
    "fun(\"Madhu\")"
   ]
  },
  {
   "cell_type": "markdown",
   "id": "0f5ee47e-dcbd-40c5-b4b1-d474aaf288a8",
   "metadata": {},
   "source": [
    "## Parameters or Arguments?\n",
    "The terms parameter and argument can be used for the same thing: information that are passed into a function.\n",
    "\n",
    "From a function's perspective:\n",
    "\n",
    "A parameter is the variable listed inside the parentheses in the function definition.\n",
    "\n",
    "An argument is the value that is sent to the function when it is called."
   ]
  },
  {
   "cell_type": "code",
   "execution_count": 21,
   "id": "b8a48142-1271-44b2-b4d6-44c64ff4f8e0",
   "metadata": {},
   "outputs": [
    {
     "name": "stdout",
     "output_type": "stream",
     "text": [
      "Divya Deswal\n"
     ]
    }
   ],
   "source": [
    "# This function expects 2 arguments, and gets 2 arguments:\n",
    "\n",
    "def fun(fname, lname):\n",
    "  print(fname + \" \" + lname)\n",
    "\n",
    "fun(\"Divya\", \"Deswal\")"
   ]
  },
  {
   "cell_type": "markdown",
   "id": "eac964cd-3f7b-42fd-9398-7bac3dbbb6bd",
   "metadata": {},
   "source": [
    "## Arbitrary Arguments, *args\n",
    "If you do not know how many arguments that will be passed into your function, add a * before the parameter name in the function definition.\n",
    "\n",
    "This way the function will receive a tuple of arguments, and can access the items accordingly:"
   ]
  },
  {
   "cell_type": "code",
   "execution_count": 24,
   "id": "65d82061-14c6-4d4d-b046-136809ff66e0",
   "metadata": {},
   "outputs": [
    {
     "name": "stdout",
     "output_type": "stream",
     "text": [
      "The biggest family is Kapoor\n"
     ]
    }
   ],
   "source": [
    "def fun(*family):\n",
    "  print(\"The biggest family is \" + family[1])\n",
    "\n",
    "fun(\"Ahuja\", \"Kapoor\", \"Goenka\")"
   ]
  },
  {
   "cell_type": "markdown",
   "id": "85ec50a4-089a-48e5-9fa5-8349335ab168",
   "metadata": {},
   "source": [
    "## Keyword Arguments(kwargs)\n",
    "You can also send arguments with the key = value syntax.\n",
    "\n",
    "This way the order of the arguments does not matter.\n",
    "\n"
   ]
  },
  {
   "cell_type": "code",
   "execution_count": 26,
   "id": "5eac775f-8384-4236-ae89-94fe11382d9e",
   "metadata": {},
   "outputs": [
    {
     "name": "stdout",
     "output_type": "stream",
     "text": [
      "The biggest family is Goenka\n"
     ]
    }
   ],
   "source": [
    "def fun(family1,family2,family3):\n",
    "  print(\"The biggest family is \" + family3)\n",
    "\n",
    "fun(family1=\"Ahuja\", family2=\"Kapoor\", family3=\"Goenka\")"
   ]
  },
  {
   "cell_type": "markdown",
   "id": "7bee0e1a-f52a-4558-8024-d2323ec095d6",
   "metadata": {},
   "source": [
    "## Arbitrary Keyword Arguments, **kwargs\n",
    "If you do not know how many keyword arguments that will be passed into your function, add two asterisk: ** before the parameter name in the function definition."
   ]
  },
  {
   "cell_type": "code",
   "execution_count": 31,
   "id": "b93774af-2124-495f-a784-cd2ce143cf7f",
   "metadata": {},
   "outputs": [
    {
     "name": "stdout",
     "output_type": "stream",
     "text": [
      "The biggest family is Ahuja\n"
     ]
    }
   ],
   "source": [
    "def fun(**family):\n",
    "  print(\"The biggest family is \" + family[\"family1\"])\n",
    "\n",
    "fun(family1=\"Ahuja\", family2=\"Kapoor\", family3=\"Goenka\")"
   ]
  },
  {
   "cell_type": "markdown",
   "id": "621c9652-8bce-494a-826f-1613baa527e1",
   "metadata": {},
   "source": [
    "## Default Parameter Value"
   ]
  },
  {
   "cell_type": "code",
   "execution_count": 32,
   "id": "5d40cde4-8bb3-43cb-b7a2-e1906678784b",
   "metadata": {},
   "outputs": [
    {
     "name": "stdout",
     "output_type": "stream",
     "text": [
      "I am from Sonipat\n",
      "I am from Rohtak\n",
      "I am from Jaipur\n",
      "I am from Udaipur\n"
     ]
    }
   ],
   "source": [
    "def fun(city = \"Jaipur\"):\n",
    "  print(\"I am from \" + city)\n",
    "\n",
    "fun(\"Sonipat\")\n",
    "fun(\"Rohtak\")\n",
    "fun()\n",
    "fun(\"Udaipur\")"
   ]
  },
  {
   "cell_type": "code",
   "execution_count": 33,
   "id": "0eebe9e5-8701-4514-8360-5f3e72a2352c",
   "metadata": {},
   "outputs": [
    {
     "name": "stdout",
     "output_type": "stream",
     "text": [
      "I am from Sonipat\n",
      "I am from Rohtak\n",
      "I am from Palwal\n",
      "I am from Udaipur\n"
     ]
    }
   ],
   "source": [
    "def fun(city = \"Jaipur\"):\n",
    "  print(\"I am from \" + city)\n",
    "\n",
    "fun(\"Sonipat\")\n",
    "fun(\"Rohtak\")\n",
    "fun(\"Palwal\")\n",
    "fun(\"Udaipur\")"
   ]
  },
  {
   "cell_type": "code",
   "execution_count": 34,
   "id": "aceec320-6577-4417-b395-18c9d6e22c57",
   "metadata": {},
   "outputs": [
    {
     "name": "stdout",
     "output_type": "stream",
     "text": [
      "I am from Sonipat\n",
      "I am from Jaipur\n",
      "I am from Rohtak\n",
      "I am from Palwal\n",
      "I am from Udaipur\n"
     ]
    }
   ],
   "source": [
    "def fun(city = \"Jaipur\"):\n",
    "  print(\"I am from \" + city)\n",
    "\n",
    "fun(\"Sonipat\")\n",
    "fun()\n",
    "fun(\"Rohtak\")\n",
    "fun(\"Palwal\")\n",
    "fun(\"Udaipur\")"
   ]
  },
  {
   "cell_type": "markdown",
   "id": "e410fb72-e386-46a9-8111-8cb6578898f5",
   "metadata": {},
   "source": [
    "## Passing a List as an Argument\n",
    "You can send any data types of argument to a function (string, number, list, dictionary etc.), and it will be treated as the same data type inside the function."
   ]
  },
  {
   "cell_type": "code",
   "execution_count": 35,
   "id": "c9e22c53-f2cb-4358-ba5c-1a4670022fa5",
   "metadata": {},
   "outputs": [
    {
     "name": "stdout",
     "output_type": "stream",
     "text": [
      "app\n",
      "bann\n",
      "err\n"
     ]
    }
   ],
   "source": [
    "def fun(a):\n",
    "  for x in a:\n",
    "    print(x)\n",
    "                                   #list\n",
    "b = [\"app\", \"bann\", \"err\"]\n",
    "\n",
    "fun(b)\n"
   ]
  },
  {
   "cell_type": "code",
   "execution_count": 36,
   "id": "008fda98-84ad-4728-9184-12c104e2a924",
   "metadata": {},
   "outputs": [
    {
     "name": "stdout",
     "output_type": "stream",
     "text": [
      "app\n",
      "err\n",
      "bann\n"
     ]
    }
   ],
   "source": [
    "def fun(a):\n",
    "  for x in a:\n",
    "    print(x)\n",
    "\n",
    "b = {\"app\", \"bann\", \"err\"} #set\n",
    "\n",
    "fun(b)\n"
   ]
  },
  {
   "cell_type": "code",
   "execution_count": 37,
   "id": "bf985de3-a566-4dbe-877c-de5214179c2c",
   "metadata": {},
   "outputs": [
    {
     "name": "stdout",
     "output_type": "stream",
     "text": [
      "app\n",
      "bann\n",
      "err\n"
     ]
    }
   ],
   "source": [
    "def fun(a):\n",
    "  for x in a:\n",
    "    print(x)    #tuple\n",
    "\n",
    "b = (\"app\", \"bann\", \"err\")\n",
    "\n",
    "fun(b)\n"
   ]
  },
  {
   "cell_type": "code",
   "execution_count": 41,
   "id": "07d6f8c0-0f17-4964-ba82-3c6f5c9177b3",
   "metadata": {},
   "outputs": [
    {
     "name": "stdout",
     "output_type": "stream",
     "text": [
      "{'app': 1, 'bann': 2, 'err': 3}\n"
     ]
    }
   ],
   "source": [
    "def fun(a):\n",
    "  for x in a:  #dict\n",
    "    print(x)\n",
    "\n",
    "b = {\n",
    "    \"app\":1,\n",
    "    \"bann\":2,\n",
    "    \"err\":3\n",
    "}\n",
    "\n",
    "fun([b])\n"
   ]
  },
  {
   "cell_type": "markdown",
   "id": "077798b2-9914-4a20-8b11-5b6b548efb94",
   "metadata": {},
   "source": [
    "## Return Values\n",
    "To let a function return a value, use the return statement:"
   ]
  },
  {
   "cell_type": "code",
   "execution_count": 43,
   "id": "f0fc52de-1f1b-4dc8-acc8-af8cdc799aad",
   "metadata": {},
   "outputs": [
    {
     "name": "stdout",
     "output_type": "stream",
     "text": [
      "16.5\n",
      "26.5\n",
      "46.5\n"
     ]
    }
   ],
   "source": [
    "def fun(x):\n",
    "  return 5 * x + 3 / 2\n",
    "\n",
    "print(fun(3))\n",
    "print(fun(5))\n",
    "print(fun(9))"
   ]
  },
  {
   "cell_type": "markdown",
   "id": "c13e5e43-b79c-4898-806d-75cd51371ab3",
   "metadata": {},
   "source": [
    "## Positional-Only Arguments\n",
    "You can specify that a function can have ONLY positional arguments, or ONLY keyword arguments.\n",
    "\n",
    "To specify that a function can have only positional arguments, add , / after the arguments:"
   ]
  },
  {
   "cell_type": "code",
   "execution_count": 44,
   "id": "d17bfff1-f173-4aae-b4d1-224568335f01",
   "metadata": {},
   "outputs": [
    {
     "name": "stdout",
     "output_type": "stream",
     "text": [
      "11\n"
     ]
    }
   ],
   "source": [
    "def fun(x, /):\n",
    "  print(x)\n",
    "\n",
    "fun(11)"
   ]
  },
  {
   "cell_type": "code",
   "execution_count": 45,
   "id": "19fcae59-873a-4e51-a7ad-2a4ea8522845",
   "metadata": {},
   "outputs": [],
   "source": [
    "# Without the , / you are actually allowed to use keyword arguments even if the function expects positional arguments:"
   ]
  },
  {
   "cell_type": "code",
   "execution_count": 46,
   "id": "1976474b-cbc3-4054-97a5-cfccc3a6315e",
   "metadata": {},
   "outputs": [
    {
     "name": "stdout",
     "output_type": "stream",
     "text": [
      "11\n"
     ]
    }
   ],
   "source": [
    "def fun(x):\n",
    "  print(x)\n",
    "\n",
    "fun(x=11)"
   ]
  },
  {
   "cell_type": "markdown",
   "id": "afe03850-ab9d-4671-82c2-d26336a1dc2a",
   "metadata": {},
   "source": [
    "## Keyword-Only Arguments\n",
    "To specify that a function can have only keyword arguments, add *, before the arguments:"
   ]
  },
  {
   "cell_type": "code",
   "execution_count": 48,
   "id": "e024eaa9-c9c0-4ca5-949c-32165dbe8636",
   "metadata": {},
   "outputs": [
    {
     "name": "stdout",
     "output_type": "stream",
     "text": [
      "81\n"
     ]
    }
   ],
   "source": [
    "def fun(*,x):\n",
    "  print(x)\n",
    "\n",
    "fun(x=81)"
   ]
  },
  {
   "cell_type": "code",
   "execution_count": 49,
   "id": "010e91f8-e8d0-4df0-8859-2d9b01fc2833",
   "metadata": {},
   "outputs": [
    {
     "name": "stdout",
     "output_type": "stream",
     "text": [
      "81\n"
     ]
    }
   ],
   "source": [
    "# Without the *, you are allowed to use positionale arguments even if the function expects keyword arguments:\n",
    "def fun(x):\n",
    "  print(x)\n",
    "\n",
    "fun(x=81)"
   ]
  },
  {
   "cell_type": "markdown",
   "id": "006b3c25-374d-480d-880b-6b5ccfb19136",
   "metadata": {},
   "source": [
    "## Combine Positional-Only and Keyword-Only\n",
    "You can combine the two argument types in the same function.\n",
    "\n",
    "Any argument before the / , are positional-only, and any argument after the *, are keyword-only."
   ]
  },
  {
   "cell_type": "code",
   "execution_count": 50,
   "id": "cd6cbeeb-f81b-4543-ad7c-6873b0b7d7d0",
   "metadata": {},
   "outputs": [
    {
     "name": "stdout",
     "output_type": "stream",
     "text": [
      "10.857142857142858\n"
     ]
    }
   ],
   "source": [
    "def fun(a, b, /, *, c, d,e):\n",
    "  print(a * b / c + d - e)\n",
    "\n",
    "fun(15, 6, c = 7, d = 8,e =10)"
   ]
  },
  {
   "cell_type": "markdown",
   "id": "23472971-d3ef-4d5b-8022-e90c481a7951",
   "metadata": {},
   "source": [
    "## Recursion\n",
    "Python also accepts function recursion, which means a defined function can call itself."
   ]
  },
  {
   "cell_type": "code",
   "execution_count": 52,
   "id": "8cc31370-8107-40e2-a139-a461bcf560a1",
   "metadata": {},
   "outputs": [
    {
     "data": {
      "text/plain": [
       "0"
      ]
     },
     "execution_count": 52,
     "metadata": {},
     "output_type": "execute_result"
    }
   ],
   "source": [
    "def rec(x):\n",
    "  if(x > 1):\n",
    "    a = x + rec(x - 1)\n",
    "    print(a)\n",
    "  else:\n",
    "    a = 0\n",
    "  return a\n",
    "\n",
    "rec(0)"
   ]
  },
  {
   "cell_type": "code",
   "execution_count": 53,
   "id": "5ad4d648-1262-461c-9d0f-54a5abbe32b8",
   "metadata": {},
   "outputs": [
    {
     "name": "stdout",
     "output_type": "stream",
     "text": [
      "2\n",
      "5\n",
      "9\n",
      "14\n"
     ]
    },
    {
     "data": {
      "text/plain": [
       "14"
      ]
     },
     "execution_count": 53,
     "metadata": {},
     "output_type": "execute_result"
    }
   ],
   "source": [
    "def rec(x):\n",
    "  if(x > 1):\n",
    "    a = x + rec(x - 1)\n",
    "    print(a)\n",
    "  else:\n",
    "    a = 0\n",
    "  return a\n",
    "\n",
    "rec(5)"
   ]
  },
  {
   "cell_type": "markdown",
   "id": "7ebedb03-adc2-4a8b-8cef-4d1df1de868c",
   "metadata": {},
   "source": [
    "# lambda"
   ]
  },
  {
   "cell_type": "code",
   "execution_count": 1,
   "id": "c9b8e3f7-ae94-46ad-b6d0-af503606dca1",
   "metadata": {},
   "outputs": [
    {
     "name": "stdout",
     "output_type": "stream",
     "text": [
      "19\n"
     ]
    }
   ],
   "source": [
    "#A lambda function is a small anonymous function.\n",
    "#A lambda function can take any number of arguments, but can only have one expression.\n",
    "x = lambda a : a + 13\n",
    "print(x(6))"
   ]
  },
  {
   "cell_type": "code",
   "execution_count": 2,
   "id": "75c9b5b7-9e4c-40a7-9d44-ecd571b4de9b",
   "metadata": {},
   "outputs": [
    {
     "name": "stdout",
     "output_type": "stream",
     "text": [
      "54\n"
     ]
    }
   ],
   "source": [
    "x = lambda a, b : a * b\n",
    "print(x(9, 6))"
   ]
  },
  {
   "cell_type": "code",
   "execution_count": 3,
   "id": "c2a6add9-5d4c-4c58-b319-b87bfae5455a",
   "metadata": {},
   "outputs": [
    {
     "name": "stdout",
     "output_type": "stream",
     "text": [
      "20\n"
     ]
    }
   ],
   "source": [
    "x = lambda a, b, c : a + b + c\n",
    "print(x(5, 6, 9))"
   ]
  },
  {
   "cell_type": "code",
   "execution_count": 4,
   "id": "fb468353-97d5-45a5-8113-24c04eacf2e0",
   "metadata": {},
   "outputs": [],
   "source": [
    "def myfunc(n):\n",
    "  return lambda a : a * n"
   ]
  },
  {
   "cell_type": "code",
   "execution_count": 5,
   "id": "212a1530-025b-469d-b41f-e35a49e2f011",
   "metadata": {},
   "outputs": [
    {
     "name": "stdout",
     "output_type": "stream",
     "text": [
      "38\n"
     ]
    }
   ],
   "source": [
    "def func(n):\n",
    "  return lambda a : a * n\n",
    "m = func(2)\n",
    "print(m(19))"
   ]
  },
  {
   "cell_type": "code",
   "execution_count": 6,
   "id": "304298fe-e015-42f7-8bae-859b6a1cda27",
   "metadata": {},
   "outputs": [
    {
     "name": "stdout",
     "output_type": "stream",
     "text": [
      "32\n",
      "33\n"
     ]
    }
   ],
   "source": [
    "def func(n):\n",
    "  return lambda a : a * n\n",
    "\n",
    "d = func(2)\n",
    "t = func(3)\n",
    "\n",
    "print(d(16))\n",
    "print(t(11))"
   ]
  },
  {
   "cell_type": "markdown",
   "id": "314e1f28-0073-475f-928a-063a9391fc20",
   "metadata": {},
   "source": [
    "# What is a Module?\n",
    "Consider a module to be the same as a code library.\n",
    "\n",
    "A file containing a set of functions you want to include in your application."
   ]
  },
  {
   "cell_type": "code",
   "execution_count": 14,
   "id": "7e565539-6c69-4751-b5c3-1956886c2004",
   "metadata": {},
   "outputs": [],
   "source": [
    "def greeting(name):\n",
    "  print(\"Hello, \" + name)\n",
    "\n",
    "person1 = {\n",
    "  \"name\": \"John\",\n",
    "  \"age\": 36,\n",
    "  \"country\": \"Norway\"\n",
    "}"
   ]
  },
  {
   "cell_type": "markdown",
   "id": "ddc1ccd9-2a1a-4ffe-9df6-da8122c1364e",
   "metadata": {},
   "source": [
    "# Datetime"
   ]
  },
  {
   "cell_type": "code",
   "execution_count": 15,
   "id": "d6dcaa69-6db4-485b-9f76-1e43662d7b0a",
   "metadata": {},
   "outputs": [
    {
     "name": "stdout",
     "output_type": "stream",
     "text": [
      "2024-10-15 09:14:11.261895\n"
     ]
    }
   ],
   "source": [
    "import datetime\n",
    "\n",
    "x = datetime.datetime.now()\n",
    "print(x)\n"
   ]
  },
  {
   "cell_type": "code",
   "execution_count": 16,
   "id": "1338b396-7372-4dc4-89ba-76a3278aa50b",
   "metadata": {},
   "outputs": [
    {
     "name": "stdout",
     "output_type": "stream",
     "text": [
      "2024\n",
      "Tuesday\n"
     ]
    }
   ],
   "source": [
    "import datetime\n",
    "\n",
    "x = datetime.datetime.now()\n",
    "\n",
    "print(x.year)\n",
    "print(x.strftime(\"%A\"))\n"
   ]
  },
  {
   "cell_type": "code",
   "execution_count": 17,
   "id": "9ee4978c-5b93-4c67-870d-620d481d89bc",
   "metadata": {},
   "outputs": [
    {
     "name": "stdout",
     "output_type": "stream",
     "text": [
      "2020-05-17 00:00:00\n"
     ]
    }
   ],
   "source": [
    "import datetime\n",
    "\n",
    "x = datetime.datetime(2020, 5, 17)\n",
    "\n",
    "print(x)"
   ]
  },
  {
   "cell_type": "code",
   "execution_count": 19,
   "id": "74488ec8-4ff7-43ce-ba68-9efba6dae280",
   "metadata": {},
   "outputs": [
    {
     "name": "stdout",
     "output_type": "stream",
     "text": [
      "2\n"
     ]
    }
   ],
   "source": [
    "import datetime\n",
    "x = datetime.datetime.now()\n",
    "print(x.strftime(\"%w\"))"
   ]
  },
  {
   "cell_type": "code",
   "execution_count": 20,
   "id": "273377aa-6129-47b6-aa2d-5dcfa953256d",
   "metadata": {},
   "outputs": [
    {
     "name": "stdout",
     "output_type": "stream",
     "text": [
      "15\n"
     ]
    }
   ],
   "source": [
    "import datetime\n",
    "x = datetime.datetime.now()\n",
    "print(x.strftime(\"%d\"))"
   ]
  },
  {
   "cell_type": "code",
   "execution_count": 21,
   "id": "198cdcb7-d7a2-4d6e-828d-fd550458fd87",
   "metadata": {},
   "outputs": [
    {
     "name": "stdout",
     "output_type": "stream",
     "text": [
      "09\n"
     ]
    }
   ],
   "source": [
    "import datetime\n",
    "x = datetime.datetime.now()\n",
    "print(x.strftime(\"%H\"))"
   ]
  },
  {
   "cell_type": "code",
   "execution_count": 23,
   "id": "eaf18804-b8f9-458b-8041-36fc48f01735",
   "metadata": {},
   "outputs": [
    {
     "name": "stdout",
     "output_type": "stream",
     "text": [
      "11\n"
     ]
    }
   ],
   "source": [
    "import datetime\n",
    "x = datetime.datetime.now()\n",
    "print(x.strftime(\"%S\"))"
   ]
  },
  {
   "cell_type": "code",
   "execution_count": 24,
   "id": "9be7e388-0b51-4dcc-ae2d-96b97bc86fbb",
   "metadata": {},
   "outputs": [
    {
     "name": "stdout",
     "output_type": "stream",
     "text": [
      "AM\n"
     ]
    }
   ],
   "source": [
    "import datetime\n",
    "x = datetime.datetime.now()\n",
    "print(x.strftime(\"%p\"))"
   ]
  },
  {
   "cell_type": "code",
   "execution_count": 25,
   "id": "0b11549b-77a0-4dfd-993a-a03d97ba4696",
   "metadata": {},
   "outputs": [
    {
     "name": "stdout",
     "output_type": "stream",
     "text": [
      "24\n"
     ]
    }
   ],
   "source": [
    "import datetime\n",
    "x = datetime.datetime.now()\n",
    "print(x.strftime(\"%y\"))"
   ]
  },
  {
   "cell_type": "code",
   "execution_count": 26,
   "id": "9a26021b-4de1-4e78-aced-ad70d7ccaa5e",
   "metadata": {},
   "outputs": [
    {
     "name": "stdout",
     "output_type": "stream",
     "text": [
      "19\n"
     ]
    }
   ],
   "source": [
    "import datetime\n",
    "x = datetime.datetime.now()\n",
    "print(x.strftime(\"%M\"))"
   ]
  },
  {
   "cell_type": "markdown",
   "id": "198c6736-7247-4d5f-b184-1e1fe57614e2",
   "metadata": {},
   "source": [
    "# Built-in Math Functions\n",
    "The min() and max() functions can be used to find the lowest or highest value in an iterable:"
   ]
  },
  {
   "cell_type": "code",
   "execution_count": 28,
   "id": "b4cc7284-0b5a-49c9-8760-43aaf094d265",
   "metadata": {},
   "outputs": [
    {
     "name": "stdout",
     "output_type": "stream",
     "text": [
      "8\n",
      "80\n"
     ]
    }
   ],
   "source": [
    "x = min(8, 40, 55)\n",
    "y = max(55, 80, 15)\n",
    "print(x)\n",
    "print(y)"
   ]
  },
  {
   "cell_type": "code",
   "execution_count": 30,
   "id": "c37ddf90-9e96-4872-8663-d15d4f0997d4",
   "metadata": {},
   "outputs": [
    {
     "name": "stdout",
     "output_type": "stream",
     "text": [
      "9.05\n"
     ]
    }
   ],
   "source": [
    "#The abs() function returns the absolute (positive) value of the specified number:\n",
    "x = abs(-9.05)\n",
    "print(x)"
   ]
  },
  {
   "cell_type": "code",
   "execution_count": 32,
   "id": "1aba225f-ecda-4d05-ab2e-64d6eee625e7",
   "metadata": {},
   "outputs": [
    {
     "name": "stdout",
     "output_type": "stream",
     "text": [
      "390625\n"
     ]
    }
   ],
   "source": [
    "# The pow(x, y) function returns the value of x to the power of y (xy).\n",
    "x = pow(5, 8)\n",
    "print(x)"
   ]
  },
  {
   "cell_type": "markdown",
   "id": "1c4cd7af-5a2c-4e38-90fe-392a6dd5f7d3",
   "metadata": {},
   "source": [
    "## The Math Module\n",
    "Python has also a built-in module called math, which extends the list of mathematical functions.\n",
    "\n",
    "To use it, you must import the math module:\n",
    "\n",
    "import math"
   ]
  },
  {
   "cell_type": "code",
   "execution_count": 35,
   "id": "7e0c43bd-6a6b-4413-83f5-9f9c3aab2ea7",
   "metadata": {},
   "outputs": [
    {
     "name": "stdout",
     "output_type": "stream",
     "text": [
      "11.180339887498949\n"
     ]
    }
   ],
   "source": [
    "#The math.sqrt() method for example, returns the square root of a number:\n",
    "import math\n",
    "x = math.sqrt(125)\n",
    "print(x)"
   ]
  },
  {
   "cell_type": "code",
   "execution_count": 36,
   "id": "13f72c76-a557-40ac-8b16-e6c7c9d5b9ca",
   "metadata": {},
   "outputs": [
    {
     "name": "stdout",
     "output_type": "stream",
     "text": [
      "5\n",
      "4\n"
     ]
    }
   ],
   "source": [
    "# The math.ceil() method rounds a number upwards to its nearest integer, and \n",
    "#the math.floor() method rounds a number downwards to its nearest integer, and returns the result:\n",
    "import math\n",
    "x = math.ceil(4.4)\n",
    "y = math.floor(4.4)\n",
    "print(x) \n",
    "print(y) "
   ]
  },
  {
   "cell_type": "code",
   "execution_count": 37,
   "id": "f0c50ec0-114b-4926-8549-516db96a5fb9",
   "metadata": {},
   "outputs": [
    {
     "name": "stdout",
     "output_type": "stream",
     "text": [
      "3.141592653589793\n"
     ]
    }
   ],
   "source": [
    "# The math.pi constant, returns the value of PI (3.14...):\n",
    "import math\n",
    "x = math.pi\n",
    "print(x)"
   ]
  },
  {
   "cell_type": "markdown",
   "id": "9d32be30-ec89-4969-a015-ac876aeacd7a",
   "metadata": {},
   "source": [
    "# MODULE REFERENCE"
   ]
  },
  {
   "cell_type": "markdown",
   "id": "76e85c29-5c59-45f7-aba9-740844246d2d",
   "metadata": {},
   "source": [
    "## Math Module\n",
    "Python has a built-in module that you can use for mathematical tasks.\n",
    "\n",
    "The math module has a set of methods and constants."
   ]
  },
  {
   "cell_type": "code",
   "execution_count": null,
   "id": "0f2b88c7-6f95-45eb-99d9-5350e76909c7",
   "metadata": {},
   "outputs": [],
   "source": [
    "#The math.acos() method returns the arc cosine value of a number.\n",
    "#Note: The parameter passed in math.acos() must lie between -1 to 1.\n",
    "#Tip: math.acos(-1) will return the value of PI.\n",
    "#Syntax\n",
    "#math.acos(x)"
   ]
  },
  {
   "cell_type": "code",
   "execution_count": 38,
   "id": "454c5ef5-9b2b-45e2-a74f-2334e5cc5dfa",
   "metadata": {},
   "outputs": [
    {
     "name": "stdout",
     "output_type": "stream",
     "text": [
      "0.9884320889261531\n",
      "2.15316056466364\n",
      "1.5707963267948966\n",
      "0.0\n",
      "3.141592653589793\n"
     ]
    }
   ],
   "source": [
    "import math\n",
    "\n",
    "# Return the arc cosine of numbers\n",
    "print(math.acos(0.55))\n",
    "print(math.acos(-0.55))\n",
    "print(math.acos(0))\n",
    "print(math.acos(1))\n",
    "print(math.acos(-1))"
   ]
  },
  {
   "cell_type": "code",
   "execution_count": 40,
   "id": "8b45fdca-6b8e-4db9-8abe-3bc26b311e13",
   "metadata": {},
   "outputs": [
    {
     "name": "stdout",
     "output_type": "stream",
     "text": [
      "24\n"
     ]
    }
   ],
   "source": [
    "#The math.prod() method returns the product of the elements from the given iterable.\n",
    "#Syntax\n",
    "#math.prod(iterable, start)\n",
    "import math\n",
    "sequence = (2, 6, 2)\n",
    "print(math.prod(sequence))"
   ]
  },
  {
   "cell_type": "code",
   "execution_count": 41,
   "id": "fbcab4e6-2c45-484c-b6c4-1000134d54c7",
   "metadata": {},
   "outputs": [
    {
     "name": "stdout",
     "output_type": "stream",
     "text": [
      "15.0\n",
      "1340.0\n",
      "8.0\n"
     ]
    }
   ],
   "source": [
    "#The math.fsum() method returns the sum of all items in any iterable (tuples, arrays, lists, etc.).\n",
    "#Syntax\n",
    "#math.fsum(iterable)\n",
    "import math\n",
    "print(math.fsum([1, 2, 3, 4, 5]))\n",
    "print(math.fsum([100, 400, 340, 500]))\n",
    "print(math.fsum([1.7, 0.3, 1.5, 4.5]))"
   ]
  },
  {
   "cell_type": "code",
   "execution_count": 42,
   "id": "f2eba069-3528-421c-807d-dec2e3955ec1",
   "metadata": {},
   "outputs": [
    {
     "name": "stdout",
     "output_type": "stream",
     "text": [
      "362880\n",
      "720\n",
      "479001600\n"
     ]
    }
   ],
   "source": [
    "import math\n",
    "print(math.factorial(9))\n",
    "print(math.factorial(6))\n",
    "print(math.factorial(12))"
   ]
  },
  {
   "cell_type": "code",
   "execution_count": 43,
   "id": "7d317a64-7feb-47e5-a705-fe2053e1d5df",
   "metadata": {},
   "outputs": [
    {
     "name": "stdout",
     "output_type": "stream",
     "text": [
      "1.0000066849139877\n",
      "0.6931471805599453\n",
      "0.0\n"
     ]
    }
   ],
   "source": [
    "import math\n",
    "print(math.log(2.7183))\n",
    "print(math.log(2))\n",
    "print(math.log(1))"
   ]
  },
  {
   "cell_type": "markdown",
   "id": "dd1250e0-5757-4c38-b0de-2b81d2397c03",
   "metadata": {},
   "source": [
    "## cmath Module"
   ]
  },
  {
   "cell_type": "code",
   "execution_count": 1,
   "id": "85c12444-e209-42dd-a19c-b246e6bff4e7",
   "metadata": {},
   "outputs": [],
   "source": [
    "#The methods in this module accepts int, float, and complex numbers. \n",
    "#It even accepts Python objects that has a __complex__() or __float__() method.\n",
    "#The cmath.acos() method returns the arc cosine of a complex number.\n",
    "#There are two branch cuts:\n",
    "#Extends right from 1 along the real axis to ∞\n",
    "#Extends left from -1 along the real axis to -∞."
   ]
  },
  {
   "cell_type": "code",
   "execution_count": 2,
   "id": "56c28f13-05f6-4de0-ac61-a89425b4c8bc",
   "metadata": {},
   "outputs": [
    {
     "name": "stdout",
     "output_type": "stream",
     "text": [
      "(1.6741492280355401+0.8959774761298381j)\n",
      "(3.872983346207417+0j)\n"
     ]
    }
   ],
   "source": [
    "import cmath  \n",
    "print (cmath.sqrt(2 + 3j))\n",
    "print (cmath.sqrt(15))"
   ]
  },
  {
   "cell_type": "code",
   "execution_count": 3,
   "id": "02f2a9bd-c006-4afb-b8ea-90ac8e47c840",
   "metadata": {},
   "outputs": [
    {
     "name": "stdout",
     "output_type": "stream",
     "text": [
      "3.141592653589793\n"
     ]
    }
   ],
   "source": [
    "import cmath\n",
    "print (cmath.pi)"
   ]
  },
  {
   "cell_type": "code",
   "execution_count": 4,
   "id": "e3c58abd-3e99-4f16-9ecc-596b9b825741",
   "metadata": {},
   "outputs": [
    {
     "name": "stdout",
     "output_type": "stream",
     "text": [
      "True\n",
      "False\n"
     ]
    }
   ],
   "source": [
    "import cmath\n",
    "#find whether a complex number is infinite or not\n",
    "print (cmath.isinf(complex(10 + float('inf'))))\n",
    "print (cmath.isinf(11 + 4j))"
   ]
  },
  {
   "cell_type": "markdown",
   "id": "48faf696-59c1-4182-97ff-a171a26b4329",
   "metadata": {},
   "source": [
    "# statistics Module\n",
    "Python has a built-in module that you can use to calculate mathematical statistics of numeric data."
   ]
  },
  {
   "cell_type": "code",
   "execution_count": 5,
   "id": "da5c2b03-8b5f-433f-9824-8a759534d715",
   "metadata": {},
   "outputs": [],
   "source": [
    "# The statistics.harmonic_mean() method calculates the harmonic mean (central location) of the given data set.\n",
    "#Harmonic mean = The reciprocal of the arithmetic mean() of the reciprocals of the data.\n",
    "#The harmonic mean is calculated as follows:\n",
    "#If you have four values (a, b, c and d) - it will be equivalent to 4 / (1/a + 1/b + 1/c + 1/d).\n",
    "#Syntax\n",
    "#statistics.harmonic_mean(data)"
   ]
  },
  {
   "cell_type": "code",
   "execution_count": 6,
   "id": "2d28a1ac-8cb7-4e51-ac6b-833119354a04",
   "metadata": {},
   "outputs": [
    {
     "name": "stdout",
     "output_type": "stream",
     "text": [
      "55.38461538461538\n",
      "27.97513321492007\n"
     ]
    }
   ],
   "source": [
    "import statistics\n",
    "print(statistics.harmonic_mean([40, 60, 80]))\n",
    "print(statistics.harmonic_mean([10, 30, 50, 70, 90]))"
   ]
  },
  {
   "cell_type": "code",
   "execution_count": 7,
   "id": "8686faaa-4a83-481d-9285-6aef9fdf9a46",
   "metadata": {},
   "outputs": [
    {
     "name": "stdout",
     "output_type": "stream",
     "text": [
      "7\n",
      "6\n",
      "1.8666666666666667\n"
     ]
    }
   ],
   "source": [
    "import statistics\n",
    "print(statistics.mean([1, 3, 5, 7, 9, 11, 13]))\n",
    "print(statistics.mean([1, 3, 5, 7, 9, 11]))\n",
    "print(statistics.mean([-11, 5.5, -3.4, 7.1, -9, 22]))"
   ]
  },
  {
   "cell_type": "code",
   "execution_count": 8,
   "id": "517fefd7-ba38-4210-835c-690c858b63b0",
   "metadata": {},
   "outputs": [
    {
     "name": "stdout",
     "output_type": "stream",
     "text": [
      "7\n",
      "1\n",
      "151.46266666666668\n"
     ]
    }
   ],
   "source": [
    "import statistics\n",
    "print(statistics.median([1, 3, 5, 7, 9, 11, 13]))\n",
    "print(statistics.mode([1, 3, 5, 7, 9, 11]))\n",
    "print(statistics.variance([-11, 5.5, -3.4, 7.1, -9, 22]))"
   ]
  },
  {
   "cell_type": "code",
   "execution_count": 9,
   "id": "d8fdeb46-008f-41f7-96a0-c3f572b0912f",
   "metadata": {},
   "outputs": [],
   "source": [
    "#The statistics.pstdev() method calculates the standard deviation from an entire population.\n",
    "#Standard deviation is a measure of how spread out the numbers are.\n",
    "#A large standard deviation indicates that the data is spread out, - a small standard deviation indicates that the data is clustered closely around the mean.\n",
    "#Tip: Standard deviation is (unlike the Variance) expressed in the same units as the data.\n",
    "#Tip: Standard deviation is the square root of sample variance."
   ]
  },
  {
   "cell_type": "code",
   "execution_count": 10,
   "id": "a8eddeca-214c-4b55-8f3a-54b5535db926",
   "metadata": {},
   "outputs": [
    {
     "name": "stdout",
     "output_type": "stream",
     "text": [
      "3.415650255319866\n",
      "0.3997222222222222\n",
      "5.0\n",
      "41.67633221226007\n"
     ]
    }
   ],
   "source": [
    "print(statistics.pstdev([1, 3, 5, 7, 9, 11]))\n",
    "print(statistics.pvariance([2, 2.5, 1.25, 3.1, 1.75, 2.8]))\n",
    "print(statistics.median_grouped([-11, 5.5, -3.4, 7.1]))\n",
    "print(statistics.stdev([1, 30, 50, 100]))"
   ]
  },
  {
   "cell_type": "markdown",
   "id": "bccbfedb-1a69-43e1-9cf5-c7aff8f77eb3",
   "metadata": {},
   "source": [
    "# PIP"
   ]
  },
  {
   "cell_type": "code",
   "execution_count": null,
   "id": "de93c817-4ace-4d58-b4d6-2056d33e202d",
   "metadata": {},
   "outputs": [],
   "source": [
    "#PIP is a package manager for Python packages, or modules if you like.\n",
    "#What is a Package?\n",
    "#A package contains all the files you need for a module.\n",
    "#Modules are Python code libraries you can include in your project.\n",
    "#Check if PIP is Installed\n",
    "#Navigate your command line to the location of Python's script directory, and type the following:\n",
    "#Check PIP version:\n",
    "#C:\\Users\\Your Name\\AppData\\Local\\Programs\\Python\\Python36-32\\Scripts>pip --version\n",
    "#Install PIP\n",
    "#If you do not have PIP installed, you can download and install it from this page: https://pypi.org/project/pip/\n",
    "#Download a Package\n",
    "#Downloading a package is very easy.\n",
    "#Open the command line interface and tell PIP to download the package you want.\n",
    "#Navigate your command line to the location of Python's script directory, and type the following:\n",
    "#Example\n",
    "#Download a package named \"camelcase\":\n",
    "#C:\\Users\\Your Name\\AppData\\Local\\Programs\\Python\\Python36-32\\Scripts>pip install"
   ]
  },
  {
   "cell_type": "markdown",
   "id": "66fd1b00-518d-405e-bb11-9cd92ac152ac",
   "metadata": {},
   "source": [
    "# Try Except\n",
    "The try block lets you test a block of code for errors.\n",
    "\n",
    "The except block lets you handle the error.\n",
    "\n",
    "The else block lets you execute code when there is no error.\n",
    "\n",
    "The finally block lets you execute code, regardless of the result of the try- and except blocks.\n",
    "\n"
   ]
  },
  {
   "cell_type": "markdown",
   "id": "3e92d961-1985-485c-a5f3-ae2729203b91",
   "metadata": {},
   "source": [
    "## Exception Handling\n",
    "When an error occurs, or exception as we call it, Python will normally stop and generate an error message.\n",
    "\n",
    "These exceptions can be handled using the try statement:"
   ]
  },
  {
   "cell_type": "code",
   "execution_count": 11,
   "id": "8b4af6fe-6982-4768-a808-2d2e3dfe11bb",
   "metadata": {},
   "outputs": [
    {
     "name": "stdout",
     "output_type": "stream",
     "text": [
      "An exception occurred\n"
     ]
    }
   ],
   "source": [
    "#The try block will generate an exception, because x is not defined:\n",
    "try:\n",
    "  print(x)\n",
    "except:\n",
    "  print(\"An exception occurred\")"
   ]
  },
  {
   "cell_type": "code",
   "execution_count": null,
   "id": "f94450ea-d021-4c94-97dd-92abc01aa9c6",
   "metadata": {},
   "outputs": [],
   "source": [
    "#Without the try block, the program will crash and raise an error:"
   ]
  },
  {
   "cell_type": "markdown",
   "id": "544b0c95-1f1f-4519-b366-99f9d4ae0d27",
   "metadata": {},
   "source": [
    "## Many Exceptions\n",
    "You can define as many exception blocks as you want, e.g. if you want to execute a special block of code for a special kind of error:"
   ]
  },
  {
   "cell_type": "code",
   "execution_count": 12,
   "id": "dec27104-69bc-4e07-ad10-f4dc8ea42365",
   "metadata": {},
   "outputs": [
    {
     "name": "stdout",
     "output_type": "stream",
     "text": [
      "Variable x is not defined\n"
     ]
    }
   ],
   "source": [
    "try:\n",
    "  print(x)\n",
    "except NameError:\n",
    "  print(\"Variable x is not defined\")\n",
    "except:\n",
    "  print(\"Something else went wrong\")"
   ]
  },
  {
   "cell_type": "markdown",
   "id": "973cd4c3-9fe8-48cc-9690-6514efd1a2d4",
   "metadata": {},
   "source": [
    "## Else\n",
    "You can use the else keyword to define a block of code to be executed if no errors were raised:"
   ]
  },
  {
   "cell_type": "code",
   "execution_count": 13,
   "id": "ff8955b9-48a9-45aa-965c-31693d8e67ae",
   "metadata": {},
   "outputs": [
    {
     "name": "stdout",
     "output_type": "stream",
     "text": [
      "Hello\n",
      "Nothing went wrong\n"
     ]
    }
   ],
   "source": [
    "try:\n",
    "  print(\"Hello\")\n",
    "except:\n",
    "  print(\"Something went wrong\")\n",
    "else:\n",
    "  print(\"Nothing went wrong\")"
   ]
  },
  {
   "cell_type": "markdown",
   "id": "870996f6-1555-44f3-b5d3-d8145e04266b",
   "metadata": {},
   "source": [
    "## Finally\n",
    "The finally block, if specified, will be executed regardless if the try block raises an error or not."
   ]
  },
  {
   "cell_type": "code",
   "execution_count": 14,
   "id": "fa615d94-1ef6-497d-9f57-819d8e170bdb",
   "metadata": {},
   "outputs": [
    {
     "name": "stdout",
     "output_type": "stream",
     "text": [
      "Something went wrong\n",
      "The 'try except' is finished\n"
     ]
    }
   ],
   "source": [
    "try:\n",
    "  print(x)\n",
    "except:\n",
    "  print(\"Something went wrong\")\n",
    "finally:\n",
    "  print(\"The 'try except' is finished\")"
   ]
  },
  {
   "cell_type": "markdown",
   "id": "ae35d374-f425-4d3f-bdd7-de2c8853a35e",
   "metadata": {},
   "source": [
    "## User Input\n",
    "Python allows for user input.\n",
    "\n",
    "That means we are able to ask the user for input.\n",
    "\n",
    "The method is a bit different in Python 3.6 than Python 2.7.\n",
    "\n",
    "Python 3.6 uses the input() method.\n",
    "\n",
    "Python 2.7 uses the raw_input() method."
   ]
  },
  {
   "cell_type": "code",
   "execution_count": 17,
   "id": "6654208b-901f-427c-8693-e08b0165529e",
   "metadata": {},
   "outputs": [
    {
     "name": "stdin",
     "output_type": "stream",
     "text": [
      "Enter name: dd\n"
     ]
    },
    {
     "name": "stdout",
     "output_type": "stream",
     "text": [
      "name is: dd\n"
     ]
    }
   ],
   "source": [
    "username = input(\"Enter name:\")\n",
    "print(\"name is: \" + username)"
   ]
  },
  {
   "cell_type": "markdown",
   "id": "9f43a444-88c3-4a8e-bee8-dc8af47064cd",
   "metadata": {},
   "source": [
    "## String Formatting"
   ]
  },
  {
   "cell_type": "markdown",
   "id": "a329a572-fb00-4b4e-9632-99c2ad904d60",
   "metadata": {},
   "source": [
    "### Placeholders and Modifiers\n",
    "To format values in an f-string, add placeholders {}, a placeholder can contain variables, operations, functions, and modifiers to format the value."
   ]
  },
  {
   "cell_type": "code",
   "execution_count": 18,
   "id": "f9089dcf-4dfc-4c15-bc48-7de9390fd463",
   "metadata": {},
   "outputs": [
    {
     "name": "stdout",
     "output_type": "stream",
     "text": [
      "The price is 10 dollars\n"
     ]
    }
   ],
   "source": [
    "price = 10\n",
    "txt = f\"The price is {price} dollars\"\n",
    "print(txt)"
   ]
  },
  {
   "cell_type": "code",
   "execution_count": 3,
   "id": "5532ed38-3bbd-42dc-99dc-63c1ca22ccd3",
   "metadata": {},
   "outputs": [
    {
     "name": "stdout",
     "output_type": "stream",
     "text": [
      "The price is 19.00 dollars\n"
     ]
    }
   ],
   "source": [
    "#A placeholder can also include a modifier to format the value.\n",
    "#A modifier is included by adding a colon : followed by a legal formatting type, like .2f which means fixed point number with 2 decimals:\n",
    "price = 19\n",
    "txt = f\"The price is {price:.2f} dollars\"\n",
    "print(txt)"
   ]
  },
  {
   "cell_type": "markdown",
   "id": "e7cadbcf-4cae-4c3c-9d69-a45f7cf9a378",
   "metadata": {},
   "source": [
    "# Perform Operations in F-Strings\n",
    "You can perform Python operations inside the placeholders.\n",
    "You can do math operations:"
   ]
  },
  {
   "cell_type": "code",
   "execution_count": 4,
   "id": "a1f1301b-33c1-4c8e-8b82-ac36f3f73c9a",
   "metadata": {},
   "outputs": [
    {
     "name": "stdout",
     "output_type": "stream",
     "text": [
      "The price is 1180 dollars\n"
     ]
    }
   ],
   "source": [
    "#Perform a math operation in the placeholder, and return the result:\n",
    "txt = f\"The price is {20 * 59} dollars\"\n",
    "print(txt)"
   ]
  },
  {
   "cell_type": "code",
   "execution_count": 5,
   "id": "b5a63f6d-65cc-452f-ab38-8375ed827c9e",
   "metadata": {},
   "outputs": [
    {
     "name": "stdout",
     "output_type": "stream",
     "text": [
      "The price is 73.75 dollars\n"
     ]
    }
   ],
   "source": [
    "price = 59\n",
    "tax = 0.25\n",
    "txt = f\"The price is {price + (price * tax)} dollars\"\n",
    "print(txt)"
   ]
  },
  {
   "cell_type": "code",
   "execution_count": 6,
   "id": "85d881ad-7654-48c1-ac48-744913d08738",
   "metadata": {},
   "outputs": [
    {
     "name": "stdout",
     "output_type": "stream",
     "text": [
      "It is very Cheap\n"
     ]
    }
   ],
   "source": [
    "#You can perform if...else statements inside the placeholders:\n",
    "price = 49\n",
    "txt = f\"It is very {'Expensive' if price>50 else 'Cheap'}\"\n",
    "print(txt)"
   ]
  },
  {
   "cell_type": "markdown",
   "id": "a82e0bae-1946-47f9-b37d-67149db1dfb6",
   "metadata": {},
   "source": [
    "# Execute Functions in F-Strings\n",
    "You can execute functions inside the placeholder:"
   ]
  },
  {
   "cell_type": "code",
   "execution_count": 7,
   "id": "19176b51-bc2d-4230-a4b1-c8815c27b4cc",
   "metadata": {},
   "outputs": [
    {
     "name": "stdout",
     "output_type": "stream",
     "text": [
      "I love APPLES\n"
     ]
    }
   ],
   "source": [
    "#Use the string method upper()to convert a value into upper case letters:\n",
    "fruit = \"apples\"\n",
    "txt = f\"I love {fruit.upper()}\"\n",
    "print(txt)"
   ]
  },
  {
   "cell_type": "code",
   "execution_count": 8,
   "id": "2f0604c4-b1cf-4ad9-bc2f-4cbba9613f90",
   "metadata": {},
   "outputs": [
    {
     "name": "stdout",
     "output_type": "stream",
     "text": [
      "The plane is flying at a 9144.0 meter altitude\n"
     ]
    }
   ],
   "source": [
    "#The function does not have to be a built-in Python method, you can create your own functions and use them:\n",
    "#Create a function that converts feet into meters:\n",
    "def myconverter(x):\n",
    "  return x * 0.3048\n",
    "\n",
    "txt = f\"The plane is flying at a {myconverter(30000)} meter altitude\"\n",
    "print(txt)"
   ]
  },
  {
   "cell_type": "markdown",
   "id": "2e25550a-d43a-4a34-94be-559e8461d9c5",
   "metadata": {},
   "source": [
    "# More Modifiers"
   ]
  },
  {
   "cell_type": "code",
   "execution_count": 9,
   "id": "b58e40ec-4871-414d-b9fb-185192ebbbcc",
   "metadata": {},
   "outputs": [
    {
     "name": "stdout",
     "output_type": "stream",
     "text": [
      "The universe is 13,800,000,000 years old.\n"
     ]
    }
   ],
   "source": [
    "#Use \",\" to add a comma as a thousand separator:\n",
    "txt = f\"The universe is {13800000000:,} years old.\"\n",
    "print(txt)"
   ]
  },
  {
   "cell_type": "code",
   "execution_count": 10,
   "id": "6112949a-aa38-4b81-aa1b-8a82fa070a09",
   "metadata": {},
   "outputs": [
    {
     "name": "stdout",
     "output_type": "stream",
     "text": [
      "The universe is 13_800_000_000 years old.\n"
     ]
    }
   ],
   "source": [
    "txt = f\"The universe is {13800000000:_} years old.\"\n",
    "print(txt)"
   ]
  },
  {
   "cell_type": "code",
   "execution_count": 11,
   "id": "072733c9-8a48-494a-a738-07e5431c4e1a",
   "metadata": {},
   "outputs": [
    {
     "name": "stdout",
     "output_type": "stream",
     "text": [
      "The binary version of 5 is 101\n"
     ]
    }
   ],
   "source": [
    "#Use \"b\" to convert the number into binary format:\n",
    "txt = f\"The binary version of 5 is {5:b}\"\n",
    "print(txt)"
   ]
  },
  {
   "cell_type": "code",
   "execution_count": 12,
   "id": "5957e66d-61d3-4f30-b36f-74b1db53d801",
   "metadata": {},
   "outputs": [
    {
     "name": "stdout",
     "output_type": "stream",
     "text": [
      "You scored 25.000000%\n",
      "You scored 25%\n"
     ]
    }
   ],
   "source": [
    "#Use \"%\" to convert the number into a percentage format:\n",
    "txt = f\"You scored {0.25:%}\"\n",
    "print(txt)\n",
    "\n",
    "#Or, without any decimals:\n",
    "txt = f\"You scored {0.25:.0%}\"\n",
    "print(txt)"
   ]
  },
  {
   "cell_type": "markdown",
   "id": "3696e208-10ff-4978-b36d-3dd62f8a0664",
   "metadata": {},
   "source": [
    "# File Handling\n",
    "The key function for working with files in Python is the open() function.\n",
    "\n",
    "The open() function takes two parameters; filename, and mode.\n",
    "\n",
    "There are four different methods (modes) for opening a file:\n",
    "\n",
    "\"r\" - Read - Default value. Opens a file for reading, error if the file does not exist\n",
    "\n",
    "\"a\" - Append - Opens a file for appending, creates the file if it does not exist\n",
    "\n",
    "\"w\" - Write - Opens a file for writing, creates the file if it does not exist\n",
    "\n",
    "\"x\" - Create - Creates the specified file, returns an error if the file exists"
   ]
  },
  {
   "cell_type": "code",
   "execution_count": 2,
   "id": "a7ef6e4b-d1e9-46c2-8829-4bda2e3851ea",
   "metadata": {},
   "outputs": [
    {
     "name": "stdout",
     "output_type": "stream",
     "text": [
      "The key function for working with files in Python is the open() function.\n",
      "\n",
      "The open() function takes two parameters; filename, and mode.\n",
      "\n",
      "There are four different methods (modes) for opening a file:\n"
     ]
    }
   ],
   "source": [
    "f = open(\"untitled.txt\",\"r\")\n",
    "print(f.read())"
   ]
  },
  {
   "cell_type": "code",
   "execution_count": 15,
   "id": "e8a59e3b-4bbc-446c-aa4c-dafe1e7fea0a",
   "metadata": {},
   "outputs": [],
   "source": [
    "f = open(\"untitled1.txt\",\"w\")"
   ]
  },
  {
   "cell_type": "markdown",
   "id": "3bf9ab62-85b4-4e6f-8ce2-9ae7c53de8d6",
   "metadata": {},
   "source": [
    "# class"
   ]
  },
  {
   "cell_type": "markdown",
   "id": "8cf18261-05b1-436d-9227-62e4dea1b6b8",
   "metadata": {},
   "source": [
    "### Create a Class\n"
   ]
  },
  {
   "cell_type": "code",
   "execution_count": 2,
   "id": "fdf32595-4d8d-4af5-88aa-2746cb2314e6",
   "metadata": {},
   "outputs": [
    {
     "name": "stdout",
     "output_type": "stream",
     "text": [
      "<class '__main__.Policy'>\n"
     ]
    }
   ],
   "source": [
    "class Policy:\n",
    "  x = 5\n",
    "print(Policy)"
   ]
  },
  {
   "cell_type": "markdown",
   "id": "5e971821-51cf-4964-8cdb-994282c081bf",
   "metadata": {},
   "source": [
    "### Create Object"
   ]
  },
  {
   "cell_type": "code",
   "execution_count": 3,
   "id": "6c5fa295-20c4-41e6-a245-09226f9042d8",
   "metadata": {},
   "outputs": [
    {
     "name": "stdout",
     "output_type": "stream",
     "text": [
      "5\n"
     ]
    }
   ],
   "source": [
    "p1 = Policy()\n",
    "print(p1.x)"
   ]
  },
  {
   "cell_type": "markdown",
   "id": "ec63cace-484a-44ce-b7cd-ad0389ec291b",
   "metadata": {},
   "source": [
    "### The __init__() Function"
   ]
  },
  {
   "cell_type": "code",
   "execution_count": 4,
   "id": "081e876d-e43d-41f2-b3ab-99e26e8f851f",
   "metadata": {},
   "outputs": [
    {
     "name": "stdout",
     "output_type": "stream",
     "text": [
      "Abraham\n",
      "46\n"
     ]
    }
   ],
   "source": [
    "#Create a class named Person, use the __init__() function to assign values for name and age:\n",
    "\n",
    "class Person:\n",
    "  def __init__(self, name, age):\n",
    "    self.name = name\n",
    "    self.age = age\n",
    "\n",
    "p1 = Person(\"Abraham\", 46)\n",
    "print(p1.name)\n",
    "print(p1.age)"
   ]
  },
  {
   "cell_type": "markdown",
   "id": "a0dd6def-514b-490b-acd2-9dc2055bdcf2",
   "metadata": {},
   "source": [
    "### The __str__() Function"
   ]
  },
  {
   "cell_type": "code",
   "execution_count": 5,
   "id": "6f2761ae-f4c6-4c5c-b73f-3466bf7190a5",
   "metadata": {},
   "outputs": [
    {
     "name": "stdout",
     "output_type": "stream",
     "text": [
      "Abraham(46)\n"
     ]
    }
   ],
   "source": [
    "#The string representation of an object WITH the __str__() function:\n",
    "\n",
    "class Person:\n",
    "  def __init__(self, name, age):\n",
    "    self.name = name\n",
    "    self.age = age\n",
    "\n",
    "  def __str__(self):\n",
    "    return f\"{self.name}({self.age})\"\n",
    "\n",
    "p1 = Person(\"Abraham\", 46)\n",
    "print(p1)"
   ]
  },
  {
   "cell_type": "markdown",
   "id": "6d52def7-9989-46b6-bfbf-3736617ab7ab",
   "metadata": {},
   "source": [
    "### Object Methods\n",
    "Objects can also contain methods. Methods in objects are functions that belong to the object.\n",
    "\n",
    "Let us create a method in the Person class:"
   ]
  },
  {
   "cell_type": "code",
   "execution_count": 6,
   "id": "47795b4e-7407-4fc9-8f68-d73da1ce6559",
   "metadata": {},
   "outputs": [
    {
     "name": "stdout",
     "output_type": "stream",
     "text": [
      "Hello my name is Abraham\n"
     ]
    }
   ],
   "source": [
    "#Insert a function that prints a greeting, and execute it on the p1 object:\n",
    "\n",
    "class Person:\n",
    "  def __init__(self, name, age):\n",
    "    self.name = name\n",
    "    self.age = age\n",
    "\n",
    "  def myfunc(self):\n",
    "    print(\"Hello my name is \" + self.name)\n",
    "\n",
    "p1 = Person(\"Abraham\", 46)\n",
    "p1.myfunc()"
   ]
  },
  {
   "cell_type": "markdown",
   "id": "85a12a44-adc8-4979-a33d-16923945450c",
   "metadata": {},
   "source": [
    "### The self Parameter\n",
    "The self parameter is a reference to the current instance of the class, and is used to access variables that belong to the class."
   ]
  },
  {
   "cell_type": "code",
   "execution_count": 7,
   "id": "72f709a7-982d-40d5-9182-bb28a7eec0fb",
   "metadata": {},
   "outputs": [
    {
     "name": "stdout",
     "output_type": "stream",
     "text": [
      "Hello my name is Abraham\n"
     ]
    }
   ],
   "source": [
    "class Person:\n",
    "  def __init__(mysillyobject, name, age):\n",
    "    mysillyobject.name = name\n",
    "    mysillyobject.age = age\n",
    "\n",
    "  def myfunc(abc):\n",
    "    print(\"Hello my name is \" + abc.name)\n",
    "\n",
    "p1 = Person(\"Abraham\", 46)\n",
    "p1.myfunc()"
   ]
  },
  {
   "cell_type": "markdown",
   "id": "025e2147-cf85-4715-9e06-6c5c9954a164",
   "metadata": {},
   "source": [
    "### Modify Object Properties"
   ]
  },
  {
   "cell_type": "code",
   "execution_count": 9,
   "id": "13c75754-da46-4969-9abc-6987f09f4d8a",
   "metadata": {},
   "outputs": [
    {
     "name": "stdout",
     "output_type": "stream",
     "text": [
      "40\n"
     ]
    }
   ],
   "source": [
    "p1.age = 40\n",
    "print(p1.age)"
   ]
  },
  {
   "cell_type": "markdown",
   "id": "43554c63-fe1c-402e-8966-4bf168857a91",
   "metadata": {},
   "source": [
    "### Delete Object Properties"
   ]
  },
  {
   "cell_type": "code",
   "execution_count": 16,
   "id": "eb42b7c0-844b-40c7-a7c0-9cb3b3dd2ff7",
   "metadata": {},
   "outputs": [
    {
     "ename": "NameError",
     "evalue": "name 'p1' is not defined",
     "output_type": "error",
     "traceback": [
      "\u001b[1;31m---------------------------------------------------------------------------\u001b[0m",
      "\u001b[1;31mNameError\u001b[0m                                 Traceback (most recent call last)",
      "Cell \u001b[1;32mIn[16], line 1\u001b[0m\n\u001b[1;32m----> 1\u001b[0m \u001b[38;5;28;01mdel\u001b[39;00m p1\u001b[38;5;241m.\u001b[39mage\n",
      "\u001b[1;31mNameError\u001b[0m: name 'p1' is not defined"
     ]
    }
   ],
   "source": [
    "del p1.age"
   ]
  },
  {
   "cell_type": "code",
   "execution_count": 15,
   "id": "73c60a74-733a-48d2-9dff-ced03215c946",
   "metadata": {},
   "outputs": [],
   "source": [
    "del p1"
   ]
  },
  {
   "cell_type": "markdown",
   "id": "1e8ad9d3-4e20-41d4-841f-a3fd24dd3d37",
   "metadata": {},
   "source": [
    "### The pass Statement"
   ]
  },
  {
   "cell_type": "code",
   "execution_count": 17,
   "id": "1c2b346f-8b32-42ab-9e87-5e5ddfa0aa6c",
   "metadata": {},
   "outputs": [],
   "source": [
    "class Person:\n",
    "  pass"
   ]
  },
  {
   "cell_type": "markdown",
   "id": "4eb692e9-d94b-4ae8-ae50-9d717ee6a5dd",
   "metadata": {},
   "source": [
    "# Inheritance\n",
    "Inheritance allows us to define a class that inherits all the methods and properties from another class.\n",
    "\n",
    "Parent class is the class being inherited from, also called base class.\n",
    "\n",
    "Child class is the class that inherits from another class, also called derived class."
   ]
  },
  {
   "cell_type": "markdown",
   "id": "3c39c230-d997-4c4e-b4db-8b997da4c3e3",
   "metadata": {},
   "source": [
    "### Create a Parent Class\n"
   ]
  },
  {
   "cell_type": "code",
   "execution_count": 1,
   "id": "2e04a0d5-b30b-475a-846c-d56f969bbd0e",
   "metadata": {},
   "outputs": [
    {
     "name": "stdout",
     "output_type": "stream",
     "text": [
      "divya deswal\n"
     ]
    }
   ],
   "source": [
    "class Person:\n",
    "  def __init__(self, fname, lname):\n",
    "    self.firstname = fname\n",
    "    self.lastname = lname\n",
    "\n",
    "  def printname(self):\n",
    "    print(self.firstname, self.lastname)\n",
    "\n",
    "x = Person(\"divya\", \"deswal\")\n",
    "x.printname()"
   ]
  },
  {
   "cell_type": "markdown",
   "id": "3fdce839-1de1-4bae-828f-fa3729434c3f",
   "metadata": {},
   "source": [
    "### Create a Child Class\n",
    "To create a class that inherits the functionality from another class, send the parent class as a parameter when creating the child class:"
   ]
  },
  {
   "cell_type": "code",
   "execution_count": 2,
   "id": "0db34953-75bb-45f7-9ae7-d3b7e56463b2",
   "metadata": {},
   "outputs": [],
   "source": [
    "class Student(Person):\n",
    "  pass"
   ]
  },
  {
   "cell_type": "code",
   "execution_count": 4,
   "id": "abcd1576-46ae-439a-95b4-dbd4e8a13360",
   "metadata": {},
   "outputs": [
    {
     "name": "stdout",
     "output_type": "stream",
     "text": [
      "divya deswal\n"
     ]
    }
   ],
   "source": [
    "x = Student(\"divya\", \"deswal\")\n",
    "x.printname()"
   ]
  },
  {
   "cell_type": "markdown",
   "id": "aa925ead-af33-4c63-8c79-8d83651c5e4e",
   "metadata": {},
   "source": [
    "### Add the __init__() Function"
   ]
  },
  {
   "cell_type": "code",
   "execution_count": 5,
   "id": "6b16c558-1052-49bd-a8d8-3c093211e78d",
   "metadata": {},
   "outputs": [
    {
     "name": "stdout",
     "output_type": "stream",
     "text": [
      "divya deswal\n"
     ]
    }
   ],
   "source": [
    "#The __init__() function is called automatically every time the class is being used to create a new object.\n",
    "class Person:\n",
    "  def __init__(self, fname, lname):\n",
    "    self.firstname = fname\n",
    "    self.lastname = lname\n",
    "\n",
    "  def printname(self):\n",
    "    print(self.firstname, self.lastname)\n",
    "\n",
    "class Student(Person):\n",
    "  def __init__(self, fname, lname):\n",
    "    Person.__init__(self, fname, lname)\n",
    "\n",
    "x = Student(\"divya\", \"deswal\")\n",
    "x.printname()"
   ]
  },
  {
   "cell_type": "code",
   "execution_count": 6,
   "id": "910376f1-cd60-4853-9a16-235b5006e0a1",
   "metadata": {},
   "outputs": [
    {
     "name": "stdout",
     "output_type": "stream",
     "text": [
      "divya deswal\n"
     ]
    }
   ],
   "source": [
    "#Use the super() Function Python also has a super() function that will make the child class inherit all the methods and properties from its parent:\n",
    "class Person:\n",
    "  def __init__(self, fname, lname):\n",
    "    self.firstname = fname\n",
    "    self.lastname = lname\n",
    "\n",
    "  def printname(self):\n",
    "    print(self.firstname, self.lastname)\n",
    "\n",
    "class Student(Person):\n",
    "  def __init__(self, fname, lname):\n",
    "    super().__init__(fname, lname)\n",
    "\n",
    "x = Student(\"divya\", \"deswal\")\n",
    "x.printname()"
   ]
  },
  {
   "cell_type": "markdown",
   "id": "46078082-8088-4d50-bbd3-6fbffb125968",
   "metadata": {},
   "source": [
    "### Add Properties"
   ]
  },
  {
   "cell_type": "code",
   "execution_count": 7,
   "id": "e0f6d571-5dcf-4806-a4a5-78533fea1429",
   "metadata": {},
   "outputs": [
    {
     "name": "stdout",
     "output_type": "stream",
     "text": [
      "2019\n"
     ]
    }
   ],
   "source": [
    "class Person:\n",
    "  def __init__(self, fname, lname):\n",
    "    self.firstname = fname\n",
    "    self.lastname = lname\n",
    "\n",
    "  def printname(self):\n",
    "    print(self.firstname, self.lastname)\n",
    "\n",
    "class Student(Person):\n",
    "  def __init__(self, fname, lname):\n",
    "    super().__init__(fname, lname)\n",
    "    self.graduationyear = 2019\n",
    "\n",
    "x = Student(\"divya\", \"deswal\")\n",
    "print(x.graduationyear)"
   ]
  },
  {
   "cell_type": "code",
   "execution_count": 8,
   "id": "424a2811-147a-43e9-a5f3-cea35ae39a1d",
   "metadata": {},
   "outputs": [
    {
     "name": "stdout",
     "output_type": "stream",
     "text": [
      "2019\n"
     ]
    }
   ],
   "source": [
    "class Person:\n",
    "  def __init__(self, fname, lname):\n",
    "    self.firstname = fname\n",
    "    self.lastname = lname\n",
    "\n",
    "  def printname(self):\n",
    "    print(self.firstname, self.lastname)\n",
    "\n",
    "class Student(Person):\n",
    "  def __init__(self, fname, lname, year):\n",
    "    super().__init__(fname, lname)\n",
    "    self.graduationyear = year\n",
    "\n",
    "x = Student(\"divya\", \"deswal\", 2019)\n",
    "print(x.graduationyear)"
   ]
  },
  {
   "cell_type": "markdown",
   "id": "b8164c18-27f9-4b62-ba22-c41c041f80ce",
   "metadata": {},
   "source": [
    "### Add Methods"
   ]
  },
  {
   "cell_type": "code",
   "execution_count": 9,
   "id": "50ff5771-9722-48fe-a2a0-20b9fab8b931",
   "metadata": {},
   "outputs": [
    {
     "name": "stdout",
     "output_type": "stream",
     "text": [
      "Welcome divya deswal to the class of 2024\n"
     ]
    }
   ],
   "source": [
    "class Person:\n",
    "  def __init__(self, fname, lname):\n",
    "    self.firstname = fname\n",
    "    self.lastname = lname\n",
    "\n",
    "  def printname(self):\n",
    "    print(self.firstname, self.lastname)\n",
    "\n",
    "class Student(Person):\n",
    "  def __init__(self, fname, lname, year):\n",
    "    super().__init__(fname, lname)\n",
    "    self.graduationyear = year\n",
    "\n",
    "  def welcome(self):\n",
    "    print(\"Welcome\", self.firstname, self.lastname, \"to the class of\", self.graduationyear)\n",
    "\n",
    "x = Student(\"divya\", \"deswal\", 2024)\n",
    "x.welcome()"
   ]
  },
  {
   "cell_type": "markdown",
   "id": "7b2be0eb-9f37-4a2a-afec-6167e1c4649a",
   "metadata": {},
   "source": [
    "# Numpy"
   ]
  },
  {
   "cell_type": "markdown",
   "id": "809a1bca-5442-4a0c-8ef1-0dd7ccfea8fd",
   "metadata": {},
   "source": [
    "NumPy is a Python library used for working with arrays.\n",
    "It also has functions for working in domain of linear algebra, fourier transform, and matrices.\n",
    "In Python we have lists that serve the purpose of arrays, but they are slow to process.\n",
    "\n",
    "NumPy aims to provide an array object that is up to 50x faster than traditional Python lists.\n",
    "The array object in NumPy is called ndarray, it provides a lot of supporting functions that make working with ndarray very easy.\n",
    "\n",
    "Why is NumPy Faster Than Lists?\n",
    "NumPy arrays are stored at one continuous place in memory unlike lists, so processes can access and manipulate them very efficiently.\n",
    "This behavior is called locality of reference in computer science.\n",
    "This is the main reason why NumPy is faster than lists. Also it is optimized to work with latest CPU architectures.                     \n",
    "\n",
    "                    "
   ]
  },
  {
   "cell_type": "markdown",
   "id": "24b81845-21e0-49b9-b26c-cba7e5477b5c",
   "metadata": {},
   "source": [
    "NumPy is a Python library and is written partially in Python, but most of the parts that require fast computation are written in C or C++.\n",
    "\n"
   ]
  },
  {
   "cell_type": "code",
   "execution_count": 7,
   "id": "003256d1-76b0-43e7-8800-542950b674d0",
   "metadata": {},
   "outputs": [
    {
     "name": "stdout",
     "output_type": "stream",
     "text": [
      "[1 2 3 4 5]\n"
     ]
    }
   ],
   "source": [
    "import numpy\n",
    "arr = numpy.array([1, 2, 3, 4, 5])\n",
    "print(arr)"
   ]
  },
  {
   "cell_type": "markdown",
   "id": "cae8bbdb-366c-48ef-ba27-20e6cad69c5c",
   "metadata": {},
   "source": [
    "NumPy is usually imported under the np alias.\n",
    "\n",
    "alias: In Python alias are an alternate name for referring to the same thing.\n",
    "\n",
    "Create an alias with the as keyword while importing:\n",
    "\n"
   ]
  },
  {
   "cell_type": "code",
   "execution_count": 8,
   "id": "aa57c1e2-a432-4a32-8243-ff4dea96943a",
   "metadata": {},
   "outputs": [
    {
     "name": "stdout",
     "output_type": "stream",
     "text": [
      "[1 2 3 4 5]\n"
     ]
    }
   ],
   "source": [
    "import numpy as np\n",
    "arr = np.array([1, 2, 3, 4, 5])\n",
    "print(arr)"
   ]
  },
  {
   "cell_type": "markdown",
   "id": "eb711607-dc4a-4b45-a5b2-9f8f4acf31ca",
   "metadata": {},
   "source": [
    "Checking NumPy Version\n",
    "The version string is stored under __version__ attribute."
   ]
  },
  {
   "cell_type": "code",
   "execution_count": 9,
   "id": "9d0d26c6-f443-4c90-ba55-5d4a925cfc88",
   "metadata": {},
   "outputs": [
    {
     "name": "stdout",
     "output_type": "stream",
     "text": [
      "1.26.4\n"
     ]
    }
   ],
   "source": [
    "import numpy as np\n",
    "print(np.__version__)"
   ]
  },
  {
   "cell_type": "markdown",
   "id": "d24273bc-7cd5-4f09-8d7c-42c03c2c4b46",
   "metadata": {},
   "source": [
    "## NumPy Creating Arrays"
   ]
  },
  {
   "cell_type": "markdown",
   "id": "a6dc643d-80f1-4c1e-8871-90891651d274",
   "metadata": {},
   "source": [
    "Create a NumPy ndarray Object\n",
    "\n",
    "NumPy is used to work with arrays. The array object in NumPy is called ndarray.\n",
    "We can create a NumPy ndarray object by using the array() function."
   ]
  },
  {
   "cell_type": "code",
   "execution_count": 10,
   "id": "37823c98-2cbf-4145-92b7-66aada5ace36",
   "metadata": {},
   "outputs": [
    {
     "name": "stdout",
     "output_type": "stream",
     "text": [
      "[1 2 3 4 5]\n",
      "<class 'numpy.ndarray'>\n"
     ]
    }
   ],
   "source": [
    "import numpy as np\n",
    "arr = np.array([1, 2, 3, 4, 5])\n",
    "print(arr)\n",
    "print(type(arr))"
   ]
  },
  {
   "cell_type": "code",
   "execution_count": 11,
   "id": "3d153ad9-eb29-4320-aca4-7bf24de51dd5",
   "metadata": {},
   "outputs": [
    {
     "name": "stdout",
     "output_type": "stream",
     "text": [
      "[1 2 3 4 5]\n"
     ]
    }
   ],
   "source": [
    "#To create an ndarray, we can pass a list, tuple or any array-like object into the array() method, and it will be converted into an ndarray:\n",
    "import numpy as np\n",
    "arr = np.array((1, 2, 3, 4, 5))\n",
    "print(arr)"
   ]
  },
  {
   "cell_type": "markdown",
   "id": "854dfa82-a37b-41b8-922c-eb62ffb0f0d5",
   "metadata": {},
   "source": [
    "Dimensions in Arrays\n",
    "\n",
    "A dimension in arrays is one level of array depth (nested arrays).\n",
    "\n",
    "nested array: are arrays that have arrays as their elements."
   ]
  },
  {
   "cell_type": "code",
   "execution_count": 12,
   "id": "46275237-bd3d-431b-bd10-2e494fb3934a",
   "metadata": {},
   "outputs": [
    {
     "name": "stdout",
     "output_type": "stream",
     "text": [
      "2\n"
     ]
    }
   ],
   "source": [
    "#0-D arrays, or Scalars, are the elements in an array. Each value in an array is a 0-D array.\n",
    "import numpy as np\n",
    "arr = np.array(2)\n",
    "print(arr)"
   ]
  },
  {
   "cell_type": "code",
   "execution_count": 13,
   "id": "6273b67f-c8a9-46f3-9235-32ef2f544402",
   "metadata": {},
   "outputs": [
    {
     "name": "stdout",
     "output_type": "stream",
     "text": [
      "[1 2 3 4 5]\n"
     ]
    }
   ],
   "source": [
    "#1-D Arrays\n",
    "#An array that has 0-D arrays as its elements is called uni-dimensional or 1-D array.\n",
    "import numpy as np\n",
    "arr = np.array([1, 2, 3, 4, 5])\n",
    "print(arr)"
   ]
  },
  {
   "cell_type": "code",
   "execution_count": 14,
   "id": "157579cd-1203-4a06-8603-b3a6bf6e5ca0",
   "metadata": {},
   "outputs": [
    {
     "name": "stdout",
     "output_type": "stream",
     "text": [
      "[[1 2 3]\n",
      " [4 5 6]]\n"
     ]
    }
   ],
   "source": [
    "#2-D Arrays\n",
    "#An array that has 1-D arrays as its elements is called a 2-D array.\n",
    "#These are often used to represent matrix or 2nd order tensors.\n",
    "#NumPy has a whole sub module dedicated towards matrix operations called numpy.mat\n",
    "import numpy as np\n",
    "arr = np.array([[1, 2, 3], [4, 5, 6]])\n",
    "print(arr)"
   ]
  },
  {
   "cell_type": "code",
   "execution_count": 15,
   "id": "ebf1da89-d551-45b5-b95c-c4609901444f",
   "metadata": {},
   "outputs": [
    {
     "name": "stdout",
     "output_type": "stream",
     "text": [
      "[[[1 2 3]\n",
      "  [4 5 6]]\n",
      "\n",
      " [[1 2 3]\n",
      "  [4 5 6]]]\n"
     ]
    }
   ],
   "source": [
    "#3-D arrays\n",
    "#An array that has 2-D arrays (matrices) as its elements is called 3-D array.\n",
    "#These are often used to represent a 3rd order tensor.\n",
    "import numpy as np\n",
    "arr = np.array([[[1, 2, 3], [4, 5, 6]], [[1, 2, 3], [4, 5, 6]]])\n",
    "print(arr)"
   ]
  },
  {
   "cell_type": "code",
   "execution_count": 19,
   "id": "04cceb7d-47cc-4c38-ae8d-f876827b6af9",
   "metadata": {},
   "outputs": [
    {
     "name": "stdout",
     "output_type": "stream",
     "text": [
      "0\n",
      "1\n",
      "1\n",
      "2\n",
      "3\n"
     ]
    }
   ],
   "source": [
    "#Check Number of Dimensions?\n",
    "#NumPy Arrays provides the ndim attribute that returns an integer that tells us how many dimensions the array have.\n",
    "import numpy as np\n",
    "a = np.array(4)\n",
    "a1 = np.array([5])\n",
    "b = np.array([1, 2, 3, 4, 5])\n",
    "c = np.array([[1, 2, 3], [4, 5, 6]])\n",
    "d = np.array([[[1, 2, 3], [4, 5, 6]], [[1, 2, 3], [4, 5, 6]]])\n",
    "print(a.ndim)\n",
    "print(a1.ndim)\n",
    "print(b.ndim)\n",
    "print(c.ndim)\n",
    "print(d.ndim)"
   ]
  },
  {
   "cell_type": "code",
   "execution_count": 20,
   "id": "730fe0c7-c499-4f99-8694-a42b2959b913",
   "metadata": {},
   "outputs": [
    {
     "name": "stdout",
     "output_type": "stream",
     "text": [
      "[[[[[1 2 3 4]]]]]\n",
      "number of dimensions : 5\n"
     ]
    }
   ],
   "source": [
    "#Higher Dimensional Arrays\n",
    "#An array can have any number of dimensions.\n",
    "#When the array is created, you can define the number of dimensions by using the ndmin argument.\n",
    "import numpy as np\n",
    "arr = np.array([1, 2, 3, 4], ndmin=5)\n",
    "print(arr)\n",
    "print('number of dimensions :', arr.ndim)"
   ]
  },
  {
   "cell_type": "markdown",
   "id": "0ccd9996-c6f0-4e50-b1c9-22d308a6d6e1",
   "metadata": {},
   "source": [
    "## NumPy Array Indexing\n"
   ]
  },
  {
   "cell_type": "code",
   "execution_count": 21,
   "id": "18037448-a02f-4d48-8836-9a42d8880d53",
   "metadata": {},
   "outputs": [
    {
     "name": "stdout",
     "output_type": "stream",
     "text": [
      "1\n"
     ]
    }
   ],
   "source": [
    "#Access 1-D Array Elements\n",
    "#Array indexing is the same as accessing an array element.\n",
    "#You can access an array element by referring to its index number.\n",
    "import numpy as np\n",
    "arr = np.array([1, 2, 3, 4])\n",
    "print(arr[0])"
   ]
  },
  {
   "cell_type": "code",
   "execution_count": 22,
   "id": "51cbe242-8bc8-4824-8b03-1132b2a7c332",
   "metadata": {},
   "outputs": [
    {
     "name": "stdout",
     "output_type": "stream",
     "text": [
      "4\n"
     ]
    }
   ],
   "source": [
    "print(arr[3])"
   ]
  },
  {
   "cell_type": "code",
   "execution_count": 23,
   "id": "ade05838-1da8-4dfb-8154-38f5ab578f33",
   "metadata": {},
   "outputs": [
    {
     "name": "stdout",
     "output_type": "stream",
     "text": [
      "7\n"
     ]
    }
   ],
   "source": [
    "#Get third and fourth elements from the following array and add them.\n",
    "import numpy as np\n",
    "arr = np.array([1, 2, 3, 4])\n",
    "print(arr[2] + arr[3])"
   ]
  },
  {
   "cell_type": "code",
   "execution_count": 25,
   "id": "44e3a578-d716-42a3-bbd4-5a19f0c038a8",
   "metadata": {},
   "outputs": [
    {
     "name": "stdout",
     "output_type": "stream",
     "text": [
      "3\n"
     ]
    }
   ],
   "source": [
    "print(arr[0] + arr[1])"
   ]
  },
  {
   "cell_type": "code",
   "execution_count": 26,
   "id": "c78b301c-c4d6-4bca-88c7-6ee1a8c27380",
   "metadata": {},
   "outputs": [
    {
     "name": "stdout",
     "output_type": "stream",
     "text": [
      "2nd element on 1st row:  2\n"
     ]
    }
   ],
   "source": [
    "#Access 2-D Arrays\n",
    "import numpy as np\n",
    "arr = np.array([[1,2,3,4,5], [6,7,8,9,10]])\n",
    "print('2nd element on 1st row: ', arr[0, 1])"
   ]
  },
  {
   "cell_type": "code",
   "execution_count": 28,
   "id": "33a4db87-2611-48ba-9a84-5cfe1363b6bb",
   "metadata": {},
   "outputs": [
    {
     "name": "stdout",
     "output_type": "stream",
     "text": [
      "2nd element on 2nd row:  7\n"
     ]
    }
   ],
   "source": [
    "print('2nd element on 2nd row: ', arr[1, 1])"
   ]
  },
  {
   "cell_type": "code",
   "execution_count": 29,
   "id": "f37ab8e7-c996-46e0-bb51-fe371eef46a4",
   "metadata": {},
   "outputs": [
    {
     "name": "stdout",
     "output_type": "stream",
     "text": [
      "5th element on 1st row:  5\n"
     ]
    }
   ],
   "source": [
    "print('5th element on 1st row: ', arr[0, 4])"
   ]
  },
  {
   "cell_type": "code",
   "execution_count": 30,
   "id": "144a5259-6009-4457-86d3-7d2f1c6605f8",
   "metadata": {},
   "outputs": [
    {
     "name": "stdout",
     "output_type": "stream",
     "text": [
      "6\n"
     ]
    }
   ],
   "source": [
    "#Access 3-D Arrays\n",
    "import numpy as np\n",
    "arr = np.array([[[1, 2, 3], [4, 5, 6]], [[7, 8, 9], [10, 11, 12]]])\n",
    "print(arr[0, 1, 2])"
   ]
  },
  {
   "cell_type": "code",
   "execution_count": 31,
   "id": "81ebb3c6-7e3a-4be1-b00d-62f0aaecba2e",
   "metadata": {},
   "outputs": [
    {
     "name": "stdout",
     "output_type": "stream",
     "text": [
      "12\n"
     ]
    }
   ],
   "source": [
    "print(arr[1, 1, 2])"
   ]
  },
  {
   "cell_type": "code",
   "execution_count": 33,
   "id": "c695d8a8-182b-4010-934a-a80d21ddb1ff",
   "metadata": {},
   "outputs": [
    {
     "name": "stdout",
     "output_type": "stream",
     "text": [
      "7\n"
     ]
    }
   ],
   "source": [
    "print(arr[1, 0, 0])"
   ]
  },
  {
   "cell_type": "code",
   "execution_count": 34,
   "id": "d8d1b5ab-3af9-450e-90b6-64ac662db0c1",
   "metadata": {},
   "outputs": [
    {
     "name": "stdout",
     "output_type": "stream",
     "text": [
      "Last element from 2nd dim:  10\n"
     ]
    }
   ],
   "source": [
    "# Negative Indexing\n",
    "import numpy as np\n",
    "arr = np.array([[1,2,3,4,5], [6,7,8,9,10]])\n",
    "print('Last element from 2nd dim: ', arr[1, -1])"
   ]
  },
  {
   "cell_type": "markdown",
   "id": "7881f5e1-93f7-4de2-82c8-cb978eb10a71",
   "metadata": {},
   "source": [
    "## NumPy Array Slicing"
   ]
  },
  {
   "cell_type": "markdown",
   "id": "182d951d-e303-4ca7-8abc-1ab2a6e144f6",
   "metadata": {},
   "source": [
    "Slicing in python means taking elements from one given index to another given index.\n",
    "\n",
    "We pass slice instead of index like this: [start:end].\n",
    "\n",
    "We can also define the step, like this: [start:end:step].\n",
    "\n",
    "If we don't pass start its considered 0\n",
    "\n",
    "If we don't pass end its considered length of array in that dimension\n",
    "\n",
    "If we don't pass step its considered 1"
   ]
  },
  {
   "cell_type": "code",
   "execution_count": 35,
   "id": "90dc7aaa-e119-4be6-80d8-6cfc98818e7a",
   "metadata": {},
   "outputs": [
    {
     "name": "stdout",
     "output_type": "stream",
     "text": [
      "[2 3 4 5]\n"
     ]
    }
   ],
   "source": [
    "import numpy as np\n",
    "arr = np.array([1, 2, 3, 4, 5, 6, 7])\n",
    "print(arr[1:5])"
   ]
  },
  {
   "cell_type": "code",
   "execution_count": 36,
   "id": "df1b219f-2f97-4ef7-8eca-37489271f954",
   "metadata": {},
   "outputs": [
    {
     "name": "stdout",
     "output_type": "stream",
     "text": [
      "[5 6 7]\n"
     ]
    }
   ],
   "source": [
    "print(arr[4:])"
   ]
  },
  {
   "cell_type": "code",
   "execution_count": 37,
   "id": "cdb7943d-03f8-4096-a014-cecf04a3cebb",
   "metadata": {},
   "outputs": [
    {
     "name": "stdout",
     "output_type": "stream",
     "text": [
      "[2 3 4 5 6 7]\n"
     ]
    }
   ],
   "source": [
    "print(arr[1:])"
   ]
  },
  {
   "cell_type": "code",
   "execution_count": 38,
   "id": "7be9d23e-ec92-40f2-83a6-ce7c2be85be9",
   "metadata": {},
   "outputs": [
    {
     "name": "stdout",
     "output_type": "stream",
     "text": [
      "[1 2 3 4 5]\n"
     ]
    }
   ],
   "source": [
    "print(arr[:5])"
   ]
  },
  {
   "cell_type": "code",
   "execution_count": 39,
   "id": "51aae99a-4802-4388-bf04-c571366a608d",
   "metadata": {},
   "outputs": [
    {
     "name": "stdout",
     "output_type": "stream",
     "text": [
      "[5 6]\n"
     ]
    }
   ],
   "source": [
    "print(arr[-3:-1])"
   ]
  },
  {
   "cell_type": "code",
   "execution_count": 40,
   "id": "98b13530-aae8-4da4-8b27-76055bc7088f",
   "metadata": {},
   "outputs": [
    {
     "name": "stdout",
     "output_type": "stream",
     "text": [
      "[2 4]\n"
     ]
    }
   ],
   "source": [
    "#STEP\n",
    "#Use the step value to determine the step of the slicing:\n",
    "import numpy as np\n",
    "arr = np.array([1, 2, 3, 4, 5, 6, 7])\n",
    "print(arr[1:5:2])"
   ]
  },
  {
   "cell_type": "code",
   "execution_count": 41,
   "id": "258edf49-59f7-4e17-a28c-d4e2d1df19f2",
   "metadata": {},
   "outputs": [
    {
     "name": "stdout",
     "output_type": "stream",
     "text": [
      "[1 3 5 7]\n"
     ]
    }
   ],
   "source": [
    "print(arr[::2])"
   ]
  },
  {
   "cell_type": "code",
   "execution_count": 42,
   "id": "d49d4486-e8be-4b72-acfa-dfee4083de8d",
   "metadata": {},
   "outputs": [
    {
     "name": "stdout",
     "output_type": "stream",
     "text": [
      "[7 8 9]\n"
     ]
    }
   ],
   "source": [
    "#Slicing 2-D Arrays\n",
    "import numpy as np\n",
    "arr = np.array([[1, 2, 3, 4, 5], [6, 7, 8, 9, 10]])\n",
    "print(arr[1, 1:4])"
   ]
  },
  {
   "cell_type": "code",
   "execution_count": 43,
   "id": "45363fae-d2f7-4fe0-9671-3e1debcb960d",
   "metadata": {},
   "outputs": [
    {
     "name": "stdout",
     "output_type": "stream",
     "text": [
      "[3 8]\n"
     ]
    }
   ],
   "source": [
    "print(arr[0:2, 2])"
   ]
  },
  {
   "cell_type": "code",
   "execution_count": 44,
   "id": "0f8935cc-01c0-4c5f-b916-8ed193b050d2",
   "metadata": {},
   "outputs": [
    {
     "name": "stdout",
     "output_type": "stream",
     "text": [
      "[[2 3 4]\n",
      " [7 8 9]]\n"
     ]
    }
   ],
   "source": [
    "print(arr[0:2, 1:4])"
   ]
  },
  {
   "cell_type": "code",
   "execution_count": 45,
   "id": "7f0f70ee-7d71-4a27-b02d-3d30dcc30309",
   "metadata": {},
   "outputs": [
    {
     "name": "stdout",
     "output_type": "stream",
     "text": [
      "[[ 1  2  3  4  5]\n",
      " [ 6  7  8  9 10]]\n"
     ]
    }
   ],
   "source": [
    "print(arr[0:2])"
   ]
  },
  {
   "cell_type": "code",
   "execution_count": null,
   "id": "76e58bcd-40c7-4c9f-a463-75d883842d20",
   "metadata": {},
   "outputs": [],
   "source": []
  }
 ],
 "metadata": {
  "kernelspec": {
   "display_name": "Python 3 (ipykernel)",
   "language": "python",
   "name": "python3"
  },
  "language_info": {
   "codemirror_mode": {
    "name": "ipython",
    "version": 3
   },
   "file_extension": ".py",
   "mimetype": "text/x-python",
   "name": "python",
   "nbconvert_exporter": "python",
   "pygments_lexer": "ipython3",
   "version": "3.11.7"
  }
 },
 "nbformat": 4,
 "nbformat_minor": 5
}
