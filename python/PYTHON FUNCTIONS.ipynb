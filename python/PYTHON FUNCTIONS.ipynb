{
 "cells": [
  {
   "cell_type": "markdown",
   "id": "5e7e79d5-7cf2-43e1-adaf-bf42723d7624",
   "metadata": {},
   "source": [
    "# Functions \r\n",
    "1. Define a function that takes a name as an argument and prints out a \r\n",
    "greeting message."
   ]
  },
  {
   "cell_type": "code",
   "execution_count": 6,
   "id": "60971264-c355-4c7d-ba4e-cdf43d8458e4",
   "metadata": {},
   "outputs": [
    {
     "name": "stdout",
     "output_type": "stream",
     "text": [
      "Hello, Divya\n"
     ]
    }
   ],
   "source": [
    "def greet(name):\n",
    "    print(f\"Hello, {name}\")\n",
    "greet(\"Divya\")"
   ]
  },
  {
   "cell_type": "markdown",
   "id": "b9b3cd36-004b-40c9-a860-424838082e57",
   "metadata": {},
   "source": [
    "2. Write a function that takes two numbers as arguments and returns their sum."
   ]
  },
  {
   "cell_type": "code",
   "execution_count": 10,
   "id": "5469016a-c407-45d6-b680-b2c6d0e9488d",
   "metadata": {},
   "outputs": [
    {
     "name": "stdout",
     "output_type": "stream",
     "text": [
      "14\n"
     ]
    }
   ],
   "source": [
    "def sum(a, b):\n",
    "    return a + b\n",
    "total = sum(5, 9)\n",
    "print(total)  "
   ]
  },
  {
   "cell_type": "markdown",
   "id": "0f13ff8f-2371-45f5-9f35-f861ff73d2e2",
   "metadata": {},
   "source": [
    "3.  Define a function that takes a list of numbers as an argument and returns the \n",
    "maximum value in the list."
   ]
  },
  {
   "cell_type": "code",
   "execution_count": 92,
   "id": "b83bcd63-7f06-44fc-a9d2-d56feb7a04bc",
   "metadata": {},
   "outputs": [
    {
     "name": "stdout",
     "output_type": "stream",
     "text": [
      "9\n"
     ]
    }
   ],
   "source": [
    "try:\n",
    "    del max  \n",
    "except NameError:\n",
    "    pass \n",
    "\n",
    "def find_max(a, b, c):\n",
    "    return max(a, b, c)  \n",
    "ans = find_max(4, 7, 9)\n",
    "print(ans)  "
   ]
  },
  {
   "cell_type": "code",
   "execution_count": 93,
   "id": "37570cd1-ba76-41a2-a4ad-ec7e68c4c465",
   "metadata": {},
   "outputs": [
    {
     "name": "stdout",
     "output_type": "stream",
     "text": [
      "9\n"
     ]
    }
   ],
   "source": [
    "def find_max(a, b, c):\n",
    "    return max(a, b, c)  \n",
    "ans = find_max(4, 7, 9)\n",
    "print(ans)  "
   ]
  },
  {
   "cell_type": "markdown",
   "id": "0c889e96-278f-421c-b9ef-e8516cca31a7",
   "metadata": {},
   "source": [
    "4.  Write a function that takes a string as an argument and returns the string in \n",
    "uppercase."
   ]
  },
  {
   "cell_type": "code",
   "execution_count": 22,
   "id": "96b9b039-4a7c-453f-b804-531ef7fa6342",
   "metadata": {},
   "outputs": [
    {
     "name": "stdout",
     "output_type": "stream",
     "text": [
      "DIVYA DESWAL\n"
     ]
    }
   ],
   "source": [
    "def uppercase(name):\n",
    "    return name.upper()\n",
    "fullname = uppercase(\"divya deswal\")\n",
    "print(fullname) "
   ]
  },
  {
   "cell_type": "markdown",
   "id": "62214388-7fee-47d0-b4e5-0d453101665c",
   "metadata": {},
   "source": [
    "5.  Define a function that takes a number as an argument and returns the square of \n",
    "the number. "
   ]
  },
  {
   "cell_type": "code",
   "execution_count": 23,
   "id": "8c734136-9136-4d18-b9af-f7ef72fef2f2",
   "metadata": {},
   "outputs": [
    {
     "name": "stdout",
     "output_type": "stream",
     "text": [
      "81\n"
     ]
    }
   ],
   "source": [
    "def square(num):\n",
    "    return num ** 2\n",
    "x = square(9)\n",
    "print(x) "
   ]
  },
  {
   "cell_type": "markdown",
   "id": "4f9d59bc-6d0a-4556-b49a-1e0fb80a80d8",
   "metadata": {},
   "source": [
    "6.  Write a function that takes a list of numbers as an argument and returns the \n",
    "average of the numbers. "
   ]
  },
  {
   "cell_type": "code",
   "execution_count": 83,
   "id": "8f1441f8-3397-4a36-acd1-922d73c3e672",
   "metadata": {},
   "outputs": [
    {
     "name": "stdout",
     "output_type": "stream",
     "text": [
      "30.0\n"
     ]
    }
   ],
   "source": [
    "def calculate_average(numbers):\n",
    "    return sum(numbers) / len(numbers)\n",
    "numbers_list = [10, 20, 30, 40, 50]\n",
    "average_value = calculate_average(numbers_list)\n",
    "print(average_value)  "
   ]
  },
  {
   "cell_type": "code",
   "execution_count": 85,
   "id": "c0567aa5-3cf0-4cad-9926-0c7c4e9cc278",
   "metadata": {},
   "outputs": [
    {
     "name": "stdout",
     "output_type": "stream",
     "text": [
      "6.4\n"
     ]
    }
   ],
   "source": [
    "def find_average(numbers):\n",
    "    c = sum(numbers)  \n",
    "    return c / len(numbers)  \n",
    "average_value = find_average([4, 5, 6, 8, 9])\n",
    "print(average_value)  "
   ]
  },
  {
   "cell_type": "markdown",
   "id": "18a03cb0-c66b-48ca-ac4d-3211f416c512",
   "metadata": {},
   "source": [
    "7. Define a function that takes a string as an argument and returns the string with \n",
    "all vowels removed."
   ]
  },
  {
   "cell_type": "code",
   "execution_count": 102,
   "id": "dccfec28-3525-48ba-ab9b-6a4c275688a4",
   "metadata": {},
   "outputs": [
    {
     "name": "stdout",
     "output_type": "stream",
     "text": [
      "dvy dswl\n"
     ]
    }
   ],
   "source": [
    "def remove_vowels(string): \n",
    "    vowels = \"aeiouAEIOU\"\n",
    "    for vowel in vowels:\n",
    "        string = string.replace(vowel, \"\")\n",
    "    return string\n",
    "str1 = \"divya deswal\"\n",
    "str2 = remove_vowels(str1)\n",
    "print(str2)  "
   ]
  },
  {
   "cell_type": "markdown",
   "id": "d48fa81c-58fb-471d-8a13-c737f12d3383",
   "metadata": {},
   "source": [
    "8. Write a function that takes a dictionary as an argument and returns the sum of \n",
    "all values in the dictionary."
   ]
  },
  {
   "cell_type": "code",
   "execution_count": 106,
   "id": "bc66fc18-92a3-4ecc-aff5-d67e2785acb6",
   "metadata": {},
   "outputs": [
    {
     "name": "stdout",
     "output_type": "stream",
     "text": [
      "160\n"
     ]
    }
   ],
   "source": [
    "def sum_dict_values(dict):\n",
    "    return sum(dict.values()) \n",
    "dict = {'a': 99, 'b': 50, 'c': 11}\n",
    "total = sum_dict_values(dict)\n",
    "print(total) "
   ]
  },
  {
   "cell_type": "markdown",
   "id": "853fdf34-8a98-4a15-9912-e5201bc3f616",
   "metadata": {},
   "source": [
    "9. Define a function that takes a list of strings as an argument and returns the \n",
    "longest string in the list. "
   ]
  },
  {
   "cell_type": "code",
   "execution_count": 5,
   "id": "2ffd16d1-f3fa-44b8-be13-596334439b66",
   "metadata": {},
   "outputs": [
    {
     "name": "stdout",
     "output_type": "stream",
     "text": [
      "watermelon\n"
     ]
    }
   ],
   "source": [
    "def longest_string(strings):\n",
    "    return max(strings, key=len)\n",
    "strings = [\"apple\", \"banana\", \"cherry\", \"watermelon\"]\n",
    "res = longest_string(strings)\n",
    "print(res)  "
   ]
  },
  {
   "cell_type": "markdown",
   "id": "0e59566e-1910-4e1d-a33f-25662b33b439",
   "metadata": {},
   "source": [
    "10. Write a function that takes a number as an argument and returns the factorial of \n",
    "the number. "
   ]
  },
  {
   "cell_type": "code",
   "execution_count": 7,
   "id": "551af5f9-465b-424e-a881-0bee08b78d57",
   "metadata": {},
   "outputs": [
    {
     "name": "stdout",
     "output_type": "stream",
     "text": [
      "5040\n",
      "It is negative number.\n",
      "1\n"
     ]
    }
   ],
   "source": [
    "def factorial(n):\n",
    "    if n < 0:\n",
    "        return \"It is negative number.\"\n",
    "    elif n == 0 or n == 1:\n",
    "        return 1\n",
    "    else:\n",
    "        return n * factorial(n - 1)\n",
    "print(factorial(7)) \n",
    "print(factorial(-8)) \n",
    "print(factorial(0)) "
   ]
  },
  {
   "cell_type": "markdown",
   "id": "ae17339a-94c7-4d9b-9496-2066b7193db8",
   "metadata": {},
   "source": [
    "11.  Write a function that takes a list of numbers as an argument and returns the \n",
    "numbers in sorted order, without using the built-in sort() function."
   ]
  },
  {
   "cell_type": "code",
   "execution_count": 9,
   "id": "5c616128-f2ee-43c0-a1c5-a79080ef4b21",
   "metadata": {},
   "outputs": [
    {
     "name": "stdout",
     "output_type": "stream",
     "text": [
      "[1, 2, 3, 4, 11, 22, 23, 24, 100, 101]\n"
     ]
    }
   ],
   "source": [
    "def sorting(l1):\n",
    "    for i in range(len(l1)):\n",
    "        for j in range(len(l1)):\n",
    "            if l1[i] < l1[j]:\n",
    "                l1[j],l1[i] = l1[i],l1[j]\n",
    "    return l1\n",
    "\n",
    "list = [22,11,23,1,100,24,3,101,2,4]\n",
    "print(sorting(list))"
   ]
  },
  {
   "cell_type": "markdown",
   "id": "03d71a48-4efa-4f57-96d0-545b2172e84d",
   "metadata": {},
   "source": [
    "12. Define a function that takes a string as an argument and returns the string with \n",
    "all characters reversed. "
   ]
  },
  {
   "cell_type": "code",
   "execution_count": 11,
   "id": "1092dbd1-d4e1-4b22-9ec1-2d8d59f1c606",
   "metadata": {},
   "outputs": [
    {
     "name": "stdout",
     "output_type": "stream",
     "text": [
      "lawsed ,ayvid\n"
     ]
    }
   ],
   "source": [
    "def reverse_string(s):\n",
    "    return s[::-1]\n",
    "original_string = \"divya, deswal\"\n",
    "reversed_string = reverse_string(original_string)\n",
    "print(reversed_string)  "
   ]
  },
  {
   "cell_type": "code",
   "execution_count": 12,
   "id": "44a9627f-ad78-4355-9828-6e20ac586f52",
   "metadata": {},
   "outputs": [
    {
     "name": "stdout",
     "output_type": "stream",
     "text": [
      "lawsed ,ayvid\n"
     ]
    }
   ],
   "source": [
    "def reverse_string(s):\n",
    "    return ''.join(reversed(s))\n",
    "original_string = \"divya, deswal\"\n",
    "reversed_string = reverse_string(original_string)\n",
    "print(reversed_string) "
   ]
  },
  {
   "cell_type": "markdown",
   "id": "c74bad4b-7729-45c6-abb3-1d1a24e21b8c",
   "metadata": {},
   "source": [
    "13. Write a function that takes a dictionary as an argument and returns the \n",
    "dictionary with all keys and values swapped."
   ]
  },
  {
   "cell_type": "code",
   "execution_count": 19,
   "id": "e8f8aef8-f152-4d52-93e6-b84e9d5f5d6c",
   "metadata": {},
   "outputs": [
    {
     "name": "stdout",
     "output_type": "stream",
     "text": [
      "{1: 'a', 2: 'b', 3: 'c'}\n"
     ]
    }
   ],
   "source": [
    "def dict(input_dict):\n",
    "    \n",
    "    swapped_dict = {value: key for key, value in input_dict.items()}\n",
    "    return swapped_dict\n",
    "\n",
    "original_dict = {'a': 1, 'b': 2, 'c': 3}\n",
    "swapped = dict(original_dict)\n",
    "print(swapped) "
   ]
  },
  {
   "cell_type": "markdown",
   "id": "cc52345c-db58-4e5c-a81e-ae1b98059c3c",
   "metadata": {},
   "source": [
    "14. Define a function that takes a list of numbers as an argument and returns the \n",
    "numbers in the list that are greater than the average of the numbers. "
   ]
  },
  {
   "cell_type": "code",
   "execution_count": 17,
   "id": "16ff923b-0a69-49e8-aba5-94f2e16167a2",
   "metadata": {},
   "outputs": [
    {
     "name": "stdout",
     "output_type": "stream",
     "text": [
      "[40, 50]\n"
     ]
    }
   ],
   "source": [
    "def numbers_greater_than_average(numbers):\n",
    "    \n",
    "    average = sum(numbers) / len(numbers)  \n",
    "    greater_than_avg = [num for num in numbers if num > average] \n",
    "    return greater_than_avg\n",
    "    \n",
    "list = [10, 20, 30, 40, 50]\n",
    "result = numbers_greater_than_average(list)\n",
    "print(result)  "
   ]
  },
  {
   "cell_type": "markdown",
   "id": "22d13a55-4196-4b5d-9a07-cb9a07ac94a5",
   "metadata": {},
   "source": [
    "15.  Write a function that takes a string as an argument and returns the string with all \n",
    "words in the string capitalized."
   ]
  },
  {
   "cell_type": "code",
   "execution_count": 18,
   "id": "b2fd9486-cadc-4a18-b3c6-89f8d51a1bb2",
   "metadata": {},
   "outputs": [
    {
     "name": "stdout",
     "output_type": "stream",
     "text": [
      "Hi! There Is A Dog.\n"
     ]
    }
   ],
   "source": [
    "# Using title() The simplest way to capitalize the first letter of each word in a string is to use the title() method\n",
    "\n",
    "def capitalize_words(input_string):\n",
    "    return input_string.title()\n",
    "\n",
    "string = \"hi! there is a dog.\"\n",
    "result = capitalize_words(string)\n",
    "print(result)  "
   ]
  },
  {
   "cell_type": "code",
   "execution_count": null,
   "id": "fd39a43b-190b-4302-a98b-a10f15eb8813",
   "metadata": {},
   "outputs": [],
   "source": []
  }
 ],
 "metadata": {
  "kernelspec": {
   "display_name": "Python 3 (ipykernel)",
   "language": "python",
   "name": "python3"
  },
  "language_info": {
   "codemirror_mode": {
    "name": "ipython",
    "version": 3
   },
   "file_extension": ".py",
   "mimetype": "text/x-python",
   "name": "python",
   "nbconvert_exporter": "python",
   "pygments_lexer": "ipython3",
   "version": "3.11.7"
  }
 },
 "nbformat": 4,
 "nbformat_minor": 5
}
