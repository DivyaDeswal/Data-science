{
 "cells": [
  {
   "cell_type": "markdown",
   "id": "9b9123e0-721e-4f64-ac07-14a4019d58de",
   "metadata": {},
   "source": [
    "# Sets \n",
    "1. Create a set named fruits containing the following items: \"apple\", \"banana\", \n",
    "\"cherry\". "
   ]
  },
  {
   "cell_type": "code",
   "execution_count": 1,
   "id": "c3ac64b6-e69f-48a4-b8f6-d9d3d4f067fa",
   "metadata": {},
   "outputs": [
    {
     "name": "stdout",
     "output_type": "stream",
     "text": [
      "{'banana', 'cherry', 'apple'}\n"
     ]
    }
   ],
   "source": [
    "fruits = {\"apple\",\"banana\",\"cherry\"}\n",
    "print(fruits)"
   ]
  },
  {
   "cell_type": "markdown",
   "id": "70a0220e-d1c9-4c88-af6c-b9b776c5718d",
   "metadata": {},
   "source": [
    "2. Add the element \"orange\" to the fruits set."
   ]
  },
  {
   "cell_type": "code",
   "execution_count": 2,
   "id": "c2a21bd5-7297-4591-9290-2707e057a126",
   "metadata": {},
   "outputs": [
    {
     "name": "stdout",
     "output_type": "stream",
     "text": [
      "{'orange', 'banana', 'cherry', 'apple'}\n"
     ]
    }
   ],
   "source": [
    "fruits = {\"apple\",\"banana\",\"cherry\"}\n",
    "fruits.add(\"orange\")\n",
    "print(fruits)"
   ]
  },
  {
   "cell_type": "markdown",
   "id": "94875f0b-d052-4bde-a77d-a016b05a2d5c",
   "metadata": {},
   "source": [
    "3. Remove \"banana\" from the fruits set. What happens if you try to remove an \n",
    "element that doesn’t exist using .remove() vs .discard()?"
   ]
  },
  {
   "cell_type": "code",
   "execution_count": 3,
   "id": "1adaff50-9429-4268-be8f-331df9391e41",
   "metadata": {},
   "outputs": [
    {
     "name": "stdout",
     "output_type": "stream",
     "text": [
      "{'cherry', 'apple'}\n"
     ]
    }
   ],
   "source": [
    "fruits = {\"apple\",\"banana\",\"cherry\"}\n",
    "fruits.remove(\"banana\")\n",
    "print(fruits)"
   ]
  },
  {
   "cell_type": "code",
   "execution_count": 5,
   "id": "0368074e-0a58-49b1-a8ff-9ae92c52bdfe",
   "metadata": {},
   "outputs": [
    {
     "name": "stdout",
     "output_type": "stream",
     "text": [
      "{'cherry', 'apple'}\n"
     ]
    }
   ],
   "source": [
    "fruits = {\"apple\",\"banana\",\"cherry\"}\n",
    "fruits.discard(\"banana\")\n",
    "print(fruits)\n",
    "#If the item to remove does not exist, remove() will raise an error.\n",
    "#If the item to remove does not exist, discard() will NOT raise an error."
   ]
  },
  {
   "cell_type": "code",
   "execution_count": 9,
   "id": "04685cca-474c-4c7e-8ac9-117f1925bfc8",
   "metadata": {},
   "outputs": [
    {
     "ename": "KeyError",
     "evalue": "'orange'",
     "output_type": "error",
     "traceback": [
      "\u001b[1;31m---------------------------------------------------------------------------\u001b[0m",
      "\u001b[1;31mKeyError\u001b[0m                                  Traceback (most recent call last)",
      "Cell \u001b[1;32mIn[9], line 2\u001b[0m\n\u001b[0;32m      1\u001b[0m fruits \u001b[38;5;241m=\u001b[39m {\u001b[38;5;124m\"\u001b[39m\u001b[38;5;124mapple\u001b[39m\u001b[38;5;124m\"\u001b[39m,\u001b[38;5;124m\"\u001b[39m\u001b[38;5;124mbanana\u001b[39m\u001b[38;5;124m\"\u001b[39m,\u001b[38;5;124m\"\u001b[39m\u001b[38;5;124mcherry\u001b[39m\u001b[38;5;124m\"\u001b[39m}\n\u001b[1;32m----> 2\u001b[0m \u001b[43mfruits\u001b[49m\u001b[38;5;241;43m.\u001b[39;49m\u001b[43mremove\u001b[49m\u001b[43m(\u001b[49m\u001b[38;5;124;43m\"\u001b[39;49m\u001b[38;5;124;43morange\u001b[39;49m\u001b[38;5;124;43m\"\u001b[39;49m\u001b[43m)\u001b[49m\n\u001b[0;32m      3\u001b[0m \u001b[38;5;28mprint\u001b[39m(fruits)\n",
      "\u001b[1;31mKeyError\u001b[0m: 'orange'"
     ]
    }
   ],
   "source": [
    "fruits = {\"apple\",\"banana\",\"cherry\"}\n",
    "fruits.remove(\"orange\")\n",
    "print(fruits)"
   ]
  },
  {
   "cell_type": "code",
   "execution_count": 11,
   "id": "a2a1c506-f81a-45e6-b843-e14b804e2e8e",
   "metadata": {},
   "outputs": [
    {
     "name": "stdout",
     "output_type": "stream",
     "text": [
      "{'banana', 'cherry', 'apple'}\n"
     ]
    }
   ],
   "source": [
    "fruits = {\"apple\",\"banana\",\"cherry\"}\n",
    "fruits.discard(\"orange\")\n",
    "print(fruits)"
   ]
  },
  {
   "cell_type": "markdown",
   "id": "29cab862-ca49-461c-840a-5099012349e4",
   "metadata": {},
   "source": [
    "4. Given the set numbers = {1, 2, 3, 4, 5}, write a Python statement to find \n",
    "out how many elements are in the set."
   ]
  },
  {
   "cell_type": "code",
   "execution_count": 12,
   "id": "d9df7dd5-d216-464d-baa9-6576aab5b1c8",
   "metadata": {},
   "outputs": [
    {
     "name": "stdout",
     "output_type": "stream",
     "text": [
      "5\n"
     ]
    }
   ],
   "source": [
    "a = {1,2,3,4,5}\n",
    "print(len(a))"
   ]
  },
  {
   "cell_type": "markdown",
   "id": "86b24cfb-c435-4e30-9628-308be3e17ec6",
   "metadata": {},
   "source": [
    "5. Given A = {1, 2, 3} and B = {3, 4, 5}, find the union of sets A and B."
   ]
  },
  {
   "cell_type": "code",
   "execution_count": 20,
   "id": "48e48dfd-4c91-4403-95a5-d2ce512b3b75",
   "metadata": {},
   "outputs": [
    {
     "name": "stdout",
     "output_type": "stream",
     "text": [
      "{1, 2, 3, 4, 5}\n"
     ]
    }
   ],
   "source": [
    "A = {1,2,3}\n",
    "B = {3,4,5}\n",
    "C = A|B\n",
    "print(C)"
   ]
  },
  {
   "cell_type": "code",
   "execution_count": 21,
   "id": "7a63f864-06df-498c-b390-0cb920b221d9",
   "metadata": {},
   "outputs": [
    {
     "name": "stdout",
     "output_type": "stream",
     "text": [
      "{1, 2, 3, 4, 5}\n"
     ]
    }
   ],
   "source": [
    "A = {1,2,3}\n",
    "B = {3,4,5}\n",
    "C = A.union(B)\n",
    "print(C)"
   ]
  },
  {
   "cell_type": "markdown",
   "id": "4d15ce49-400e-4679-85c2-95db987b8dd8",
   "metadata": {},
   "source": [
    "6. Using the same sets A and B, find the intersection."
   ]
  },
  {
   "cell_type": "code",
   "execution_count": 22,
   "id": "65fec40f-f77b-4dab-8be4-22606472ab56",
   "metadata": {},
   "outputs": [
    {
     "name": "stdout",
     "output_type": "stream",
     "text": [
      "{3}\n"
     ]
    }
   ],
   "source": [
    "A = {1,2,3}\n",
    "B = {3,4,5}\n",
    "C = A.intersection(B)\n",
    "print(C)"
   ]
  },
  {
   "cell_type": "code",
   "execution_count": 25,
   "id": "73ae931d-8665-4044-ac7d-6306ed23d95b",
   "metadata": {},
   "outputs": [
    {
     "name": "stdout",
     "output_type": "stream",
     "text": [
      "{3}\n"
     ]
    }
   ],
   "source": [
    "A = {1,2,3}\n",
    "B = {3,4,5}\n",
    "C = A&B\n",
    "print(C)"
   ]
  },
  {
   "cell_type": "markdown",
   "id": "7fe218ff-04ea-41dc-9e51-bbf161d94fad",
   "metadata": {},
   "source": [
    "7. Find the difference between set A and set B (elements in A but not in B)."
   ]
  },
  {
   "cell_type": "code",
   "execution_count": 24,
   "id": "fc2c0131-0dec-42cb-9194-6a929f1bbdc7",
   "metadata": {},
   "outputs": [
    {
     "name": "stdout",
     "output_type": "stream",
     "text": [
      "{1, 2}\n"
     ]
    }
   ],
   "source": [
    "A = {1,2,3}\n",
    "B = {3,4,5}\n",
    "C = A.difference(B)\n",
    "print(C)"
   ]
  },
  {
   "cell_type": "markdown",
   "id": "7c4f2ee1-6e52-440d-9354-c1adfd90b6e3",
   "metadata": {},
   "source": [
    "8. Find the symmetric difference between sets A and B."
   ]
  },
  {
   "cell_type": "code",
   "execution_count": 27,
   "id": "ae9a9bb6-88c9-4242-9162-6b31e0251fa9",
   "metadata": {},
   "outputs": [
    {
     "name": "stdout",
     "output_type": "stream",
     "text": [
      "{1, 2, 4, 5}\n"
     ]
    }
   ],
   "source": [
    "A = {1,2,3}\n",
    "B = {3,4,5}\n",
    "C = A.symmetric_difference(B)\n",
    "print(C)"
   ]
  },
  {
   "cell_type": "markdown",
   "id": "82948c02-75a5-4425-921e-b844dd929de0",
   "metadata": {},
   "source": [
    "9. Check if set {1, 2} is a subset of set A, and if set A is a superset of {1, 2}."
   ]
  },
  {
   "cell_type": "code",
   "execution_count": 30,
   "id": "ed90fc3e-2dd4-44d3-88f0-a1bb5aa35c25",
   "metadata": {},
   "outputs": [
    {
     "data": {
      "text/plain": [
       "True"
      ]
     },
     "execution_count": 30,
     "metadata": {},
     "output_type": "execute_result"
    }
   ],
   "source": [
    "B = {1,2}\n",
    "A = {1,2,3}\n",
    "B.issubset(A) "
   ]
  },
  {
   "cell_type": "code",
   "execution_count": 31,
   "id": "ee457830-5c93-46a5-bce6-1784088fc3aa",
   "metadata": {},
   "outputs": [
    {
     "data": {
      "text/plain": [
       "False"
      ]
     },
     "execution_count": 31,
     "metadata": {},
     "output_type": "execute_result"
    }
   ],
   "source": [
    "B = {1,2,4}\n",
    "A = {1,2,3}\n",
    "A.issubset(B) "
   ]
  },
  {
   "cell_type": "code",
   "execution_count": 7,
   "id": "383b04e2-7a5b-4f53-a40f-9d4c1d632a52",
   "metadata": {},
   "outputs": [
    {
     "name": "stdout",
     "output_type": "stream",
     "text": [
      "True\n"
     ]
    }
   ],
   "source": [
    "B = {1,2}\n",
    "A = {1,2,3}\n",
    "C = B <= A\n",
    "print(C)"
   ]
  },
  {
   "cell_type": "markdown",
   "id": "a97bd123-db06-4bba-b14a-26b1b6e66340",
   "metadata": {},
   "source": [
    "10. Create a set of squares for numbers from 1 to 10 using set comprehension."
   ]
  },
  {
   "cell_type": "code",
   "execution_count": 2,
   "id": "f924f36f-c119-4734-a586-3e81884a5d9e",
   "metadata": {},
   "outputs": [
    {
     "name": "stdout",
     "output_type": "stream",
     "text": [
      "{64, 1, 4, 36, 100, 9, 16, 49, 81, 25}\n"
     ]
    }
   ],
   "source": [
    "x = {1,2,3,4,5,6,7,8,9,10}\n",
    "squares = {x**2 for x in range(1, 11)}\n",
    "print(squares)"
   ]
  },
  {
   "cell_type": "markdown",
   "id": "a101dac5-5b0b-4160-a629-f107c9829053",
   "metadata": {},
   "source": [
    "11. Given two lists, list1 = [1, 2, 2, 3, 4] and list2 = [3, 4, 4, 5, 6], \n",
    "find the unique elements from each list using sets."
   ]
  },
  {
   "cell_type": "code",
   "execution_count": 6,
   "id": "ba5389b2-0ce4-415a-96a2-3900329c82fb",
   "metadata": {},
   "outputs": [
    {
     "name": "stdout",
     "output_type": "stream",
     "text": [
      "[1, 2]\n"
     ]
    }
   ],
   "source": [
    "list1 = [1, 2, 2, 3, 4] \n",
    "list2 = [3, 4, 4, 5, 6]\n",
    "list = list(set(list1) - set(list2))\n",
    "print(list)"
   ]
  },
  {
   "cell_type": "markdown",
   "id": "9e9c2825-87c9-4c19-9559-452094cbbba9",
   "metadata": {},
   "source": [
    "12. Find the common elements in three sets: \n",
    "A = {1, 2, 3, 4} \n",
    "B = {2, 3, 5, 6} \n",
    "C = {2, 3, 7, 8}"
   ]
  },
  {
   "cell_type": "code",
   "execution_count": 2,
   "id": "22b08a09-e06e-491f-a03a-5d9ecaed9762",
   "metadata": {},
   "outputs": [
    {
     "name": "stdout",
     "output_type": "stream",
     "text": [
      "{2, 3}\n"
     ]
    }
   ],
   "source": [
    "A = {1, 2, 3, 4} \n",
    "B = {2, 3, 5, 6} \n",
    "C = {2, 3, 7, 8}\n",
    "D = A.intersection(B,C)\n",
    "print(D)"
   ]
  },
  {
   "cell_type": "code",
   "execution_count": 3,
   "id": "8b3a720f-c655-4d5f-b614-0abcd6b8ac53",
   "metadata": {},
   "outputs": [
    {
     "name": "stdout",
     "output_type": "stream",
     "text": [
      "{2, 3}\n"
     ]
    }
   ],
   "source": [
    "A = {1, 2, 3, 4} \n",
    "B = {2, 3, 5, 6} \n",
    "C = {2, 3, 7, 8}\n",
    "D = A&B&C\n",
    "print(D)"
   ]
  },
  {
   "cell_type": "markdown",
   "id": "84928a86-b115-424a-82b5-7c138a4727bc",
   "metadata": {},
   "source": [
    "13. Removing Duplicates While Preserving Order:-\n",
    "                Given a list lst = [1, 2, 2, 3, 4, 4, 5], remove duplicates         \n",
    "    while preserving the original order."
   ]
  },
  {
   "cell_type": "code",
   "execution_count": 4,
   "id": "474b1200-8224-47d5-8c43-69e964137938",
   "metadata": {},
   "outputs": [
    {
     "name": "stdout",
     "output_type": "stream",
     "text": [
      "[1, 2, 3, 4, 5]\n"
     ]
    }
   ],
   "source": [
    "lst = [1, 2, 2, 3, 4, 4, 5]\n",
    "list1 = list(set(lst))\n",
    "print(list1)"
   ]
  },
  {
   "cell_type": "markdown",
   "id": "b77e8c71-2516-44d6-b98a-75da1d52e7d8",
   "metadata": {},
   "source": [
    "##### 14. Power Set \n",
    "Write a function to generate the power set of a given set. \n",
    "Input: {1, 2}"
   ]
  },
  {
   "cell_type": "code",
   "execution_count": 9,
   "id": "a3d06887-4ab9-4d9a-9266-faef6f9be4e3",
   "metadata": {},
   "outputs": [
    {
     "name": "stdout",
     "output_type": "stream",
     "text": [
      "1\n"
     ]
    }
   ],
   "source": [
    "input = {1,2}\n",
    "print(pow(1,2))"
   ]
  },
  {
   "cell_type": "markdown",
   "id": "8d5f53c0-e8f6-4a81-b2fc-ad560e7ea928",
   "metadata": {},
   "source": [
    "##### 15. Find Missing Numbers \n",
    "##### • Question: Given two lists, full_list and partial_list, find the numbers missing in partial_list using set operations. \n",
    "##### • Example: o full_list = [1, 2, 3, 4, 5, 6] \n",
    "##### o partial_list = [2, 3, 6]"
   ]
  },
  {
   "cell_type": "code",
   "execution_count": 7,
   "id": "fd62b5e5-f4b7-4003-80e1-3ca50c5da526",
   "metadata": {},
   "outputs": [
    {
     "name": "stdout",
     "output_type": "stream",
     "text": [
      "[1, 4, 5]\n"
     ]
    }
   ],
   "source": [
    "full_list = [1, 2, 3, 4, 5, 6]\n",
    "partial_list = [2, 3, 6]\n",
    "list = list(set(full_list) - set(partial_list))\n",
    "print(list)"
   ]
  },
  {
   "cell_type": "markdown",
   "id": "d7b24fa1-ce27-41b0-b2de-6651b67f1d77",
   "metadata": {},
   "source": [
    "##### 16. Intersection over Multiple Lists \n",
    "##### • Question: Given a list of lists, find the common elements present in all sublists using sets. \n",
    "lists = [[1, 2, 3], [2, 3, 4], [2, 5, 3]]"
   ]
  },
  {
   "cell_type": "code",
   "execution_count": 12,
   "id": "71fd427a-5138-4f27-b6d7-e536a00746b0",
   "metadata": {},
   "outputs": [
    {
     "name": "stdout",
     "output_type": "stream",
     "text": [
      "{2, 3}\n"
     ]
    }
   ],
   "source": [
    "lists = [[1, 2, 3], [2, 3, 4], [2, 5, 3]]\n",
    "common_element = set(lists[0]).intersection(*lists[1:])\n",
    "print(common_element)"
   ]
  },
  {
   "cell_type": "markdown",
   "id": "0eaf839e-79da-4ec2-a21d-5abed4fdbdcf",
   "metadata": {},
   "source": [
    "##### 17. Question: Write a function that counts the number of unique characters in a string using a set. \n",
    "##### Example: Input: \"hello\" \n",
    "##### Output: 4 (since h, e, l, o are unique; note that l is counted once)"
   ]
  },
  {
   "cell_type": "code",
   "execution_count": 19,
   "id": "9950bae6-3d99-45c7-9fb9-9f1ee30afcd0",
   "metadata": {},
   "outputs": [
    {
     "name": "stdout",
     "output_type": "stream",
     "text": [
      "{'o', 'h', 'e', 'l'}\n"
     ]
    }
   ],
   "source": [
    "input = \"hello\"\n",
    "unique = set(input)\n",
    "print(unique)"
   ]
  },
  {
   "cell_type": "code",
   "execution_count": 20,
   "id": "8b42c821-d969-4322-bc8c-9ce864854da9",
   "metadata": {},
   "outputs": [
    {
     "name": "stdout",
     "output_type": "stream",
     "text": [
      "4\n"
     ]
    }
   ],
   "source": [
    "print(len(unique))"
   ]
  },
  {
   "cell_type": "markdown",
   "id": "211b72a3-6ee9-438d-8098-79dd27460f50",
   "metadata": {},
   "source": [
    "##### 18. Set Operations with Dictionaries \n",
    "Given two dictionaries, find the keys that are common to both using set operations. \n",
    "##### o dict1 = {'a': 1, 'b': 2, 'c': 3} \n",
    "##### o dict2 = {'b': 4, 'c': 5, 'd': 6}"
   ]
  },
  {
   "cell_type": "code",
   "execution_count": 16,
   "id": "5bb8cb09-77be-4760-886f-36387d38452d",
   "metadata": {},
   "outputs": [
    {
     "name": "stdout",
     "output_type": "stream",
     "text": [
      "dict_keys(['a', 'b', 'c'])\n",
      "dict_keys(['b', 'c', 'd'])\n"
     ]
    }
   ],
   "source": [
    "dict1 = {'a': 1, 'b': 2, 'c': 3}\n",
    "dict2 = {'b': 4, 'c': 5, 'd': 6}\n",
    "x = dict1.keys()\n",
    "print(x)\n",
    "y = dict2.keys()\n",
    "print(y)"
   ]
  },
  {
   "cell_type": "code",
   "execution_count": 17,
   "id": "484b7859-521a-42a7-8eea-f9d44b791d69",
   "metadata": {},
   "outputs": [
    {
     "name": "stdout",
     "output_type": "stream",
     "text": [
      "{'b', 'c'}\n"
     ]
    }
   ],
   "source": [
    "common_element = set(dict1).intersection(dict2)\n",
    "print(common_element)"
   ]
  },
  {
   "cell_type": "code",
   "execution_count": null,
   "id": "c80e0974-c2c1-4c8a-bd98-d6fa110c9744",
   "metadata": {},
   "outputs": [],
   "source": []
  }
 ],
 "metadata": {
  "kernelspec": {
   "display_name": "Python 3 (ipykernel)",
   "language": "python",
   "name": "python3"
  },
  "language_info": {
   "codemirror_mode": {
    "name": "ipython",
    "version": 3
   },
   "file_extension": ".py",
   "mimetype": "text/x-python",
   "name": "python",
   "nbconvert_exporter": "python",
   "pygments_lexer": "ipython3",
   "version": "3.12.6"
  }
 },
 "nbformat": 4,
 "nbformat_minor": 5
}
