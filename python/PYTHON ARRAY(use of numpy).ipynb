{
 "cells": [
  {
   "cell_type": "markdown",
   "id": "1b73c3e9-1f95-4a73-af9d-bb92934aef19",
   "metadata": {},
   "source": [
    "### 1. Array Creation\n",
    "Create a 1D array of numbers from 0 to 9.\n",
    "Create a 2D array of shape (3, 3) filled with ones.\n",
    "Create an array of 10 random floats between 0 and 1."
   ]
  },
  {
   "cell_type": "code",
   "execution_count": 6,
   "id": "a5e1b4d6-3e03-459b-8612-bba98176aab2",
   "metadata": {},
   "outputs": [
    {
     "name": "stdout",
     "output_type": "stream",
     "text": [
      "[0 1 2 3 4 5 6 7 8 9]\n"
     ]
    }
   ],
   "source": [
    "import numpy as np\n",
    "arr_1d = np.array(range(10))\n",
    "print(arr_1d)"
   ]
  },
  {
   "cell_type": "code",
   "execution_count": 7,
   "id": "6bdd550e-4839-4756-8552-67198eb5624f",
   "metadata": {},
   "outputs": [
    {
     "name": "stdout",
     "output_type": "stream",
     "text": [
      "[[1 1 1]\n",
      " [1 1 1]\n",
      " [1 1 1]]\n"
     ]
    }
   ],
   "source": [
    "import numpy as np\n",
    "arr_2d = np.array([1, 1, 1, 1, 1, 1, 1, 1, 1])\n",
    "newarr_2d = arr_2d.reshape(3, 3)\n",
    "print(newarr_2d)\n"
   ]
  },
  {
   "cell_type": "code",
   "execution_count": 3,
   "id": "bebc9e85-db3f-4edc-90b7-5c6e0774f728",
   "metadata": {},
   "outputs": [
    {
     "data": {
      "text/plain": [
       "array([0.81070497, 0.69203502, 0.51926417, 0.01379327, 0.34462914,\n",
       "       0.75571672, 0.07888661, 0.61455237, 0.30760927, 0.80747748])"
      ]
     },
     "execution_count": 3,
     "metadata": {},
     "output_type": "execute_result"
    }
   ],
   "source": [
    "import numpy as np\n",
    "x = np.random.rand(10)\n",
    "x"
   ]
  },
  {
   "cell_type": "markdown",
   "id": "e57f445d-b8f8-4547-9835-6e164a65a40d",
   "metadata": {},
   "source": [
    "### 2. Array Indexing and Slicing\n",
    "Extract the first three elements from an array [5, 10, 15, 20, 25].\n",
    "Access elements from a 2D array [[1, 2, 3], [4, 5, 6], [7, 8, 9]] to\n",
    "get the value 5.\n",
    "Reverse an array [0, 1, 2, 3, 4, 5]."
   ]
  },
  {
   "cell_type": "code",
   "execution_count": 15,
   "id": "0f7da752-651e-4ab1-b26b-51b715049a81",
   "metadata": {},
   "outputs": [
    {
     "name": "stdout",
     "output_type": "stream",
     "text": [
      "[ 5 10 15]\n",
      "5\n",
      "[5 4 3 2 1 0]\n"
     ]
    }
   ],
   "source": [
    "import numpy as np\n",
    "x = np.array([5, 10, 15, 20, 25])\n",
    "print(x[:3])\n",
    "\n",
    "y = np.array([[1, 2, 3], [4, 5, 6], [7, 8, 9]])\n",
    "print(y[1, 1]) \n",
    "\n",
    "z = np.array([0, 1, 2, 3, 4, 5])\n",
    "print(z[::-1])"
   ]
  },
  {
   "cell_type": "markdown",
   "id": "e5fb67fc-b094-4497-8030-ef77c5ac5ade",
   "metadata": {},
   "source": [
    "### 3. Array Manipulation\n",
    "Create an array of shape (4, 4) and reshape it to (2, 8).\n",
    "Concatenate two arrays [1, 2, 3] and [4, 5, 6]."
   ]
  },
  {
   "cell_type": "code",
   "execution_count": 18,
   "id": "7594e64c-8c92-4d46-98ea-bd3fe6ae196f",
   "metadata": {},
   "outputs": [
    {
     "name": "stdout",
     "output_type": "stream",
     "text": [
      "[[ 1  2  3  4  5  6  7  8]\n",
      " [ 9 10 11 12 13 14 15 16]]\n"
     ]
    }
   ],
   "source": [
    "import numpy as np\n",
    "x = np.array([1, 2, 3, 4, 5, 6, 7, 8, 9, 10, 11, 12, 13, 14, 15, 16])\n",
    "y = x.reshape(2, 8)\n",
    "print(y)"
   ]
  },
  {
   "cell_type": "code",
   "execution_count": 19,
   "id": "20bfb6c1-a43a-48f5-a873-ecea9a518798",
   "metadata": {},
   "outputs": [
    {
     "name": "stdout",
     "output_type": "stream",
     "text": [
      "[1 2 3 4 5 6]\n"
     ]
    }
   ],
   "source": [
    "import numpy as np\n",
    "x = np.array([1, 2, 3])\n",
    "y = np.array([4, 5, 6])\n",
    "z = np.concatenate((x,y))\n",
    "print(z)"
   ]
  },
  {
   "cell_type": "markdown",
   "id": "5254034d-200c-4b41-a1f8-8d5d3482aa1d",
   "metadata": {},
   "source": [
    "### 4. Mathematical Operations\n",
    "Add, subtract, multiply, and divide two arrays [1, 2, 3] and [4, 5, 6].\n",
    "\n",
    "Find the mean, median, and standard deviation of an array [1, 2, 3, 4, 5].\n",
    "\n",
    "Find the dot product of two arrays [1, 2] and [3, 4]."
   ]
  },
  {
   "cell_type": "code",
   "execution_count": 21,
   "id": "492b63cc-64ba-49a1-bd7b-2f25c0d388f3",
   "metadata": {},
   "outputs": [
    {
     "name": "stdout",
     "output_type": "stream",
     "text": [
      "[5 7 9]\n",
      "[-3 -3 -3]\n",
      "[ 4 10 18]\n",
      "[0.25 0.4  0.5 ]\n"
     ]
    }
   ],
   "source": [
    "import numpy as np\n",
    "a1 = np.array([1, 2, 3])\n",
    "a2 = np.array([4, 5, 6])\n",
    "addition = np.add(a1, a2)\n",
    "subtraction = np.subtract(a1, a2)\n",
    "multiplication = np.multiply(a1, a2)\n",
    "division = np.divide(a1, a2)\n",
    "print(addition) \n",
    "print(subtraction) \n",
    "print(multiplication)\n",
    "print(division)"
   ]
  },
  {
   "cell_type": "code",
   "execution_count": 22,
   "id": "d57476c7-f7c7-4bfb-94e8-8b1ee3cfb158",
   "metadata": {},
   "outputs": [
    {
     "name": "stdout",
     "output_type": "stream",
     "text": [
      "3.0\n",
      "3.0\n",
      "1.4142135623730951\n"
     ]
    }
   ],
   "source": [
    "import numpy as np\n",
    "a = np.array([1, 2, 3, 4, 5])\n",
    "mean = np.mean(a)\n",
    "median = np.median(a)\n",
    "std_dev = np.std(a)\n",
    "print(mean)\n",
    "print(median)\n",
    "print(std_dev)"
   ]
  },
  {
   "cell_type": "code",
   "execution_count": 23,
   "id": "ea61d170-7843-49e1-ab0c-7fbba4f65b3e",
   "metadata": {},
   "outputs": [
    {
     "name": "stdout",
     "output_type": "stream",
     "text": [
      "11\n"
     ]
    }
   ],
   "source": [
    "import numpy as np\n",
    "a1 = np.array([1, 2])\n",
    "a2 = np.array([3, 4])\n",
    "dot_product = np.dot(a1, a2)\n",
    "print(dot_product)"
   ]
  },
  {
   "cell_type": "markdown",
   "id": "58af1d4e-4b51-4783-8b67-c2d61254ef6d",
   "metadata": {},
   "source": [
    "### 5. Array Conditions and Filtering\n",
    "Extract all even numbers from an array [0, 1, 2, 3, 4, 5, 6, 7, 8, 9].\n",
    "\n",
    "Replace all odd numbers in an array [0, 1, 2, 3, 4, 5, 6, 7, 8, 9] with \n",
    "-1.\n"
   ]
  },
  {
   "cell_type": "code",
   "execution_count": 3,
   "id": "d6a6cdeb-683f-44c3-8cc9-14f9307e06f0",
   "metadata": {},
   "outputs": [
    {
     "name": "stdout",
     "output_type": "stream",
     "text": [
      "[0 2 4 6 8]\n"
     ]
    }
   ],
   "source": [
    "import numpy as np\n",
    "\n",
    "a = np.array([0, 1, 2, 3, 4, 5, 6, 7, 8, 9])\n",
    "even = a[a % 2 == 0]\n",
    "print(even)"
   ]
  },
  {
   "cell_type": "code",
   "execution_count": 12,
   "id": "a31d9299-e8d6-464c-a1d1-88137cce8f3c",
   "metadata": {},
   "outputs": [
    {
     "name": "stdout",
     "output_type": "stream",
     "text": [
      "[ 1  3  5  7  9 11 13 15]\n",
      "[ 0 -1  2 -1  4 -1  6 -1  8 -1 10 -1 12 -1 14 -1 16]\n"
     ]
    }
   ],
   "source": [
    "import numpy as np\n",
    "x = np.array([0,1, 2, 3, 4, 5, 6, 7, 8, 9, 10, 11, 12, 13, 14, 15, 16])\n",
    "odd=x[x%2==1]\n",
    "print(odd)\n",
    "x[odd]=-1\n",
    "print(x)"
   ]
  },
  {
   "cell_type": "markdown",
   "id": "fb9dec28-85f8-4645-8d84-6bbd5a9204e0",
   "metadata": {},
   "source": [
    "### 6. Matrix Operations\n",
    "Multiply two matrices [[1, 2], [3, 4]] and [[5, 6], [7, 8]].\n",
    "\n",
    "Find the inverse of a matrix [[1, 2], [3, 4]]."
   ]
  },
  {
   "cell_type": "code",
   "execution_count": 9,
   "id": "053724d1-c733-4f67-8fbb-b535283bc807",
   "metadata": {},
   "outputs": [
    {
     "name": "stdout",
     "output_type": "stream",
     "text": [
      "M1:\n",
      "[[1 2]\n",
      " [3 4]]\n",
      "\n",
      "M2:\n",
      "[[5 6]\n",
      " [7 8]]\n",
      "\n",
      "Product of M1 and M2:\n",
      "[[19 22]\n",
      " [43 50]]\n"
     ]
    }
   ],
   "source": [
    "import numpy as np\n",
    "m1 = np.array([[1, 2], [3, 4]])\n",
    "m2 = np.array([[5, 6], [7, 8]])\n",
    "m = np.dot(m1, m2)\n",
    "print(\"M1:\")\n",
    "print(m1)\n",
    "print(\"\\nM2:\")\n",
    "print(m2)\n",
    "print(\"\\nProduct of M1 and M2:\")\n",
    "print(m)\n"
   ]
  },
  {
   "cell_type": "code",
   "execution_count": 12,
   "id": "da999509-ffb4-42a0-ba94-53036ce692cf",
   "metadata": {},
   "outputs": [
    {
     "name": "stdout",
     "output_type": "stream",
     "text": [
      "Inverse of the Matrix:\n",
      "[[-2.   1. ]\n",
      " [ 1.5 -0.5]]\n"
     ]
    }
   ],
   "source": [
    "import numpy as np\n",
    "m = np.array([[1, 2], [3, 4]])\n",
    "m_inv = np.linalg.inv(m)\n",
    "print(\"Inverse of the Matrix:\")\n",
    "print(m_inv)"
   ]
  },
  {
   "cell_type": "markdown",
   "id": "0207181c-58bf-45ba-aa3f-a8bfb0c2393a",
   "metadata": {},
   "source": [
    "### 7. Statistical Operations\n",
    "Compute the maximum, minimum, and sum of an array [1, 2, 3, 4, 5]\n",
    "along the first axis.\n",
    "    \n",
    "Use np.where() to find the indices of elements greater than 3 in an array [1, \n",
    "2, 3, 4, 5]."
   ]
  },
  {
   "cell_type": "code",
   "execution_count": 13,
   "id": "dd6d915d-e122-438c-83c8-5758ef68f139",
   "metadata": {},
   "outputs": [
    {
     "name": "stdout",
     "output_type": "stream",
     "text": [
      "Array: [1 2 3 4 5]\n",
      "Maximum value: 5\n",
      "Minimum value: 1\n",
      "Sum of elements: 15\n",
      "Indices of elements greater than 3: [3 4]\n"
     ]
    }
   ],
   "source": [
    "import numpy as np\n",
    "a = np.array([1, 2, 3, 4, 5])\n",
    "max_value = np.max(a)\n",
    "min_value = np.min(a)\n",
    "sum_value = np.sum(a)\n",
    "\n",
    "indices_greater_than_3 = np.where(a > 3)\n",
    "print(\"Array:\", a)\n",
    "print(\"Maximum value:\", max_value)\n",
    "print(\"Minimum value:\", min_value)\n",
    "print(\"Sum of elements:\", sum_value)\n",
    "print(\"Indices of elements greater than 3:\", indices_greater_than_3[0])\n"
   ]
  },
  {
   "cell_type": "markdown",
   "id": "37a87002-cff5-48e5-a956-c50653d8b0b7",
   "metadata": {},
   "source": [
    "### 8. Broadcasting\n",
    "Subtract a 1D array [1, 2, 3] from a 2D array [[4, 5, 6], [7, 8, 9]]\n",
    "using broadcasting."
   ]
  },
  {
   "cell_type": "code",
   "execution_count": 14,
   "id": "ac6aef52-2f29-458d-829f-e6772b79537e",
   "metadata": {},
   "outputs": [
    {
     "name": "stdout",
     "output_type": "stream",
     "text": [
      "2D Array:\n",
      "[[4 5 6]\n",
      " [7 8 9]]\n",
      "\n",
      "1D Array:\n",
      "[1 2 3]\n",
      "\n",
      "Result after broadcasting subtraction:\n",
      "[[3 3 3]\n",
      " [6 6 6]]\n"
     ]
    }
   ],
   "source": [
    "import numpy as np\n",
    "a_2d = np.array([[4, 5, 6], [7, 8, 9]])\n",
    "a_1d = np.array([1, 2, 3])\n",
    "a = a_2d - a_1d\n",
    "print(\"2D Array:\")\n",
    "print(a_2d)\n",
    "print(\"\\n1D Array:\")\n",
    "print(a_1d)\n",
    "print(\"\\nResult after broadcasting subtraction:\")\n",
    "print(a)"
   ]
  },
  {
   "cell_type": "markdown",
   "id": "d8396768-2052-42cd-acfd-638c335ad591",
   "metadata": {},
   "source": [
    "### 9. Advanced Array Manipulation\n",
    "Create a 3D array of shape (3, 3, 3) filled with random values and find the index \n",
    "of the maximum value.\n",
    "    \n",
    "Split an array [1, 2, 3, 4, 5, 6] into three sub-arrays."
   ]
  },
  {
   "cell_type": "code",
   "execution_count": 22,
   "id": "ed5058f0-65d2-428b-b372-1511f7d6ffeb",
   "metadata": {},
   "outputs": [
    {
     "name": "stdout",
     "output_type": "stream",
     "text": [
      "[[[0.10518702 0.03233413 0.74925611]\n",
      "  [0.85502897 0.33254437 0.28138012]\n",
      "  [0.85424171 0.1082694  0.58124067]]\n",
      "\n",
      " [[0.8741435  0.57367187 0.35552632]\n",
      "  [0.29530844 0.65635283 0.59906754]\n",
      "  [0.10478873 0.5952511  0.55892729]]\n",
      "\n",
      " [[0.39782624 0.59996341 0.20870229]\n",
      "  [0.20193063 0.56823433 0.71494233]\n",
      "  [0.27349795 0.26410037 0.92947927]]]\n"
     ]
    }
   ],
   "source": [
    "import numpy as np\n",
    "a = np.random.rand(3, 3, 3)\n",
    "print(a)"
   ]
  },
  {
   "cell_type": "code",
   "execution_count": 23,
   "id": "1bdf55c0-d0d5-4ba9-a056-e4dcd056d996",
   "metadata": {},
   "outputs": [
    {
     "name": "stdout",
     "output_type": "stream",
     "text": [
      "[1 2 3 4 5 6]\n"
     ]
    }
   ],
   "source": [
    "split_a = np.array([1, 2, 3, 4, 5, 6])\n",
    "print(split_a)"
   ]
  },
  {
   "cell_type": "code",
   "execution_count": null,
   "id": "5d1c9ad5-4bdf-44fb-8a30-6ecab0a95dea",
   "metadata": {},
   "outputs": [],
   "source": []
  },
  {
   "cell_type": "code",
   "execution_count": 20,
   "id": "10583f97-2ec3-4ab2-8aa4-4f5d3b2334f4",
   "metadata": {},
   "outputs": [
    {
     "name": "stdout",
     "output_type": "stream",
     "text": [
      "[array([1, 2]), array([3, 4]), array([5, 6])]\n"
     ]
    }
   ],
   "source": [
    "sub_arrays = np.split(split_a, 3)\n",
    "print(sub_arrays)"
   ]
  },
  {
   "cell_type": "markdown",
   "id": "be3a1287-46ce-4c3a-8f36-12f8de993112",
   "metadata": {},
   "source": [
    "### 10.Performance Optimization\n",
    "Compare the performance of a simple loop-based summation with NumPy’s \n",
    "np.sum() using timeit.\n",
    "    \n",
    "Use vectorized operations to calculate the square of numbers from 0 to 9."
   ]
  },
  {
   "cell_type": "code",
   "execution_count": null,
   "id": "049cbb62-2ed7-4c8c-a456-79d8f47b4f3a",
   "metadata": {},
   "outputs": [],
   "source": []
  },
  {
   "cell_type": "code",
   "execution_count": 14,
   "id": "c4a475f2-bacc-48f0-a64b-f26b96c1e294",
   "metadata": {},
   "outputs": [
    {
     "name": "stdout",
     "output_type": "stream",
     "text": [
      "[ 0  1  4  9 16 25 36 49 64 81]\n"
     ]
    }
   ],
   "source": [
    "import numpy as np\n",
    "n = np.arange(10)\n",
    "x = n ** 2\n",
    "print(x)"
   ]
  },
  {
   "cell_type": "markdown",
   "id": "5fb78d80-d3b9-4eab-a269-b394731ecefe",
   "metadata": {},
   "source": [
    "### 11.Handling Missing Data\n",
    "Create an array with some np.nan values and calculate the mean, ignoring the \n",
    "nan values.\n",
    "\n",
    "Replace nan values with the median of the array."
   ]
  },
  {
   "cell_type": "code",
   "execution_count": 1,
   "id": "907c5848-741c-4f0c-b881-7cf055e8240a",
   "metadata": {},
   "outputs": [
    {
     "data": {
      "text/plain": [
       "3.75"
      ]
     },
     "execution_count": 1,
     "metadata": {},
     "output_type": "execute_result"
    }
   ],
   "source": [
    "import numpy as np\n",
    "arr=np.array([1,2,np.nan,5,7,np.nan])\n",
    "mean=np.nanmean(arr)\n",
    "mean"
   ]
  },
  {
   "cell_type": "code",
   "execution_count": 2,
   "id": "022dba8e-5377-4363-a8de-527d05714736",
   "metadata": {},
   "outputs": [
    {
     "data": {
      "text/plain": [
       "3.5"
      ]
     },
     "execution_count": 2,
     "metadata": {},
     "output_type": "execute_result"
    }
   ],
   "source": [
    "median=np.nanmedian(arr)\n",
    "median"
   ]
  },
  {
   "cell_type": "code",
   "execution_count": 3,
   "id": "7a92d44b-e6b3-4dc9-a428-1a622270e939",
   "metadata": {},
   "outputs": [
    {
     "data": {
      "text/plain": [
       "array([1. , 2. , 3.5, 5. , 7. , 3.5])"
      ]
     },
     "execution_count": 3,
     "metadata": {},
     "output_type": "execute_result"
    }
   ],
   "source": [
    "a=np.where(np.isnan(arr))\n",
    "a\n",
    "arr[a]=median\n",
    "arr"
   ]
  },
  {
   "cell_type": "markdown",
   "id": "dcc31d9b-0f47-4920-b91f-eefa8738a3a9",
   "metadata": {},
   "source": [
    "### 12.Stock Market Analysis\n",
    "Given daily closing prices of a stock for a month, compute the average, highest, \n",
    "and lowest closing prices.\n",
    "\n",
    "Calculate the moving average of the stock price over a 5-day window using \n",
    "NumPy."
   ]
  },
  {
   "cell_type": "code",
   "execution_count": 2,
   "id": "d27eb809-bd1d-40c2-b2ab-d60865952e09",
   "metadata": {},
   "outputs": [
    {
     "name": "stdout",
     "output_type": "stream",
     "text": [
      "Average Closing Price: 16.533333333333335\n",
      "Highest Closing Price: 25\n",
      "Lowest Closing Price: 10\n"
     ]
    }
   ],
   "source": [
    "import numpy as np\n",
    "closing_prices = [\n",
    "    10, 12, 15, 17, 11, 18, 17, 19, 15, 18, \n",
    "    13, 16, 18, 20, 21, 19, 11, 18, 19, 12, \n",
    "    12, 24, 25, 23, 12, 22, 14, 13, 15, 17\n",
    "]\n",
    "\n",
    "avg_price = np.mean(closing_prices)\n",
    "hst_price = np.max(closing_prices)\n",
    "lst_price = np.min(closing_prices)\n",
    "print(f\"Average Closing Price: {avg_price}\")\n",
    "print(f\"Highest Closing Price: {hst_price}\")\n",
    "print(f\"Lowest Closing Price: {lst_price}\")"
   ]
  },
  {
   "cell_type": "code",
   "execution_count": 4,
   "id": "4f1f6480-8d26-4c34-94fb-69fc0f0b9531",
   "metadata": {},
   "outputs": [
    {
     "name": "stdout",
     "output_type": "stream",
     "text": [
      "[13.0, 14.6, 15.6, 16.4, 16.0, 17.4, 16.4, 16.2, 16.0, 17.0, 17.6, 18.8, 17.8, 17.8, 17.6, 15.8, 14.4, 17.0, 18.4, 19.2, 19.2, 21.2, 19.2, 16.8, 15.2, 16.2]\n"
     ]
    }
   ],
   "source": [
    "mov_avg = [np.mean(closing_prices[i:i+5]) \n",
    " for i in range(len(closing_prices) - 4)]\n",
    "print(mov_avg)"
   ]
  },
  {
   "cell_type": "markdown",
   "id": "e4a582d8-1400-49d4-a33b-6b6c27f73fb5",
   "metadata": {},
   "source": [
    "### 13.Weather Data Analysis\n",
    "Given an array of daily temperatures, find the number of days with temperatures \n",
    "above the monthly average.\n",
    "\n",
    "Identify the hottest and coldest days in a year-long temperature dataset"
   ]
  },
  {
   "cell_type": "code",
   "execution_count": 9,
   "id": "1a649581-3cc6-40e2-acb5-3bb8a8e16341",
   "metadata": {},
   "outputs": [
    {
     "name": "stdout",
     "output_type": "stream",
     "text": [
      "Monthly Average Temperature: 19.60°C\n",
      "Number of Days Above Monthly Average: 18\n",
      "Hottest Temp: 33°C on Day 19\n",
      "Coldest Temp: 1°C on Day 30\n"
     ]
    }
   ],
   "source": [
    "import numpy as np\n",
    "temp = np.array([15, 20, 18, 22, 25, 11, 20, 32, 10, 15, 27, 20, 15, 18, 22, 25, 28, 31, 33, \n",
    "    29, 27, 26, 24, 22, 20, 15, 10, 5, 2, 1])  \n",
    "\n",
    "monthly_avg = np.mean(temp) \n",
    "days_above_avg = np.sum(temp > monthly_avg)  \n",
    "\n",
    "print(f\"Monthly Average Temperature: {monthly_avg:.2f}°C\")\n",
    "print(f\"Number of Days Above Monthly Average: {days_above_avg}\")\n",
    "\n",
    "hottest_temp = np.max(temp)  \n",
    "coldest_temp = np.min(temp)  \n",
    "hottest_day = np.where(temp == hottest_temp)[0][0] + 1\n",
    "coldest_day = np.where(temp == coldest_temp)[0][0] + 1  \n",
    "\n",
    "print(f\"Hottest Temp: {hottest_temp}°C on Day {hottest_day}\")\n",
    "print(f\"Coldest Temp: {coldest_temp}°C on Day {coldest_day}\")\n"
   ]
  },
  {
   "cell_type": "markdown",
   "id": "d74b846a-085c-42a9-921c-1c68f0e72187",
   "metadata": {},
   "source": [
    "### 14.Sports Performance Metrics\n",
    "Given the scores of a player in multiple matches, compute the player's average \n",
    "score, highest score, and standard deviation.\n",
    "\n",
    "Simulate the result of a game using random values to predict the probability of \n",
    "winning, losing, or drawing."
   ]
  },
  {
   "cell_type": "code",
   "execution_count": 3,
   "id": "fe01784e-55d5-4385-8379-6a4217d6c285",
   "metadata": {},
   "outputs": [
    {
     "name": "stdout",
     "output_type": "stream",
     "text": [
      "Scores: [101 142  64 121 110  70 132 136 124 124]\n",
      "Average Score: 112.4\n",
      "Highest Score: 142\n",
      "Standard Deviation: 25.370061095708856\n",
      "Game Outcome: Win\n"
     ]
    }
   ],
   "source": [
    "import numpy as np\n",
    "s = np.array([101, 142, 64, 121, 110, 70, 132, 136, 124, 124])\n",
    "avg = np.mean(s)\n",
    "highest = np.max(s)\n",
    "std_dev = np.std(s)\n",
    "result = np.random.choice(['Win', 'Lose', 'Draw'], p=[0.5, 0.3, 0.2])\n",
    "print(f\"Scores: {s}\")\n",
    "print(f\"Average Score: {avg}\")\n",
    "print(f\"Highest Score: {highest}\")\n",
    "print(f\"Standard Deviation: {std_dev}\")\n",
    "print(f\"Game Outcome: {result}\")"
   ]
  },
  {
   "cell_type": "markdown",
   "id": "c264f779-fd82-475b-8e87-5dfcfa5d91ef",
   "metadata": {},
   "source": [
    "### 15. Recommendation Systems\n",
    "Given user ratings for movies in a 2D array format, calculate the average rating \n",
    "for each movie"
   ]
  },
  {
   "cell_type": "code",
   "execution_count": 4,
   "id": "c3d94c6a-680a-4511-a011-a450bace1f52",
   "metadata": {},
   "outputs": [
    {
     "data": {
      "text/plain": [
       "(array([[4, 5, 3, 0],\n",
       "        [5, 0, 4, 3],\n",
       "        [3, 4, 0, 2],\n",
       "        [0, 5, 4, 4]]),\n",
       " array([4.        , 4.66666667, 3.66666667, 3.        ]))"
      ]
     },
     "execution_count": 4,
     "metadata": {},
     "output_type": "execute_result"
    }
   ],
   "source": [
    "import numpy as np\n",
    "r = np.array([\n",
    "    [4, 5, 3, 0],\n",
    "    [5, 0, 4, 3],\n",
    "    [3, 4, 0, 2],\n",
    "    [0, 5, 4, 4]\n",
    "])\n",
    "r_with_nan = np.where(r == 0, np.nan, r)\n",
    "avg_r = np.nanmean(r_with_nan, axis=0)\n",
    "r, avg_r"
   ]
  },
  {
   "cell_type": "code",
   "execution_count": null,
   "id": "397cc152-27a5-461d-bdb1-691b3ad7bb52",
   "metadata": {},
   "outputs": [],
   "source": []
  }
 ],
 "metadata": {
  "kernelspec": {
   "display_name": "Python 3 (ipykernel)",
   "language": "python",
   "name": "python3"
  },
  "language_info": {
   "codemirror_mode": {
    "name": "ipython",
    "version": 3
   },
   "file_extension": ".py",
   "mimetype": "text/x-python",
   "name": "python",
   "nbconvert_exporter": "python",
   "pygments_lexer": "ipython3",
   "version": "3.11.7"
  }
 },
 "nbformat": 4,
 "nbformat_minor": 5
}
