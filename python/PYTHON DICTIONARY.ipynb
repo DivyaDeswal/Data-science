{
 "cells": [
  {
   "cell_type": "markdown",
   "id": "73c74c4e-7c9b-468f-bf03-6c67e3b7c997",
   "metadata": {},
   "source": [
    "# Dictionary \n",
    "### 1. Basic Dictionary Creation \n",
    "Create a dictionary student_grades where the keys are student names and \n",
    "the values are their respective grades. Add at least 5 students with their \n",
    "grades. Print the dictionary. "
   ]
  },
  {
   "cell_type": "code",
   "execution_count": 1,
   "id": "c586f2a4-a0d3-48a9-b4e5-9701b2e9610c",
   "metadata": {},
   "outputs": [
    {
     "name": "stdout",
     "output_type": "stream",
     "text": [
      "{'Indu': 'A', 'Tannu': 'B', 'Divayanka': 'C', 'Rahul': 'D', 'Atul': 'B'}\n"
     ]
    }
   ],
   "source": [
    "dict = {\n",
    "    \"Indu\": \"A\",               \n",
    "  \"Tannu\": \"B\",\n",
    "  \"Divayanka\": \"C\",\n",
    "  \"Rahul\": \"D\",\n",
    "    \"Atul\": \"B\"\n",
    "}\n",
    "print(dict)"
   ]
  },
  {
   "cell_type": "markdown",
   "id": "b8aa1780-9ef7-4e5e-939e-a6ae875157a4",
   "metadata": {},
   "source": [
    "### 2.  Accessing and Modifying Values \n",
    "Given the dictionary student_grades = {'Alice': 85, 'Bob': 78,  'Clara': 92, 'David': 88, 'Eve': 90}, \n",
    "write a program to: Print Clara’s grade. \n",
    "Update Bob’s grade to 82. \n",
    "Add a new student 'Frank' with grade 87. \n",
    "Remove 'Eve' from the dictionary."
   ]
  },
  {
   "cell_type": "code",
   "execution_count": 2,
   "id": "13bf2dcd-121f-4fac-ae46-c5a9fc8d18a2",
   "metadata": {},
   "outputs": [
    {
     "name": "stdout",
     "output_type": "stream",
     "text": [
      "92\n"
     ]
    }
   ],
   "source": [
    " student_grades = {\n",
    "     'Alice': 85, \n",
    "     'Bob': 78,\n",
    "     'Clara': 92,\n",
    "     'David': 88,\n",
    "     'Eve': 90\n",
    " }\n",
    "x = student_grades[\"Clara\"]\n",
    "print(x)"
   ]
  },
  {
   "cell_type": "code",
   "execution_count": 4,
   "id": "c3d7bc7d-1732-4225-858d-a6fc86a1dd4d",
   "metadata": {},
   "outputs": [
    {
     "name": "stdout",
     "output_type": "stream",
     "text": [
      "{'Alice': 85, 'Bob': 82, 'Clara': 92, 'David': 88, 'Eve': 90}\n"
     ]
    }
   ],
   "source": [
    "student_grades = {\n",
    "     'Alice': 85, \n",
    "     'Bob': 78,\n",
    "     'Clara': 92,\n",
    "     'David': 88,\n",
    "     'Eve': 90\n",
    " }\n",
    "student_grades[\"Bob\"]= 82\n",
    "print(student_grades)"
   ]
  },
  {
   "cell_type": "code",
   "execution_count": 5,
   "id": "a145ec42-53ac-4090-acee-4963896600e9",
   "metadata": {},
   "outputs": [
    {
     "name": "stdout",
     "output_type": "stream",
     "text": [
      "{'Alice': 85, 'Bob': 78, 'Clara': 92, 'David': 88, 'Eve': 90, 'Frank': 87}\n"
     ]
    }
   ],
   "source": [
    "student_grades = {\n",
    "     'Alice': 85, \n",
    "     'Bob': 78,\n",
    "     'Clara': 92,\n",
    "     'David': 88,\n",
    "     'Eve': 90\n",
    " }\n",
    "student_grades[\"Frank\"]= 87\n",
    "print(student_grades)"
   ]
  },
  {
   "cell_type": "code",
   "execution_count": 9,
   "id": "c4f92b4b-a064-468a-9b09-7fd0e54d608a",
   "metadata": {},
   "outputs": [
    {
     "name": "stdout",
     "output_type": "stream",
     "text": [
      "{'Alice': 85, 'Bob': 78, 'Clara': 92, 'David': 88}\n"
     ]
    }
   ],
   "source": [
    "student_grades = {\n",
    "     'Alice': 85, \n",
    "     'Bob': 78,\n",
    "     'Clara': 92,\n",
    "     'David': 88,\n",
    "     'Eve': 90\n",
    " }\n",
    "student_grades.pop(\"Eve\")\n",
    "print(student_grades)"
   ]
  },
  {
   "cell_type": "markdown",
   "id": "b8c6b167-b96e-4193-86e5-b394365c9a82",
   "metadata": {},
   "source": [
    "### 3.Checking Keys in a Dictionary \n",
    "Write a program that asks the user to input a student's name and checks if \n",
    "the student is in the student_grades dictionary. If the student exists, print \n",
    "their grade; otherwise, print \"Student not found.\""
   ]
  },
  {
   "cell_type": "code",
   "execution_count": 4,
   "id": "9569a084-bddb-4313-bf92-52693f8dcaa0",
   "metadata": {},
   "outputs": [
    {
     "name": "stdin",
     "output_type": "stream",
     "text": [
      "enter the name:  veer\n"
     ]
    },
    {
     "name": "stdout",
     "output_type": "stream",
     "text": [
      "student not found\n"
     ]
    }
   ],
   "source": [
    "student_grades = {\n",
    "     'Alice': 85, \n",
    "     'Bob': 78,\n",
    "     'Clara': 92,\n",
    "     'David': 88,\n",
    "     'Eve': 90\n",
    " }\n",
    "N = input(\"enter the name: \")\n",
    "if N in student_grades.keys():\n",
    "    print(student_grades[N])\n",
    "else:\n",
    "  print(\"student not found\")"
   ]
  },
  {
   "cell_type": "markdown",
   "id": "cdf65878-2e3f-4546-b424-e065728b926c",
   "metadata": {},
   "source": [
    "## 4.  Counting Frequency of Words in a Sentence \n",
    "Write a Python program that takes a sentence as input and creates a \n",
    "dictionary where the keys are the words and the values are the number of \n",
    "times each word appears in the sentence."
   ]
  },
  {
   "cell_type": "code",
   "execution_count": 2,
   "id": "a41bffa0-301f-4b7f-bd05-e3e097f98340",
   "metadata": {},
   "outputs": [
    {
     "name": "stdin",
     "output_type": "stream",
     "text": [
      "enter sentence:  Write a Python program that takes a sentence as input and creates a dictionary where the keys are the words and the values are the number of times each word appears in the sentence\n"
     ]
    },
    {
     "name": "stdout",
     "output_type": "stream",
     "text": [
      "{'Write': 1, 'a': 3, 'Python': 1, 'program': 1, 'that': 1, 'takes': 1, 'sentence': 2, 'as': 1, 'input': 1, 'and': 2, 'creates': 1, 'dictionary': 1, 'where': 1, 'the': 5, 'keys': 1, 'are': 2, 'words': 1, 'values': 1, 'number': 1, 'of': 1, 'times': 1, 'each': 1, 'word': 1, 'appears': 1, 'in': 1}\n",
      "['Write', 'a', 'Python', 'program', 'that', 'takes', 'a', 'sentence', 'as', 'input', 'and', 'creates', 'a', 'dictionary', 'where', 'the', 'keys', 'are', 'the', 'words', 'and', 'the', 'values', 'are', 'the', 'number', 'of', 'times', 'each', 'word', 'appears', 'in', 'the', 'sentence']\n"
     ]
    }
   ],
   "source": [
    "sent=input(\"enter sentence: \")\n",
    "sent=sent.split()\n",
    "dict={}\n",
    "for word in sent:\n",
    "    if word in dict:\n",
    "        dict[word]+=1\n",
    "    else :\n",
    "        dict[word]=1\n",
    "print(dict)\n",
    "print(sent)"
   ]
  },
  {
   "cell_type": "code",
   "execution_count": null,
   "id": "7895fd25-c749-4da4-96ea-aed727ddd63f",
   "metadata": {},
   "outputs": [],
   "source": []
  },
  {
   "cell_type": "markdown",
   "id": "d3072a6b-639b-4a11-902b-c10a99085c36",
   "metadata": {},
   "source": [
    "## 5.  Dictionary with Nested Values: \n",
    "Create a dictionary to store student \n",
    "information"
   ]
  },
  {
   "cell_type": "code",
   "execution_count": 21,
   "id": "157a2973-590c-4a1b-89bc-5f7d87946911",
   "metadata": {},
   "outputs": [
    {
     "name": "stdout",
     "output_type": "stream",
     "text": [
      "{'student1': {'Alice': 85}, 'student2': {'Bob': 78}, 'student3': {'Clara': 92}, 'student4': {'David': 88}, 'student5': {'Eve': 90}}\n"
     ]
    }
   ],
   "source": [
    "student_grades = {\n",
    "     \"student1\":{\n",
    "         'Alice': 85}, \n",
    "     \"student2\":{\n",
    "         'Bob': 78},\n",
    "     \"student3\":{\n",
    "         'Clara': 92},\n",
    "     \"student4\":{\n",
    "         'David': 88},\n",
    "     \"student5\":{\n",
    "         'Eve': 90}\n",
    " }\n",
    "print(student_grades)"
   ]
  },
  {
   "cell_type": "markdown",
   "id": "28f8c55e-7bfe-4dae-a4fd-cfc1b084613d",
   "metadata": {},
   "source": [
    "## 6. Student Grades with Dictionary and if-else \n",
    "Create a dictionary of students with their grades. Then write a program to check each \n",
    "student's grade and print: \n",
    "\n",
    "\n",
    "• \"Excellent\" if the grade is greater than 90. \n",
    "• \"Good\" if the grade is between 70 and 90. \n",
    "• \"Needs Improvement\" if the grade is below 70. "
   ]
  },
  {
   "cell_type": "code",
   "execution_count": 2,
   "id": "72e97070-f80f-49b1-be30-6e54f6022832",
   "metadata": {},
   "outputs": [
    {
     "name": "stdout",
     "output_type": "stream",
     "text": [
      "Alice: Excellent\n",
      "Bob: Good\n",
      "Charlie: Needs Improvement\n",
      "David: Good\n",
      "Eva: Excellent\n",
      "Frank: Needs Improvement\n"
     ]
    }
   ],
   "source": [
    "student_grades = {\n",
    "    'Alice': 95,\n",
    "    'Bob': 82,\n",
    "    'Charlie': 67,\n",
    "    'David': 88,\n",
    "    'Eva': 91,\n",
    "    'Frank': 59\n",
    "}\n",
    "\n",
    "for student, grade in student_grades.items():\n",
    "    if grade > 90:\n",
    "        print(f\"{student}: Excellent\")\n",
    "    elif 70 <= grade <= 90:\n",
    "        print(f\"{student}: Good\")\n",
    "    else:\n",
    "        print(f\"{student}: Needs Improvement\")"
   ]
  },
  {
   "cell_type": "markdown",
   "id": "8190e728-5cbc-4be0-9089-d7e0450d78ff",
   "metadata": {},
   "source": [
    "# IF – ELSE \n",
    "## 1. Simple If-Else Statement:\n",
    "Write a Python program that checks if a number \n",
    "entered by the user is positive, negative, or zero, and prints a corresponding \n",
    "message. \n"
   ]
  },
  {
   "cell_type": "code",
   "execution_count": 5,
   "id": "143b0af9-a331-4351-8121-d19c67633717",
   "metadata": {},
   "outputs": [
    {
     "name": "stdin",
     "output_type": "stream",
     "text": [
      "Enter a number:  -6.7\n"
     ]
    },
    {
     "name": "stdout",
     "output_type": "stream",
     "text": [
      "The number is negative.\n"
     ]
    }
   ],
   "source": [
    "num = float(input(\"Enter a number: \"))\n",
    "\n",
    "if num > 0:\n",
    "    print(\"The number is positive.\")\n",
    "elif num < 0:\n",
    "    print(\"The number is negative.\")\n",
    "else:\n",
    "    print(\"The number is zero.\")"
   ]
  },
  {
   "cell_type": "markdown",
   "id": "7d8dc45d-a690-46e0-8c44-a7bea4a52a6a",
   "metadata": {},
   "source": [
    "## 2. If-Elif-Else:\n",
    "Write a Python program to check a student's grade based on marks \n",
    "entered. Use the following conditions: \n",
    "\n",
    "Marks ≥ 90: Print 'A' \n",
    "Marks ≥ 75: Print 'B' \n",
    "Marks ≥ 50: Print 'C' \n",
    "Else: Print 'F'"
   ]
  },
  {
   "cell_type": "code",
   "execution_count": 1,
   "id": "af8de3e6-ca29-4125-8e0b-31e2bc712d4c",
   "metadata": {},
   "outputs": [
    {
     "name": "stdin",
     "output_type": "stream",
     "text": [
      "Enter the students marks:  56\n"
     ]
    },
    {
     "name": "stdout",
     "output_type": "stream",
     "text": [
      "C\n"
     ]
    }
   ],
   "source": [
    "marks = int(input(\"Enter the students marks: \"))\n",
    "\n",
    "if marks >= 90:\n",
    "    print('A')\n",
    "elif marks >= 75:\n",
    "    print('B')\n",
    "elif marks >= 50:\n",
    "    print('C')\n",
    "else:\n",
    "    print('F')"
   ]
  },
  {
   "cell_type": "markdown",
   "id": "2ead44b8-a918-44de-b591-4ae94b81f416",
   "metadata": {},
   "source": [
    "## 3. Odd or Even Checker \n",
    "Write a program that takes a number from the user and checks if it's odd or even."
   ]
  },
  {
   "cell_type": "code",
   "execution_count": 17,
   "id": "3c4be9d2-82f5-456e-b8bc-26ead8f8b32a",
   "metadata": {},
   "outputs": [
    {
     "name": "stdin",
     "output_type": "stream",
     "text": [
      "Enter a number:  11\n"
     ]
    },
    {
     "name": "stdout",
     "output_type": "stream",
     "text": [
      "11 is odd.\n"
     ]
    }
   ],
   "source": [
    "number = int(input(\"Enter a number: \"))\n",
    "if number % 2 == 0:\n",
    "    print(f\"{number} is even.\")\n",
    "else:\n",
    "    print(f\"{number} is odd.\")"
   ]
  },
  {
   "cell_type": "markdown",
   "id": "80821e52-1e90-40ae-a3fd-e8eabdfdcf55",
   "metadata": {},
   "source": [
    "## 4. Leap Year Checker \n",
    "Write a Python program to check whether a given year is a leap year or not using \n",
    "if-else statements."
   ]
  },
  {
   "cell_type": "code",
   "execution_count": 21,
   "id": "9d20338f-c0c7-470c-9502-298b8e4c8fa7",
   "metadata": {},
   "outputs": [
    {
     "name": "stdin",
     "output_type": "stream",
     "text": [
      "Enter a year:  2026\n"
     ]
    },
    {
     "name": "stdout",
     "output_type": "stream",
     "text": [
      "2026 is a leap year.\n"
     ]
    }
   ],
   "source": [
    "year = int(input(\"Enter a year: \"))\n",
    "if (year % 4 == 0):\n",
    "    print(f\"{year} is a leap year.\")\n",
    "elif (year % 100 != 0):\n",
    "    print(f\"{year} is a leap year.\")\n",
    "elif (year % 400 == 0):\n",
    "    print(f\"{year} is a leap year.\")\n",
    "else:\n",
    "    print(f\"{year} is not a leap year.\")    "
   ]
  },
  {
   "cell_type": "markdown",
   "id": "8e768b41-cfda-435c-8501-2718a3435855",
   "metadata": {},
   "source": [
    "## 5. Maximum of Three Numbers \n",
    "Write a program that takes three numbers as input and prints the largest number \n",
    "using if-else statements. "
   ]
  },
  {
   "cell_type": "code",
   "execution_count": 23,
   "id": "4f34e6b9-5575-4810-adbf-a0492c40105a",
   "metadata": {},
   "outputs": [
    {
     "name": "stdin",
     "output_type": "stream",
     "text": [
      "Enter the first number:  34\n",
      "Enter the second number:  67\n",
      "Enter the third number:  98\n"
     ]
    },
    {
     "name": "stdout",
     "output_type": "stream",
     "text": [
      "The largest number is: 98\n"
     ]
    }
   ],
   "source": [
    "n1 = input(\"Enter the first number: \")\n",
    "n2 = input(\"Enter the second number: \")\n",
    "n3 = input(\"Enter the third number: \")\n",
    "\n",
    "if n1 >= n2 and n1 >= n3:\n",
    "    print(f\"The largest number is: {n1}\")\n",
    "elif n2 >= n1 and n2 >= n3:\n",
    "    print(f\"The largest number is: {n2}\")\n",
    "else:\n",
    "    print(f\"The largest number is: {n3}\")"
   ]
  },
  {
   "cell_type": "code",
   "execution_count": 24,
   "id": "cec1db12-e663-4867-b1a4-4df411a4037e",
   "metadata": {},
   "outputs": [
    {
     "name": "stdin",
     "output_type": "stream",
     "text": [
      "Enter the first number:  45\n",
      "Enter the second number:  34\n",
      "Enter the third number:  67\n"
     ]
    },
    {
     "name": "stdout",
     "output_type": "stream",
     "text": [
      "The largest number is: 45\n"
     ]
    }
   ],
   "source": [
    "n1 = input(\"Enter the first number: \")\n",
    "n2 = input(\"Enter the second number: \")\n",
    "n3 = input(\"Enter the third number: \")\n",
    "\n",
    "if n1 >= n2:\n",
    "    print(f\"The largest number is: {n1}\")\n",
    "elif n2 >= n3:\n",
    "    print(f\"The largest number is: {n2}\")\n",
    "else:\n",
    "    print(f\"The largest number is: {n3}\")"
   ]
  },
  {
   "cell_type": "markdown",
   "id": "6b3b6311-f0e5-4fe3-a1e5-cde0758b2ece",
   "metadata": {},
   "source": [
    "## 6. Using Logical Operators in If-Else: \n",
    "Write a Python program that accepts two \n",
    "numbers from the user. Use if-else statements to check: \n",
    "\n",
    "If both numbers are positive, print \"Both numbers are positive.\" \n",
    "\n",
    "If either of them is positive, print \"At least one is positive.\" \n",
    "\n",
    "Otherwise, print \"None are positive.\""
   ]
  },
  {
   "cell_type": "code",
   "execution_count": 25,
   "id": "78ed73a9-db2a-4dfa-9a8a-04b231e18329",
   "metadata": {},
   "outputs": [
    {
     "name": "stdin",
     "output_type": "stream",
     "text": [
      "Enter the first number:  45.6\n",
      "Enter the second number:  -78.9\n"
     ]
    },
    {
     "name": "stdout",
     "output_type": "stream",
     "text": [
      "At least one is positive.\n"
     ]
    }
   ],
   "source": [
    "x = float(input(\"Enter the first number: \"))\n",
    "y = float(input(\"Enter the second number: \"))\n",
    "if x > 0 and y > 0:\n",
    "    print(\"Both numbers are positive.\")\n",
    "elif x > 0 or y > 0:\n",
    "    print(\"At least one is positive.\")\n",
    "else:\n",
    "    print(\"None are positive.\")"
   ]
  },
  {
   "cell_type": "markdown",
   "id": "d5afd90d-771f-479b-b66f-d540b8636d47",
   "metadata": {},
   "source": [
    "## 7. If-Else with Dictionaries:\n",
    "Create a dictionary that stores the following \n",
    "information about an employee: \n",
    "python \n",
    "Copy code \n",
    "\n",
    "employee = {'Name': 'Alice', 'Age': 29, 'Salary': 75000} \n",
    "\n",
    "Write a program that checks if the employee's salary is above 50,000. If so, print \n",
    "\"High earner\"; otherwise, print \"Low earner\"."
   ]
  },
  {
   "cell_type": "code",
   "execution_count": 26,
   "id": "45610219-a4a5-4c1a-8d85-626b34a11b7c",
   "metadata": {},
   "outputs": [
    {
     "name": "stdout",
     "output_type": "stream",
     "text": [
      "Alice is a High earner.\n"
     ]
    }
   ],
   "source": [
    "employee = {'Name': 'Alice', 'Age': 29, 'Salary': 75000}\n",
    "\n",
    "if employee['Salary'] > 50000:\n",
    "    print(f\"{employee['Name']} is a High earner.\")\n",
    "else:\n",
    "    print(f\"{employee['Name']} is a Low earner.\")"
   ]
  },
  {
   "cell_type": "markdown",
   "id": "baf4823f-b64c-4136-abad-fdb5bd863325",
   "metadata": {},
   "source": [
    "## 8. Temperature Converter \n",
    "Write a Python program that converts temperatures between Celsius and \n",
    "Fahrenheit. Ask the user which conversion they want to perform and then \n",
    "prompt them to input the temperature.\n",
    "\n",
    "Use an if-else statement to handle the \n",
    "different conversions: \n",
    "\n",
    "Celsius to Fahrenheit: F=C×95+32F = C \\times \\frac{9}{5} + 32F=C×59 +32 \n",
    "Fahrenheit to Celsius: C=(F−32)×59C = (F - 32) \\times \n",
    "\\frac{5}{9}C=(F−32)×95"
   ]
  },
  {
   "cell_type": "code",
   "execution_count": 7,
   "id": "e850f81d-2e7f-4b26-8247-cf5af03208f1",
   "metadata": {},
   "outputs": [
    {
     "name": "stdin",
     "output_type": "stream",
     "text": [
      "enter number:  100\n",
      "enter unit ('C','F') :  C\n"
     ]
    },
    {
     "name": "stdout",
     "output_type": "stream",
     "text": [
      "100.0 celcius is equal to 212.0 fahrenheit\n"
     ]
    }
   ],
   "source": [
    "temp=float(input(\"enter number: \"))\n",
    "unit=input(\"enter unit ('C','F') : \")\n",
    "if unit=='C':\n",
    "    feh=(temp*9/5) +32\n",
    "    print(f\"{temp} celcius is equal to {feh} fahrenheit\")\n",
    "elif unit=='F':\n",
    "    celcius=(temp-32) * 5/9\n",
    "    print(f\"{temp} fahrenheit is equal to {celcius} celcius\")\n",
    "else:\n",
    "    print(\"invalid format\")"
   ]
  },
  {
   "cell_type": "markdown",
   "id": "0b740247-12a1-4265-8a68-51fc5ba31444",
   "metadata": {},
   "source": [
    "# Combination of Dictionary and if else statement"
   ]
  },
  {
   "cell_type": "markdown",
   "id": "b49e8c03-5b81-49be-92cc-1b77e63e64c7",
   "metadata": {},
   "source": [
    "## 1. Menu Ordering System \n",
    "You are creating a menu for a cafe with the following items: \n",
    "menu = {'coffee': 3, 'sandwich': 5, 'salad': 7, 'cake': 4} \n",
    "\n",
    "Write a program that asks the user for an item and checks if it's on the menu. If \n",
    "the item is available, print its price and ask if they want to place the order. If they \n",
    "say 'yes', print \"Order confirmed\"; otherwise, print \"Order canceled.\" "
   ]
  },
  {
   "cell_type": "code",
   "execution_count": 32,
   "id": "25121e4c-a468-4a48-b0ea-54bd20bb2d55",
   "metadata": {},
   "outputs": [
    {
     "name": "stdin",
     "output_type": "stream",
     "text": [
      "Please enter the item :  coffee\n"
     ]
    },
    {
     "name": "stdout",
     "output_type": "stream",
     "text": [
      "The price of coffee is 3.\n"
     ]
    },
    {
     "name": "stdin",
     "output_type": "stream",
     "text": [
      "Do you want to place the order? (yes/no):  yes\n"
     ]
    },
    {
     "name": "stdout",
     "output_type": "stream",
     "text": [
      "Order confirmed.\n"
     ]
    }
   ],
   "source": [
    "menu = {\n",
    "    'coffee': 3,\n",
    "    'sandwich': 5,\n",
    "    'salad': 7,\n",
    "    'cake': 4\n",
    "}\n",
    "\n",
    "item = input(\"Please enter the item : \")\n",
    "\n",
    "if item in menu:\n",
    "    price = menu[item]\n",
    "    print(f\"The price of {item} is {price}.\")\n",
    "    \n",
    "    confirm = input(\"Do you want to place the order? (yes/no): \")\n",
    "    \n",
    "    if confirm == 'yes':\n",
    "        print(\"Order confirmed.\")\n",
    "    else:\n",
    "        print(\"Order cancelled.\")\n",
    "else:\n",
    "    print(\" This item is not in the menu.\")"
   ]
  },
  {
   "cell_type": "code",
   "execution_count": 33,
   "id": "8ec4a021-da1b-476b-9e7d-57d071ea5421",
   "metadata": {},
   "outputs": [
    {
     "name": "stdin",
     "output_type": "stream",
     "text": [
      "Please enter the item :  pastry\n"
     ]
    },
    {
     "name": "stdout",
     "output_type": "stream",
     "text": [
      " This item is not in the menu.\n"
     ]
    }
   ],
   "source": [
    "menu = {\n",
    "    'coffee': 3,\n",
    "    'sandwich': 5,\n",
    "    'salad': 7,\n",
    "    'cake': 4\n",
    "}\n",
    "\n",
    "item = input(\"Please enter the item : \")\n",
    "\n",
    "if item in menu:\n",
    "    price = menu[item]\n",
    "    print(f\"The price of {item} is {price}.\")\n",
    "    \n",
    "    confirm = input(\"Do you want to place the order? (yes/no): \")\n",
    "    \n",
    "    if confirm == 'yes':\n",
    "        print(\"Order confirmed.\")\n",
    "    else:\n",
    "        print(\"Order cancelled.\")\n",
    "else:\n",
    "    print(\" This item is not in the menu.\")"
   ]
  },
  {
   "cell_type": "markdown",
   "id": "8bbe7233-efee-430f-8a61-a6eb63aa93e3",
   "metadata": {},
   "source": [
    "## 2. Library System \n",
    "Write a program that manages a dictionary of books with their availability status: \n",
    "python \n",
    "Copy code\n",
    "\n",
    "library = {'1984': 'available', 'The Hobbit': 'unavailable', \n",
    "'Pride and Prejudice': 'available', 'The Catcher in the Rye': \n",
    "'unavailable'} \n",
    "\n",
    "The user can input a book name, and the program will check if the book is in the \n",
    "dictionary. If it's available, print \"You can borrow this book\"; otherwise, print \n",
    "\"This book is not available.\""
   ]
  },
  {
   "cell_type": "code",
   "execution_count": 35,
   "id": "49420af5-4e8c-4dbd-b5b4-ce9a3758e473",
   "metadata": {},
   "outputs": [
    {
     "name": "stdin",
     "output_type": "stream",
     "text": [
      "Please enter the name of  book :  1984\n"
     ]
    },
    {
     "name": "stdout",
     "output_type": "stream",
     "text": [
      "You can borrow this book.\n"
     ]
    }
   ],
   "source": [
    "library = {\n",
    "    '1984': 'available',\n",
    "    'The Hobbit': 'unavailable',\n",
    "    'Pride and Prejudice': 'available',\n",
    "    'The Catcher in the Rye': 'unavailable'\n",
    "}\n",
    "\n",
    "book_name = input(\"Please enter the name of  book : \")\n",
    "\n",
    "if book_name in library:\n",
    "    if library[book_name] == 'available':\n",
    "        print(\"You can borrow this book.\")\n",
    "    else:\n",
    "        print(\"This book is not available.\")\n",
    "else:\n",
    "    print(\"This book is not in the library.\")"
   ]
  },
  {
   "cell_type": "code",
   "execution_count": null,
   "id": "3d006b90-cc90-469f-a1ba-352096ac9c92",
   "metadata": {},
   "outputs": [],
   "source": []
  }
 ],
 "metadata": {
  "kernelspec": {
   "display_name": "Python 3 (ipykernel)",
   "language": "python",
   "name": "python3"
  },
  "language_info": {
   "codemirror_mode": {
    "name": "ipython",
    "version": 3
   },
   "file_extension": ".py",
   "mimetype": "text/x-python",
   "name": "python",
   "nbconvert_exporter": "python",
   "pygments_lexer": "ipython3",
   "version": "3.11.7"
  }
 },
 "nbformat": 4,
 "nbformat_minor": 5
}
